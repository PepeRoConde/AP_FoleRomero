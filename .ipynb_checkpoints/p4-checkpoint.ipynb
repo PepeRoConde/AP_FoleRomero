{
 "cells": [
  {
   "cell_type": "markdown",
   "id": "2332ad83-86cc-4e5a-a8db-2e45d33de9d8",
   "metadata": {},
   "source": [
    "# Práctica RNN \n",
    "## Hugo Fole Abellás y José Romero Conde"
   ]
  },
  {
   "cell_type": "markdown",
   "id": "c0b915c3-488c-491e-97d3-abb3394b5281",
   "metadata": {},
   "source": [
    "------"
   ]
  },
  {
   "cell_type": "markdown",
   "id": "5c340306-2ab4-4099-8724-5fe740e87b57",
   "metadata": {},
   "source": [
    "En esta práctica deberás desarrollar un modelo que sea capaz de predecir el precio del dólar en euros con\n",
    "6h de adelanto. Para ello, contarás con el fichero de datos UDC_EUR.json, disponible en el canal de Teams de\n",
    "la asignatura.\n",
    "\n",
    "La idea es hacer un modelo que te permita decidir cuándo comprar y cuándo vender dólares, para que puedas\n",
    "operar de la siguiente manera:\n",
    " - Si el modelo predice que el dólar bajará: vendo un dólar ahora y lo compro más barato dentro de 6h. La diferencia entre el precio de venta y el de compra es mi ganancia.\n",
    " - Si el modelo predice que el dólar subirá: compro un dólar ahora y lo vendo más caro dentro de 6h. La diferencia entre el precio de compra y el de venta es mi ganancia.\n",
    " - Puedes suministrarle al modelo los datos de entrada que estimes para cada predicción, siempre\n",
    "respetando que ninguno esté a menos de 6h del que intentas predecir.\n",
    "\n",
    "Debes respetar las siguientes restricciones:\n",
    "\n",
    " - No se deben utilizar datos posteriores a 31/08/2022 23:59:59 para entrenamiento. Los datos desde\n",
    "01/09/2022 00:00:00 en adelante se podrán utilizar como conjunto de test.\n",
    " - La predicción se deberá hacer a 6h vista, es decir, se deberá predecir el valor de salida 6 horas\n",
    "después del dato más reciente que se le proporcione al modelo. Se deberán predecir dos valores distintos:\n",
    "      - Valor de la variable \"precio fin\".\n",
    "      - Valor binario que indicará si \"precio fin\"6h después será mayor o menor que en el dato más\n",
    "reciente proporcionado a la entrada."
   ]
  },
  {
   "cell_type": "markdown",
   "id": "b000b1ab-8a2d-4d3a-b2b2-2866fb2b4279",
   "metadata": {},
   "source": [
    "----"
   ]
  },
  {
   "cell_type": "markdown",
   "id": "e2a6fef7-f56e-4dfb-ae7b-7fb620fb5555",
   "metadata": {},
   "source": [
    "## _Librerías_"
   ]
  },
  {
   "cell_type": "code",
   "execution_count": 5,
   "id": "944ae39f-57a9-4bad-9b58-c32652f99a2d",
   "metadata": {},
   "outputs": [],
   "source": [
    "import pandas as pd # siguiendo la convención universal\n",
    "from matplotlib import pyplot as plt\n",
    "import numpy as np\n",
    "from scipy import stats\n",
    "import os\n",
    "import datetime\n",
    "from tensorflow.keras import layers, models\n"
   ]
  },
  {
   "cell_type": "markdown",
   "id": "653ab370-9494-490b-b34d-cc9bf73758bd",
   "metadata": {},
   "source": [
    "## 1. Carga y examina los datos"
   ]
  },
  {
   "cell_type": "markdown",
   "id": "3536fa3c-c437-433f-9c35-4fa13e428ad8",
   "metadata": {},
   "source": [
    "### 1.1. Carga los datos con Pandas y haz un examen preliminar de los mismos. Descarta aquellos que sean erróneos."
   ]
  },
  {
   "cell_type": "code",
   "execution_count": 6,
   "id": "0c9fd1fe-7324-452c-b7ca-2234c7c941ed",
   "metadata": {},
   "outputs": [],
   "source": [
    "if 'USD_EUR.json' in os.listdir():\n",
    "    df = pd.read_json('USD_EUR.json') # usando df para seguir la convención"
   ]
  },
  {
   "cell_type": "code",
   "execution_count": 7,
   "id": "3a853530-40e6-4624-8c1f-ff563919f835",
   "metadata": {
    "scrolled": true
   },
   "outputs": [
    {
     "ename": "NameError",
     "evalue": "name 'df' is not defined",
     "output_type": "error",
     "traceback": [
      "\u001b[0;31m---------------------------------------------------------------------------\u001b[0m",
      "\u001b[0;31mNameError\u001b[0m                                 Traceback (most recent call last)",
      "\u001b[0;32m/tmp/ipykernel_5638/1287432259.py\u001b[0m in \u001b[0;36m<module>\u001b[0;34m\u001b[0m\n\u001b[0;32m----> 1\u001b[0;31m \u001b[0mdf\u001b[0m\u001b[0;34m.\u001b[0m\u001b[0mdescribe\u001b[0m\u001b[0;34m(\u001b[0m\u001b[0;34m)\u001b[0m \u001b[0;31m# les echamos un ojo\u001b[0m\u001b[0;34m\u001b[0m\u001b[0;34m\u001b[0m\u001b[0m\n\u001b[0m",
      "\u001b[0;31mNameError\u001b[0m: name 'df' is not defined"
     ]
    }
   ],
   "source": [
    "df.describe() # les echamos un ojo"
   ]
  },
  {
   "cell_type": "markdown",
   "id": "1becacc1-1320-4916-9261-b8dc8b6f9b37",
   "metadata": {},
   "source": [
    "Vemos en el resumen superior que hay un valor muy alto en `precio mas alto`, constrastamos esta creencia ploteando."
   ]
  },
  {
   "cell_type": "code",
   "execution_count": 4,
   "id": "9055774b-0ff4-44dc-9a73-59f5f14fb919",
   "metadata": {},
   "outputs": [
    {
     "ename": "NameError",
     "evalue": "name 'df' is not defined",
     "output_type": "error",
     "traceback": [
      "\u001b[0;31m---------------------------------------------------------------------------\u001b[0m",
      "\u001b[0;31mNameError\u001b[0m                                 Traceback (most recent call last)",
      "\u001b[0;32m/tmp/ipykernel_5638/2903861147.py\u001b[0m in \u001b[0;36m<module>\u001b[0;34m\u001b[0m\n\u001b[0;32m----> 1\u001b[0;31m \u001b[0mplt\u001b[0m\u001b[0;34m.\u001b[0m\u001b[0mplot\u001b[0m\u001b[0;34m(\u001b[0m\u001b[0mdf\u001b[0m\u001b[0;34m[\u001b[0m\u001b[0;34m[\u001b[0m\u001b[0;34m\"precio mas alto\"\u001b[0m\u001b[0;34m]\u001b[0m\u001b[0;34m]\u001b[0m\u001b[0;34m)\u001b[0m\u001b[0;34m;\u001b[0m\u001b[0;34m\u001b[0m\u001b[0;34m\u001b[0m\u001b[0m\n\u001b[0m",
      "\u001b[0;31mNameError\u001b[0m: name 'df' is not defined"
     ]
    }
   ],
   "source": [
    "plt.plot(df[[\"precio mas alto\"]]);"
   ]
  },
  {
   "cell_type": "markdown",
   "id": "c5fe3e0e-2e1c-4471-8a82-609687d070b0",
   "metadata": {},
   "source": [
    "Filtramos (solo las columnas numéricas) los valores que estén alejados a más de 3 sigmas de la media. Y vemos el resultado en que el plot anterior ahora es más correcto. (De todas formas, el plot solo muestra de una columna y se filtra en todas menos dos.)"
   ]
  },
  {
   "cell_type": "code",
   "execution_count": 5,
   "id": "150a1d7f-eab1-4eed-a646-9bf28babacb9",
   "metadata": {},
   "outputs": [],
   "source": [
    "columnasFiltrar = ['precio inicio', 'precio mas alto', 'precio mas bajo', 'precio fin', 'volumen', 'volumen en cuotas', 'volumen en cuotas', 'numero de compras', 'volumen de dolares', 'volumen de euros']\n",
    "\n",
    "df = df[(np.abs(stats.zscore(df[columnasFiltrar])) < 3).all(axis=1)]"
   ]
  },
  {
   "cell_type": "code",
   "execution_count": 6,
   "id": "4996b422-7812-4f6e-922a-bf413ceb4bd5",
   "metadata": {},
   "outputs": [
    {
     "data": {
      "image/png": "[encoded data removed]",
      "text/plain": [
       "<Figure size 432x288 with 1 Axes>"
      ]
     },
     "metadata": {
      "needs_background": "light"
     },
     "output_type": "display_data"
    }
   ],
   "source": [
    "plt.plot(df[[\"precio mas alto\"]]);"
   ]
  },
  {
   "cell_type": "markdown",
   "id": "4a699055-b731-4186-81ce-a8bf62451468",
   "metadata": {},
   "source": [
    "### 1.2. Haz la partición entre conjunto de entrenamiento y conjunto de test."
   ]
  },
  {
   "cell_type": "code",
   "execution_count": 7,
   "id": "44c11e4c-dcf8-4d4e-9991-d708afe44a38",
   "metadata": {},
   "outputs": [],
   "source": [
    "instanteSeparacion = pd.to_datetime(\"31/08/2022 23:59:59\", dayfirst=True)\n",
    "dfEntrenamiento = df[df['timestamp inicial'] <= instanteSeparacion] \n",
    "dfTest = df[df['timestamp inicial'] > instanteSeparacion] "
   ]
  },
  {
   "cell_type": "code",
   "execution_count": 8,
   "id": "08f6ffcc",
   "metadata": {},
   "outputs": [
    {
     "name": "stdout",
     "output_type": "stream",
     "text": [
      "    timestamp inicial  precio inicio  precio mas alto  precio mas bajo  \\\n",
      "0 2020-01-03 08:00:00         1.1154           1.1200           1.1154   \n",
      "1 2020-01-03 09:00:00         1.1182           1.1182           1.1151   \n",
      "2 2020-01-03 10:00:00         1.1151           1.1172           1.1151   \n",
      "3 2020-01-03 11:00:00         1.1136           1.1151           1.1136   \n",
      "4 2020-01-03 12:00:00         1.1126           1.1133           1.1126   \n",
      "5 2020-01-03 13:00:00         1.1141           1.1174           1.1141   \n",
      "6 2020-01-03 14:00:00         1.1135           1.1135           1.1135   \n",
      "7 2020-01-03 15:00:00         1.1186           1.1187           1.1155   \n",
      "8 2020-01-03 16:00:00         1.1153           1.1191           1.1142   \n",
      "9 2020-01-03 17:00:00         1.1190           1.1195           1.1162   \n",
      "\n",
      "   precio fin   volumen         timestamp final  volumen en cuotas  \\\n",
      "0      1.1182  37309.48 2020-01-03 08:59:59.999       41775.464275   \n",
      "1      1.1151   2132.61 2020-01-03 09:59:59.999        2384.431292   \n",
      "2      1.1151   1950.83 2020-01-03 10:59:59.999        2175.391533   \n",
      "3      1.1141    310.53 2020-01-03 11:59:59.999         346.107438   \n",
      "4      1.1133    394.52 2020-01-03 12:59:59.999         439.130428   \n",
      "5      1.1171   2093.90 2020-01-03 13:59:59.999        2335.519448   \n",
      "6      1.1135    200.34 2020-01-03 14:59:59.999         223.078590   \n",
      "7      1.1181    445.36 2020-01-03 15:59:59.999         497.658656   \n",
      "8      1.1163    718.84 2020-01-03 16:59:59.999         802.820127   \n",
      "9      1.1194   1888.24 2020-01-03 17:59:59.999        2113.661187   \n",
      "\n",
      "   numero de compras  volumen de dolares  volumen de euros  \n",
      "0                 31            20419.46      22858.822356  \n",
      "1                  5             2036.69       2277.401075  \n",
      "2                  4               10.00         11.172000  \n",
      "3                  4              232.00        258.656430  \n",
      "4                  3                0.00          0.000000  \n",
      "5                 17             1634.99       1824.009728  \n",
      "6                  1                0.00          0.000000  \n",
      "7                  6              284.11        317.780285  \n",
      "8                 32              264.10        295.504234  \n",
      "9                  9             1824.94       2043.005727  \n"
     ]
    }
   ],
   "source": [
    "print(dfEntrenamiento[0:10])"
   ]
  },
  {
   "cell_type": "markdown",
   "id": "521f508d-3b6b-4a65-ac76-321a584b92ab",
   "metadata": {},
   "source": [
    "----"
   ]
  },
  {
   "cell_type": "markdown",
   "id": "3cba241f-f514-4e3a-920f-f0a2c859c700",
   "metadata": {},
   "source": [
    "## 2. Preprocesado"
   ]
  },
  {
   "cell_type": "markdown",
   "id": "18745ea9-42aa-4200-87d7-4bd7c8f1cb15",
   "metadata": {},
   "source": [
    "### 2.1. Representa las variables en un formato que facilite el aprendizaje. Para ello estandariza aquellas que lo necesiten y transforma las fechas a un formato adecuado.\n",
    "\n",
    "Comenzaremos transformando las fechas a un formato que nuestro modelo pueda entender.Utilizaremos un método simple para convertirlo en una señal utilizable es usar el [seno] y el [coseno] para convertir la hora en señales claras de \"Hora del día\" y \"Hora del año\". Hay que operar de tal manera que:\n",
    "\n",
    "1. $\\cos(hora~0) = \\cos(hora~24)$ y $\\sin(hora~0) = \\sin(hora~24)$ en la hora del día.\n",
    "1. $\\cos(1~enero) \\approx \\cos(31~diciembre)$ y $\\sin(1~enero) \\approx \\sin(31~diciembre)$ en la hora anual. \n",
    "\n",
    "Las variables a tranformar serán:\n",
    "- `timestamp inicial` : representa el punto en el tiempo en el que se empiezan a recoger datos.\n",
    "- `timestamp final` : representa el punto en el tiempo en el que se acaba de recoger datos."
   ]
  },
  {
   "cell_type": "code",
   "execution_count": 9,
   "id": "59220b00",
   "metadata": {},
   "outputs": [],
   "source": [
    "def normalizar_fechas(dataset):\n",
    "    date_time_inicial = pd.to_datetime(dataset.pop('timestamp inicial'), format='%d.%m.%Y %H:%M:%S')\n",
    "    date_time_final = pd.to_datetime(dataset.pop('timestamp final'), format='%d.%m.%Y %H:%M:%S')\n",
    "    # Lo convertimos en segundos\n",
    "    timestamp_s_inicial = date_time_inicial.map(pd.Timestamp.timestamp)\n",
    "    timestamp_s_final = date_time_final.map(pd.Timestamp.timestamp)\n",
    "    # TODO: calcula el número de segundos de un día y de un año\n",
    "    day = 24 * 60 * 60\n",
    "    year = 365 * day\n",
    "\n",
    "\n",
    "    # TODO: Extrae, para cada fecha, el seno y el coseno, y añádelos al dataframe\n",
    "    dataset['Dia sin inic'] = np.sin(2 * np.pi * (timestamp_s_inicial % day) / day)\n",
    "    dataset['Dia cos inic'] = np.cos(2 * np.pi * (timestamp_s_inicial % day) / day)\n",
    "    dataset['Anho sin inic'] = np.sin(2 * np.pi * (timestamp_s_inicial % year) / year)\n",
    "    dataset['Anho cos inic'] = np.cos(2 * np.pi * (timestamp_s_inicial % year) / year)\n",
    "\n",
    "    dataset['Dia sin fin'] = np.sin(2 * np.pi * (timestamp_s_inicial % day) / day)\n",
    "    dataset['Dia cos fin'] = np.cos(2 * np.pi * (timestamp_s_inicial % day) / day)\n",
    "    dataset['Anho sin fin'] = np.sin(2 * np.pi * (timestamp_s_inicial % year) / year)\n",
    "    dataset['Anho cos fin'] = np.cos(2 * np.pi * (timestamp_s_inicial % year) / year)\n",
    "\n",
    "    return dataset"
   ]
  },
  {
   "cell_type": "code",
   "execution_count": 10,
   "id": "ac06f3b0",
   "metadata": {},
   "outputs": [
    {
     "name": "stderr",
     "output_type": "stream",
     "text": [
      "/tmp/ipykernel_4571/1720914056.py:13: SettingWithCopyWarning: \n",
      "A value is trying to be set on a copy of a slice from a DataFrame.\n",
      "Try using .loc[row_indexer,col_indexer] = value instead\n",
      "\n",
      "See the caveats in the documentation: https://pandas.pydata.org/pandas-docs/stable/user_guide/indexing.html#returning-a-view-versus-a-copy\n",
      "  dataset['Dia sin inic'] = np.sin(2 * np.pi * (timestamp_s_inicial % day) / day)\n",
      "/tmp/ipykernel_4571/1720914056.py:14: SettingWithCopyWarning: \n",
      "A value is trying to be set on a copy of a slice from a DataFrame.\n",
      "Try using .loc[row_indexer,col_indexer] = value instead\n",
      "\n",
      "See the caveats in the documentation: https://pandas.pydata.org/pandas-docs/stable/user_guide/indexing.html#returning-a-view-versus-a-copy\n",
      "  dataset['Dia cos inic'] = np.cos(2 * np.pi * (timestamp_s_inicial % day) / day)\n",
      "/tmp/ipykernel_4571/1720914056.py:15: SettingWithCopyWarning: \n",
      "A value is trying to be set on a copy of a slice from a DataFrame.\n",
      "Try using .loc[row_indexer,col_indexer] = value instead\n",
      "\n",
      "See the caveats in the documentation: https://pandas.pydata.org/pandas-docs/stable/user_guide/indexing.html#returning-a-view-versus-a-copy\n",
      "  dataset['Anho sin inic'] = np.sin(2 * np.pi * (timestamp_s_inicial % year) / year)\n",
      "/tmp/ipykernel_4571/1720914056.py:16: SettingWithCopyWarning: \n",
      "A value is trying to be set on a copy of a slice from a DataFrame.\n",
      "Try using .loc[row_indexer,col_indexer] = value instead\n",
      "\n",
      "See the caveats in the documentation: https://pandas.pydata.org/pandas-docs/stable/user_guide/indexing.html#returning-a-view-versus-a-copy\n",
      "  dataset['Anho cos inic'] = np.cos(2 * np.pi * (timestamp_s_inicial % year) / year)\n",
      "/tmp/ipykernel_4571/1720914056.py:18: SettingWithCopyWarning: \n",
      "A value is trying to be set on a copy of a slice from a DataFrame.\n",
      "Try using .loc[row_indexer,col_indexer] = value instead\n",
      "\n",
      "See the caveats in the documentation: https://pandas.pydata.org/pandas-docs/stable/user_guide/indexing.html#returning-a-view-versus-a-copy\n",
      "  dataset['Dia sin fin'] = np.sin(2 * np.pi * (timestamp_s_inicial % day) / day)\n",
      "/tmp/ipykernel_4571/1720914056.py:19: SettingWithCopyWarning: \n",
      "A value is trying to be set on a copy of a slice from a DataFrame.\n",
      "Try using .loc[row_indexer,col_indexer] = value instead\n",
      "\n",
      "See the caveats in the documentation: https://pandas.pydata.org/pandas-docs/stable/user_guide/indexing.html#returning-a-view-versus-a-copy\n",
      "  dataset['Dia cos fin'] = np.cos(2 * np.pi * (timestamp_s_inicial % day) / day)\n",
      "/tmp/ipykernel_4571/1720914056.py:20: SettingWithCopyWarning: \n",
      "A value is trying to be set on a copy of a slice from a DataFrame.\n",
      "Try using .loc[row_indexer,col_indexer] = value instead\n",
      "\n",
      "See the caveats in the documentation: https://pandas.pydata.org/pandas-docs/stable/user_guide/indexing.html#returning-a-view-versus-a-copy\n",
      "  dataset['Anho sin fin'] = np.sin(2 * np.pi * (timestamp_s_inicial % year) / year)\n",
      "/tmp/ipykernel_4571/1720914056.py:21: SettingWithCopyWarning: \n",
      "A value is trying to be set on a copy of a slice from a DataFrame.\n",
      "Try using .loc[row_indexer,col_indexer] = value instead\n",
      "\n",
      "See the caveats in the documentation: https://pandas.pydata.org/pandas-docs/stable/user_guide/indexing.html#returning-a-view-versus-a-copy\n",
      "  dataset['Anho cos fin'] = np.cos(2 * np.pi * (timestamp_s_inicial % year) / year)\n",
      "/tmp/ipykernel_4571/1720914056.py:13: SettingWithCopyWarning: \n",
      "A value is trying to be set on a copy of a slice from a DataFrame.\n",
      "Try using .loc[row_indexer,col_indexer] = value instead\n",
      "\n",
      "See the caveats in the documentation: https://pandas.pydata.org/pandas-docs/stable/user_guide/indexing.html#returning-a-view-versus-a-copy\n",
      "  dataset['Dia sin inic'] = np.sin(2 * np.pi * (timestamp_s_inicial % day) / day)\n",
      "/tmp/ipykernel_4571/1720914056.py:14: SettingWithCopyWarning: \n",
      "A value is trying to be set on a copy of a slice from a DataFrame.\n",
      "Try using .loc[row_indexer,col_indexer] = value instead\n",
      "\n",
      "See the caveats in the documentation: https://pandas.pydata.org/pandas-docs/stable/user_guide/indexing.html#returning-a-view-versus-a-copy\n",
      "  dataset['Dia cos inic'] = np.cos(2 * np.pi * (timestamp_s_inicial % day) / day)\n",
      "/tmp/ipykernel_4571/1720914056.py:15: SettingWithCopyWarning: \n",
      "A value is trying to be set on a copy of a slice from a DataFrame.\n",
      "Try using .loc[row_indexer,col_indexer] = value instead\n",
      "\n",
      "See the caveats in the documentation: https://pandas.pydata.org/pandas-docs/stable/user_guide/indexing.html#returning-a-view-versus-a-copy\n",
      "  dataset['Anho sin inic'] = np.sin(2 * np.pi * (timestamp_s_inicial % year) / year)\n",
      "/tmp/ipykernel_4571/1720914056.py:16: SettingWithCopyWarning: \n",
      "A value is trying to be set on a copy of a slice from a DataFrame.\n",
      "Try using .loc[row_indexer,col_indexer] = value instead\n",
      "\n",
      "See the caveats in the documentation: https://pandas.pydata.org/pandas-docs/stable/user_guide/indexing.html#returning-a-view-versus-a-copy\n",
      "  dataset['Anho cos inic'] = np.cos(2 * np.pi * (timestamp_s_inicial % year) / year)\n",
      "/tmp/ipykernel_4571/1720914056.py:18: SettingWithCopyWarning: \n",
      "A value is trying to be set on a copy of a slice from a DataFrame.\n",
      "Try using .loc[row_indexer,col_indexer] = value instead\n",
      "\n",
      "See the caveats in the documentation: https://pandas.pydata.org/pandas-docs/stable/user_guide/indexing.html#returning-a-view-versus-a-copy\n",
      "  dataset['Dia sin fin'] = np.sin(2 * np.pi * (timestamp_s_inicial % day) / day)\n",
      "/tmp/ipykernel_4571/1720914056.py:19: SettingWithCopyWarning: \n",
      "A value is trying to be set on a copy of a slice from a DataFrame.\n",
      "Try using .loc[row_indexer,col_indexer] = value instead\n",
      "\n",
      "See the caveats in the documentation: https://pandas.pydata.org/pandas-docs/stable/user_guide/indexing.html#returning-a-view-versus-a-copy\n",
      "  dataset['Dia cos fin'] = np.cos(2 * np.pi * (timestamp_s_inicial % day) / day)\n",
      "/tmp/ipykernel_4571/1720914056.py:20: SettingWithCopyWarning: \n",
      "A value is trying to be set on a copy of a slice from a DataFrame.\n",
      "Try using .loc[row_indexer,col_indexer] = value instead\n",
      "\n",
      "See the caveats in the documentation: https://pandas.pydata.org/pandas-docs/stable/user_guide/indexing.html#returning-a-view-versus-a-copy\n",
      "  dataset['Anho sin fin'] = np.sin(2 * np.pi * (timestamp_s_inicial % year) / year)\n",
      "/tmp/ipykernel_4571/1720914056.py:21: SettingWithCopyWarning: \n",
      "A value is trying to be set on a copy of a slice from a DataFrame.\n",
      "Try using .loc[row_indexer,col_indexer] = value instead\n",
      "\n",
      "See the caveats in the documentation: https://pandas.pydata.org/pandas-docs/stable/user_guide/indexing.html#returning-a-view-versus-a-copy\n",
      "  dataset['Anho cos fin'] = np.cos(2 * np.pi * (timestamp_s_inicial % year) / year)\n"
     ]
    }
   ],
   "source": [
    "dfEntrenamiento = normalizar_fechas(dfEntrenamiento)\n",
    "dfTest = normalizar_fechas(dfTest)"
   ]
  },
  {
   "cell_type": "code",
   "execution_count": 11,
   "id": "d46a89ce",
   "metadata": {},
   "outputs": [
    {
     "name": "stdout",
     "output_type": "stream",
     "text": [
      "   precio inicio  precio mas alto  precio mas bajo  precio fin   volumen  \\\n",
      "0         1.1154           1.1200           1.1154      1.1182  37309.48   \n",
      "1         1.1182           1.1182           1.1151      1.1151   2132.61   \n",
      "2         1.1151           1.1172           1.1151      1.1151   1950.83   \n",
      "3         1.1136           1.1151           1.1136      1.1141    310.53   \n",
      "4         1.1126           1.1133           1.1126      1.1133    394.52   \n",
      "\n",
      "   volumen en cuotas  numero de compras  volumen de dolares  volumen de euros  \\\n",
      "0       41775.464275                 31            20419.46      22858.822356   \n",
      "1        2384.431292                  5             2036.69       2277.401075   \n",
      "2        2175.391533                  4               10.00         11.172000   \n",
      "3         346.107438                  4              232.00        258.656430   \n",
      "4         439.130428                  3                0.00          0.000000   \n",
      "\n",
      "   Dia sin inic  Dia cos inic  Anho sin inic  Anho cos inic   Dia sin fin  \\\n",
      "0  8.660254e-01     -0.500000       0.244241       0.969715  8.660254e-01   \n",
      "1  7.071068e-01     -0.707107       0.244937       0.969539  7.071068e-01   \n",
      "2  5.000000e-01     -0.866025       0.245632       0.969363  5.000000e-01   \n",
      "3  2.588190e-01     -0.965926       0.246327       0.969187  2.588190e-01   \n",
      "4 -3.216245e-16     -1.000000       0.247022       0.969010 -3.216245e-16   \n",
      "\n",
      "   Dia cos fin  Anho sin fin  Anho cos fin  \n",
      "0    -0.500000      0.244241      0.969715  \n",
      "1    -0.707107      0.244937      0.969539  \n",
      "2    -0.866025      0.245632      0.969363  \n",
      "3    -0.965926      0.246327      0.969187  \n",
      "4    -1.000000      0.247022      0.969010  \n"
     ]
    }
   ],
   "source": [
    "print(dfEntrenamiento.head())"
   ]
  },
  {
   "cell_type": "code",
   "execution_count": 17,
   "id": "2c607cac",
   "metadata": {},
   "outputs": [
    {
     "name": "stderr",
     "output_type": "stream",
     "text": [
      "/tmp/ipykernel_4571/2065897705.py:5: SettingWithCopyWarning: \n",
      "A value is trying to be set on a copy of a slice from a DataFrame.\n",
      "Try using .loc[row_indexer,col_indexer] = value instead\n",
      "\n",
      "See the caveats in the documentation: https://pandas.pydata.org/pandas-docs/stable/user_guide/indexing.html#returning-a-view-versus-a-copy\n",
      "  df[col] = (df[col] - df[col].mean()) / df[col].std()\n"
     ]
    }
   ],
   "source": [
    "columnasNormalizar = ['volumen', 'volumen en cuotas','numero de compras', 'volumen de dolares', 'volumen de euros']\n",
    "datasets = [dfEntrenamiento, dfTest]\n",
    "for df in datasets:\n",
    "    for col in columnasNormalizar:\n",
    "        df[col] = (df[col] - df[col].mean()) / df[col].std()\n"
   ]
  },
  {
   "cell_type": "code",
   "execution_count": 18,
   "id": "4c5e2c55",
   "metadata": {},
   "outputs": [
    {
     "name": "stdout",
     "output_type": "stream",
     "text": [
      "   precio inicio  precio mas alto  precio mas bajo  precio fin   volumen  \\\n",
      "0         1.1154           1.1200           1.1154      1.1182 -0.783575   \n",
      "1         1.1182           1.1182           1.1151      1.1151 -0.805618   \n",
      "2         1.1151           1.1172           1.1151      1.1151 -0.805732   \n",
      "3         1.1136           1.1151           1.1136      1.1141 -0.806760   \n",
      "4         1.1126           1.1133           1.1126      1.1133 -0.806708   \n",
      "\n",
      "   volumen en cuotas  numero de compras  volumen de dolares  volumen de euros  \\\n",
      "0          -0.768803          -0.859680           -0.742409         -0.729870   \n",
      "1          -0.789786          -0.867851           -0.766170         -0.752510   \n",
      "2          -0.789898          -0.868166           -0.768789         -0.755003   \n",
      "3          -0.790872          -0.868166           -0.768502         -0.754731   \n",
      "4          -0.790822          -0.868480           -0.768802         -0.755015   \n",
      "\n",
      "   Dia sin inic  Dia cos inic  Anho sin inic  Anho cos inic   Dia sin fin  \\\n",
      "0  8.660254e-01     -0.500000       0.244241       0.969715  8.660254e-01   \n",
      "1  7.071068e-01     -0.707107       0.244937       0.969539  7.071068e-01   \n",
      "2  5.000000e-01     -0.866025       0.245632       0.969363  5.000000e-01   \n",
      "3  2.588190e-01     -0.965926       0.246327       0.969187  2.588190e-01   \n",
      "4 -3.216245e-16     -1.000000       0.247022       0.969010 -3.216245e-16   \n",
      "\n",
      "   Dia cos fin  Anho sin fin  Anho cos fin  \n",
      "0    -0.500000      0.244241      0.969715  \n",
      "1    -0.707107      0.244937      0.969539  \n",
      "2    -0.866025      0.245632      0.969363  \n",
      "3    -0.965926      0.246327      0.969187  \n",
      "4    -1.000000      0.247022      0.969010  \n"
     ]
    }
   ],
   "source": [
    "print(dfEntrenamiento.head())"
   ]
  },
  {
   "cell_type": "markdown",
   "id": "0c48eb3f-2da7-45fe-bb8e-a89a63d9226f",
   "metadata": {},
   "source": [
    "### 2.2. Transforma los conjuntos de entrenamiento y test a NumPy."
   ]
  },
  {
   "cell_type": "code",
   "execution_count": 19,
   "id": "acc5865f",
   "metadata": {},
   "outputs": [],
   "source": [
    "dfEntrenamientoNP = dfEntrenamiento.to_numpy()\n",
    "dfTestNP = dfTest.to_numpy()"
   ]
  },
  {
   "cell_type": "markdown",
   "id": "59ced856-2743-45bf-aae3-47c83a910002",
   "metadata": {},
   "source": [
    "### 2.3. Utiliza la función sliding_window del Lab11 para ventanear la serie temporal para obtener un lote de muchos pares (vector de entrada, etiqueta) para entrenamiento y otro lote para test:\n",
    "- Haz que el tamaño de ventana sea configurable para poder probar varias alternativas.\n",
    "- Revisa la continuidad temporal de la serie para que las ventanas representen siempre el mismo\n",
    "periodo de tiempo. Descarta las ventanas incorrectas."
   ]
  },
  {
   "cell_type": "markdown",
   "id": "00f9bf18",
   "metadata": {},
   "source": [
    "Utilizaremos la función aportada en el laboratorio 11 llamada `sliding_windows`, que nos permitirá crear conjuntos de datos cuya salida deseada este movida en el tiempo 6 horas. Esto lo haremos asignando el atributo `offset` = 6, ya que los datos son recogidos cada hora."
   ]
  },
  {
   "cell_type": "code",
   "execution_count": 20,
   "id": "9c1ed94e",
   "metadata": {},
   "outputs": [],
   "source": [
    "def sliding_window(data, labels, input_width, label_width=1, offset=0):\n",
    "    x = []\n",
    "    y = []\n",
    "\n",
    "    # Corrección en el rango del bucle\n",
    "    for i in range(len(data) - input_width - label_width - offset + 1):\n",
    "        # Seleccionar la ventana de entrada y etiquetas\n",
    "        _x = data[i:i + input_width]\n",
    "        _y = labels[i + input_width + offset:i + input_width + offset + label_width]\n",
    "        x.append(_x)\n",
    "        y.append(_y)\n",
    "\n",
    "    # Convertir a numpy arrays\n",
    "    x, y = np.array(x), np.array(y)\n",
    "\n",
    "    # Añadir nueva dimensión si es necesario\n",
    "    if len(x.shape) == 2:  # Si x es 2D, hazlo 3D\n",
    "        x = x[:, :, np.newaxis]\n",
    "\n",
    "    if len(y.shape) == 2:  # Si y es 2D, hazlo 3D\n",
    "        y = y[:, :, np.newaxis]\n",
    "\n",
    "    return x, y"
   ]
  },
  {
   "cell_type": "code",
   "execution_count": 21,
   "id": "8eede1ea",
   "metadata": {},
   "outputs": [],
   "source": [
    "input_width = 24\n",
    "label_width = 24\n",
    "offset = 6\n",
    "target_labels = 'precio fin' # Vamos a tratar de predecir la temperatura\n",
    "\n",
    "\n",
    "# TODO: Llama a la función para dividir el dataset\n",
    "x_train, y_train = sliding_window(\n",
    "    dfEntrenamiento.drop(columns=target_labels).values,  # Datos de entrada sin la etiqueta objetivo\n",
    "    dfEntrenamiento[target_labels].values,\n",
    "    input_width=input_width,\n",
    "    label_width=label_width,\n",
    "    offset=offset\n",
    ")\n",
    "x_test, y_test = sliding_window(\n",
    "    dfTest.drop(columns=target_labels).values,  # Datos de entrada sin la etiqueta objetivo\n",
    "    dfTest[target_labels].values,\n",
    "    input_width=input_width,\n",
    "    label_width=label_width,\n",
    "    offset=offset\n",
    ")\n"
   ]
  },
  {
   "cell_type": "markdown",
   "id": "c5e4c905-bfb3-4dfe-ab8d-d4dd713c943a",
   "metadata": {},
   "source": [
    "----"
   ]
  },
  {
   "cell_type": "markdown",
   "id": "219e066a-1b1c-46c0-b906-ddb6cf38857f",
   "metadata": {},
   "source": [
    "## 3. Elección del/los modelo/s. Prueba con ventanas de distinto tamaño, y ajusta a los datos de entrenamiento a modelos con arquitecturas de tipo"
   ]
  },
  {
   "cell_type": "code",
   "execution_count": 24,
   "id": "4edd562d",
   "metadata": {},
   "outputs": [],
   "source": [
    "numero_caracteristicas = dfEntrenamiento.shape[1] - 1"
   ]
  },
  {
   "cell_type": "markdown",
   "id": "1869ac6b-4a7d-4651-8d79-dd0fc693a214",
   "metadata": {},
   "source": [
    "### 3.1 Totalmente conectado."
   ]
  },
  {
   "cell_type": "code",
   "execution_count": 28,
   "id": "dc7ed7d5",
   "metadata": {},
   "outputs": [],
   "source": [
    "modeloDenso = models.Sequential([\n",
    "    layers.Input(shape=(input_width, numero_caracteristicas)),  \n",
    "    layers.Flatten(),  \n",
    "    layers.Dense(128, activation='relu'),  \n",
    "    layers.Dense(64, activation='relu'),   \n",
    "    layers.Dense(32, activation='relu'),  \n",
    "    layers.Dense(1, activation='softmax')  \n",
    "])"
   ]
  },
  {
   "cell_type": "markdown",
   "id": "d4d9c8a6-4171-4aa5-b848-4f44d6da44e3",
   "metadata": {},
   "source": [
    "### 3.2 LSTM y GRU."
   ]
  },
  {
   "cell_type": "markdown",
   "id": "df90899d-b43c-4681-9469-9aa995399a91",
   "metadata": {},
   "source": [
    "### 3.3. LSTM y GRU anidados. Se requieren al menos dos capas."
   ]
  },
  {
   "cell_type": "markdown",
   "id": "342b3506-bd52-4bee-b820-1a2bca4bc7bb",
   "metadata": {},
   "source": [
    "### 3.4. Transformer (No es necesario entrenarlo, sólo prepararlo para su uso)."
   ]
  },
  {
   "cell_type": "markdown",
   "id": "3834ce4b-430a-40c2-b4c4-5c865fb1c863",
   "metadata": {},
   "source": [
    "## 4. Evaluación del rendimiento del/los modelo/s frente a baselines."
   ]
  },
  {
   "cell_type": "markdown",
   "id": "3b4ee2b4-91c8-44d0-8a22-e1da94fc5438",
   "metadata": {},
   "source": [
    "### 4.1. Compara el rendimiento de tus modelos frente entre sí y con dos baselines sencillas (diseñados baselines similares para el problema binario):\n",
    " - Un modelo que prediga siempre el último valor de entrada recibido (6h antes del dato\n",
    "a predecir).\n",
    " - Un modelo que prediga la media de los valores de entrada recibidos."
   ]
  },
  {
   "cell_type": "markdown",
   "id": "76e2164c-7e45-4584-b207-4077adf45680",
   "metadata": {},
   "source": [
    "### 4.2. Identifica sesgos en tu modelo. Para ello, analiza las distribuciones de entrenamiento y test y las predicciones/errores de entrenamiento/test. Si identificas algún problema, adapta tu pipeline para intentar solventarlo."
   ]
  },
  {
   "cell_type": "markdown",
   "id": "fa90e60d-5d76-4eeb-87ff-b8126c6057d6",
   "metadata": {},
   "source": [
    "### 4.3. Busca dar respuesta a las preguntas, ¿por cuántos céntimos de dólar falla cada modelo? ¿Cuánto puedo esperar ganar con mi modelo durante el periodo de test, haciendo las operaciones de 1$?"
   ]
  },
  {
   "cell_type": "code",
   "execution_count": null,
   "id": "afb54393-63bc-44eb-80d4-1d21dc66be26",
   "metadata": {},
   "outputs": [],
   "source": []
  }
 ],
 "metadata": {
  "kernelspec": {
   "display_name": "Python 3 (ipykernel)",
   "language": "python",
   "name": "python3"
  },
  "language_info": {
   "codemirror_mode": {
    "name": "ipython",
    "version": 3
   },
   "file_extension": ".py",
   "mimetype": "text/x-python",
   "name": "python",
   "nbconvert_exporter": "python",
   "pygments_lexer": "ipython3",
   "version": "3.10.12"
  }
 },
 "nbformat": 4,
 "nbformat_minor": 5
}
