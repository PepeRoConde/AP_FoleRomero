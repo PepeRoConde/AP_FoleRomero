{
 "cells": [
  {
   "cell_type": "markdown",
   "id": "d2aa36d0-df28-4dab-b3f3-6eee5b264b4d",
   "metadata": {},
   "source": [
    "# $\\textcolor{olive}{\\text{Fole si ves esto esta bien por hoy}}$"
   ]
  },
  {
   "cell_type": "code",
   "execution_count": 1,
   "id": "46204d6f-6f9b-4e58-b461-8c38e7373c08",
   "metadata": {},
   "outputs": [
    {
     "name": "stdout",
     "output_type": "stream",
     "text": [
      "tontito\n"
     ]
    }
   ],
   "source": [
    "print('tontito')"
   ]
  }
 ],
 "metadata": {
  "kernelspec": {
   "display_name": "Ent_AP",
   "language": "python",
   "name": "ent_ap"
  },
  "language_info": {
   "codemirror_mode": {
    "name": "ipython",
    "version": 3
   },
   "file_extension": ".py",
   "mimetype": "text/x-python",
   "name": "python",
   "nbconvert_exporter": "python",
   "pygments_lexer": "ipython3",
   "version": "3.11.0"
  }
 },
 "nbformat": 4,
 "nbformat_minor": 5
}
