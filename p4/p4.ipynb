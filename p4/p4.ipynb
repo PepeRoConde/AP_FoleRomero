{
  "cells": [
    {
      "cell_type": "markdown",
      "id": "2332ad83-86cc-4e5a-a8db-2e45d33de9d8",
      "metadata": {
        "id": "2332ad83-86cc-4e5a-a8db-2e45d33de9d8"
      },
      "source": [
        "# Práctica RNN\n",
        "## Hugo Fole Abellás y José Romero Conde"
      ]
    },
    {
      "cell_type": "markdown",
      "id": "c0b915c3-488c-491e-97d3-abb3394b5281",
      "metadata": {
        "id": "c0b915c3-488c-491e-97d3-abb3394b5281"
      },
      "source": [
        "------"
      ]
    },
    {
      "cell_type": "markdown",
      "id": "5c340306-2ab4-4099-8724-5fe740e87b57",
      "metadata": {
        "id": "5c340306-2ab4-4099-8724-5fe740e87b57"
      },
      "source": [
        "En esta práctica deberás desarrollar un modelo que sea capaz de predecir el precio del dólar en euros con\n",
        "6h de adelanto. Para ello, contarás con el fichero de datos UDC_EUR.json, disponible en el canal de Teams de\n",
        "la asignatura.\n",
        "\n",
        "La idea es hacer un modelo que te permita decidir cuándo comprar y cuándo vender dólares, para que puedas\n",
        "operar de la siguiente manera:\n",
        " - Si el modelo predice que el dólar bajará: vendo un dólar ahora y lo compro más barato dentro de 6h. La diferencia entre el precio de venta y el de compra es mi ganancia.\n",
        " - Si el modelo predice que el dólar subirá: compro un dólar ahora y lo vendo más caro dentro de 6h. La diferencia entre el precio de compra y el de venta es mi ganancia.\n",
        " - Puedes suministrarle al modelo los datos de entrada que estimes para cada predicción, siempre\n",
        "respetando que ninguno esté a menos de 6h del que intentas predecir.\n",
        "\n",
        "Debes respetar las siguientes restricciones:\n",
        "\n",
        " - No se deben utilizar datos posteriores a 31/08/2022 23:59:59 para entrenamiento. Los datos desde\n",
        "01/09/2022 00:00:00 en adelante se podrán utilizar como conjunto de test.\n",
        " - La predicción se deberá hacer a 6h vista, es decir, se deberá predecir el valor de salida 6 horas\n",
        "después del dato más reciente que se le proporcione al modelo. Se deberán predecir dos valores distintos:\n",
        "      - Valor de la variable \"precio fin\".\n",
        "      - Valor binario que indicará si \"precio fin\"6h después será mayor o menor que en el dato más\n",
        "reciente proporcionado a la entrada."
      ]
    },
    {
      "cell_type": "markdown",
      "id": "b000b1ab-8a2d-4d3a-b2b2-2866fb2b4279",
      "metadata": {
        "id": "b000b1ab-8a2d-4d3a-b2b2-2866fb2b4279"
      },
      "source": [
        "----"
      ]
    },
    {
      "cell_type": "markdown",
      "id": "e2a6fef7-f56e-4dfb-ae7b-7fb620fb5555",
      "metadata": {
        "id": "e2a6fef7-f56e-4dfb-ae7b-7fb620fb5555"
      },
      "source": [
        "## _Librerías_"
      ]
    },
    {
      "cell_type": "code",
      "execution_count": 1,
      "id": "944ae39f-57a9-4bad-9b58-c32652f99a2d",
      "metadata": {
        "id": "944ae39f-57a9-4bad-9b58-c32652f99a2d"
      },
      "outputs": [],
      "source": [
        "import pandas as pd # siguiendo la convención universal\n",
        "from matplotlib import pyplot as plt\n",
        "import numpy as np\n",
        "from scipy import stats\n",
        "import os\n",
        "import datetime\n",
        "from tensorflow.keras import layers, models,metrics, losses,optimizers\n",
        "from tensorflow import keras\n",
        "import seaborn as sns"
      ]
    },
    {
      "cell_type": "markdown",
      "id": "653ab370-9494-490b-b34d-cc9bf73758bd",
      "metadata": {
        "id": "653ab370-9494-490b-b34d-cc9bf73758bd"
      },
      "source": [
        "## 1. Carga y examina los datos"
      ]
    },
    {
      "cell_type": "markdown",
      "id": "3536fa3c-c437-433f-9c35-4fa13e428ad8",
      "metadata": {
        "id": "3536fa3c-c437-433f-9c35-4fa13e428ad8"
      },
      "source": [
        "### 1.1. Carga los datos con Pandas y haz un examen preliminar de los mismos. Descarta aquellos que sean erróneos."
      ]
    },
    {
      "cell_type": "code",
      "execution_count": 4,
      "id": "0c9fd1fe-7324-452c-b7ca-2234c7c941ed",
      "metadata": {
        "id": "0c9fd1fe-7324-452c-b7ca-2234c7c941ed"
      },
      "outputs": [],
      "source": [
        "if \"USD_EUR.json\" in os.listdir():\n",
        "    df = pd.read_json(\"USD_EUR.json\") # usando df para seguir la convención"
      ]
    },
    {
      "cell_type": "code",
      "execution_count": 5,
      "id": "3a853530-40e6-4624-8c1f-ff563919f835",
      "metadata": {
        "scrolled": true,
        "colab": {
          "base_uri": "https://localhost:8080/",
          "height": 442
        },
        "id": "3a853530-40e6-4624-8c1f-ff563919f835",
        "outputId": "13079e86-10b3-4f0e-80ba-46e0a105b929"
      },
      "outputs": [
        {
          "output_type": "execute_result",
          "data": {
            "text/plain": [
              "                   timestamp inicial  precio inicio  precio mas alto  \\\n",
              "count                          24970   24970.000000     24970.000000   \n",
              "mean   2021-06-07 09:52:59.014818048       1.126497         1.127797   \n",
              "min              2020-01-03 08:00:00       0.953600         0.955400   \n",
              "25%              2020-09-19 22:15:00       1.080000         1.082000   \n",
              "50%              2021-06-07 13:30:00       1.133000         1.134000   \n",
              "75%              2022-02-22 21:45:00       1.178800         1.179900   \n",
              "max              2022-11-10 00:00:00       1.309800         4.950000   \n",
              "std                              NaN       0.066949         0.071274   \n",
              "\n",
              "       precio mas bajo    precio fin       volumen  \\\n",
              "count     24970.000000  24970.000000  2.497000e+04   \n",
              "mean          1.125329      1.126459  1.588138e+06   \n",
              "min           0.953500      0.953600  0.000000e+00   \n",
              "25%           1.078000      1.080000  7.440733e+04   \n",
              "50%           1.132000      1.133000  7.911794e+05   \n",
              "75%           1.177700      1.178700  2.069755e+06   \n",
              "max           1.269500      1.309800  4.694843e+07   \n",
              "std           0.066925      0.066935  2.435379e+06   \n",
              "\n",
              "                     timestamp final  volumen en cuotas  numero de compras  \\\n",
              "count                          24970       2.497000e+04       24970.000000   \n",
              "mean   2021-06-07 10:52:58.645466880       1.831407e+06        3249.635603   \n",
              "min       2020-01-03 08:59:59.999000       0.000000e+00           0.000000   \n",
              "25%    2020-09-19 23:14:59.999000064       8.558465e+04         298.000000   \n",
              "50%    2021-06-07 14:29:59.999000064       8.722955e+05        2046.000000   \n",
              "75%    2022-02-22 22:44:59.999000064       2.302447e+06        4215.000000   \n",
              "max       2022-11-10 00:59:59.999000       5.784383e+07       53917.000000   \n",
              "std                              NaN       2.898230e+06        4291.602485   \n",
              "\n",
              "       volumen de dolares  volumen de euros  \n",
              "count        2.497000e+04      2.497000e+04  \n",
              "mean         7.412968e+05      8.552054e+05  \n",
              "min          0.000000e+00      0.000000e+00  \n",
              "25%          3.189642e+04      3.638405e+04  \n",
              "50%          3.359175e+05      3.709915e+05  \n",
              "75%          9.509889e+05      1.063618e+06  \n",
              "max          2.354437e+07      2.905002e+07  \n",
              "std          1.189478e+06      1.413589e+06  "
            ],
            "text/html": [
              "\n",
              "  <div id=\"df-3a23b8ee-0795-4177-869f-56af958e4188\" class=\"colab-df-container\">\n",
              "    <div>\n",
              "<style scoped>\n",
              "    .dataframe tbody tr th:only-of-type {\n",
              "        vertical-align: middle;\n",
              "    }\n",
              "\n",
              "    .dataframe tbody tr th {\n",
              "        vertical-align: top;\n",
              "    }\n",
              "\n",
              "    .dataframe thead th {\n",
              "        text-align: right;\n",
              "    }\n",
              "</style>\n",
              "<table border=\"1\" class=\"dataframe\">\n",
              "  <thead>\n",
              "    <tr style=\"text-align: right;\">\n",
              "      <th></th>\n",
              "      <th>timestamp inicial</th>\n",
              "      <th>precio inicio</th>\n",
              "      <th>precio mas alto</th>\n",
              "      <th>precio mas bajo</th>\n",
              "      <th>precio fin</th>\n",
              "      <th>volumen</th>\n",
              "      <th>timestamp final</th>\n",
              "      <th>volumen en cuotas</th>\n",
              "      <th>numero de compras</th>\n",
              "      <th>volumen de dolares</th>\n",
              "      <th>volumen de euros</th>\n",
              "    </tr>\n",
              "  </thead>\n",
              "  <tbody>\n",
              "    <tr>\n",
              "      <th>count</th>\n",
              "      <td>24970</td>\n",
              "      <td>24970.000000</td>\n",
              "      <td>24970.000000</td>\n",
              "      <td>24970.000000</td>\n",
              "      <td>24970.000000</td>\n",
              "      <td>2.497000e+04</td>\n",
              "      <td>24970</td>\n",
              "      <td>2.497000e+04</td>\n",
              "      <td>24970.000000</td>\n",
              "      <td>2.497000e+04</td>\n",
              "      <td>2.497000e+04</td>\n",
              "    </tr>\n",
              "    <tr>\n",
              "      <th>mean</th>\n",
              "      <td>2021-06-07 09:52:59.014818048</td>\n",
              "      <td>1.126497</td>\n",
              "      <td>1.127797</td>\n",
              "      <td>1.125329</td>\n",
              "      <td>1.126459</td>\n",
              "      <td>1.588138e+06</td>\n",
              "      <td>2021-06-07 10:52:58.645466880</td>\n",
              "      <td>1.831407e+06</td>\n",
              "      <td>3249.635603</td>\n",
              "      <td>7.412968e+05</td>\n",
              "      <td>8.552054e+05</td>\n",
              "    </tr>\n",
              "    <tr>\n",
              "      <th>min</th>\n",
              "      <td>2020-01-03 08:00:00</td>\n",
              "      <td>0.953600</td>\n",
              "      <td>0.955400</td>\n",
              "      <td>0.953500</td>\n",
              "      <td>0.953600</td>\n",
              "      <td>0.000000e+00</td>\n",
              "      <td>2020-01-03 08:59:59.999000</td>\n",
              "      <td>0.000000e+00</td>\n",
              "      <td>0.000000</td>\n",
              "      <td>0.000000e+00</td>\n",
              "      <td>0.000000e+00</td>\n",
              "    </tr>\n",
              "    <tr>\n",
              "      <th>25%</th>\n",
              "      <td>2020-09-19 22:15:00</td>\n",
              "      <td>1.080000</td>\n",
              "      <td>1.082000</td>\n",
              "      <td>1.078000</td>\n",
              "      <td>1.080000</td>\n",
              "      <td>7.440733e+04</td>\n",
              "      <td>2020-09-19 23:14:59.999000064</td>\n",
              "      <td>8.558465e+04</td>\n",
              "      <td>298.000000</td>\n",
              "      <td>3.189642e+04</td>\n",
              "      <td>3.638405e+04</td>\n",
              "    </tr>\n",
              "    <tr>\n",
              "      <th>50%</th>\n",
              "      <td>2021-06-07 13:30:00</td>\n",
              "      <td>1.133000</td>\n",
              "      <td>1.134000</td>\n",
              "      <td>1.132000</td>\n",
              "      <td>1.133000</td>\n",
              "      <td>7.911794e+05</td>\n",
              "      <td>2021-06-07 14:29:59.999000064</td>\n",
              "      <td>8.722955e+05</td>\n",
              "      <td>2046.000000</td>\n",
              "      <td>3.359175e+05</td>\n",
              "      <td>3.709915e+05</td>\n",
              "    </tr>\n",
              "    <tr>\n",
              "      <th>75%</th>\n",
              "      <td>2022-02-22 21:45:00</td>\n",
              "      <td>1.178800</td>\n",
              "      <td>1.179900</td>\n",
              "      <td>1.177700</td>\n",
              "      <td>1.178700</td>\n",
              "      <td>2.069755e+06</td>\n",
              "      <td>2022-02-22 22:44:59.999000064</td>\n",
              "      <td>2.302447e+06</td>\n",
              "      <td>4215.000000</td>\n",
              "      <td>9.509889e+05</td>\n",
              "      <td>1.063618e+06</td>\n",
              "    </tr>\n",
              "    <tr>\n",
              "      <th>max</th>\n",
              "      <td>2022-11-10 00:00:00</td>\n",
              "      <td>1.309800</td>\n",
              "      <td>4.950000</td>\n",
              "      <td>1.269500</td>\n",
              "      <td>1.309800</td>\n",
              "      <td>4.694843e+07</td>\n",
              "      <td>2022-11-10 00:59:59.999000</td>\n",
              "      <td>5.784383e+07</td>\n",
              "      <td>53917.000000</td>\n",
              "      <td>2.354437e+07</td>\n",
              "      <td>2.905002e+07</td>\n",
              "    </tr>\n",
              "    <tr>\n",
              "      <th>std</th>\n",
              "      <td>NaN</td>\n",
              "      <td>0.066949</td>\n",
              "      <td>0.071274</td>\n",
              "      <td>0.066925</td>\n",
              "      <td>0.066935</td>\n",
              "      <td>2.435379e+06</td>\n",
              "      <td>NaN</td>\n",
              "      <td>2.898230e+06</td>\n",
              "      <td>4291.602485</td>\n",
              "      <td>1.189478e+06</td>\n",
              "      <td>1.413589e+06</td>\n",
              "    </tr>\n",
              "  </tbody>\n",
              "</table>\n",
              "</div>\n",
              "    <div class=\"colab-df-buttons\">\n",
              "\n",
              "  <div class=\"colab-df-container\">\n",
              "    <button class=\"colab-df-convert\" onclick=\"convertToInteractive('df-3a23b8ee-0795-4177-869f-56af958e4188')\"\n",
              "            title=\"Convert this dataframe to an interactive table.\"\n",
              "            style=\"display:none;\">\n",
              "\n",
              "  <svg xmlns=\"http://www.w3.org/2000/svg\" height=\"24px\" viewBox=\"0 -960 960 960\">\n",
              "    <path d=\"M120-120v-720h720v720H120Zm60-500h600v-160H180v160Zm220 220h160v-160H400v160Zm0 220h160v-160H400v160ZM180-400h160v-160H180v160Zm440 0h160v-160H620v160ZM180-180h160v-160H180v160Zm440 0h160v-160H620v160Z\"/>\n",
              "  </svg>\n",
              "    </button>\n",
              "\n",
              "  <style>\n",
              "    .colab-df-container {\n",
              "      display:flex;\n",
              "      gap: 12px;\n",
              "    }\n",
              "\n",
              "    .colab-df-convert {\n",
              "      background-color: #E8F0FE;\n",
              "      border: none;\n",
              "      border-radius: 50%;\n",
              "      cursor: pointer;\n",
              "      display: none;\n",
              "      fill: #1967D2;\n",
              "      height: 32px;\n",
              "      padding: 0 0 0 0;\n",
              "      width: 32px;\n",
              "    }\n",
              "\n",
              "    .colab-df-convert:hover {\n",
              "      background-color: #E2EBFA;\n",
              "      box-shadow: 0px 1px 2px rgba(60, 64, 67, 0.3), 0px 1px 3px 1px rgba(60, 64, 67, 0.15);\n",
              "      fill: #174EA6;\n",
              "    }\n",
              "\n",
              "    .colab-df-buttons div {\n",
              "      margin-bottom: 4px;\n",
              "    }\n",
              "\n",
              "    [theme=dark] .colab-df-convert {\n",
              "      background-color: #3B4455;\n",
              "      fill: #D2E3FC;\n",
              "    }\n",
              "\n",
              "    [theme=dark] .colab-df-convert:hover {\n",
              "      background-color: #434B5C;\n",
              "      box-shadow: 0px 1px 3px 1px rgba(0, 0, 0, 0.15);\n",
              "      filter: drop-shadow(0px 1px 2px rgba(0, 0, 0, 0.3));\n",
              "      fill: #FFFFFF;\n",
              "    }\n",
              "  </style>\n",
              "\n",
              "    <script>\n",
              "      const buttonEl =\n",
              "        document.querySelector('#df-3a23b8ee-0795-4177-869f-56af958e4188 button.colab-df-convert');\n",
              "      buttonEl.style.display =\n",
              "        google.colab.kernel.accessAllowed ? 'block' : 'none';\n",
              "\n",
              "      async function convertToInteractive(key) {\n",
              "        const element = document.querySelector('#df-3a23b8ee-0795-4177-869f-56af958e4188');\n",
              "        const dataTable =\n",
              "          await google.colab.kernel.invokeFunction('convertToInteractive',\n",
              "                                                    [key], {});\n",
              "        if (!dataTable) return;\n",
              "\n",
              "        const docLinkHtml = 'Like what you see? Visit the ' +\n",
              "          '<a target=\"_blank\" href=https://colab.research.google.com/notebooks/data_table.ipynb>data table notebook</a>'\n",
              "          + ' to learn more about interactive tables.';\n",
              "        element.innerHTML = '';\n",
              "        dataTable['output_type'] = 'display_data';\n",
              "        await google.colab.output.renderOutput(dataTable, element);\n",
              "        const docLink = document.createElement('div');\n",
              "        docLink.innerHTML = docLinkHtml;\n",
              "        element.appendChild(docLink);\n",
              "      }\n",
              "    </script>\n",
              "  </div>\n",
              "\n",
              "\n",
              "<div id=\"df-bc52b945-8624-4bbb-8885-d44a05bb1f9c\">\n",
              "  <button class=\"colab-df-quickchart\" onclick=\"quickchart('df-bc52b945-8624-4bbb-8885-d44a05bb1f9c')\"\n",
              "            title=\"Suggest charts\"\n",
              "            style=\"display:none;\">\n",
              "\n",
              "<svg xmlns=\"http://www.w3.org/2000/svg\" height=\"24px\"viewBox=\"0 0 24 24\"\n",
              "     width=\"24px\">\n",
              "    <g>\n",
              "        <path d=\"M19 3H5c-1.1 0-2 .9-2 2v14c0 1.1.9 2 2 2h14c1.1 0 2-.9 2-2V5c0-1.1-.9-2-2-2zM9 17H7v-7h2v7zm4 0h-2V7h2v10zm4 0h-2v-4h2v4z\"/>\n",
              "    </g>\n",
              "</svg>\n",
              "  </button>\n",
              "\n",
              "<style>\n",
              "  .colab-df-quickchart {\n",
              "      --bg-color: #E8F0FE;\n",
              "      --fill-color: #1967D2;\n",
              "      --hover-bg-color: #E2EBFA;\n",
              "      --hover-fill-color: #174EA6;\n",
              "      --disabled-fill-color: #AAA;\n",
              "      --disabled-bg-color: #DDD;\n",
              "  }\n",
              "\n",
              "  [theme=dark] .colab-df-quickchart {\n",
              "      --bg-color: #3B4455;\n",
              "      --fill-color: #D2E3FC;\n",
              "      --hover-bg-color: #434B5C;\n",
              "      --hover-fill-color: #FFFFFF;\n",
              "      --disabled-bg-color: #3B4455;\n",
              "      --disabled-fill-color: #666;\n",
              "  }\n",
              "\n",
              "  .colab-df-quickchart {\n",
              "    background-color: var(--bg-color);\n",
              "    border: none;\n",
              "    border-radius: 50%;\n",
              "    cursor: pointer;\n",
              "    display: none;\n",
              "    fill: var(--fill-color);\n",
              "    height: 32px;\n",
              "    padding: 0;\n",
              "    width: 32px;\n",
              "  }\n",
              "\n",
              "  .colab-df-quickchart:hover {\n",
              "    background-color: var(--hover-bg-color);\n",
              "    box-shadow: 0 1px 2px rgba(60, 64, 67, 0.3), 0 1px 3px 1px rgba(60, 64, 67, 0.15);\n",
              "    fill: var(--button-hover-fill-color);\n",
              "  }\n",
              "\n",
              "  .colab-df-quickchart-complete:disabled,\n",
              "  .colab-df-quickchart-complete:disabled:hover {\n",
              "    background-color: var(--disabled-bg-color);\n",
              "    fill: var(--disabled-fill-color);\n",
              "    box-shadow: none;\n",
              "  }\n",
              "\n",
              "  .colab-df-spinner {\n",
              "    border: 2px solid var(--fill-color);\n",
              "    border-color: transparent;\n",
              "    border-bottom-color: var(--fill-color);\n",
              "    animation:\n",
              "      spin 1s steps(1) infinite;\n",
              "  }\n",
              "\n",
              "  @keyframes spin {\n",
              "    0% {\n",
              "      border-color: transparent;\n",
              "      border-bottom-color: var(--fill-color);\n",
              "      border-left-color: var(--fill-color);\n",
              "    }\n",
              "    20% {\n",
              "      border-color: transparent;\n",
              "      border-left-color: var(--fill-color);\n",
              "      border-top-color: var(--fill-color);\n",
              "    }\n",
              "    30% {\n",
              "      border-color: transparent;\n",
              "      border-left-color: var(--fill-color);\n",
              "      border-top-color: var(--fill-color);\n",
              "      border-right-color: var(--fill-color);\n",
              "    }\n",
              "    40% {\n",
              "      border-color: transparent;\n",
              "      border-right-color: var(--fill-color);\n",
              "      border-top-color: var(--fill-color);\n",
              "    }\n",
              "    60% {\n",
              "      border-color: transparent;\n",
              "      border-right-color: var(--fill-color);\n",
              "    }\n",
              "    80% {\n",
              "      border-color: transparent;\n",
              "      border-right-color: var(--fill-color);\n",
              "      border-bottom-color: var(--fill-color);\n",
              "    }\n",
              "    90% {\n",
              "      border-color: transparent;\n",
              "      border-bottom-color: var(--fill-color);\n",
              "    }\n",
              "  }\n",
              "</style>\n",
              "\n",
              "  <script>\n",
              "    async function quickchart(key) {\n",
              "      const quickchartButtonEl =\n",
              "        document.querySelector('#' + key + ' button');\n",
              "      quickchartButtonEl.disabled = true;  // To prevent multiple clicks.\n",
              "      quickchartButtonEl.classList.add('colab-df-spinner');\n",
              "      try {\n",
              "        const charts = await google.colab.kernel.invokeFunction(\n",
              "            'suggestCharts', [key], {});\n",
              "      } catch (error) {\n",
              "        console.error('Error during call to suggestCharts:', error);\n",
              "      }\n",
              "      quickchartButtonEl.classList.remove('colab-df-spinner');\n",
              "      quickchartButtonEl.classList.add('colab-df-quickchart-complete');\n",
              "    }\n",
              "    (() => {\n",
              "      let quickchartButtonEl =\n",
              "        document.querySelector('#df-bc52b945-8624-4bbb-8885-d44a05bb1f9c button');\n",
              "      quickchartButtonEl.style.display =\n",
              "        google.colab.kernel.accessAllowed ? 'block' : 'none';\n",
              "    })();\n",
              "  </script>\n",
              "</div>\n",
              "\n",
              "    </div>\n",
              "  </div>\n"
            ],
            "application/vnd.google.colaboratory.intrinsic+json": {
              "type": "dataframe",
              "summary": "{\n  \"name\": \"df\",\n  \"rows\": 8,\n  \"fields\": [\n    {\n      \"column\": \"timestamp inicial\",\n      \"properties\": {\n        \"dtype\": \"date\",\n        \"min\": \"1970-01-01 00:00:00.000024970\",\n        \"max\": \"2022-11-10 00:00:00\",\n        \"num_unique_values\": 7,\n        \"samples\": [\n          \"24970\",\n          \"2021-06-07 09:52:59.014818048\",\n          \"2022-02-22 21:45:00\"\n        ],\n        \"semantic_type\": \"\",\n        \"description\": \"\"\n      }\n    },\n    {\n      \"column\": \"precio inicio\",\n      \"properties\": {\n        \"dtype\": \"number\",\n        \"std\": 8827.882262650039,\n        \"min\": 0.06694922985924046,\n        \"max\": 24970.0,\n        \"num_unique_values\": 8,\n        \"samples\": [\n          1.1264967601121345,\n          1.1788,\n          24970.0\n        ],\n        \"semantic_type\": \"\",\n        \"description\": \"\"\n      }\n    },\n    {\n      \"column\": \"precio mas alto\",\n      \"properties\": {\n        \"dtype\": \"number\",\n        \"std\": 8827.697933976373,\n        \"min\": 0.07127395282582272,\n        \"max\": 24970.0,\n        \"num_unique_values\": 8,\n        \"samples\": [\n          1.1277967641169402,\n          1.1799,\n          24970.0\n        ],\n        \"semantic_type\": \"\",\n        \"description\": \"\"\n      }\n    },\n    {\n      \"column\": \"precio mas bajo\",\n      \"properties\": {\n        \"dtype\": \"number\",\n        \"std\": 8827.884570219549,\n        \"min\": 0.06692487899544525,\n        \"max\": 24970.0,\n        \"num_unique_values\": 8,\n        \"samples\": [\n          1.1253292671205446,\n          1.1777,\n          24970.0\n        ],\n        \"semantic_type\": \"\",\n        \"description\": \"\"\n      }\n    },\n    {\n      \"column\": \"precio fin\",\n      \"properties\": {\n        \"dtype\": \"number\",\n        \"std\": 8827.882270308039,\n        \"min\": 0.06693514617310121,\n        \"max\": 24970.0,\n        \"num_unique_values\": 8,\n        \"samples\": [\n          1.1264592190628755,\n          1.1787,\n          24970.0\n        ],\n        \"semantic_type\": \"\",\n        \"description\": \"\"\n      }\n    },\n    {\n      \"column\": \"volumen\",\n      \"properties\": {\n        \"dtype\": \"number\",\n        \"std\": 16274161.214922452,\n        \"min\": 0.0,\n        \"max\": 46948429.81,\n        \"num_unique_values\": 8,\n        \"samples\": [\n          1588137.8836908292,\n          2069755.35,\n          24970.0\n        ],\n        \"semantic_type\": \"\",\n        \"description\": \"\"\n      }\n    },\n    {\n      \"column\": \"timestamp final\",\n      \"properties\": {\n        \"dtype\": \"date\",\n        \"min\": \"1970-01-01 00:00:00.000024970\",\n        \"max\": \"2022-11-10 00:59:59.999000\",\n        \"num_unique_values\": 7,\n        \"samples\": [\n          \"24970\",\n          \"2021-06-07 10:52:58.645466880\",\n          \"2022-02-22 22:44:59.999000064\"\n        ],\n        \"semantic_type\": \"\",\n        \"description\": \"\"\n      }\n    },\n    {\n      \"column\": \"volumen en cuotas\",\n      \"properties\": {\n        \"dtype\": \"number\",\n        \"std\": 20076854.996649228,\n        \"min\": 0.0,\n        \"max\": 57843832.806441,\n        \"num_unique_values\": 8,\n        \"samples\": [\n          1831407.15608816,\n          2302446.63875,\n          24970.0\n        ],\n        \"semantic_type\": \"\",\n        \"description\": \"\"\n      }\n    },\n    {\n      \"column\": \"numero de compras\",\n      \"properties\": {\n        \"dtype\": \"number\",\n        \"std\": 18901.00001718111,\n        \"min\": 0.0,\n        \"max\": 53917.0,\n        \"num_unique_values\": 8,\n        \"samples\": [\n          3249.6356027232678,\n          4215.0,\n          24970.0\n        ],\n        \"semantic_type\": \"\",\n        \"description\": \"\"\n      }\n    },\n    {\n      \"column\": \"volumen de dolares\",\n      \"properties\": {\n        \"dtype\": \"number\",\n        \"std\": 8171499.206341998,\n        \"min\": 0.0,\n        \"max\": 23544369.72,\n        \"num_unique_values\": 8,\n        \"samples\": [\n          741296.7536435721,\n          950988.9,\n          24970.0\n        ],\n        \"semantic_type\": \"\",\n        \"description\": \"\"\n      }\n    },\n    {\n      \"column\": \"volumen de euros\",\n      \"properties\": {\n        \"dtype\": \"number\",\n        \"std\": 10094572.27255303,\n        \"min\": 0.0,\n        \"max\": 29050015.878761,\n        \"num_unique_values\": 8,\n        \"samples\": [\n          855205.441192087,\n          1063617.765807,\n          24970.0\n        ],\n        \"semantic_type\": \"\",\n        \"description\": \"\"\n      }\n    }\n  ]\n}"
            }
          },
          "metadata": {},
          "execution_count": 5
        }
      ],
      "source": [
        "df.describe() # les echamos un ojo"
      ]
    },
    {
      "cell_type": "markdown",
      "id": "1becacc1-1320-4916-9261-b8dc8b6f9b37",
      "metadata": {
        "id": "1becacc1-1320-4916-9261-b8dc8b6f9b37"
      },
      "source": [
        "Vemos en el resumen superior que hay un valor muy alto en `precio mas alto`, constrastamos esta creencia ploteando."
      ]
    },
    {
      "cell_type": "code",
      "execution_count": 6,
      "id": "9055774b-0ff4-44dc-9a73-59f5f14fb919",
      "metadata": {
        "colab": {
          "base_uri": "https://localhost:8080/",
          "height": 430
        },
        "id": "9055774b-0ff4-44dc-9a73-59f5f14fb919",
        "outputId": "73d0735e-a2cd-48b5-eb89-46a11ad87f91"
      },
      "outputs": [
        {
          "output_type": "display_data",
          "data": {
            "text/plain": [
              "<Figure size 640x480 with 1 Axes>"
            ],
            "image/png": "[encoded data removed]"
          },
          "metadata": {}
        }
      ],
      "source": [
        "plt.plot(df[[\"precio mas alto\"]]);"
      ]
    },
    {
      "cell_type": "markdown",
      "id": "c5fe3e0e-2e1c-4471-8a82-609687d070b0",
      "metadata": {
        "id": "c5fe3e0e-2e1c-4471-8a82-609687d070b0"
      },
      "source": [
        "Filtramos (solo las columnas numéricas) los valores que estén alejados a más de 3 sigmas de la media. Y vemos el resultado en que el plot anterior ahora es más correcto. (De todas formas, el plot solo muestra de una columna y se filtra en todas menos dos.)"
      ]
    },
    {
      "cell_type": "code",
      "execution_count": 7,
      "id": "150a1d7f-eab1-4eed-a646-9bf28babacb9",
      "metadata": {
        "id": "150a1d7f-eab1-4eed-a646-9bf28babacb9"
      },
      "outputs": [],
      "source": [
        "columnasFiltrar = ['precio inicio', 'precio mas alto', 'precio mas bajo', 'precio fin', 'volumen', 'volumen en cuotas', 'volumen en cuotas', 'numero de compras', 'volumen de dolares', 'volumen de euros']\n",
        "\n",
        "df = df[(np.abs(stats.zscore(df[columnasFiltrar])) < 1.8).all(axis=1)]"
      ]
    },
    {
      "cell_type": "code",
      "execution_count": 8,
      "id": "4996b422-7812-4f6e-922a-bf413ceb4bd5",
      "metadata": {
        "colab": {
          "base_uri": "https://localhost:8080/",
          "height": 430
        },
        "id": "4996b422-7812-4f6e-922a-bf413ceb4bd5",
        "outputId": "30106665-05cb-4e4b-e7d2-f83084be6e97"
      },
      "outputs": [
        {
          "output_type": "display_data",
          "data": {
            "text/plain": [
              "<Figure size 640x480 with 1 Axes>"
            ],
            "image/png": "[encoded data removed]"
          },
          "metadata": {}
        }
      ],
      "source": [
        "plt.plot(df[[\"precio mas alto\"]]);"
      ]
    },
    {
      "cell_type": "markdown",
      "id": "e75ab9a7",
      "metadata": {
        "id": "e75ab9a7"
      },
      "source": [
        "Ver como cambian los datos con el tiempo."
      ]
    },
    {
      "cell_type": "code",
      "execution_count": 9,
      "id": "492a8e75",
      "metadata": {
        "colab": {
          "base_uri": "https://localhost:8080/",
          "height": 849
        },
        "id": "492a8e75",
        "outputId": "45774ba2-8c09-4a0a-e94d-6a2a60b8c537"
      },
      "outputs": [
        {
          "output_type": "display_data",
          "data": {
            "text/plain": [
              "<Figure size 640x480 with 3 Axes>"
            ],
            "image/png": "[encoded data removed]"
          },
          "metadata": {}
        },
        {
          "output_type": "display_data",
          "data": {
            "text/plain": [
              "<Figure size 640x480 with 3 Axes>"
            ],
            "image/png": "[encoded data removed]"
          },
          "metadata": {}
        }
      ],
      "source": [
        "plot_cols = ['precio inicio', 'precio fin', 'numero de compras']\n",
        "plot_features = df[plot_cols]\n",
        "plot_features.index = df['timestamp inicial']\n",
        "_ = plot_features.plot(subplots=True)\n",
        "\n",
        "plot_features = df[plot_cols][:]\n",
        "plot_features.index = df['timestamp inicial'][:]\n",
        "_ = plot_features.plot(subplots=True)"
      ]
    },
    {
      "cell_type": "code",
      "source": [
        "df.head()"
      ],
      "metadata": {
        "colab": {
          "base_uri": "https://localhost:8080/",
          "height": 310
        },
        "id": "KzGHMDLplUV8",
        "outputId": "7798a980-8590-4cea-b033-921f0df5b18e"
      },
      "id": "KzGHMDLplUV8",
      "execution_count": 10,
      "outputs": [
        {
          "output_type": "execute_result",
          "data": {
            "text/plain": [
              "    timestamp inicial  precio inicio  precio mas alto  precio mas bajo  \\\n",
              "0 2020-01-03 08:00:00         1.1154           1.1200           1.1154   \n",
              "1 2020-01-03 09:00:00         1.1182           1.1182           1.1151   \n",
              "2 2020-01-03 10:00:00         1.1151           1.1172           1.1151   \n",
              "3 2020-01-03 11:00:00         1.1136           1.1151           1.1136   \n",
              "4 2020-01-03 12:00:00         1.1126           1.1133           1.1126   \n",
              "\n",
              "   precio fin   volumen         timestamp final  volumen en cuotas  \\\n",
              "0      1.1182  37309.48 2020-01-03 08:59:59.999       41775.464275   \n",
              "1      1.1151   2132.61 2020-01-03 09:59:59.999        2384.431292   \n",
              "2      1.1151   1950.83 2020-01-03 10:59:59.999        2175.391533   \n",
              "3      1.1141    310.53 2020-01-03 11:59:59.999         346.107438   \n",
              "4      1.1133    394.52 2020-01-03 12:59:59.999         439.130428   \n",
              "\n",
              "   numero de compras  volumen de dolares  volumen de euros  \n",
              "0                 31            20419.46      22858.822356  \n",
              "1                  5             2036.69       2277.401075  \n",
              "2                  4               10.00         11.172000  \n",
              "3                  4              232.00        258.656430  \n",
              "4                  3                0.00          0.000000  "
            ],
            "text/html": [
              "\n",
              "  <div id=\"df-912a74a2-bc7c-4e49-b162-c057e69f94f3\" class=\"colab-df-container\">\n",
              "    <div>\n",
              "<style scoped>\n",
              "    .dataframe tbody tr th:only-of-type {\n",
              "        vertical-align: middle;\n",
              "    }\n",
              "\n",
              "    .dataframe tbody tr th {\n",
              "        vertical-align: top;\n",
              "    }\n",
              "\n",
              "    .dataframe thead th {\n",
              "        text-align: right;\n",
              "    }\n",
              "</style>\n",
              "<table border=\"1\" class=\"dataframe\">\n",
              "  <thead>\n",
              "    <tr style=\"text-align: right;\">\n",
              "      <th></th>\n",
              "      <th>timestamp inicial</th>\n",
              "      <th>precio inicio</th>\n",
              "      <th>precio mas alto</th>\n",
              "      <th>precio mas bajo</th>\n",
              "      <th>precio fin</th>\n",
              "      <th>volumen</th>\n",
              "      <th>timestamp final</th>\n",
              "      <th>volumen en cuotas</th>\n",
              "      <th>numero de compras</th>\n",
              "      <th>volumen de dolares</th>\n",
              "      <th>volumen de euros</th>\n",
              "    </tr>\n",
              "  </thead>\n",
              "  <tbody>\n",
              "    <tr>\n",
              "      <th>0</th>\n",
              "      <td>2020-01-03 08:00:00</td>\n",
              "      <td>1.1154</td>\n",
              "      <td>1.1200</td>\n",
              "      <td>1.1154</td>\n",
              "      <td>1.1182</td>\n",
              "      <td>37309.48</td>\n",
              "      <td>2020-01-03 08:59:59.999</td>\n",
              "      <td>41775.464275</td>\n",
              "      <td>31</td>\n",
              "      <td>20419.46</td>\n",
              "      <td>22858.822356</td>\n",
              "    </tr>\n",
              "    <tr>\n",
              "      <th>1</th>\n",
              "      <td>2020-01-03 09:00:00</td>\n",
              "      <td>1.1182</td>\n",
              "      <td>1.1182</td>\n",
              "      <td>1.1151</td>\n",
              "      <td>1.1151</td>\n",
              "      <td>2132.61</td>\n",
              "      <td>2020-01-03 09:59:59.999</td>\n",
              "      <td>2384.431292</td>\n",
              "      <td>5</td>\n",
              "      <td>2036.69</td>\n",
              "      <td>2277.401075</td>\n",
              "    </tr>\n",
              "    <tr>\n",
              "      <th>2</th>\n",
              "      <td>2020-01-03 10:00:00</td>\n",
              "      <td>1.1151</td>\n",
              "      <td>1.1172</td>\n",
              "      <td>1.1151</td>\n",
              "      <td>1.1151</td>\n",
              "      <td>1950.83</td>\n",
              "      <td>2020-01-03 10:59:59.999</td>\n",
              "      <td>2175.391533</td>\n",
              "      <td>4</td>\n",
              "      <td>10.00</td>\n",
              "      <td>11.172000</td>\n",
              "    </tr>\n",
              "    <tr>\n",
              "      <th>3</th>\n",
              "      <td>2020-01-03 11:00:00</td>\n",
              "      <td>1.1136</td>\n",
              "      <td>1.1151</td>\n",
              "      <td>1.1136</td>\n",
              "      <td>1.1141</td>\n",
              "      <td>310.53</td>\n",
              "      <td>2020-01-03 11:59:59.999</td>\n",
              "      <td>346.107438</td>\n",
              "      <td>4</td>\n",
              "      <td>232.00</td>\n",
              "      <td>258.656430</td>\n",
              "    </tr>\n",
              "    <tr>\n",
              "      <th>4</th>\n",
              "      <td>2020-01-03 12:00:00</td>\n",
              "      <td>1.1126</td>\n",
              "      <td>1.1133</td>\n",
              "      <td>1.1126</td>\n",
              "      <td>1.1133</td>\n",
              "      <td>394.52</td>\n",
              "      <td>2020-01-03 12:59:59.999</td>\n",
              "      <td>439.130428</td>\n",
              "      <td>3</td>\n",
              "      <td>0.00</td>\n",
              "      <td>0.000000</td>\n",
              "    </tr>\n",
              "  </tbody>\n",
              "</table>\n",
              "</div>\n",
              "    <div class=\"colab-df-buttons\">\n",
              "\n",
              "  <div class=\"colab-df-container\">\n",
              "    <button class=\"colab-df-convert\" onclick=\"convertToInteractive('df-912a74a2-bc7c-4e49-b162-c057e69f94f3')\"\n",
              "            title=\"Convert this dataframe to an interactive table.\"\n",
              "            style=\"display:none;\">\n",
              "\n",
              "  <svg xmlns=\"http://www.w3.org/2000/svg\" height=\"24px\" viewBox=\"0 -960 960 960\">\n",
              "    <path d=\"M120-120v-720h720v720H120Zm60-500h600v-160H180v160Zm220 220h160v-160H400v160Zm0 220h160v-160H400v160ZM180-400h160v-160H180v160Zm440 0h160v-160H620v160ZM180-180h160v-160H180v160Zm440 0h160v-160H620v160Z\"/>\n",
              "  </svg>\n",
              "    </button>\n",
              "\n",
              "  <style>\n",
              "    .colab-df-container {\n",
              "      display:flex;\n",
              "      gap: 12px;\n",
              "    }\n",
              "\n",
              "    .colab-df-convert {\n",
              "      background-color: #E8F0FE;\n",
              "      border: none;\n",
              "      border-radius: 50%;\n",
              "      cursor: pointer;\n",
              "      display: none;\n",
              "      fill: #1967D2;\n",
              "      height: 32px;\n",
              "      padding: 0 0 0 0;\n",
              "      width: 32px;\n",
              "    }\n",
              "\n",
              "    .colab-df-convert:hover {\n",
              "      background-color: #E2EBFA;\n",
              "      box-shadow: 0px 1px 2px rgba(60, 64, 67, 0.3), 0px 1px 3px 1px rgba(60, 64, 67, 0.15);\n",
              "      fill: #174EA6;\n",
              "    }\n",
              "\n",
              "    .colab-df-buttons div {\n",
              "      margin-bottom: 4px;\n",
              "    }\n",
              "\n",
              "    [theme=dark] .colab-df-convert {\n",
              "      background-color: #3B4455;\n",
              "      fill: #D2E3FC;\n",
              "    }\n",
              "\n",
              "    [theme=dark] .colab-df-convert:hover {\n",
              "      background-color: #434B5C;\n",
              "      box-shadow: 0px 1px 3px 1px rgba(0, 0, 0, 0.15);\n",
              "      filter: drop-shadow(0px 1px 2px rgba(0, 0, 0, 0.3));\n",
              "      fill: #FFFFFF;\n",
              "    }\n",
              "  </style>\n",
              "\n",
              "    <script>\n",
              "      const buttonEl =\n",
              "        document.querySelector('#df-912a74a2-bc7c-4e49-b162-c057e69f94f3 button.colab-df-convert');\n",
              "      buttonEl.style.display =\n",
              "        google.colab.kernel.accessAllowed ? 'block' : 'none';\n",
              "\n",
              "      async function convertToInteractive(key) {\n",
              "        const element = document.querySelector('#df-912a74a2-bc7c-4e49-b162-c057e69f94f3');\n",
              "        const dataTable =\n",
              "          await google.colab.kernel.invokeFunction('convertToInteractive',\n",
              "                                                    [key], {});\n",
              "        if (!dataTable) return;\n",
              "\n",
              "        const docLinkHtml = 'Like what you see? Visit the ' +\n",
              "          '<a target=\"_blank\" href=https://colab.research.google.com/notebooks/data_table.ipynb>data table notebook</a>'\n",
              "          + ' to learn more about interactive tables.';\n",
              "        element.innerHTML = '';\n",
              "        dataTable['output_type'] = 'display_data';\n",
              "        await google.colab.output.renderOutput(dataTable, element);\n",
              "        const docLink = document.createElement('div');\n",
              "        docLink.innerHTML = docLinkHtml;\n",
              "        element.appendChild(docLink);\n",
              "      }\n",
              "    </script>\n",
              "  </div>\n",
              "\n",
              "\n",
              "<div id=\"df-2029e537-8966-492c-accf-0d2f78a3fdd8\">\n",
              "  <button class=\"colab-df-quickchart\" onclick=\"quickchart('df-2029e537-8966-492c-accf-0d2f78a3fdd8')\"\n",
              "            title=\"Suggest charts\"\n",
              "            style=\"display:none;\">\n",
              "\n",
              "<svg xmlns=\"http://www.w3.org/2000/svg\" height=\"24px\"viewBox=\"0 0 24 24\"\n",
              "     width=\"24px\">\n",
              "    <g>\n",
              "        <path d=\"M19 3H5c-1.1 0-2 .9-2 2v14c0 1.1.9 2 2 2h14c1.1 0 2-.9 2-2V5c0-1.1-.9-2-2-2zM9 17H7v-7h2v7zm4 0h-2V7h2v10zm4 0h-2v-4h2v4z\"/>\n",
              "    </g>\n",
              "</svg>\n",
              "  </button>\n",
              "\n",
              "<style>\n",
              "  .colab-df-quickchart {\n",
              "      --bg-color: #E8F0FE;\n",
              "      --fill-color: #1967D2;\n",
              "      --hover-bg-color: #E2EBFA;\n",
              "      --hover-fill-color: #174EA6;\n",
              "      --disabled-fill-color: #AAA;\n",
              "      --disabled-bg-color: #DDD;\n",
              "  }\n",
              "\n",
              "  [theme=dark] .colab-df-quickchart {\n",
              "      --bg-color: #3B4455;\n",
              "      --fill-color: #D2E3FC;\n",
              "      --hover-bg-color: #434B5C;\n",
              "      --hover-fill-color: #FFFFFF;\n",
              "      --disabled-bg-color: #3B4455;\n",
              "      --disabled-fill-color: #666;\n",
              "  }\n",
              "\n",
              "  .colab-df-quickchart {\n",
              "    background-color: var(--bg-color);\n",
              "    border: none;\n",
              "    border-radius: 50%;\n",
              "    cursor: pointer;\n",
              "    display: none;\n",
              "    fill: var(--fill-color);\n",
              "    height: 32px;\n",
              "    padding: 0;\n",
              "    width: 32px;\n",
              "  }\n",
              "\n",
              "  .colab-df-quickchart:hover {\n",
              "    background-color: var(--hover-bg-color);\n",
              "    box-shadow: 0 1px 2px rgba(60, 64, 67, 0.3), 0 1px 3px 1px rgba(60, 64, 67, 0.15);\n",
              "    fill: var(--button-hover-fill-color);\n",
              "  }\n",
              "\n",
              "  .colab-df-quickchart-complete:disabled,\n",
              "  .colab-df-quickchart-complete:disabled:hover {\n",
              "    background-color: var(--disabled-bg-color);\n",
              "    fill: var(--disabled-fill-color);\n",
              "    box-shadow: none;\n",
              "  }\n",
              "\n",
              "  .colab-df-spinner {\n",
              "    border: 2px solid var(--fill-color);\n",
              "    border-color: transparent;\n",
              "    border-bottom-color: var(--fill-color);\n",
              "    animation:\n",
              "      spin 1s steps(1) infinite;\n",
              "  }\n",
              "\n",
              "  @keyframes spin {\n",
              "    0% {\n",
              "      border-color: transparent;\n",
              "      border-bottom-color: var(--fill-color);\n",
              "      border-left-color: var(--fill-color);\n",
              "    }\n",
              "    20% {\n",
              "      border-color: transparent;\n",
              "      border-left-color: var(--fill-color);\n",
              "      border-top-color: var(--fill-color);\n",
              "    }\n",
              "    30% {\n",
              "      border-color: transparent;\n",
              "      border-left-color: var(--fill-color);\n",
              "      border-top-color: var(--fill-color);\n",
              "      border-right-color: var(--fill-color);\n",
              "    }\n",
              "    40% {\n",
              "      border-color: transparent;\n",
              "      border-right-color: var(--fill-color);\n",
              "      border-top-color: var(--fill-color);\n",
              "    }\n",
              "    60% {\n",
              "      border-color: transparent;\n",
              "      border-right-color: var(--fill-color);\n",
              "    }\n",
              "    80% {\n",
              "      border-color: transparent;\n",
              "      border-right-color: var(--fill-color);\n",
              "      border-bottom-color: var(--fill-color);\n",
              "    }\n",
              "    90% {\n",
              "      border-color: transparent;\n",
              "      border-bottom-color: var(--fill-color);\n",
              "    }\n",
              "  }\n",
              "</style>\n",
              "\n",
              "  <script>\n",
              "    async function quickchart(key) {\n",
              "      const quickchartButtonEl =\n",
              "        document.querySelector('#' + key + ' button');\n",
              "      quickchartButtonEl.disabled = true;  // To prevent multiple clicks.\n",
              "      quickchartButtonEl.classList.add('colab-df-spinner');\n",
              "      try {\n",
              "        const charts = await google.colab.kernel.invokeFunction(\n",
              "            'suggestCharts', [key], {});\n",
              "      } catch (error) {\n",
              "        console.error('Error during call to suggestCharts:', error);\n",
              "      }\n",
              "      quickchartButtonEl.classList.remove('colab-df-spinner');\n",
              "      quickchartButtonEl.classList.add('colab-df-quickchart-complete');\n",
              "    }\n",
              "    (() => {\n",
              "      let quickchartButtonEl =\n",
              "        document.querySelector('#df-2029e537-8966-492c-accf-0d2f78a3fdd8 button');\n",
              "      quickchartButtonEl.style.display =\n",
              "        google.colab.kernel.accessAllowed ? 'block' : 'none';\n",
              "    })();\n",
              "  </script>\n",
              "</div>\n",
              "\n",
              "    </div>\n",
              "  </div>\n"
            ],
            "application/vnd.google.colaboratory.intrinsic+json": {
              "type": "dataframe",
              "variable_name": "df",
              "summary": "{\n  \"name\": \"df\",\n  \"rows\": 20985,\n  \"fields\": [\n    {\n      \"column\": \"timestamp inicial\",\n      \"properties\": {\n        \"dtype\": \"date\",\n        \"min\": \"2020-01-03 08:00:00\",\n        \"max\": \"2022-11-08 17:00:00\",\n        \"num_unique_values\": 20985,\n        \"samples\": [\n          \"2020-10-07 02:00:00\",\n          \"2021-12-08 16:00:00\",\n          \"2020-11-20 18:00:00\"\n        ],\n        \"semantic_type\": \"\",\n        \"description\": \"\"\n      }\n    },\n    {\n      \"column\": \"precio inicio\",\n      \"properties\": {\n        \"dtype\": \"number\",\n        \"std\": 0.054162125238182174,\n        \"min\": 1.006,\n        \"max\": 1.2465,\n        \"num_unique_values\": 2030,\n        \"samples\": [\n          1.2227,\n          1.1706,\n          1.1641\n        ],\n        \"semantic_type\": \"\",\n        \"description\": \"\"\n      }\n    },\n    {\n      \"column\": \"precio mas alto\",\n      \"properties\": {\n        \"dtype\": \"number\",\n        \"std\": 0.05406193155415984,\n        \"min\": 1.0063,\n        \"max\": 1.2557,\n        \"num_unique_values\": 2032,\n        \"samples\": [\n          1.1342,\n          1.1722,\n          1.0695\n        ],\n        \"semantic_type\": \"\",\n        \"description\": \"\"\n      }\n    },\n    {\n      \"column\": \"precio mas bajo\",\n      \"properties\": {\n        \"dtype\": \"number\",\n        \"std\": 0.05425797744931826,\n        \"min\": 1.0054,\n        \"max\": 1.2454,\n        \"num_unique_values\": 1990,\n        \"samples\": [\n          1.1757,\n          1.0429,\n          1.1347\n        ],\n        \"semantic_type\": \"\",\n        \"description\": \"\"\n      }\n    },\n    {\n      \"column\": \"precio fin\",\n      \"properties\": {\n        \"dtype\": \"number\",\n        \"std\": 0.054136734654128604,\n        \"min\": 1.006,\n        \"max\": 1.2466,\n        \"num_unique_values\": 2018,\n        \"samples\": [\n          1.2011,\n          1.0576,\n          1.0949\n        ],\n        \"semantic_type\": \"\",\n        \"description\": \"\"\n      }\n    },\n    {\n      \"column\": \"volumen\",\n      \"properties\": {\n        \"dtype\": \"number\",\n        \"std\": 1219321.1835747424,\n        \"min\": 0.0,\n        \"max\": 5908380.9,\n        \"num_unique_values\": 20920,\n        \"samples\": [\n          4068.46,\n          2168008.6,\n          20656.33\n        ],\n        \"semantic_type\": \"\",\n        \"description\": \"\"\n      }\n    },\n    {\n      \"column\": \"timestamp final\",\n      \"properties\": {\n        \"dtype\": \"date\",\n        \"min\": \"2020-01-03 08:59:59.999000\",\n        \"max\": \"2022-11-08 17:59:59.999000\",\n        \"num_unique_values\": 20985,\n        \"samples\": [\n          \"2020-10-07 02:59:59.999000\",\n          \"2021-12-08 16:59:59.999000\",\n          \"2020-11-20 18:59:59.999000\"\n        ],\n        \"semantic_type\": \"\",\n        \"description\": \"\"\n      }\n    },\n    {\n      \"column\": \"volumen en cuotas\",\n      \"properties\": {\n        \"dtype\": \"number\",\n        \"std\": 1413687.43041403,\n        \"min\": 0.0,\n        \"max\": 7036213.875199,\n        \"num_unique_values\": 20932,\n        \"samples\": [\n          8830.620222,\n          703872.9683,\n          332783.7185\n        ],\n        \"semantic_type\": \"\",\n        \"description\": \"\"\n      }\n    },\n    {\n      \"column\": \"numero de compras\",\n      \"properties\": {\n        \"dtype\": \"number\",\n        \"std\": 2391,\n        \"min\": 0,\n        \"max\": 10974,\n        \"num_unique_values\": 6545,\n        \"samples\": [\n          6628,\n          480,\n          8242\n        ],\n        \"semantic_type\": \"\",\n        \"description\": \"\"\n      }\n    },\n    {\n      \"column\": \"volumen de dolares\",\n      \"properties\": {\n        \"dtype\": \"number\",\n        \"std\": 583201.6163944363,\n        \"min\": 0.0,\n        \"max\": 2880048.03,\n        \"num_unique_values\": 20726,\n        \"samples\": [\n          374490.9,\n          111719.3,\n          146470.8\n        ],\n        \"semantic_type\": \"\",\n        \"description\": \"\"\n      }\n    },\n    {\n      \"column\": \"volumen de euros\",\n      \"properties\": {\n        \"dtype\": \"number\",\n        \"std\": 676128.0723538412,\n        \"min\": 0.0,\n        \"max\": 3369494.430762,\n        \"num_unique_values\": 20751,\n        \"samples\": [\n          1803667.5948,\n          3848.241067,\n          73080.083\n        ],\n        \"semantic_type\": \"\",\n        \"description\": \"\"\n      }\n    }\n  ]\n}"
            }
          },
          "metadata": {},
          "execution_count": 10
        }
      ]
    },
    {
      "cell_type": "markdown",
      "source": [
        "Comprobaremos que los datos están recogidos de manera correcta, es decir, cada hora. Para ello iteraremos en un bucle que recorrerá la variable `timestamp inicial` para que compruebe si se están recogiendo los datos correctamente."
      ],
      "metadata": {
        "id": "L6hk06l7l-C9"
      },
      "id": "L6hk06l7l-C9"
    },
    {
      "cell_type": "code",
      "source": [
        "hora = pd.Timedelta(seconds=3600)\n",
        "fechas = df[:-1]['timestamp inicial']\n",
        "fechassegundos = pd.to_datetime(fechas, format='%d.%m.%Y %H:%M:%S')\n",
        "instancias = []\n",
        "diferencias = []\n",
        "cadahora = True\n",
        "\n",
        "for i in range(len(fechassegundos) - 1):  # Hasta el penúltimo índice\n",
        "    if (fechassegundos.iloc[i + 1] - fechassegundos.iloc[i]) != hora:\n",
        "        instancias.append(i)\n",
        "        cadahora = False\n",
        "        diferencias.append(fechassegundos.iloc[i + 1] - fechassegundos.iloc[i])\n",
        "\n",
        "print(instancias)\n",
        "print(diferencias)\n",
        "\n",
        "print(cadahora)\n"
      ],
      "metadata": {
        "colab": {
          "base_uri": "https://localhost:8080/"
        },
        "id": "kY6msj4gbp8u",
        "outputId": "1b74d9e6-e5f6-4117-926e-e6c6fd6e76ee"
      },
      "id": "kY6msj4gbp8u",
      "execution_count": 11,
      "outputs": [
        {
          "output_type": "stream",
          "name": "stdout",
          "text": [
            "[85, 880, 1129, 1458, 2697, 4231, 7952, 8463, 8515, 8542, 8751, 8753, 8757, 8758, 8812, 8815, 8830, 8833, 8834, 8888, 8899, 8908, 8913, 8988, 9006, 9118, 9121, 9137, 9138, 9141, 9146, 9147, 9280, 9303, 9306, 9308, 9309, 9330, 9355, 9356, 9367, 9386, 9392, 9395, 9414, 9418, 9427, 9428, 9431, 9440, 9456, 9464, 9466, 9467, 9473, 9474, 9475, 9482, 9488, 9494, 9495, 9498, 9500, 9507, 9514, 9526, 9533, 9537, 9538, 9545, 9555, 9564, 9572, 9576, 9577, 9582, 9590, 9591, 9592, 9601, 9607, 9616, 9617, 9626, 9627, 9628, 9633, 9634, 9636, 9646, 9654, 9662, 9668, 9672, 9682, 9697, 9700, 9701, 9715, 9716, 9717, 9719, 9731, 9734, 9746, 9757, 9809, 9811, 9819, 9828, 9838, 9845, 9851, 9852, 9864, 9866, 9867, 9875, 9878, 9884, 9894, 9895, 9904, 9915, 9925, 9926, 9927, 9950, 9960, 9967, 9968, 9978, 9980, 9987, 9998, 9999, 10018, 10021, 10047, 10059, 10063, 10064, 10077, 10086, 10095, 10101, 10105, 10106, 10107, 10108, 10116, 10129, 10134, 10140, 10147, 10154, 10163, 10170, 10171, 10183, 10192, 10201, 10207, 10214, 10215, 10217, 10219, 10225, 10228, 10229, 10230, 10234, 10235, 10238, 10240, 10241, 10242, 10274, 10287, 10295, 10310, 10311, 10313, 10324, 10326, 10328, 10329, 10338, 10349, 10362, 10364, 10375, 10408, 10410, 10411, 10412, 10415, 10416, 10417, 10422, 10423, 10426, 10433, 10437, 10442, 10443, 10445, 10450, 10456, 10464, 10465, 10467, 10474, 10476, 10477, 10478, 10483, 10487, 10488, 10491, 10495, 10496, 10500, 10503, 10509, 10516, 10518, 10523, 10525, 10532, 10542, 10543, 10544, 10545, 10548, 10558, 10561, 10576, 10577, 10592, 10613, 10627, 10631, 10648, 10661, 10665, 10670, 10673, 10738, 10744, 10750, 10758, 10759, 10761, 10765, 10773, 10776, 10792, 10793, 10794, 10800, 10871, 10887, 10888, 10926, 10929, 10930, 10932, 10949, 10953, 10969, 10971, 10973, 11012, 11029, 11036, 11045, 11047, 11057, 11058, 11076, 11080, 11100, 11117, 11153, 11164, 11187, 11203, 11225, 11249, 11365, 11385, 11469, 11573, 11578, 11646, 11702, 11804, 11822, 11917, 11985, 12025, 12027, 12054, 12055, 12185, 12190, 12211, 12212, 12223, 12251, 12308, 12331, 12377, 12395, 12490, 12491, 12824, 13340, 13512, 13535, 13537, 13555, 13672, 13865, 14004, 14005, 14006, 14008, 14014, 14016, 14019, 14021, 14092, 14113, 14162, 14176, 14177, 14325, 14326, 14456, 14457, 14459, 14481, 14688, 14715, 14875, 14879, 14902, 15398, 15454, 15809, 15923, 16043, 16045, 16915, 16960, 16973, 17313, 17621, 17957, 18035, 18489, 18649, 18651, 18658, 19320, 19442, 19462, 19471, 19586, 19590, 19673, 19752, 19848, 19861, 19933, 19935, 19938, 19948, 19953, 19971, 20045, 20075, 20076, 20077, 20082, 20083, 20175, 20192, 20221, 20299, 20368, 20383, 20384, 20408, 20502, 20574, 20642, 20691, 20809, 20855, 20861, 20900, 20908, 20919, 20921, 20922, 20923, 20928, 20968, 20982]\n",
            "[Timedelta('0 days 02:00:00'), Timedelta('0 days 02:00:00'), Timedelta('0 days 06:00:00'), Timedelta('0 days 02:00:00'), Timedelta('0 days 03:00:00'), Timedelta('0 days 04:00:00'), Timedelta('0 days 02:00:00'), Timedelta('0 days 05:00:00'), Timedelta('0 days 02:00:00'), Timedelta('0 days 02:00:00'), Timedelta('0 days 03:00:00'), Timedelta('0 days 02:00:00'), Timedelta('0 days 04:00:00'), Timedelta('1 days 02:00:00'), Timedelta('0 days 02:00:00'), Timedelta('0 days 02:00:00'), Timedelta('0 days 02:00:00'), Timedelta('0 days 02:00:00'), Timedelta('0 days 02:00:00'), Timedelta('0 days 09:00:00'), Timedelta('0 days 02:00:00'), Timedelta('0 days 04:00:00'), Timedelta('0 days 05:00:00'), Timedelta('0 days 02:00:00'), Timedelta('0 days 02:00:00'), Timedelta('0 days 05:00:00'), Timedelta('0 days 02:00:00'), Timedelta('0 days 03:00:00'), Timedelta('0 days 02:00:00'), Timedelta('0 days 02:00:00'), Timedelta('0 days 02:00:00'), Timedelta('0 days 02:00:00'), Timedelta('0 days 02:00:00'), Timedelta('0 days 04:00:00'), Timedelta('0 days 02:00:00'), Timedelta('0 days 04:00:00'), Timedelta('0 days 17:00:00'), Timedelta('0 days 02:00:00'), Timedelta('0 days 02:00:00'), Timedelta('0 days 02:00:00'), Timedelta('0 days 07:00:00'), Timedelta('0 days 02:00:00'), Timedelta('0 days 02:00:00'), Timedelta('0 days 02:00:00'), Timedelta('0 days 02:00:00'), Timedelta('0 days 02:00:00'), Timedelta('0 days 07:00:00'), Timedelta('0 days 04:00:00'), Timedelta('0 days 04:00:00'), Timedelta('0 days 12:00:00'), Timedelta('0 days 02:00:00'), Timedelta('0 days 02:00:00'), Timedelta('0 days 02:00:00'), Timedelta('0 days 02:00:00'), Timedelta('0 days 02:00:00'), Timedelta('0 days 12:00:00'), Timedelta('0 days 04:00:00'), Timedelta('0 days 18:00:00'), Timedelta('0 days 19:00:00'), Timedelta('0 days 16:00:00'), Timedelta('0 days 03:00:00'), Timedelta('0 days 02:00:00'), Timedelta('0 days 18:00:00'), Timedelta('0 days 18:00:00'), Timedelta('0 days 16:00:00'), Timedelta('0 days 09:00:00'), Timedelta('0 days 03:00:00'), Timedelta('0 days 17:00:00'), Timedelta('0 days 02:00:00'), Timedelta('0 days 15:00:00'), Timedelta('0 days 15:00:00'), Timedelta('0 days 17:00:00'), Timedelta('0 days 10:00:00'), Timedelta('0 days 04:00:00'), Timedelta('0 days 03:00:00'), Timedelta('0 days 18:00:00'), Timedelta('0 days 06:00:00'), Timedelta('0 days 05:00:00'), Timedelta('0 days 04:00:00'), Timedelta('0 days 17:00:00'), Timedelta('0 days 18:00:00'), Timedelta('0 days 12:00:00'), Timedelta('0 days 04:00:00'), Timedelta('0 days 05:00:00'), Timedelta('0 days 12:00:00'), Timedelta('0 days 02:00:00'), Timedelta('0 days 08:00:00'), Timedelta('0 days 04:00:00'), Timedelta('0 days 04:00:00'), Timedelta('0 days 08:00:00'), Timedelta('0 days 02:00:00'), Timedelta('0 days 02:00:00'), Timedelta('0 days 03:00:00'), Timedelta('0 days 02:00:00'), Timedelta('0 days 10:00:00'), Timedelta('0 days 04:00:00'), Timedelta('0 days 02:00:00'), Timedelta('0 days 03:00:00'), Timedelta('0 days 03:00:00'), Timedelta('0 days 05:00:00'), Timedelta('0 days 02:00:00'), Timedelta('0 days 02:00:00'), Timedelta('0 days 14:00:00'), Timedelta('0 days 02:00:00'), Timedelta('0 days 03:00:00'), Timedelta('0 days 02:00:00'), Timedelta('0 days 11:00:00'), Timedelta('0 days 05:00:00'), Timedelta('0 days 17:00:00'), Timedelta('0 days 15:00:00'), Timedelta('0 days 16:00:00'), Timedelta('0 days 20:00:00'), Timedelta('0 days 03:00:00'), Timedelta('0 days 13:00:00'), Timedelta('0 days 09:00:00'), Timedelta('0 days 02:00:00'), Timedelta('0 days 02:00:00'), Timedelta('0 days 15:00:00'), Timedelta('0 days 02:00:00'), Timedelta('0 days 16:00:00'), Timedelta('0 days 10:00:00'), Timedelta('0 days 06:00:00'), Timedelta('0 days 14:00:00'), Timedelta('0 days 16:00:00'), Timedelta('0 days 07:00:00'), Timedelta('0 days 04:00:00'), Timedelta('0 days 02:00:00'), Timedelta('0 days 02:00:00'), Timedelta('0 days 17:00:00'), Timedelta('0 days 13:00:00'), Timedelta('0 days 03:00:00'), Timedelta('0 days 11:00:00'), Timedelta('0 days 06:00:00'), Timedelta('0 days 15:00:00'), Timedelta('0 days 08:00:00'), Timedelta('0 days 02:00:00'), Timedelta('0 days 02:00:00'), Timedelta('0 days 02:00:00'), Timedelta('0 days 02:00:00'), Timedelta('0 days 04:00:00'), Timedelta('0 days 02:00:00'), Timedelta('0 days 02:00:00'), Timedelta('0 days 15:00:00'), Timedelta('0 days 17:00:00'), Timedelta('0 days 14:00:00'), Timedelta('0 days 02:00:00'), Timedelta('0 days 05:00:00'), Timedelta('0 days 07:00:00'), Timedelta('0 days 03:00:00'), Timedelta('0 days 02:00:00'), Timedelta('0 days 17:00:00'), Timedelta('0 days 14:00:00'), Timedelta('0 days 19:00:00'), Timedelta('0 days 18:00:00'), Timedelta('0 days 18:00:00'), Timedelta('0 days 16:00:00'), Timedelta('0 days 15:00:00'), Timedelta('0 days 17:00:00'), Timedelta('0 days 02:00:00'), Timedelta('0 days 13:00:00'), Timedelta('0 days 16:00:00'), Timedelta('0 days 17:00:00'), Timedelta('0 days 20:00:00'), Timedelta('0 days 22:00:00'), Timedelta('0 days 23:00:00'), Timedelta('0 days 22:00:00'), Timedelta('0 days 21:00:00'), Timedelta('0 days 17:00:00'), Timedelta('0 days 02:00:00'), Timedelta('0 days 03:00:00'), Timedelta('0 days 21:00:00'), Timedelta('0 days 21:00:00'), Timedelta('0 days 02:00:00'), Timedelta('0 days 18:00:00'), Timedelta('0 days 17:00:00'), Timedelta('0 days 02:00:00'), Timedelta('0 days 02:00:00'), Timedelta('0 days 04:00:00'), Timedelta('0 days 02:00:00'), Timedelta('0 days 10:00:00'), Timedelta('0 days 07:00:00'), Timedelta('0 days 04:00:00'), Timedelta('0 days 02:00:00'), Timedelta('0 days 04:00:00'), Timedelta('0 days 06:00:00'), Timedelta('0 days 02:00:00'), Timedelta('0 days 02:00:00'), Timedelta('0 days 14:00:00'), Timedelta('0 days 12:00:00'), Timedelta('0 days 02:00:00'), Timedelta('0 days 02:00:00'), Timedelta('0 days 02:00:00'), Timedelta('0 days 16:00:00'), Timedelta('0 days 03:00:00'), Timedelta('0 days 03:00:00'), Timedelta('0 days 17:00:00'), Timedelta('0 days 02:00:00'), Timedelta('0 days 21:00:00'), Timedelta('0 days 02:00:00'), Timedelta('0 days 18:00:00'), Timedelta('0 days 02:00:00'), Timedelta('0 days 22:00:00'), Timedelta('0 days 16:00:00'), Timedelta('0 days 20:00:00'), Timedelta('0 days 02:00:00'), Timedelta('1 days 18:00:00'), Timedelta('0 days 02:00:00'), Timedelta('1 days 19:00:00'), Timedelta('0 days 17:00:00'), Timedelta('0 days 06:00:00'), Timedelta('0 days 10:00:00'), Timedelta('0 days 02:00:00'), Timedelta('0 days 02:00:00'), Timedelta('0 days 04:00:00'), Timedelta('0 days 11:00:00'), Timedelta('0 days 23:00:00'), Timedelta('0 days 18:00:00'), Timedelta('1 days 23:00:00'), Timedelta('0 days 02:00:00'), Timedelta('0 days 21:00:00'), Timedelta('0 days 11:00:00'), Timedelta('0 days 02:00:00'), Timedelta('0 days 02:00:00'), Timedelta('0 days 02:00:00'), Timedelta('0 days 17:00:00'), Timedelta('0 days 17:00:00'), Timedelta('0 days 02:00:00'), Timedelta('0 days 15:00:00'), Timedelta('0 days 02:00:00'), Timedelta('0 days 15:00:00'), Timedelta('0 days 04:00:00'), Timedelta('0 days 03:00:00'), Timedelta('0 days 02:00:00'), Timedelta('0 days 02:00:00'), Timedelta('0 days 02:00:00'), Timedelta('0 days 13:00:00'), Timedelta('0 days 02:00:00'), Timedelta('0 days 02:00:00'), Timedelta('0 days 03:00:00'), Timedelta('0 days 02:00:00'), Timedelta('0 days 12:00:00'), Timedelta('0 days 03:00:00'), Timedelta('0 days 02:00:00'), Timedelta('0 days 11:00:00'), Timedelta('0 days 10:00:00'), Timedelta('0 days 02:00:00'), Timedelta('0 days 02:00:00'), Timedelta('0 days 09:00:00'), Timedelta('0 days 02:00:00'), Timedelta('0 days 02:00:00'), Timedelta('0 days 03:00:00'), Timedelta('0 days 04:00:00'), Timedelta('0 days 02:00:00'), Timedelta('0 days 05:00:00'), Timedelta('0 days 02:00:00'), Timedelta('0 days 04:00:00'), Timedelta('0 days 05:00:00'), Timedelta('0 days 02:00:00'), Timedelta('0 days 03:00:00'), Timedelta('0 days 02:00:00'), Timedelta('0 days 02:00:00'), Timedelta('0 days 02:00:00'), Timedelta('0 days 03:00:00'), Timedelta('0 days 02:00:00'), Timedelta('0 days 02:00:00'), Timedelta('0 days 04:00:00'), Timedelta('0 days 02:00:00'), Timedelta('0 days 02:00:00'), Timedelta('0 days 02:00:00'), Timedelta('0 days 02:00:00'), Timedelta('0 days 02:00:00'), Timedelta('0 days 04:00:00'), Timedelta('0 days 02:00:00'), Timedelta('0 days 04:00:00'), Timedelta('0 days 09:00:00'), Timedelta('0 days 03:00:00'), Timedelta('0 days 10:00:00'), Timedelta('0 days 02:00:00'), Timedelta('0 days 05:00:00'), Timedelta('0 days 04:00:00'), Timedelta('0 days 02:00:00'), Timedelta('0 days 02:00:00'), Timedelta('0 days 05:00:00'), Timedelta('0 days 04:00:00'), Timedelta('0 days 02:00:00'), Timedelta('0 days 02:00:00'), Timedelta('0 days 08:00:00'), Timedelta('0 days 02:00:00'), Timedelta('0 days 05:00:00'), Timedelta('0 days 02:00:00'), Timedelta('0 days 02:00:00'), Timedelta('0 days 04:00:00'), Timedelta('0 days 02:00:00'), Timedelta('0 days 02:00:00'), Timedelta('0 days 02:00:00'), Timedelta('0 days 02:00:00'), Timedelta('0 days 02:00:00'), Timedelta('0 days 02:00:00'), Timedelta('0 days 02:00:00'), Timedelta('0 days 02:00:00'), Timedelta('0 days 02:00:00'), Timedelta('0 days 02:00:00'), Timedelta('0 days 02:00:00'), Timedelta('0 days 02:00:00'), Timedelta('0 days 02:00:00'), Timedelta('0 days 03:00:00'), Timedelta('0 days 03:00:00'), Timedelta('0 days 02:00:00'), Timedelta('0 days 02:00:00'), Timedelta('0 days 05:00:00'), Timedelta('0 days 02:00:00'), Timedelta('0 days 02:00:00'), Timedelta('0 days 02:00:00'), Timedelta('0 days 02:00:00'), Timedelta('0 days 02:00:00'), Timedelta('0 days 02:00:00'), Timedelta('0 days 02:00:00'), Timedelta('0 days 06:00:00'), Timedelta('0 days 03:00:00'), Timedelta('0 days 03:00:00'), Timedelta('0 days 02:00:00'), Timedelta('0 days 02:00:00'), Timedelta('0 days 02:00:00'), Timedelta('0 days 02:00:00'), Timedelta('0 days 02:00:00'), Timedelta('0 days 03:00:00'), Timedelta('0 days 05:00:00'), Timedelta('0 days 02:00:00'), Timedelta('0 days 04:00:00'), Timedelta('0 days 05:00:00'), Timedelta('0 days 05:00:00'), Timedelta('0 days 02:00:00'), Timedelta('0 days 02:00:00'), Timedelta('0 days 02:00:00'), Timedelta('0 days 04:00:00'), Timedelta('0 days 02:00:00'), Timedelta('0 days 02:00:00'), Timedelta('0 days 03:00:00'), Timedelta('0 days 02:00:00'), Timedelta('0 days 02:00:00'), Timedelta('0 days 02:00:00'), Timedelta('0 days 02:00:00'), Timedelta('0 days 02:00:00'), Timedelta('0 days 04:00:00'), Timedelta('0 days 02:00:00'), Timedelta('0 days 02:00:00'), Timedelta('0 days 07:00:00'), Timedelta('0 days 02:00:00'), Timedelta('0 days 02:00:00'), Timedelta('0 days 02:00:00'), Timedelta('0 days 02:00:00'), Timedelta('0 days 02:00:00'), Timedelta('0 days 02:00:00'), Timedelta('0 days 03:00:00'), Timedelta('0 days 02:00:00'), Timedelta('0 days 02:00:00'), Timedelta('0 days 03:00:00'), Timedelta('0 days 02:00:00'), Timedelta('0 days 02:00:00'), Timedelta('0 days 02:00:00'), Timedelta('0 days 02:00:00'), Timedelta('0 days 02:00:00'), Timedelta('0 days 02:00:00'), Timedelta('0 days 08:00:00'), Timedelta('0 days 03:00:00'), Timedelta('0 days 14:00:00'), Timedelta('0 days 02:00:00'), Timedelta('0 days 02:00:00'), Timedelta('0 days 02:00:00'), Timedelta('0 days 02:00:00'), Timedelta('0 days 02:00:00'), Timedelta('0 days 03:00:00'), Timedelta('0 days 02:00:00'), Timedelta('0 days 02:00:00'), Timedelta('0 days 02:00:00'), Timedelta('0 days 02:00:00'), Timedelta('0 days 03:00:00'), Timedelta('0 days 04:00:00'), Timedelta('0 days 04:00:00'), Timedelta('0 days 02:00:00'), Timedelta('0 days 03:00:00'), Timedelta('0 days 02:00:00'), Timedelta('0 days 02:00:00'), Timedelta('0 days 22:00:00'), Timedelta('0 days 19:00:00'), Timedelta('0 days 04:00:00'), Timedelta('0 days 02:00:00'), Timedelta('1 days 18:00:00'), Timedelta('0 days 03:00:00'), Timedelta('0 days 02:00:00'), Timedelta('0 days 03:00:00'), Timedelta('0 days 02:00:00'), Timedelta('0 days 02:00:00'), Timedelta('0 days 02:00:00'), Timedelta('0 days 02:00:00'), Timedelta('0 days 02:00:00'), Timedelta('0 days 02:00:00'), Timedelta('0 days 02:00:00'), Timedelta('0 days 02:00:00'), Timedelta('0 days 02:00:00'), Timedelta('0 days 02:00:00'), Timedelta('0 days 02:00:00'), Timedelta('0 days 02:00:00'), Timedelta('20 days 19:00:00'), Timedelta('0 days 12:00:00'), Timedelta('0 days 05:00:00'), Timedelta('0 days 03:00:00'), Timedelta('0 days 03:00:00'), Timedelta('0 days 04:00:00'), Timedelta('0 days 16:00:00'), Timedelta('43 days 05:00:00'), Timedelta('0 days 03:00:00')]\n",
            "False\n"
          ]
        }
      ]
    },
    {
      "cell_type": "markdown",
      "source": [
        "Sabemos que en un 1% de las veces que se recogen datos, se rompe la linealidad de la recogida de datos."
      ],
      "metadata": {
        "id": "bQ10QiLwUCnP"
      },
      "id": "bQ10QiLwUCnP"
    },
    {
      "cell_type": "code",
      "source": [
        "len(instancias)/len(df)"
      ],
      "metadata": {
        "colab": {
          "base_uri": "https://localhost:8080/"
        },
        "id": "S6mklMh863EN",
        "outputId": "19e56c7a-fc6d-49aa-abf6-017b92b30ccd"
      },
      "id": "S6mklMh863EN",
      "execution_count": 12,
      "outputs": [
        {
          "output_type": "execute_result",
          "data": {
            "text/plain": [
              "0.01963307124136288"
            ]
          },
          "metadata": {},
          "execution_count": 12
        }
      ]
    },
    {
      "cell_type": "markdown",
      "source": [
        "Comprobamos que lo que acabamos de averiguar es cierto. Según la prueba, entre la instancia nº 85 y la 86 transcurren dos horas, es decir, hay una hora en la que o bien no se recogieron datos, o bien se perdieron."
      ],
      "metadata": {
        "id": "VbasOIz0uUwr"
      },
      "id": "VbasOIz0uUwr"
    },
    {
      "cell_type": "code",
      "source": [
        "print(df[85:87]['timestamp inicial'])"
      ],
      "metadata": {
        "colab": {
          "base_uri": "https://localhost:8080/"
        },
        "id": "v3fdJrIbtxjW",
        "outputId": "8b8ab2a5-9f37-4000-c27d-04e7e0123078"
      },
      "id": "v3fdJrIbtxjW",
      "execution_count": 13,
      "outputs": [
        {
          "output_type": "stream",
          "name": "stdout",
          "text": [
            "85   2020-01-06 21:00:00\n",
            "87   2020-01-06 23:00:00\n",
            "Name: timestamp inicial, dtype: datetime64[ns]\n"
          ]
        }
      ]
    },
    {
      "cell_type": "markdown",
      "id": "4a699055-b731-4186-81ce-a8bf62451468",
      "metadata": {
        "id": "4a699055-b731-4186-81ce-a8bf62451468"
      },
      "source": [
        "### 1.2. Haz la partición entre conjunto de entrenamiento y conjunto de test."
      ]
    },
    {
      "cell_type": "code",
      "execution_count": 14,
      "id": "44c11e4c-dcf8-4d4e-9991-d708afe44a38",
      "metadata": {
        "id": "44c11e4c-dcf8-4d4e-9991-d708afe44a38"
      },
      "outputs": [],
      "source": [
        "instanteSeparacion = pd.to_datetime(\"31/08/2022 23:59:59\", dayfirst=True)\n",
        "dfEntrenamiento = df[df['timestamp inicial'] <= instanteSeparacion]\n",
        "dfTest = df[df['timestamp inicial'] > instanteSeparacion]"
      ]
    },
    {
      "cell_type": "code",
      "execution_count": 15,
      "id": "08f6ffcc",
      "metadata": {
        "colab": {
          "base_uri": "https://localhost:8080/"
        },
        "id": "08f6ffcc",
        "outputId": "4b5ea952-7f2f-42fd-c146-87cca6f3c523"
      },
      "outputs": [
        {
          "output_type": "stream",
          "name": "stdout",
          "text": [
            "    timestamp inicial  precio inicio  precio mas alto  precio mas bajo  \\\n",
            "0 2020-01-03 08:00:00         1.1154           1.1200           1.1154   \n",
            "1 2020-01-03 09:00:00         1.1182           1.1182           1.1151   \n",
            "2 2020-01-03 10:00:00         1.1151           1.1172           1.1151   \n",
            "3 2020-01-03 11:00:00         1.1136           1.1151           1.1136   \n",
            "4 2020-01-03 12:00:00         1.1126           1.1133           1.1126   \n",
            "\n",
            "   precio fin   volumen         timestamp final  volumen en cuotas  \\\n",
            "0      1.1182  37309.48 2020-01-03 08:59:59.999       41775.464275   \n",
            "1      1.1151   2132.61 2020-01-03 09:59:59.999        2384.431292   \n",
            "2      1.1151   1950.83 2020-01-03 10:59:59.999        2175.391533   \n",
            "3      1.1141    310.53 2020-01-03 11:59:59.999         346.107438   \n",
            "4      1.1133    394.52 2020-01-03 12:59:59.999         439.130428   \n",
            "\n",
            "   numero de compras  volumen de dolares  volumen de euros  \n",
            "0                 31            20419.46      22858.822356  \n",
            "1                  5             2036.69       2277.401075  \n",
            "2                  4               10.00         11.172000  \n",
            "3                  4              232.00        258.656430  \n",
            "4                  3                0.00          0.000000  \n"
          ]
        }
      ],
      "source": [
        "print(dfEntrenamiento.head())"
      ]
    },
    {
      "cell_type": "markdown",
      "id": "521f508d-3b6b-4a65-ac76-321a584b92ab",
      "metadata": {
        "id": "521f508d-3b6b-4a65-ac76-321a584b92ab"
      },
      "source": [
        "----"
      ]
    },
    {
      "cell_type": "markdown",
      "id": "3cba241f-f514-4e3a-920f-f0a2c859c700",
      "metadata": {
        "id": "3cba241f-f514-4e3a-920f-f0a2c859c700"
      },
      "source": [
        "## 2. Preprocesado"
      ]
    },
    {
      "cell_type": "markdown",
      "id": "18745ea9-42aa-4200-87d7-4bd7c8f1cb15",
      "metadata": {
        "id": "18745ea9-42aa-4200-87d7-4bd7c8f1cb15"
      },
      "source": [
        "### 2.1. Representa las variables en un formato que facilite el aprendizaje. Para ello estandariza aquellas que lo necesiten y transforma las fechas a un formato adecuado.\n",
        "\n",
        "Comenzaremos transformando las fechas a un formato que nuestro modelo pueda entender.Utilizaremos un método simple para convertirlo en una señal utilizable es usar el [seno] y el [coseno] para convertir la hora en señales claras de \"Hora del día\" y \"Hora del año\". Hay que operar de tal manera que:\n",
        "\n",
        "1. $\\cos(hora~0) = \\cos(hora~24)$ y $\\sin(hora~0) = \\sin(hora~24)$ en la hora del día.\n",
        "1. $\\cos(1~enero) \\approx \\cos(31~diciembre)$ y $\\sin(1~enero) \\approx \\sin(31~diciembre)$ en la hora anual.\n",
        "\n",
        "La variable a tranformar será:\n",
        "- `timestamp inicial` : representa el punto en el tiempo en el que se empiezan a recoger datos.\n",
        "\n",
        "Además, eliminaremos la variable `timestamp final` ya que consideramos que no aporta una información relevante a la hora de entrenar el modelo.\n"
      ]
    },
    {
      "cell_type": "code",
      "execution_count": 16,
      "id": "59220b00",
      "metadata": {
        "id": "59220b00"
      },
      "outputs": [],
      "source": [
        "def ajustar_fechas(dataset):\n",
        "    #Sacamos los valores de las fechas (inicial y final)\n",
        "    date_time_inicial = pd.to_datetime(dataset.pop('timestamp inicial'), format='%d.%m.%Y %H:%M:%S')\n",
        "    # Los pasamos a segundos\n",
        "    timestamp_s_inicial = date_time_inicial.map(pd.Timestamp.timestamp)\n",
        "    #Segundos en un dia y un año\n",
        "    day = 24 * 60 * 60\n",
        "    year = 365 * day\n",
        "\n",
        "    # TODO: Extrae, para cada fecha, el seno y el coseno, y añádelos al dataframe\n",
        "    dataset['Dia sin inic'] = np.sin(2 * np.pi * (timestamp_s_inicial % day) / day)\n",
        "    dataset['Dia cos inic'] = np.cos(2 * np.pi * (timestamp_s_inicial % day) / day)\n",
        "    dataset['Anho sin inic'] = np.sin(2 * np.pi * (timestamp_s_inicial % year) / year)\n",
        "    dataset['Anho cos inic'] = np.cos(2 * np.pi * (timestamp_s_inicial % year) / year)\n",
        "\n",
        "    dataset.pop('timestamp final')\n",
        "\n",
        "    return dataset"
      ]
    },
    {
      "cell_type": "code",
      "execution_count": 17,
      "id": "ac06f3b0",
      "metadata": {
        "colab": {
          "base_uri": "https://localhost:8080/"
        },
        "id": "ac06f3b0",
        "outputId": "7da2ead5-85ff-45d7-b957-4a0277dbcd37"
      },
      "outputs": [
        {
          "output_type": "stream",
          "name": "stderr",
          "text": [
            "<ipython-input-16-f7daeb544473>:11: SettingWithCopyWarning: \n",
            "A value is trying to be set on a copy of a slice from a DataFrame.\n",
            "Try using .loc[row_indexer,col_indexer] = value instead\n",
            "\n",
            "See the caveats in the documentation: https://pandas.pydata.org/pandas-docs/stable/user_guide/indexing.html#returning-a-view-versus-a-copy\n",
            "  dataset['Dia sin inic'] = np.sin(2 * np.pi * (timestamp_s_inicial % day) / day)\n",
            "<ipython-input-16-f7daeb544473>:12: SettingWithCopyWarning: \n",
            "A value is trying to be set on a copy of a slice from a DataFrame.\n",
            "Try using .loc[row_indexer,col_indexer] = value instead\n",
            "\n",
            "See the caveats in the documentation: https://pandas.pydata.org/pandas-docs/stable/user_guide/indexing.html#returning-a-view-versus-a-copy\n",
            "  dataset['Dia cos inic'] = np.cos(2 * np.pi * (timestamp_s_inicial % day) / day)\n",
            "<ipython-input-16-f7daeb544473>:13: SettingWithCopyWarning: \n",
            "A value is trying to be set on a copy of a slice from a DataFrame.\n",
            "Try using .loc[row_indexer,col_indexer] = value instead\n",
            "\n",
            "See the caveats in the documentation: https://pandas.pydata.org/pandas-docs/stable/user_guide/indexing.html#returning-a-view-versus-a-copy\n",
            "  dataset['Anho sin inic'] = np.sin(2 * np.pi * (timestamp_s_inicial % year) / year)\n",
            "<ipython-input-16-f7daeb544473>:14: SettingWithCopyWarning: \n",
            "A value is trying to be set on a copy of a slice from a DataFrame.\n",
            "Try using .loc[row_indexer,col_indexer] = value instead\n",
            "\n",
            "See the caveats in the documentation: https://pandas.pydata.org/pandas-docs/stable/user_guide/indexing.html#returning-a-view-versus-a-copy\n",
            "  dataset['Anho cos inic'] = np.cos(2 * np.pi * (timestamp_s_inicial % year) / year)\n",
            "<ipython-input-16-f7daeb544473>:11: SettingWithCopyWarning: \n",
            "A value is trying to be set on a copy of a slice from a DataFrame.\n",
            "Try using .loc[row_indexer,col_indexer] = value instead\n",
            "\n",
            "See the caveats in the documentation: https://pandas.pydata.org/pandas-docs/stable/user_guide/indexing.html#returning-a-view-versus-a-copy\n",
            "  dataset['Dia sin inic'] = np.sin(2 * np.pi * (timestamp_s_inicial % day) / day)\n",
            "<ipython-input-16-f7daeb544473>:12: SettingWithCopyWarning: \n",
            "A value is trying to be set on a copy of a slice from a DataFrame.\n",
            "Try using .loc[row_indexer,col_indexer] = value instead\n",
            "\n",
            "See the caveats in the documentation: https://pandas.pydata.org/pandas-docs/stable/user_guide/indexing.html#returning-a-view-versus-a-copy\n",
            "  dataset['Dia cos inic'] = np.cos(2 * np.pi * (timestamp_s_inicial % day) / day)\n",
            "<ipython-input-16-f7daeb544473>:13: SettingWithCopyWarning: \n",
            "A value is trying to be set on a copy of a slice from a DataFrame.\n",
            "Try using .loc[row_indexer,col_indexer] = value instead\n",
            "\n",
            "See the caveats in the documentation: https://pandas.pydata.org/pandas-docs/stable/user_guide/indexing.html#returning-a-view-versus-a-copy\n",
            "  dataset['Anho sin inic'] = np.sin(2 * np.pi * (timestamp_s_inicial % year) / year)\n",
            "<ipython-input-16-f7daeb544473>:14: SettingWithCopyWarning: \n",
            "A value is trying to be set on a copy of a slice from a DataFrame.\n",
            "Try using .loc[row_indexer,col_indexer] = value instead\n",
            "\n",
            "See the caveats in the documentation: https://pandas.pydata.org/pandas-docs/stable/user_guide/indexing.html#returning-a-view-versus-a-copy\n",
            "  dataset['Anho cos inic'] = np.cos(2 * np.pi * (timestamp_s_inicial % year) / year)\n"
          ]
        }
      ],
      "source": [
        "dfEntrenamiento = ajustar_fechas(dfEntrenamiento)\n",
        "dfTest = ajustar_fechas(dfTest)"
      ]
    },
    {
      "cell_type": "code",
      "execution_count": 18,
      "id": "d46a89ce",
      "metadata": {
        "colab": {
          "base_uri": "https://localhost:8080/"
        },
        "id": "d46a89ce",
        "outputId": "59af2a61-906e-49e7-a140-b9e183ad5057"
      },
      "outputs": [
        {
          "output_type": "stream",
          "name": "stdout",
          "text": [
            "   precio inicio  precio mas alto  precio mas bajo  precio fin   volumen  \\\n",
            "0         1.1154           1.1200           1.1154      1.1182  37309.48   \n",
            "1         1.1182           1.1182           1.1151      1.1151   2132.61   \n",
            "2         1.1151           1.1172           1.1151      1.1151   1950.83   \n",
            "3         1.1136           1.1151           1.1136      1.1141    310.53   \n",
            "4         1.1126           1.1133           1.1126      1.1133    394.52   \n",
            "\n",
            "   volumen en cuotas  numero de compras  volumen de dolares  volumen de euros  \\\n",
            "0       41775.464275                 31            20419.46      22858.822356   \n",
            "1        2384.431292                  5             2036.69       2277.401075   \n",
            "2        2175.391533                  4               10.00         11.172000   \n",
            "3         346.107438                  4              232.00        258.656430   \n",
            "4         439.130428                  3                0.00          0.000000   \n",
            "\n",
            "   Dia sin inic  Dia cos inic  Anho sin inic  Anho cos inic  \n",
            "0  8.660254e-01     -0.500000       0.244241       0.969715  \n",
            "1  7.071068e-01     -0.707107       0.244937       0.969539  \n",
            "2  5.000000e-01     -0.866025       0.245632       0.969363  \n",
            "3  2.588190e-01     -0.965926       0.246327       0.969187  \n",
            "4 -3.216245e-16     -1.000000       0.247022       0.969010  \n"
          ]
        }
      ],
      "source": [
        "print(dfEntrenamiento.head())"
      ]
    },
    {
      "cell_type": "code",
      "execution_count": 19,
      "id": "89334124",
      "metadata": {
        "colab": {
          "base_uri": "https://localhost:8080/"
        },
        "id": "89334124",
        "outputId": "0bd10992-d4c4-409c-b420-22b5caa42733"
      },
      "outputs": [
        {
          "output_type": "stream",
          "name": "stderr",
          "text": [
            "<ipython-input-19-b25afe6989a2>:5: SettingWithCopyWarning: \n",
            "A value is trying to be set on a copy of a slice from a DataFrame.\n",
            "Try using .loc[row_indexer,col_indexer] = value instead\n",
            "\n",
            "See the caveats in the documentation: https://pandas.pydata.org/pandas-docs/stable/user_guide/indexing.html#returning-a-view-versus-a-copy\n",
            "  df[col] = (df[col] - df[col].mean()) / df[col].std()\n"
          ]
        }
      ],
      "source": [
        "columnasNormalizar = ['volumen', 'volumen en cuotas','numero de compras', 'volumen de dolares', 'volumen de euros']\n",
        "datasets = [dfEntrenamiento, dfTest]\n",
        "for df in datasets:\n",
        "    for col in columnasNormalizar:\n",
        "        df[col] = (df[col] - df[col].mean()) / df[col].std()\n"
      ]
    },
    {
      "cell_type": "code",
      "execution_count": 20,
      "id": "023ee4bf",
      "metadata": {
        "colab": {
          "base_uri": "https://localhost:8080/"
        },
        "id": "023ee4bf",
        "outputId": "0e655d58-aa5b-4f60-f7bd-9bef1404cce6"
      },
      "outputs": [
        {
          "output_type": "stream",
          "name": "stdout",
          "text": [
            "   precio inicio  precio mas alto  precio mas bajo  precio fin   volumen  \\\n",
            "0         1.1154           1.1200           1.1154      1.1182 -0.820631   \n",
            "1         1.1182           1.1182           1.1151      1.1151 -0.849449   \n",
            "2         1.1151           1.1172           1.1151      1.1151 -0.849598   \n",
            "3         1.1136           1.1151           1.1136      1.1141 -0.850942   \n",
            "4         1.1126           1.1133           1.1126      1.1133 -0.850873   \n",
            "\n",
            "   volumen en cuotas  numero de compras  volumen de dolares  volumen de euros  \\\n",
            "0          -0.811221          -0.932360           -0.777811         -0.769815   \n",
            "1          -0.839048          -0.943217           -0.809300         -0.800216   \n",
            "2          -0.839196          -0.943634           -0.812772         -0.803564   \n",
            "3          -0.840488          -0.943634           -0.812392         -0.803198   \n",
            "4          -0.840423          -0.944052           -0.812789         -0.803580   \n",
            "\n",
            "   Dia sin inic  Dia cos inic  Anho sin inic  Anho cos inic  \n",
            "0  8.660254e-01     -0.500000       0.244241       0.969715  \n",
            "1  7.071068e-01     -0.707107       0.244937       0.969539  \n",
            "2  5.000000e-01     -0.866025       0.245632       0.969363  \n",
            "3  2.588190e-01     -0.965926       0.246327       0.969187  \n",
            "4 -3.216245e-16     -1.000000       0.247022       0.969010  \n"
          ]
        }
      ],
      "source": [
        "print(dfEntrenamiento.head())"
      ]
    },
    {
      "cell_type": "markdown",
      "id": "d85c7988",
      "metadata": {
        "id": "d85c7988"
      },
      "source": [
        "Ver como se reparten los valores una vez normalizados."
      ]
    },
    {
      "cell_type": "code",
      "execution_count": 21,
      "id": "5808b1df",
      "metadata": {
        "colab": {
          "base_uri": "https://localhost:8080/",
          "height": 702
        },
        "id": "5808b1df",
        "outputId": "1683606b-96ec-4eb8-f899-80c39125213c"
      },
      "outputs": [
        {
          "output_type": "stream",
          "name": "stderr",
          "text": [
            "<ipython-input-21-012e5d841157>:4: UserWarning: set_ticklabels() should only be used with a fixed number of ticks, i.e. after set_ticks() or using a FixedLocator.\n",
            "  _ = ax.set_xticklabels(dfEntrenamiento.keys(), rotation=90)\n"
          ]
        },
        {
          "output_type": "display_data",
          "data": {
            "text/plain": [
              "<Figure size 1200x600 with 1 Axes>"
            ],
            "image/png": "[encoded data removed]"
          },
          "metadata": {}
        }
      ],
      "source": [
        "df_std = dfEntrenamiento.melt(var_name='Column', value_name='Normalized')\n",
        "plt.figure(figsize=(12, 6))\n",
        "ax = sns.violinplot(x='Column', y='Normalized', data=df_std)\n",
        "_ = ax.set_xticklabels(dfEntrenamiento.keys(), rotation=90)"
      ]
    },
    {
      "cell_type": "markdown",
      "source": [
        "Añadiremos una variable que usaremos como target la cual indicará qué acción se tiene que hacer a 6 horas vista.\n",
        "- `Comprar` = 1 : esto indica que el precio del dólar en 6 horas será mayor que el precio actual.\n",
        "- `Vender` = 0 : esto indica que el precio del dólar en 6 horas será menor que el precio actual.\n",
        "\n",
        "\n",
        "# PEPE LEE ESTO\n",
        "Lo que hago aqui es pasar el precio inicio de 6 horas adelante a la instancia actual con lo de shift -6, y despues en base a al precio inicial y al precio en 6h saco si vender o comprar.\n",
        "\n",
        "De esta manera, tenemos  \"el futuro en el presente\", por lo que no hara falta cambiar el offset y podremos dejarlo a 0.\n",
        "\n",
        "Cambie la funcion de sliding_windows para que devuelva 3 valores de ventanitas:\n",
        "\n",
        "1. `Entradas` - caractteristicas (lo gordo)\n",
        "2. `Salidas 1` - valores de precio inicial en un futuro.\n",
        "3. `Salidas 2` - valores binarios de 1 comprar o 0 vender."
      ],
      "metadata": {
        "id": "yyN8WCXFaXAZ"
      },
      "id": "yyN8WCXFaXAZ"
    },
    {
      "cell_type": "code",
      "source": [
        "dfEntrenamiento['precio en 6h'] = dfEntrenamiento['precio inicio'].shift(-6)\n",
        "\n",
        "dfEntrenamiento['accion'] = dfEntrenamiento.apply(lambda row: 1 if row['precio en 6h'] > row['precio inicio'] else 0, axis=1)\n"
      ],
      "metadata": {
        "id": "iszrq2jYaWRc"
      },
      "id": "iszrq2jYaWRc",
      "execution_count": 22,
      "outputs": []
    },
    {
      "cell_type": "code",
      "source": [
        "dfTest['precio en 6h'] = dfTest['precio inicio'].shift(-6)\n",
        "\n",
        "dfTest['accion'] = dfTest.apply(lambda row: 1 if row['precio en 6h'] > row['precio inicio'] else 0, axis=1)"
      ],
      "metadata": {
        "id": "jCPJ3X6Yo0wK"
      },
      "id": "jCPJ3X6Yo0wK",
      "execution_count": 23,
      "outputs": []
    },
    {
      "cell_type": "code",
      "source": [
        "print(dfEntrenamiento[-10:])"
      ],
      "metadata": {
        "colab": {
          "base_uri": "https://localhost:8080/"
        },
        "id": "F9EmiPtSaWUi",
        "outputId": "dd3aebd1-b5e2-4566-9584-8c7d82a79dfe"
      },
      "id": "F9EmiPtSaWUi",
      "execution_count": 24,
      "outputs": [
        {
          "output_type": "stream",
          "name": "stdout",
          "text": [
            "       precio inicio  precio mas alto  precio mas bajo  precio fin   volumen  \\\n",
            "22976         1.0086           1.0092           1.0083      1.0085  0.119797   \n",
            "22977         1.0084           1.0085           1.0065      1.0069  0.164504   \n",
            "22978         1.0070           1.0073           1.0065      1.0069 -0.149444   \n",
            "22979         1.0069           1.0081           1.0067      1.0081 -0.386041   \n",
            "22980         1.0081           1.0081           1.0077      1.0078 -0.401740   \n",
            "22981         1.0078           1.0078           1.0070      1.0073 -0.284861   \n",
            "22982         1.0072           1.0078           1.0068      1.0078 -0.122259   \n",
            "22983         1.0078           1.0084           1.0065      1.0066  1.573304   \n",
            "22984         1.0065           1.0081           1.0061      1.0076  1.290953   \n",
            "22985         1.0076           1.0077           1.0067      1.0075  1.822359   \n",
            "\n",
            "       volumen en cuotas  numero de compras  volumen de dolares  \\\n",
            "22976           0.003740           0.189227           -0.188495   \n",
            "22977           0.041510          -0.090961            0.054199   \n",
            "22978          -0.231407          -0.258823            0.039770   \n",
            "22979          -0.436695          -0.496001           -0.079740   \n",
            "22980          -0.450086          -0.541099           -0.270185   \n",
            "22981          -0.348850          -0.402884           -0.293451   \n",
            "22982          -0.207663          -0.279701           -0.023272   \n",
            "22983           1.265595           1.029374            0.868431   \n",
            "22984           1.019909           1.078229            1.163327   \n",
            "22985           1.481417           1.034385            1.699154   \n",
            "\n",
            "       volumen de euros  Dia sin inic  Dia cos inic  Anho sin inic  \\\n",
            "22976         -0.260606     -0.258819  9.659258e-01      -0.862780   \n",
            "22977         -0.050535      0.000000  1.000000e+00      -0.863142   \n",
            "22978         -0.063334      0.258819  9.659258e-01      -0.863504   \n",
            "22979         -0.166835      0.500000  8.660254e-01      -0.863866   \n",
            "22980         -0.331948      0.707107  7.071068e-01      -0.864227   \n",
            "22981         -0.352504      0.866025  5.000000e-01      -0.864587   \n",
            "22982         -0.117833      0.965926  2.588190e-01      -0.864948   \n",
            "22983          0.657037      1.000000 -1.608123e-16      -0.865307   \n",
            "22984          0.912795      0.965926 -2.588190e-01      -0.865667   \n",
            "22985          1.378205      0.866025 -5.000000e-01      -0.866025   \n",
            "\n",
            "       Anho cos inic  precio en 6h  accion  \n",
            "22976      -0.505580        1.0072       0  \n",
            "22977      -0.504961        1.0078       0  \n",
            "22978      -0.504342        1.0065       0  \n",
            "22979      -0.503722        1.0076       1  \n",
            "22980      -0.503103           NaN       0  \n",
            "22981      -0.502483           NaN       0  \n",
            "22982      -0.501862           NaN       0  \n",
            "22983      -0.501242           NaN       0  \n",
            "22984      -0.500621           NaN       0  \n",
            "22985      -0.500000           NaN       0  \n"
          ]
        }
      ]
    },
    {
      "cell_type": "markdown",
      "source": [
        "Tras cambiar las variables a 6 horas menos, las ultimas 6 variables tendran como nulos los valores de `precio en 6h` y `accion` ya que no tienen datos que puedan usar. Por ello, eliminaremos las últimas 6 isntancias para no tener datos nulos."
      ],
      "metadata": {
        "id": "ew8vccN5nWuo"
      },
      "id": "ew8vccN5nWuo"
    },
    {
      "cell_type": "code",
      "source": [
        "dfEntrenamiento = dfEntrenamiento[0:-6]"
      ],
      "metadata": {
        "id": "2p_T5rBEnvXo"
      },
      "id": "2p_T5rBEnvXo",
      "execution_count": 25,
      "outputs": []
    },
    {
      "cell_type": "code",
      "source": [
        "dfTest = dfTest[0:-6]"
      ],
      "metadata": {
        "id": "jxiLCOUto8bw"
      },
      "id": "jxiLCOUto8bw",
      "execution_count": 26,
      "outputs": []
    },
    {
      "cell_type": "code",
      "source": [
        "dfEntrenamiento[-6:]"
      ],
      "metadata": {
        "colab": {
          "base_uri": "https://localhost:8080/",
          "height": 255
        },
        "id": "ypJ3JDI-oDL5",
        "outputId": "a3ebc286-929c-46f6-daa1-82ea1281b774"
      },
      "id": "ypJ3JDI-oDL5",
      "execution_count": 27,
      "outputs": [
        {
          "output_type": "execute_result",
          "data": {
            "text/plain": [
              "       precio inicio  precio mas alto  precio mas bajo  precio fin   volumen  \\\n",
              "22974         1.0089           1.0097           1.0088      1.0090 -0.045742   \n",
              "22975         1.0090           1.0093           1.0086      1.0087 -0.354599   \n",
              "22976         1.0086           1.0092           1.0083      1.0085  0.119797   \n",
              "22977         1.0084           1.0085           1.0065      1.0069  0.164504   \n",
              "22978         1.0070           1.0073           1.0065      1.0069 -0.149444   \n",
              "22979         1.0069           1.0081           1.0067      1.0081 -0.386041   \n",
              "\n",
              "       volumen en cuotas  numero de compras  volumen de dolares  \\\n",
              "22974          -0.139906          -0.041688           -0.055410   \n",
              "22975          -0.408626          -0.273855           -0.260615   \n",
              "22976           0.003740           0.189227           -0.188495   \n",
              "22977           0.041510          -0.090961            0.054199   \n",
              "22978          -0.231407          -0.258823            0.039770   \n",
              "22979          -0.436695          -0.496001           -0.079740   \n",
              "\n",
              "       volumen de euros  Dia sin inic  Dia cos inic  Anho sin inic  \\\n",
              "22974         -0.144574     -0.707107      0.707107      -0.862054   \n",
              "22975         -0.323087     -0.500000      0.866025      -0.862417   \n",
              "22976         -0.260606     -0.258819      0.965926      -0.862780   \n",
              "22977         -0.050535      0.000000      1.000000      -0.863142   \n",
              "22978         -0.063334      0.258819      0.965926      -0.863504   \n",
              "22979         -0.166835      0.500000      0.866025      -0.863866   \n",
              "\n",
              "       Anho cos inic  precio en 6h  accion  \n",
              "22974      -0.506817        1.0081       0  \n",
              "22975      -0.506199        1.0078       0  \n",
              "22976      -0.505580        1.0072       0  \n",
              "22977      -0.504961        1.0078       0  \n",
              "22978      -0.504342        1.0065       0  \n",
              "22979      -0.503722        1.0076       1  "
            ],
            "text/html": [
              "\n",
              "  <div id=\"df-c8e9049c-4c83-4ee9-acc1-fe833ed9db29\" class=\"colab-df-container\">\n",
              "    <div>\n",
              "<style scoped>\n",
              "    .dataframe tbody tr th:only-of-type {\n",
              "        vertical-align: middle;\n",
              "    }\n",
              "\n",
              "    .dataframe tbody tr th {\n",
              "        vertical-align: top;\n",
              "    }\n",
              "\n",
              "    .dataframe thead th {\n",
              "        text-align: right;\n",
              "    }\n",
              "</style>\n",
              "<table border=\"1\" class=\"dataframe\">\n",
              "  <thead>\n",
              "    <tr style=\"text-align: right;\">\n",
              "      <th></th>\n",
              "      <th>precio inicio</th>\n",
              "      <th>precio mas alto</th>\n",
              "      <th>precio mas bajo</th>\n",
              "      <th>precio fin</th>\n",
              "      <th>volumen</th>\n",
              "      <th>volumen en cuotas</th>\n",
              "      <th>numero de compras</th>\n",
              "      <th>volumen de dolares</th>\n",
              "      <th>volumen de euros</th>\n",
              "      <th>Dia sin inic</th>\n",
              "      <th>Dia cos inic</th>\n",
              "      <th>Anho sin inic</th>\n",
              "      <th>Anho cos inic</th>\n",
              "      <th>precio en 6h</th>\n",
              "      <th>accion</th>\n",
              "    </tr>\n",
              "  </thead>\n",
              "  <tbody>\n",
              "    <tr>\n",
              "      <th>22974</th>\n",
              "      <td>1.0089</td>\n",
              "      <td>1.0097</td>\n",
              "      <td>1.0088</td>\n",
              "      <td>1.0090</td>\n",
              "      <td>-0.045742</td>\n",
              "      <td>-0.139906</td>\n",
              "      <td>-0.041688</td>\n",
              "      <td>-0.055410</td>\n",
              "      <td>-0.144574</td>\n",
              "      <td>-0.707107</td>\n",
              "      <td>0.707107</td>\n",
              "      <td>-0.862054</td>\n",
              "      <td>-0.506817</td>\n",
              "      <td>1.0081</td>\n",
              "      <td>0</td>\n",
              "    </tr>\n",
              "    <tr>\n",
              "      <th>22975</th>\n",
              "      <td>1.0090</td>\n",
              "      <td>1.0093</td>\n",
              "      <td>1.0086</td>\n",
              "      <td>1.0087</td>\n",
              "      <td>-0.354599</td>\n",
              "      <td>-0.408626</td>\n",
              "      <td>-0.273855</td>\n",
              "      <td>-0.260615</td>\n",
              "      <td>-0.323087</td>\n",
              "      <td>-0.500000</td>\n",
              "      <td>0.866025</td>\n",
              "      <td>-0.862417</td>\n",
              "      <td>-0.506199</td>\n",
              "      <td>1.0078</td>\n",
              "      <td>0</td>\n",
              "    </tr>\n",
              "    <tr>\n",
              "      <th>22976</th>\n",
              "      <td>1.0086</td>\n",
              "      <td>1.0092</td>\n",
              "      <td>1.0083</td>\n",
              "      <td>1.0085</td>\n",
              "      <td>0.119797</td>\n",
              "      <td>0.003740</td>\n",
              "      <td>0.189227</td>\n",
              "      <td>-0.188495</td>\n",
              "      <td>-0.260606</td>\n",
              "      <td>-0.258819</td>\n",
              "      <td>0.965926</td>\n",
              "      <td>-0.862780</td>\n",
              "      <td>-0.505580</td>\n",
              "      <td>1.0072</td>\n",
              "      <td>0</td>\n",
              "    </tr>\n",
              "    <tr>\n",
              "      <th>22977</th>\n",
              "      <td>1.0084</td>\n",
              "      <td>1.0085</td>\n",
              "      <td>1.0065</td>\n",
              "      <td>1.0069</td>\n",
              "      <td>0.164504</td>\n",
              "      <td>0.041510</td>\n",
              "      <td>-0.090961</td>\n",
              "      <td>0.054199</td>\n",
              "      <td>-0.050535</td>\n",
              "      <td>0.000000</td>\n",
              "      <td>1.000000</td>\n",
              "      <td>-0.863142</td>\n",
              "      <td>-0.504961</td>\n",
              "      <td>1.0078</td>\n",
              "      <td>0</td>\n",
              "    </tr>\n",
              "    <tr>\n",
              "      <th>22978</th>\n",
              "      <td>1.0070</td>\n",
              "      <td>1.0073</td>\n",
              "      <td>1.0065</td>\n",
              "      <td>1.0069</td>\n",
              "      <td>-0.149444</td>\n",
              "      <td>-0.231407</td>\n",
              "      <td>-0.258823</td>\n",
              "      <td>0.039770</td>\n",
              "      <td>-0.063334</td>\n",
              "      <td>0.258819</td>\n",
              "      <td>0.965926</td>\n",
              "      <td>-0.863504</td>\n",
              "      <td>-0.504342</td>\n",
              "      <td>1.0065</td>\n",
              "      <td>0</td>\n",
              "    </tr>\n",
              "    <tr>\n",
              "      <th>22979</th>\n",
              "      <td>1.0069</td>\n",
              "      <td>1.0081</td>\n",
              "      <td>1.0067</td>\n",
              "      <td>1.0081</td>\n",
              "      <td>-0.386041</td>\n",
              "      <td>-0.436695</td>\n",
              "      <td>-0.496001</td>\n",
              "      <td>-0.079740</td>\n",
              "      <td>-0.166835</td>\n",
              "      <td>0.500000</td>\n",
              "      <td>0.866025</td>\n",
              "      <td>-0.863866</td>\n",
              "      <td>-0.503722</td>\n",
              "      <td>1.0076</td>\n",
              "      <td>1</td>\n",
              "    </tr>\n",
              "  </tbody>\n",
              "</table>\n",
              "</div>\n",
              "    <div class=\"colab-df-buttons\">\n",
              "\n",
              "  <div class=\"colab-df-container\">\n",
              "    <button class=\"colab-df-convert\" onclick=\"convertToInteractive('df-c8e9049c-4c83-4ee9-acc1-fe833ed9db29')\"\n",
              "            title=\"Convert this dataframe to an interactive table.\"\n",
              "            style=\"display:none;\">\n",
              "\n",
              "  <svg xmlns=\"http://www.w3.org/2000/svg\" height=\"24px\" viewBox=\"0 -960 960 960\">\n",
              "    <path d=\"M120-120v-720h720v720H120Zm60-500h600v-160H180v160Zm220 220h160v-160H400v160Zm0 220h160v-160H400v160ZM180-400h160v-160H180v160Zm440 0h160v-160H620v160ZM180-180h160v-160H180v160Zm440 0h160v-160H620v160Z\"/>\n",
              "  </svg>\n",
              "    </button>\n",
              "\n",
              "  <style>\n",
              "    .colab-df-container {\n",
              "      display:flex;\n",
              "      gap: 12px;\n",
              "    }\n",
              "\n",
              "    .colab-df-convert {\n",
              "      background-color: #E8F0FE;\n",
              "      border: none;\n",
              "      border-radius: 50%;\n",
              "      cursor: pointer;\n",
              "      display: none;\n",
              "      fill: #1967D2;\n",
              "      height: 32px;\n",
              "      padding: 0 0 0 0;\n",
              "      width: 32px;\n",
              "    }\n",
              "\n",
              "    .colab-df-convert:hover {\n",
              "      background-color: #E2EBFA;\n",
              "      box-shadow: 0px 1px 2px rgba(60, 64, 67, 0.3), 0px 1px 3px 1px rgba(60, 64, 67, 0.15);\n",
              "      fill: #174EA6;\n",
              "    }\n",
              "\n",
              "    .colab-df-buttons div {\n",
              "      margin-bottom: 4px;\n",
              "    }\n",
              "\n",
              "    [theme=dark] .colab-df-convert {\n",
              "      background-color: #3B4455;\n",
              "      fill: #D2E3FC;\n",
              "    }\n",
              "\n",
              "    [theme=dark] .colab-df-convert:hover {\n",
              "      background-color: #434B5C;\n",
              "      box-shadow: 0px 1px 3px 1px rgba(0, 0, 0, 0.15);\n",
              "      filter: drop-shadow(0px 1px 2px rgba(0, 0, 0, 0.3));\n",
              "      fill: #FFFFFF;\n",
              "    }\n",
              "  </style>\n",
              "\n",
              "    <script>\n",
              "      const buttonEl =\n",
              "        document.querySelector('#df-c8e9049c-4c83-4ee9-acc1-fe833ed9db29 button.colab-df-convert');\n",
              "      buttonEl.style.display =\n",
              "        google.colab.kernel.accessAllowed ? 'block' : 'none';\n",
              "\n",
              "      async function convertToInteractive(key) {\n",
              "        const element = document.querySelector('#df-c8e9049c-4c83-4ee9-acc1-fe833ed9db29');\n",
              "        const dataTable =\n",
              "          await google.colab.kernel.invokeFunction('convertToInteractive',\n",
              "                                                    [key], {});\n",
              "        if (!dataTable) return;\n",
              "\n",
              "        const docLinkHtml = 'Like what you see? Visit the ' +\n",
              "          '<a target=\"_blank\" href=https://colab.research.google.com/notebooks/data_table.ipynb>data table notebook</a>'\n",
              "          + ' to learn more about interactive tables.';\n",
              "        element.innerHTML = '';\n",
              "        dataTable['output_type'] = 'display_data';\n",
              "        await google.colab.output.renderOutput(dataTable, element);\n",
              "        const docLink = document.createElement('div');\n",
              "        docLink.innerHTML = docLinkHtml;\n",
              "        element.appendChild(docLink);\n",
              "      }\n",
              "    </script>\n",
              "  </div>\n",
              "\n",
              "\n",
              "<div id=\"df-6c6e5c0b-927c-4b0d-a8a6-43b275786bbb\">\n",
              "  <button class=\"colab-df-quickchart\" onclick=\"quickchart('df-6c6e5c0b-927c-4b0d-a8a6-43b275786bbb')\"\n",
              "            title=\"Suggest charts\"\n",
              "            style=\"display:none;\">\n",
              "\n",
              "<svg xmlns=\"http://www.w3.org/2000/svg\" height=\"24px\"viewBox=\"0 0 24 24\"\n",
              "     width=\"24px\">\n",
              "    <g>\n",
              "        <path d=\"M19 3H5c-1.1 0-2 .9-2 2v14c0 1.1.9 2 2 2h14c1.1 0 2-.9 2-2V5c0-1.1-.9-2-2-2zM9 17H7v-7h2v7zm4 0h-2V7h2v10zm4 0h-2v-4h2v4z\"/>\n",
              "    </g>\n",
              "</svg>\n",
              "  </button>\n",
              "\n",
              "<style>\n",
              "  .colab-df-quickchart {\n",
              "      --bg-color: #E8F0FE;\n",
              "      --fill-color: #1967D2;\n",
              "      --hover-bg-color: #E2EBFA;\n",
              "      --hover-fill-color: #174EA6;\n",
              "      --disabled-fill-color: #AAA;\n",
              "      --disabled-bg-color: #DDD;\n",
              "  }\n",
              "\n",
              "  [theme=dark] .colab-df-quickchart {\n",
              "      --bg-color: #3B4455;\n",
              "      --fill-color: #D2E3FC;\n",
              "      --hover-bg-color: #434B5C;\n",
              "      --hover-fill-color: #FFFFFF;\n",
              "      --disabled-bg-color: #3B4455;\n",
              "      --disabled-fill-color: #666;\n",
              "  }\n",
              "\n",
              "  .colab-df-quickchart {\n",
              "    background-color: var(--bg-color);\n",
              "    border: none;\n",
              "    border-radius: 50%;\n",
              "    cursor: pointer;\n",
              "    display: none;\n",
              "    fill: var(--fill-color);\n",
              "    height: 32px;\n",
              "    padding: 0;\n",
              "    width: 32px;\n",
              "  }\n",
              "\n",
              "  .colab-df-quickchart:hover {\n",
              "    background-color: var(--hover-bg-color);\n",
              "    box-shadow: 0 1px 2px rgba(60, 64, 67, 0.3), 0 1px 3px 1px rgba(60, 64, 67, 0.15);\n",
              "    fill: var(--button-hover-fill-color);\n",
              "  }\n",
              "\n",
              "  .colab-df-quickchart-complete:disabled,\n",
              "  .colab-df-quickchart-complete:disabled:hover {\n",
              "    background-color: var(--disabled-bg-color);\n",
              "    fill: var(--disabled-fill-color);\n",
              "    box-shadow: none;\n",
              "  }\n",
              "\n",
              "  .colab-df-spinner {\n",
              "    border: 2px solid var(--fill-color);\n",
              "    border-color: transparent;\n",
              "    border-bottom-color: var(--fill-color);\n",
              "    animation:\n",
              "      spin 1s steps(1) infinite;\n",
              "  }\n",
              "\n",
              "  @keyframes spin {\n",
              "    0% {\n",
              "      border-color: transparent;\n",
              "      border-bottom-color: var(--fill-color);\n",
              "      border-left-color: var(--fill-color);\n",
              "    }\n",
              "    20% {\n",
              "      border-color: transparent;\n",
              "      border-left-color: var(--fill-color);\n",
              "      border-top-color: var(--fill-color);\n",
              "    }\n",
              "    30% {\n",
              "      border-color: transparent;\n",
              "      border-left-color: var(--fill-color);\n",
              "      border-top-color: var(--fill-color);\n",
              "      border-right-color: var(--fill-color);\n",
              "    }\n",
              "    40% {\n",
              "      border-color: transparent;\n",
              "      border-right-color: var(--fill-color);\n",
              "      border-top-color: var(--fill-color);\n",
              "    }\n",
              "    60% {\n",
              "      border-color: transparent;\n",
              "      border-right-color: var(--fill-color);\n",
              "    }\n",
              "    80% {\n",
              "      border-color: transparent;\n",
              "      border-right-color: var(--fill-color);\n",
              "      border-bottom-color: var(--fill-color);\n",
              "    }\n",
              "    90% {\n",
              "      border-color: transparent;\n",
              "      border-bottom-color: var(--fill-color);\n",
              "    }\n",
              "  }\n",
              "</style>\n",
              "\n",
              "  <script>\n",
              "    async function quickchart(key) {\n",
              "      const quickchartButtonEl =\n",
              "        document.querySelector('#' + key + ' button');\n",
              "      quickchartButtonEl.disabled = true;  // To prevent multiple clicks.\n",
              "      quickchartButtonEl.classList.add('colab-df-spinner');\n",
              "      try {\n",
              "        const charts = await google.colab.kernel.invokeFunction(\n",
              "            'suggestCharts', [key], {});\n",
              "      } catch (error) {\n",
              "        console.error('Error during call to suggestCharts:', error);\n",
              "      }\n",
              "      quickchartButtonEl.classList.remove('colab-df-spinner');\n",
              "      quickchartButtonEl.classList.add('colab-df-quickchart-complete');\n",
              "    }\n",
              "    (() => {\n",
              "      let quickchartButtonEl =\n",
              "        document.querySelector('#df-6c6e5c0b-927c-4b0d-a8a6-43b275786bbb button');\n",
              "      quickchartButtonEl.style.display =\n",
              "        google.colab.kernel.accessAllowed ? 'block' : 'none';\n",
              "    })();\n",
              "  </script>\n",
              "</div>\n",
              "\n",
              "    </div>\n",
              "  </div>\n"
            ],
            "application/vnd.google.colaboratory.intrinsic+json": {
              "type": "dataframe",
              "summary": "{\n  \"name\": \"dfEntrenamiento[-6:]\",\n  \"rows\": 6,\n  \"fields\": [\n    {\n      \"column\": \"precio inicio\",\n      \"properties\": {\n        \"dtype\": \"number\",\n        \"std\": 0.0009416297927883769,\n        \"min\": 1.0069,\n        \"max\": 1.009,\n        \"num_unique_values\": 6,\n        \"samples\": [\n          1.0089,\n          1.009,\n          1.0069\n        ],\n        \"semantic_type\": \"\",\n        \"description\": \"\"\n      }\n    },\n    {\n      \"column\": \"precio mas alto\",\n      \"properties\": {\n        \"dtype\": \"number\",\n        \"std\": 0.0008908797150382776,\n        \"min\": 1.0073,\n        \"max\": 1.0097,\n        \"num_unique_values\": 6,\n        \"samples\": [\n          1.0097,\n          1.0093,\n          1.0081\n        ],\n        \"semantic_type\": \"\",\n        \"description\": \"\"\n      }\n    },\n    {\n      \"column\": \"precio mas bajo\",\n      \"properties\": {\n        \"dtype\": \"number\",\n        \"std\": 0.0011093541664710426,\n        \"min\": 1.0065,\n        \"max\": 1.0088,\n        \"num_unique_values\": 5,\n        \"samples\": [\n          1.0086,\n          1.0067,\n          1.0083\n        ],\n        \"semantic_type\": \"\",\n        \"description\": \"\"\n      }\n    },\n    {\n      \"column\": \"precio fin\",\n      \"properties\": {\n        \"dtype\": \"number\",\n        \"std\": 0.0009130534851073519,\n        \"min\": 1.0069,\n        \"max\": 1.009,\n        \"num_unique_values\": 5,\n        \"samples\": [\n          1.0087,\n          1.0081,\n          1.0085\n        ],\n        \"semantic_type\": \"\",\n        \"description\": \"\"\n      }\n    },\n    {\n      \"column\": \"volumen\",\n      \"properties\": {\n        \"dtype\": \"number\",\n        \"std\": 0.23231838484983902,\n        \"min\": -0.38604098467948744,\n        \"max\": 0.1645041301724508,\n        \"num_unique_values\": 6,\n        \"samples\": [\n          -0.04574224286566628,\n          -0.3545988613921855,\n          -0.38604098467948744\n        ],\n        \"semantic_type\": \"\",\n        \"description\": \"\"\n      }\n    },\n    {\n      \"column\": \"volumen en cuotas\",\n      \"properties\": {\n        \"dtype\": \"number\",\n        \"std\": 0.2019145197986705,\n        \"min\": -0.43669459905401725,\n        \"max\": 0.04151040063249662,\n        \"num_unique_values\": 6,\n        \"samples\": [\n          -0.13990640102111124,\n          -0.40862552185299766,\n          -0.43669459905401725\n        ],\n        \"semantic_type\": \"\",\n        \"description\": \"\"\n      }\n    },\n    {\n      \"column\": \"numero de compras\",\n      \"properties\": {\n        \"dtype\": \"number\",\n        \"std\": 0.23508532602133853,\n        \"min\": -0.49600147633167335,\n        \"max\": 0.18922730435214177,\n        \"num_unique_values\": 6,\n        \"samples\": [\n          -0.04168769608548758,\n          -0.27385539996129576,\n          -0.49600147633167335\n        ],\n        \"semantic_type\": \"\",\n        \"description\": \"\"\n      }\n    },\n    {\n      \"column\": \"volumen de dolares\",\n      \"properties\": {\n        \"dtype\": \"number\",\n        \"std\": 0.12436566940677497,\n        \"min\": -0.26061511813994975,\n        \"max\": 0.054198968014998364,\n        \"num_unique_values\": 6,\n        \"samples\": [\n          -0.055409613106317784,\n          -0.26061511813994975,\n          -0.07973991533843355\n        ],\n        \"semantic_type\": \"\",\n        \"description\": \"\"\n      }\n    },\n    {\n      \"column\": \"volumen de euros\",\n      \"properties\": {\n        \"dtype\": \"number\",\n        \"std\": 0.10763910376243013,\n        \"min\": -0.32308736556497114,\n        \"max\": -0.05053546434188815,\n        \"num_unique_values\": 6,\n        \"samples\": [\n          -0.14457359383463353,\n          -0.32308736556497114,\n          -0.1668346972188805\n        ],\n        \"semantic_type\": \"\",\n        \"description\": \"\"\n      }\n    },\n    {\n      \"column\": \"Dia sin inic\",\n      \"properties\": {\n        \"dtype\": \"number\",\n        \"std\": 0.45839748316984213,\n        \"min\": -0.7071067811865477,\n        \"max\": 0.49999999999999994,\n        \"num_unique_values\": 6,\n        \"samples\": [\n          -0.7071067811865477,\n          -0.5000000000000004,\n          0.49999999999999994\n        ],\n        \"semantic_type\": \"\",\n        \"description\": \"\"\n      }\n    },\n    {\n      \"column\": \"Dia cos inic\",\n      \"properties\": {\n        \"dtype\": \"number\",\n        \"std\": 0.10776705622407894,\n        \"min\": 0.7071067811865474,\n        \"max\": 1.0,\n        \"num_unique_values\": 5,\n        \"samples\": [\n          0.8660254037844384,\n          0.8660254037844387,\n          0.9659258262890683\n        ],\n        \"semantic_type\": \"\",\n        \"description\": \"\"\n      }\n    },\n    {\n      \"column\": \"Anho sin inic\",\n      \"properties\": {\n        \"dtype\": \"number\",\n        \"std\": 0.0006780063688274542,\n        \"min\": -0.8638656150126113,\n        \"max\": -0.8620535676826266,\n        \"num_unique_values\": 6,\n        \"samples\": [\n          -0.8620535676826266,\n          -0.8624168648794832,\n          -0.8638656150126113\n        ],\n        \"semantic_type\": \"\",\n        \"description\": \"\"\n      }\n    },\n    {\n      \"column\": \"Anho cos inic\",\n      \"properties\": {\n        \"dtype\": \"number\",\n        \"std\": 0.0011579792439750229,\n        \"min\": -0.5068171726033511,\n        \"max\": -0.503722343358802,\n        \"num_unique_values\": 6,\n        \"samples\": [\n          -0.5068171726033511,\n          -0.5061987269555736,\n          -0.503722343358802\n        ],\n        \"semantic_type\": \"\",\n        \"description\": \"\"\n      }\n    },\n    {\n      \"column\": \"precio en 6h\",\n      \"properties\": {\n        \"dtype\": \"number\",\n        \"std\": 0.0005727128425310685,\n        \"min\": 1.0065,\n        \"max\": 1.0081,\n        \"num_unique_values\": 5,\n        \"samples\": [\n          1.0078,\n          1.0076,\n          1.0072\n        ],\n        \"semantic_type\": \"\",\n        \"description\": \"\"\n      }\n    },\n    {\n      \"column\": \"accion\",\n      \"properties\": {\n        \"dtype\": \"number\",\n        \"std\": 0,\n        \"min\": 0,\n        \"max\": 1,\n        \"num_unique_values\": 2,\n        \"samples\": [\n          1,\n          0\n        ],\n        \"semantic_type\": \"\",\n        \"description\": \"\"\n      }\n    }\n  ]\n}"
            }
          },
          "metadata": {},
          "execution_count": 27
        }
      ]
    },
    {
      "cell_type": "markdown",
      "id": "0c48eb3f-2da7-45fe-bb8e-a89a63d9226f",
      "metadata": {
        "id": "0c48eb3f-2da7-45fe-bb8e-a89a63d9226f"
      },
      "source": [
        "### 2.2. Transforma los conjuntos de entrenamiento y test a NumPy."
      ]
    },
    {
      "cell_type": "code",
      "execution_count": 28,
      "id": "f8d307a7",
      "metadata": {
        "id": "f8d307a7"
      },
      "outputs": [],
      "source": [
        "dfEntrenamientoNP = dfEntrenamiento.to_numpy()\n",
        "dfTestNP = dfTest.to_numpy()"
      ]
    },
    {
      "cell_type": "markdown",
      "id": "59ced856-2743-45bf-aae3-47c83a910002",
      "metadata": {
        "id": "59ced856-2743-45bf-aae3-47c83a910002"
      },
      "source": [
        "### 2.3. Utiliza la función sliding_window del Lab11 para ventanear la serie temporal para obtener un lote de muchos pares (vector de entrada, etiqueta) para entrenamiento y otro lote para test:\n",
        "- Haz que el tamaño de ventana sea configurable para poder probar varias alternativas.\n",
        "- Revisa la continuidad temporal de la serie para que las ventanas representen siempre el mismo\n",
        "periodo de tiempo. Descarta las ventanas incorrectas."
      ]
    },
    {
      "cell_type": "markdown",
      "id": "9ff3ae75",
      "metadata": {
        "id": "9ff3ae75"
      },
      "source": [
        "Dado que realizaremos un problema de clasificación de dos salidas, adaptaremos la función `sliding_window` que se nos aportó en el **laboratorio 11** de manera que nos haga las ventanas para dos salidas.\n",
        "\n",
        "Sabiendo que en los datasets las últimas dos columnas son las que hemos asignado como targets a 6 horas vista."
      ]
    },
    {
      "cell_type": "code",
      "execution_count": 29,
      "id": "8701cae5",
      "metadata": {
        "id": "8701cae5"
      },
      "outputs": [],
      "source": [
        "def sliding_window(data, labels1, labels2, input_width, label_width=1, offset=0):\n",
        "    x = []\n",
        "    y = []\n",
        "    z = []\n",
        "    # Corrección en el rango del bucle\n",
        "    for i in range(len(data) - input_width - label_width - offset + 1):\n",
        "        # Seleccionar la ventana de entrada y etiquetas\n",
        "        _x = data[i:i + input_width]\n",
        "        _y = labels1[i + input_width + offset:i + input_width + offset + label_width]\n",
        "        _z = labels2[i + input_width + offset:i + input_width + offset + label_width]\n",
        "        x.append(_x)\n",
        "        y.append(_y)\n",
        "        z.append(_z)\n",
        "    # Convertir a numpy arrays\n",
        "    x, y, z = np.array(x), np.array(y), np.array(z)\n",
        "\n",
        "    # Añadir nueva dimensión si es necesario\n",
        "    if len(x.shape) == 2:  # Si x es 2D, hazlo 3D\n",
        "        x = x[:, :, np.newaxis]\n",
        "\n",
        "    if len(y.shape) == 2:  # Si y es 2D, hazlo 3D\n",
        "        y = y[:, :, np.newaxis]\n",
        "\n",
        "    if len(z.shape) == 2:  # Si y es 2D, hazlo 3D\n",
        "        z = z[:, :, np.newaxis]\n",
        "\n",
        "\n",
        "    return x, y, z"
      ]
    },
    {
      "cell_type": "markdown",
      "id": "fbbc3f15",
      "metadata": {
        "id": "fbbc3f15"
      },
      "source": [
        "Hay que cambiar la forma de pasarle el dataset, ya que le paso pandas dataframe y tiene que ser np.ndarray"
      ]
    },
    {
      "cell_type": "code",
      "execution_count": 30,
      "id": "d6736742",
      "metadata": {
        "id": "d6736742"
      },
      "outputs": [],
      "source": [
        "input_width = 24\n",
        "label_width = 24\n",
        "offset = 0\n",
        "\n",
        "\n",
        "\n",
        "# TODO: Llama a la función para dividir el dataset\n",
        "x_train, y_train1 , y_train2 = sliding_window(\n",
        "    dfEntrenamientoNP[:,0:-2],  # Datos de entrada sin la etiqueta objetivo\n",
        "    dfEntrenamientoNP[:,-2:-1],\n",
        "    dfEntrenamientoNP[:,-1:],\n",
        "    input_width=input_width,\n",
        "    label_width=label_width,\n",
        "    offset=offset\n",
        ")\n",
        "\n",
        "x_test, y_test1 , y_test2 = sliding_window(\n",
        "    dfTestNP[:,0:-2],  # Datos de entrada sin la etiqueta objetivo\n",
        "    dfTestNP[:,-2:-1],\n",
        "    dfTestNP[:,-1:],\n",
        "    input_width=input_width,\n",
        "    label_width=label_width,\n",
        "    offset=offset\n",
        ")"
      ]
    },
    {
      "cell_type": "markdown",
      "id": "c5e4c905-bfb3-4dfe-ab8d-d4dd713c943a",
      "metadata": {
        "id": "c5e4c905-bfb3-4dfe-ab8d-d4dd713c943a"
      },
      "source": [
        "----"
      ]
    },
    {
      "cell_type": "markdown",
      "id": "219e066a-1b1c-46c0-b906-ddb6cf38857f",
      "metadata": {
        "id": "219e066a-1b1c-46c0-b906-ddb6cf38857f"
      },
      "source": [
        "## 3. Elección del/los modelo/s. Prueba con ventanas de distinto tamaño, y ajusta a los datos de entrenamiento a modelos con arquitecturas de tipo"
      ]
    },
    {
      "cell_type": "code",
      "execution_count": 31,
      "id": "789c6dc5",
      "metadata": {
        "id": "789c6dc5"
      },
      "outputs": [],
      "source": [
        "numero_caracteristicas = dfEntrenamientoNP.shape[1]-2"
      ]
    },
    {
      "cell_type": "code",
      "source": [
        "x_train.shape"
      ],
      "metadata": {
        "colab": {
          "base_uri": "https://localhost:8080/"
        },
        "id": "6kTKVN-jvufH",
        "outputId": "fff8a15e-46ea-4766-b59c-129cc066f01a"
      },
      "id": "6kTKVN-jvufH",
      "execution_count": 32,
      "outputs": [
        {
          "output_type": "execute_result",
          "data": {
            "text/plain": [
              "(20848, 24, 13)"
            ]
          },
          "metadata": {},
          "execution_count": 32
        }
      ]
    },
    {
      "cell_type": "markdown",
      "source": [
        "Utilizaremos un objeto de tipo `Callback` de la librería `Keras` que nos permitirá parar el modelo cuando una variable monitorizada no mejore en tantos ciclos como se escoja.\n",
        "\n",
        "La creamos una vez y la reutilizaremos durante las diferentes ejecuciones."
      ],
      "metadata": {
        "id": "B0fcEzmScRZm"
      },
      "id": "B0fcEzmScRZm"
    },
    {
      "cell_type": "code",
      "source": [
        "callback  = keras.callbacks.EarlyStopping(\n",
        "    monitor=\"loss\",  #metrica a monitorizar\n",
        "    patience=10,     #nº de ciclos sin mejora antes de parar\n",
        "    restore_best_weights=True   #devolver el modelo que mejor metrica tuvo\n",
        ")\n"
      ],
      "metadata": {
        "id": "xanLOjgIcQxr"
      },
      "id": "xanLOjgIcQxr",
      "execution_count": 73,
      "outputs": []
    },
    {
      "cell_type": "markdown",
      "id": "1869ac6b-4a7d-4651-8d79-dd0fc693a214",
      "metadata": {
        "id": "1869ac6b-4a7d-4651-8d79-dd0fc693a214"
      },
      "source": [
        "### 3.1 Totalmente conectado."
      ]
    },
    {
      "cell_type": "markdown",
      "source": [
        "Comenzaremos creando"
      ],
      "metadata": {
        "id": "P8rT7XLJea0b"
      },
      "id": "P8rT7XLJea0b"
    },
    {
      "cell_type": "code",
      "execution_count": 34,
      "id": "d9384ab1",
      "metadata": {
        "colab": {
          "base_uri": "https://localhost:8080/"
        },
        "id": "d9384ab1",
        "outputId": "3d6b124e-8a0b-456a-fbc1-ead033d10167"
      },
      "outputs": [
        {
          "output_type": "stream",
          "name": "stdout",
          "text": [
            "Epoch 1/100\n",
            "\u001b[1m522/522\u001b[0m \u001b[32m━━━━━━━━━━━━━━━━━━━━\u001b[0m\u001b[37m\u001b[0m \u001b[1m4s\u001b[0m 4ms/step - loss: 0.7410 - output1_loss: 0.4355 - output1_mean_absolute_error: 0.6516 - output2_loss: 0.3055 - output2_mean_squared_error: 0.3055 - val_loss: 0.5676 - val_output1_loss: 0.3187 - val_output1_mean_absolute_error: 0.5633 - val_output2_loss: 0.2486 - val_output2_mean_squared_error: 0.2487\n",
            "Epoch 2/100\n",
            "\u001b[1m522/522\u001b[0m \u001b[32m━━━━━━━━━━━━━━━━━━━━\u001b[0m\u001b[37m\u001b[0m \u001b[1m2s\u001b[0m 5ms/step - loss: 0.6682 - output1_loss: 0.4264 - output1_mean_absolute_error: 0.6514 - output2_loss: 0.2418 - output2_mean_squared_error: 0.2418 - val_loss: 0.5607 - val_output1_loss: 0.3183 - val_output1_mean_absolute_error: 0.5633 - val_output2_loss: 0.2420 - val_output2_mean_squared_error: 0.2421\n",
            "Epoch 3/100\n",
            "\u001b[1m522/522\u001b[0m \u001b[32m━━━━━━━━━━━━━━━━━━━━\u001b[0m\u001b[37m\u001b[0m \u001b[1m3s\u001b[0m 6ms/step - loss: 0.6669 - output1_loss: 0.4258 - output1_mean_absolute_error: 0.6511 - output2_loss: 0.2411 - output2_mean_squared_error: 0.2411 - val_loss: 0.5628 - val_output1_loss: 0.3183 - val_output1_mean_absolute_error: 0.5633 - val_output2_loss: 0.2442 - val_output2_mean_squared_error: 0.2443\n",
            "Epoch 4/100\n",
            "\u001b[1m522/522\u001b[0m \u001b[32m━━━━━━━━━━━━━━━━━━━━\u001b[0m\u001b[37m\u001b[0m \u001b[1m4s\u001b[0m 3ms/step - loss: 0.6667 - output1_loss: 0.4261 - output1_mean_absolute_error: 0.6513 - output2_loss: 0.2406 - output2_mean_squared_error: 0.2406 - val_loss: 0.5632 - val_output1_loss: 0.3182 - val_output1_mean_absolute_error: 0.5633 - val_output2_loss: 0.2447 - val_output2_mean_squared_error: 0.2447\n",
            "Epoch 5/100\n",
            "\u001b[1m522/522\u001b[0m \u001b[32m━━━━━━━━━━━━━━━━━━━━\u001b[0m\u001b[37m\u001b[0m \u001b[1m2s\u001b[0m 3ms/step - loss: 0.6659 - output1_loss: 0.4259 - output1_mean_absolute_error: 0.6512 - output2_loss: 0.2400 - output2_mean_squared_error: 0.2400 - val_loss: 0.5612 - val_output1_loss: 0.3182 - val_output1_mean_absolute_error: 0.5633 - val_output2_loss: 0.2427 - val_output2_mean_squared_error: 0.2428\n",
            "Epoch 6/100\n",
            "\u001b[1m522/522\u001b[0m \u001b[32m━━━━━━━━━━━━━━━━━━━━\u001b[0m\u001b[37m\u001b[0m \u001b[1m3s\u001b[0m 3ms/step - loss: 0.6646 - output1_loss: 0.4257 - output1_mean_absolute_error: 0.6510 - output2_loss: 0.2390 - output2_mean_squared_error: 0.2390 - val_loss: 0.5612 - val_output1_loss: 0.3181 - val_output1_mean_absolute_error: 0.5633 - val_output2_loss: 0.2427 - val_output2_mean_squared_error: 0.2428\n",
            "Epoch 7/100\n",
            "\u001b[1m522/522\u001b[0m \u001b[32m━━━━━━━━━━━━━━━━━━━━\u001b[0m\u001b[37m\u001b[0m \u001b[1m2s\u001b[0m 3ms/step - loss: 0.6650 - output1_loss: 0.4260 - output1_mean_absolute_error: 0.6513 - output2_loss: 0.2389 - output2_mean_squared_error: 0.2389 - val_loss: 0.5630 - val_output1_loss: 0.3181 - val_output1_mean_absolute_error: 0.5633 - val_output2_loss: 0.2445 - val_output2_mean_squared_error: 0.2446\n",
            "Epoch 8/100\n",
            "\u001b[1m522/522\u001b[0m \u001b[32m━━━━━━━━━━━━━━━━━━━━\u001b[0m\u001b[37m\u001b[0m \u001b[1m4s\u001b[0m 6ms/step - loss: 0.6651 - output1_loss: 0.4264 - output1_mean_absolute_error: 0.6516 - output2_loss: 0.2387 - output2_mean_squared_error: 0.2387 - val_loss: 0.5650 - val_output1_loss: 0.3181 - val_output1_mean_absolute_error: 0.5633 - val_output2_loss: 0.2466 - val_output2_mean_squared_error: 0.2467\n",
            "Epoch 9/100\n",
            "\u001b[1m522/522\u001b[0m \u001b[32m━━━━━━━━━━━━━━━━━━━━\u001b[0m\u001b[37m\u001b[0m \u001b[1m2s\u001b[0m 4ms/step - loss: 0.6642 - output1_loss: 0.4258 - output1_mean_absolute_error: 0.6511 - output2_loss: 0.2384 - output2_mean_squared_error: 0.2384 - val_loss: 0.5613 - val_output1_loss: 0.3181 - val_output1_mean_absolute_error: 0.5633 - val_output2_loss: 0.2428 - val_output2_mean_squared_error: 0.2429\n",
            "Epoch 10/100\n",
            "\u001b[1m522/522\u001b[0m \u001b[32m━━━━━━━━━━━━━━━━━━━━\u001b[0m\u001b[37m\u001b[0m \u001b[1m2s\u001b[0m 3ms/step - loss: 0.6643 - output1_loss: 0.4260 - output1_mean_absolute_error: 0.6513 - output2_loss: 0.2383 - output2_mean_squared_error: 0.2383 - val_loss: 0.5680 - val_output1_loss: 0.3180 - val_output1_mean_absolute_error: 0.5633 - val_output2_loss: 0.2495 - val_output2_mean_squared_error: 0.2496\n",
            "Epoch 11/100\n",
            "\u001b[1m522/522\u001b[0m \u001b[32m━━━━━━━━━━━━━━━━━━━━\u001b[0m\u001b[37m\u001b[0m \u001b[1m2s\u001b[0m 3ms/step - loss: 0.6644 - output1_loss: 0.4259 - output1_mean_absolute_error: 0.6513 - output2_loss: 0.2384 - output2_mean_squared_error: 0.2384 - val_loss: 0.5631 - val_output1_loss: 0.3180 - val_output1_mean_absolute_error: 0.5633 - val_output2_loss: 0.2447 - val_output2_mean_squared_error: 0.2448\n",
            "Epoch 12/100\n",
            "\u001b[1m522/522\u001b[0m \u001b[32m━━━━━━━━━━━━━━━━━━━━\u001b[0m\u001b[37m\u001b[0m \u001b[1m2s\u001b[0m 3ms/step - loss: 0.6639 - output1_loss: 0.4262 - output1_mean_absolute_error: 0.6515 - output2_loss: 0.2377 - output2_mean_squared_error: 0.2377 - val_loss: 0.5629 - val_output1_loss: 0.3180 - val_output1_mean_absolute_error: 0.5633 - val_output2_loss: 0.2445 - val_output2_mean_squared_error: 0.2446\n",
            "Epoch 13/100\n",
            "\u001b[1m522/522\u001b[0m \u001b[32m━━━━━━━━━━━━━━━━━━━━\u001b[0m\u001b[37m\u001b[0m \u001b[1m3s\u001b[0m 4ms/step - loss: 0.6640 - output1_loss: 0.4261 - output1_mean_absolute_error: 0.6514 - output2_loss: 0.2379 - output2_mean_squared_error: 0.2379 - val_loss: 0.5635 - val_output1_loss: 0.3180 - val_output1_mean_absolute_error: 0.5633 - val_output2_loss: 0.2451 - val_output2_mean_squared_error: 0.2451\n",
            "Epoch 14/100\n",
            "\u001b[1m522/522\u001b[0m \u001b[32m━━━━━━━━━━━━━━━━━━━━\u001b[0m\u001b[37m\u001b[0m \u001b[1m4s\u001b[0m 6ms/step - loss: 0.6642 - output1_loss: 0.4263 - output1_mean_absolute_error: 0.6516 - output2_loss: 0.2379 - output2_mean_squared_error: 0.2379 - val_loss: 0.5625 - val_output1_loss: 0.3180 - val_output1_mean_absolute_error: 0.5633 - val_output2_loss: 0.2441 - val_output2_mean_squared_error: 0.2442\n",
            "Epoch 15/100\n",
            "\u001b[1m522/522\u001b[0m \u001b[32m━━━━━━━━━━━━━━━━━━━━\u001b[0m\u001b[37m\u001b[0m \u001b[1m2s\u001b[0m 3ms/step - loss: 0.6641 - output1_loss: 0.4262 - output1_mean_absolute_error: 0.6514 - output2_loss: 0.2379 - output2_mean_squared_error: 0.2379 - val_loss: 0.5659 - val_output1_loss: 0.3180 - val_output1_mean_absolute_error: 0.5633 - val_output2_loss: 0.2475 - val_output2_mean_squared_error: 0.2476\n",
            "Epoch 16/100\n",
            "\u001b[1m522/522\u001b[0m \u001b[32m━━━━━━━━━━━━━━━━━━━━\u001b[0m\u001b[37m\u001b[0m \u001b[1m3s\u001b[0m 3ms/step - loss: 0.6637 - output1_loss: 0.4260 - output1_mean_absolute_error: 0.6513 - output2_loss: 0.2377 - output2_mean_squared_error: 0.2377 - val_loss: 0.5633 - val_output1_loss: 0.3180 - val_output1_mean_absolute_error: 0.5633 - val_output2_loss: 0.2448 - val_output2_mean_squared_error: 0.2449\n",
            "Epoch 17/100\n",
            "\u001b[1m522/522\u001b[0m \u001b[32m━━━━━━━━━━━━━━━━━━━━\u001b[0m\u001b[37m\u001b[0m \u001b[1m2s\u001b[0m 3ms/step - loss: 0.6623 - output1_loss: 0.4253 - output1_mean_absolute_error: 0.6508 - output2_loss: 0.2370 - output2_mean_squared_error: 0.2370 - val_loss: 0.5695 - val_output1_loss: 0.3180 - val_output1_mean_absolute_error: 0.5633 - val_output2_loss: 0.2511 - val_output2_mean_squared_error: 0.2512\n",
            "Epoch 18/100\n",
            "\u001b[1m522/522\u001b[0m \u001b[32m━━━━━━━━━━━━━━━━━━━━\u001b[0m\u001b[37m\u001b[0m \u001b[1m3s\u001b[0m 3ms/step - loss: 0.6622 - output1_loss: 0.4252 - output1_mean_absolute_error: 0.6507 - output2_loss: 0.2371 - output2_mean_squared_error: 0.2371 - val_loss: 0.5633 - val_output1_loss: 0.3180 - val_output1_mean_absolute_error: 0.5633 - val_output2_loss: 0.2448 - val_output2_mean_squared_error: 0.2450\n",
            "Epoch 19/100\n",
            "\u001b[1m522/522\u001b[0m \u001b[32m━━━━━━━━━━━━━━━━━━━━\u001b[0m\u001b[37m\u001b[0m \u001b[1m2s\u001b[0m 4ms/step - loss: 0.6628 - output1_loss: 0.4258 - output1_mean_absolute_error: 0.6511 - output2_loss: 0.2370 - output2_mean_squared_error: 0.2370 - val_loss: 0.5634 - val_output1_loss: 0.3180 - val_output1_mean_absolute_error: 0.5633 - val_output2_loss: 0.2449 - val_output2_mean_squared_error: 0.2451\n",
            "Epoch 20/100\n",
            "\u001b[1m522/522\u001b[0m \u001b[32m━━━━━━━━━━━━━━━━━━━━\u001b[0m\u001b[37m\u001b[0m \u001b[1m3s\u001b[0m 6ms/step - loss: 0.6627 - output1_loss: 0.4258 - output1_mean_absolute_error: 0.6511 - output2_loss: 0.2369 - output2_mean_squared_error: 0.2369 - val_loss: 0.5643 - val_output1_loss: 0.3180 - val_output1_mean_absolute_error: 0.5633 - val_output2_loss: 0.2458 - val_output2_mean_squared_error: 0.2459\n",
            "Epoch 21/100\n",
            "\u001b[1m522/522\u001b[0m \u001b[32m━━━━━━━━━━━━━━━━━━━━\u001b[0m\u001b[37m\u001b[0m \u001b[1m2s\u001b[0m 4ms/step - loss: 0.6622 - output1_loss: 0.4256 - output1_mean_absolute_error: 0.6510 - output2_loss: 0.2366 - output2_mean_squared_error: 0.2366 - val_loss: 0.5629 - val_output1_loss: 0.3180 - val_output1_mean_absolute_error: 0.5633 - val_output2_loss: 0.2444 - val_output2_mean_squared_error: 0.2446\n",
            "Epoch 22/100\n",
            "\u001b[1m522/522\u001b[0m \u001b[32m━━━━━━━━━━━━━━━━━━━━\u001b[0m\u001b[37m\u001b[0m \u001b[1m4s\u001b[0m 6ms/step - loss: 0.6617 - output1_loss: 0.4250 - output1_mean_absolute_error: 0.6505 - output2_loss: 0.2367 - output2_mean_squared_error: 0.2367 - val_loss: 0.5654 - val_output1_loss: 0.3180 - val_output1_mean_absolute_error: 0.5633 - val_output2_loss: 0.2469 - val_output2_mean_squared_error: 0.2470\n",
            "Epoch 23/100\n",
            "\u001b[1m522/522\u001b[0m \u001b[32m━━━━━━━━━━━━━━━━━━━━\u001b[0m\u001b[37m\u001b[0m \u001b[1m7s\u001b[0m 10ms/step - loss: 0.6627 - output1_loss: 0.4264 - output1_mean_absolute_error: 0.6516 - output2_loss: 0.2363 - output2_mean_squared_error: 0.2363 - val_loss: 0.5654 - val_output1_loss: 0.3180 - val_output1_mean_absolute_error: 0.5633 - val_output2_loss: 0.2469 - val_output2_mean_squared_error: 0.2470\n",
            "Epoch 24/100\n",
            "\u001b[1m522/522\u001b[0m \u001b[32m━━━━━━━━━━━━━━━━━━━━\u001b[0m\u001b[37m\u001b[0m \u001b[1m10s\u001b[0m 10ms/step - loss: 0.6625 - output1_loss: 0.4265 - output1_mean_absolute_error: 0.6517 - output2_loss: 0.2361 - output2_mean_squared_error: 0.2361 - val_loss: 0.5633 - val_output1_loss: 0.3180 - val_output1_mean_absolute_error: 0.5633 - val_output2_loss: 0.2448 - val_output2_mean_squared_error: 0.2449\n",
            "Epoch 25/100\n",
            "\u001b[1m522/522\u001b[0m \u001b[32m━━━━━━━━━━━━━━━━━━━━\u001b[0m\u001b[37m\u001b[0m \u001b[1m3s\u001b[0m 6ms/step - loss: 0.6632 - output1_loss: 0.4263 - output1_mean_absolute_error: 0.6516 - output2_loss: 0.2369 - output2_mean_squared_error: 0.2369 - val_loss: 0.5647 - val_output1_loss: 0.3180 - val_output1_mean_absolute_error: 0.5633 - val_output2_loss: 0.2463 - val_output2_mean_squared_error: 0.2464\n",
            "Epoch 26/100\n",
            "\u001b[1m522/522\u001b[0m \u001b[32m━━━━━━━━━━━━━━━━━━━━\u001b[0m\u001b[37m\u001b[0m \u001b[1m5s\u001b[0m 10ms/step - loss: 0.6619 - output1_loss: 0.4258 - output1_mean_absolute_error: 0.6511 - output2_loss: 0.2361 - output2_mean_squared_error: 0.2361 - val_loss: 0.5631 - val_output1_loss: 0.3180 - val_output1_mean_absolute_error: 0.5633 - val_output2_loss: 0.2446 - val_output2_mean_squared_error: 0.2447\n",
            "Epoch 27/100\n",
            "\u001b[1m522/522\u001b[0m \u001b[32m━━━━━━━━━━━━━━━━━━━━\u001b[0m\u001b[37m\u001b[0m \u001b[1m2s\u001b[0m 3ms/step - loss: 0.6620 - output1_loss: 0.4263 - output1_mean_absolute_error: 0.6515 - output2_loss: 0.2357 - output2_mean_squared_error: 0.2357 - val_loss: 0.5651 - val_output1_loss: 0.3180 - val_output1_mean_absolute_error: 0.5633 - val_output2_loss: 0.2467 - val_output2_mean_squared_error: 0.2468\n",
            "Epoch 28/100\n",
            "\u001b[1m522/522\u001b[0m \u001b[32m━━━━━━━━━━━━━━━━━━━━\u001b[0m\u001b[37m\u001b[0m \u001b[1m2s\u001b[0m 3ms/step - loss: 0.6618 - output1_loss: 0.4260 - output1_mean_absolute_error: 0.6513 - output2_loss: 0.2358 - output2_mean_squared_error: 0.2358 - val_loss: 0.5658 - val_output1_loss: 0.3180 - val_output1_mean_absolute_error: 0.5633 - val_output2_loss: 0.2474 - val_output2_mean_squared_error: 0.2475\n",
            "Epoch 29/100\n",
            "\u001b[1m522/522\u001b[0m \u001b[32m━━━━━━━━━━━━━━━━━━━━\u001b[0m\u001b[37m\u001b[0m \u001b[1m3s\u001b[0m 4ms/step - loss: 0.6624 - output1_loss: 0.4265 - output1_mean_absolute_error: 0.6517 - output2_loss: 0.2359 - output2_mean_squared_error: 0.2359 - val_loss: 0.5621 - val_output1_loss: 0.3180 - val_output1_mean_absolute_error: 0.5633 - val_output2_loss: 0.2437 - val_output2_mean_squared_error: 0.2438\n",
            "Epoch 30/100\n",
            "\u001b[1m522/522\u001b[0m \u001b[32m━━━━━━━━━━━━━━━━━━━━\u001b[0m\u001b[37m\u001b[0m \u001b[1m2s\u001b[0m 3ms/step - loss: 0.6629 - output1_loss: 0.4266 - output1_mean_absolute_error: 0.6518 - output2_loss: 0.2363 - output2_mean_squared_error: 0.2363 - val_loss: 0.5643 - val_output1_loss: 0.3180 - val_output1_mean_absolute_error: 0.5633 - val_output2_loss: 0.2459 - val_output2_mean_squared_error: 0.2460\n",
            "Epoch 31/100\n",
            "\u001b[1m522/522\u001b[0m \u001b[32m━━━━━━━━━━━━━━━━━━━━\u001b[0m\u001b[37m\u001b[0m \u001b[1m2s\u001b[0m 4ms/step - loss: 0.6614 - output1_loss: 0.4259 - output1_mean_absolute_error: 0.6513 - output2_loss: 0.2354 - output2_mean_squared_error: 0.2354 - val_loss: 0.5689 - val_output1_loss: 0.3180 - val_output1_mean_absolute_error: 0.5633 - val_output2_loss: 0.2505 - val_output2_mean_squared_error: 0.2506\n",
            "Epoch 32/100\n",
            "\u001b[1m522/522\u001b[0m \u001b[32m━━━━━━━━━━━━━━━━━━━━\u001b[0m\u001b[37m\u001b[0m \u001b[1m3s\u001b[0m 6ms/step - loss: 0.6625 - output1_loss: 0.4264 - output1_mean_absolute_error: 0.6516 - output2_loss: 0.2361 - output2_mean_squared_error: 0.2361 - val_loss: 0.5644 - val_output1_loss: 0.3180 - val_output1_mean_absolute_error: 0.5633 - val_output2_loss: 0.2460 - val_output2_mean_squared_error: 0.2460\n",
            "Epoch 33/100\n",
            "\u001b[1m522/522\u001b[0m \u001b[32m━━━━━━━━━━━━━━━━━━━━\u001b[0m\u001b[37m\u001b[0m \u001b[1m2s\u001b[0m 3ms/step - loss: 0.6609 - output1_loss: 0.4258 - output1_mean_absolute_error: 0.6511 - output2_loss: 0.2352 - output2_mean_squared_error: 0.2352 - val_loss: 0.5643 - val_output1_loss: 0.3180 - val_output1_mean_absolute_error: 0.5633 - val_output2_loss: 0.2459 - val_output2_mean_squared_error: 0.2459\n",
            "Epoch 34/100\n",
            "\u001b[1m522/522\u001b[0m \u001b[32m━━━━━━━━━━━━━━━━━━━━\u001b[0m\u001b[37m\u001b[0m \u001b[1m2s\u001b[0m 3ms/step - loss: 0.6615 - output1_loss: 0.4258 - output1_mean_absolute_error: 0.6511 - output2_loss: 0.2357 - output2_mean_squared_error: 0.2357 - val_loss: 0.5645 - val_output1_loss: 0.3180 - val_output1_mean_absolute_error: 0.5633 - val_output2_loss: 0.2461 - val_output2_mean_squared_error: 0.2461\n",
            "Epoch 35/100\n",
            "\u001b[1m522/522\u001b[0m \u001b[32m━━━━━━━━━━━━━━━━━━━━\u001b[0m\u001b[37m\u001b[0m \u001b[1m3s\u001b[0m 3ms/step - loss: 0.6608 - output1_loss: 0.4259 - output1_mean_absolute_error: 0.6512 - output2_loss: 0.2349 - output2_mean_squared_error: 0.2349 - val_loss: 0.5666 - val_output1_loss: 0.3180 - val_output1_mean_absolute_error: 0.5633 - val_output2_loss: 0.2482 - val_output2_mean_squared_error: 0.2482\n",
            "Epoch 36/100\n",
            "\u001b[1m522/522\u001b[0m \u001b[32m━━━━━━━━━━━━━━━━━━━━\u001b[0m\u001b[37m\u001b[0m \u001b[1m2s\u001b[0m 3ms/step - loss: 0.6609 - output1_loss: 0.4256 - output1_mean_absolute_error: 0.6510 - output2_loss: 0.2354 - output2_mean_squared_error: 0.2354 - val_loss: 0.5662 - val_output1_loss: 0.3180 - val_output1_mean_absolute_error: 0.5633 - val_output2_loss: 0.2478 - val_output2_mean_squared_error: 0.2478\n",
            "Epoch 37/100\n",
            "\u001b[1m522/522\u001b[0m \u001b[32m━━━━━━━━━━━━━━━━━━━━\u001b[0m\u001b[37m\u001b[0m \u001b[1m3s\u001b[0m 3ms/step - loss: 0.6624 - output1_loss: 0.4266 - output1_mean_absolute_error: 0.6518 - output2_loss: 0.2358 - output2_mean_squared_error: 0.2358 - val_loss: 0.5660 - val_output1_loss: 0.3180 - val_output1_mean_absolute_error: 0.5633 - val_output2_loss: 0.2476 - val_output2_mean_squared_error: 0.2477\n",
            "Epoch 38/100\n",
            "\u001b[1m522/522\u001b[0m \u001b[32m━━━━━━━━━━━━━━━━━━━━\u001b[0m\u001b[37m\u001b[0m \u001b[1m3s\u001b[0m 6ms/step - loss: 0.6610 - output1_loss: 0.4252 - output1_mean_absolute_error: 0.6507 - output2_loss: 0.2357 - output2_mean_squared_error: 0.2357 - val_loss: 0.5633 - val_output1_loss: 0.3180 - val_output1_mean_absolute_error: 0.5633 - val_output2_loss: 0.2449 - val_output2_mean_squared_error: 0.2450\n",
            "Epoch 39/100\n",
            "\u001b[1m522/522\u001b[0m \u001b[32m━━━━━━━━━━━━━━━━━━━━\u001b[0m\u001b[37m\u001b[0m \u001b[1m2s\u001b[0m 4ms/step - loss: 0.6619 - output1_loss: 0.4259 - output1_mean_absolute_error: 0.6512 - output2_loss: 0.2360 - output2_mean_squared_error: 0.2360 - val_loss: 0.5636 - val_output1_loss: 0.3180 - val_output1_mean_absolute_error: 0.5633 - val_output2_loss: 0.2452 - val_output2_mean_squared_error: 0.2453\n",
            "Epoch 40/100\n",
            "\u001b[1m522/522\u001b[0m \u001b[32m━━━━━━━━━━━━━━━━━━━━\u001b[0m\u001b[37m\u001b[0m \u001b[1m2s\u001b[0m 3ms/step - loss: 0.6620 - output1_loss: 0.4261 - output1_mean_absolute_error: 0.6514 - output2_loss: 0.2359 - output2_mean_squared_error: 0.2359 - val_loss: 0.5638 - val_output1_loss: 0.3180 - val_output1_mean_absolute_error: 0.5633 - val_output2_loss: 0.2454 - val_output2_mean_squared_error: 0.2455\n",
            "Epoch 41/100\n",
            "\u001b[1m522/522\u001b[0m \u001b[32m━━━━━━━━━━━━━━━━━━━━\u001b[0m\u001b[37m\u001b[0m \u001b[1m2s\u001b[0m 4ms/step - loss: 0.6608 - output1_loss: 0.4262 - output1_mean_absolute_error: 0.6515 - output2_loss: 0.2346 - output2_mean_squared_error: 0.2346 - val_loss: 0.5647 - val_output1_loss: 0.3180 - val_output1_mean_absolute_error: 0.5633 - val_output2_loss: 0.2463 - val_output2_mean_squared_error: 0.2464\n",
            "Epoch 42/100\n",
            "\u001b[1m522/522\u001b[0m \u001b[32m━━━━━━━━━━━━━━━━━━━━\u001b[0m\u001b[37m\u001b[0m \u001b[1m3s\u001b[0m 5ms/step - loss: 0.6619 - output1_loss: 0.4266 - output1_mean_absolute_error: 0.6518 - output2_loss: 0.2353 - output2_mean_squared_error: 0.2353 - val_loss: 0.5659 - val_output1_loss: 0.3180 - val_output1_mean_absolute_error: 0.5633 - val_output2_loss: 0.2475 - val_output2_mean_squared_error: 0.2476\n",
            "Epoch 43/100\n",
            "\u001b[1m522/522\u001b[0m \u001b[32m━━━━━━━━━━━━━━━━━━━━\u001b[0m\u001b[37m\u001b[0m \u001b[1m3s\u001b[0m 5ms/step - loss: 0.6607 - output1_loss: 0.4259 - output1_mean_absolute_error: 0.6512 - output2_loss: 0.2349 - output2_mean_squared_error: 0.2349 - val_loss: 0.5649 - val_output1_loss: 0.3180 - val_output1_mean_absolute_error: 0.5633 - val_output2_loss: 0.2465 - val_output2_mean_squared_error: 0.2466\n",
            "Epoch 44/100\n",
            "\u001b[1m522/522\u001b[0m \u001b[32m━━━━━━━━━━━━━━━━━━━━\u001b[0m\u001b[37m\u001b[0m \u001b[1m4s\u001b[0m 8ms/step - loss: 0.6618 - output1_loss: 0.4262 - output1_mean_absolute_error: 0.6515 - output2_loss: 0.2355 - output2_mean_squared_error: 0.2355 - val_loss: 0.5631 - val_output1_loss: 0.3180 - val_output1_mean_absolute_error: 0.5633 - val_output2_loss: 0.2448 - val_output2_mean_squared_error: 0.2448\n",
            "Epoch 45/100\n",
            "\u001b[1m522/522\u001b[0m \u001b[32m━━━━━━━━━━━━━━━━━━━━\u001b[0m\u001b[37m\u001b[0m \u001b[1m2s\u001b[0m 4ms/step - loss: 0.6606 - output1_loss: 0.4257 - output1_mean_absolute_error: 0.6511 - output2_loss: 0.2349 - output2_mean_squared_error: 0.2349 - val_loss: 0.5677 - val_output1_loss: 0.3180 - val_output1_mean_absolute_error: 0.5633 - val_output2_loss: 0.2493 - val_output2_mean_squared_error: 0.2494\n",
            "Epoch 46/100\n",
            "\u001b[1m522/522\u001b[0m \u001b[32m━━━━━━━━━━━━━━━━━━━━\u001b[0m\u001b[37m\u001b[0m \u001b[1m2s\u001b[0m 4ms/step - loss: 0.6612 - output1_loss: 0.4259 - output1_mean_absolute_error: 0.6512 - output2_loss: 0.2353 - output2_mean_squared_error: 0.2353 - val_loss: 0.5659 - val_output1_loss: 0.3180 - val_output1_mean_absolute_error: 0.5633 - val_output2_loss: 0.2475 - val_output2_mean_squared_error: 0.2475\n",
            "Epoch 47/100\n",
            "\u001b[1m522/522\u001b[0m \u001b[32m━━━━━━━━━━━━━━━━━━━━\u001b[0m\u001b[37m\u001b[0m \u001b[1m2s\u001b[0m 3ms/step - loss: 0.6617 - output1_loss: 0.4268 - output1_mean_absolute_error: 0.6519 - output2_loss: 0.2349 - output2_mean_squared_error: 0.2349 - val_loss: 0.5652 - val_output1_loss: 0.3180 - val_output1_mean_absolute_error: 0.5633 - val_output2_loss: 0.2469 - val_output2_mean_squared_error: 0.2469\n",
            "Epoch 48/100\n",
            "\u001b[1m522/522\u001b[0m \u001b[32m━━━━━━━━━━━━━━━━━━━━\u001b[0m\u001b[37m\u001b[0m \u001b[1m3s\u001b[0m 4ms/step - loss: 0.6603 - output1_loss: 0.4255 - output1_mean_absolute_error: 0.6509 - output2_loss: 0.2348 - output2_mean_squared_error: 0.2348 - val_loss: 0.5664 - val_output1_loss: 0.3180 - val_output1_mean_absolute_error: 0.5633 - val_output2_loss: 0.2481 - val_output2_mean_squared_error: 0.2481\n",
            "Epoch 49/100\n",
            "\u001b[1m522/522\u001b[0m \u001b[32m━━━━━━━━━━━━━━━━━━━━\u001b[0m\u001b[37m\u001b[0m \u001b[1m4s\u001b[0m 6ms/step - loss: 0.6611 - output1_loss: 0.4258 - output1_mean_absolute_error: 0.6512 - output2_loss: 0.2353 - output2_mean_squared_error: 0.2353 - val_loss: 0.5684 - val_output1_loss: 0.3180 - val_output1_mean_absolute_error: 0.5633 - val_output2_loss: 0.2501 - val_output2_mean_squared_error: 0.2501\n",
            "Epoch 50/100\n",
            "\u001b[1m522/522\u001b[0m \u001b[32m━━━━━━━━━━━━━━━━━━━━\u001b[0m\u001b[37m\u001b[0m \u001b[1m4s\u001b[0m 3ms/step - loss: 0.6604 - output1_loss: 0.4260 - output1_mean_absolute_error: 0.6513 - output2_loss: 0.2344 - output2_mean_squared_error: 0.2344 - val_loss: 0.5697 - val_output1_loss: 0.3180 - val_output1_mean_absolute_error: 0.5633 - val_output2_loss: 0.2513 - val_output2_mean_squared_error: 0.2513\n",
            "Epoch 51/100\n",
            "\u001b[1m522/522\u001b[0m \u001b[32m━━━━━━━━━━━━━━━━━━━━\u001b[0m\u001b[37m\u001b[0m \u001b[1m3s\u001b[0m 3ms/step - loss: 0.6606 - output1_loss: 0.4255 - output1_mean_absolute_error: 0.6509 - output2_loss: 0.2351 - output2_mean_squared_error: 0.2351 - val_loss: 0.5653 - val_output1_loss: 0.3180 - val_output1_mean_absolute_error: 0.5633 - val_output2_loss: 0.2469 - val_output2_mean_squared_error: 0.2470\n",
            "Epoch 52/100\n",
            "\u001b[1m522/522\u001b[0m \u001b[32m━━━━━━━━━━━━━━━━━━━━\u001b[0m\u001b[37m\u001b[0m \u001b[1m3s\u001b[0m 4ms/step - loss: 0.6606 - output1_loss: 0.4253 - output1_mean_absolute_error: 0.6508 - output2_loss: 0.2352 - output2_mean_squared_error: 0.2352 - val_loss: 0.5676 - val_output1_loss: 0.3180 - val_output1_mean_absolute_error: 0.5633 - val_output2_loss: 0.2492 - val_output2_mean_squared_error: 0.2493\n",
            "Epoch 53/100\n",
            "\u001b[1m522/522\u001b[0m \u001b[32m━━━━━━━━━━━━━━━━━━━━\u001b[0m\u001b[37m\u001b[0m \u001b[1m2s\u001b[0m 4ms/step - loss: 0.6609 - output1_loss: 0.4260 - output1_mean_absolute_error: 0.6513 - output2_loss: 0.2349 - output2_mean_squared_error: 0.2349 - val_loss: 0.5654 - val_output1_loss: 0.3180 - val_output1_mean_absolute_error: 0.5633 - val_output2_loss: 0.2470 - val_output2_mean_squared_error: 0.2471\n",
            "Epoch 54/100\n",
            "\u001b[1m522/522\u001b[0m \u001b[32m━━━━━━━━━━━━━━━━━━━━\u001b[0m\u001b[37m\u001b[0m \u001b[1m4s\u001b[0m 6ms/step - loss: 0.6612 - output1_loss: 0.4266 - output1_mean_absolute_error: 0.6517 - output2_loss: 0.2347 - output2_mean_squared_error: 0.2347 - val_loss: 0.5687 - val_output1_loss: 0.3180 - val_output1_mean_absolute_error: 0.5633 - val_output2_loss: 0.2504 - val_output2_mean_squared_error: 0.2504\n",
            "Epoch 55/100\n",
            "\u001b[1m522/522\u001b[0m \u001b[32m━━━━━━━━━━━━━━━━━━━━\u001b[0m\u001b[37m\u001b[0m \u001b[1m2s\u001b[0m 3ms/step - loss: 0.6596 - output1_loss: 0.4253 - output1_mean_absolute_error: 0.6508 - output2_loss: 0.2343 - output2_mean_squared_error: 0.2343 - val_loss: 0.5642 - val_output1_loss: 0.3180 - val_output1_mean_absolute_error: 0.5633 - val_output2_loss: 0.2459 - val_output2_mean_squared_error: 0.2459\n",
            "Epoch 56/100\n",
            "\u001b[1m522/522\u001b[0m \u001b[32m━━━━━━━━━━━━━━━━━━━━\u001b[0m\u001b[37m\u001b[0m \u001b[1m3s\u001b[0m 3ms/step - loss: 0.6606 - output1_loss: 0.4264 - output1_mean_absolute_error: 0.6516 - output2_loss: 0.2343 - output2_mean_squared_error: 0.2343 - val_loss: 0.5671 - val_output1_loss: 0.3180 - val_output1_mean_absolute_error: 0.5633 - val_output2_loss: 0.2487 - val_output2_mean_squared_error: 0.2488\n",
            "Epoch 57/100\n",
            "\u001b[1m522/522\u001b[0m \u001b[32m━━━━━━━━━━━━━━━━━━━━\u001b[0m\u001b[37m\u001b[0m \u001b[1m2s\u001b[0m 3ms/step - loss: 0.6602 - output1_loss: 0.4259 - output1_mean_absolute_error: 0.6513 - output2_loss: 0.2343 - output2_mean_squared_error: 0.2343 - val_loss: 0.5668 - val_output1_loss: 0.3180 - val_output1_mean_absolute_error: 0.5633 - val_output2_loss: 0.2485 - val_output2_mean_squared_error: 0.2485\n",
            "Epoch 58/100\n",
            "\u001b[1m522/522\u001b[0m \u001b[32m━━━━━━━━━━━━━━━━━━━━\u001b[0m\u001b[37m\u001b[0m \u001b[1m2s\u001b[0m 3ms/step - loss: 0.6611 - output1_loss: 0.4266 - output1_mean_absolute_error: 0.6517 - output2_loss: 0.2345 - output2_mean_squared_error: 0.2345 - val_loss: 0.5690 - val_output1_loss: 0.3180 - val_output1_mean_absolute_error: 0.5633 - val_output2_loss: 0.2506 - val_output2_mean_squared_error: 0.2507\n",
            "Epoch 59/100\n",
            "\u001b[1m522/522\u001b[0m \u001b[32m━━━━━━━━━━━━━━━━━━━━\u001b[0m\u001b[37m\u001b[0m \u001b[1m3s\u001b[0m 5ms/step - loss: 0.6603 - output1_loss: 0.4262 - output1_mean_absolute_error: 0.6515 - output2_loss: 0.2341 - output2_mean_squared_error: 0.2341 - val_loss: 0.5660 - val_output1_loss: 0.3180 - val_output1_mean_absolute_error: 0.5633 - val_output2_loss: 0.2477 - val_output2_mean_squared_error: 0.2477\n",
            "Epoch 60/100\n",
            "\u001b[1m522/522\u001b[0m \u001b[32m━━━━━━━━━━━━━━━━━━━━\u001b[0m\u001b[37m\u001b[0m \u001b[1m3s\u001b[0m 5ms/step - loss: 0.6596 - output1_loss: 0.4253 - output1_mean_absolute_error: 0.6508 - output2_loss: 0.2342 - output2_mean_squared_error: 0.2342 - val_loss: 0.5660 - val_output1_loss: 0.3180 - val_output1_mean_absolute_error: 0.5633 - val_output2_loss: 0.2476 - val_output2_mean_squared_error: 0.2477\n",
            "Epoch 61/100\n",
            "\u001b[1m522/522\u001b[0m \u001b[32m━━━━━━━━━━━━━━━━━━━━\u001b[0m\u001b[37m\u001b[0m \u001b[1m2s\u001b[0m 3ms/step - loss: 0.6610 - output1_loss: 0.4266 - output1_mean_absolute_error: 0.6517 - output2_loss: 0.2345 - output2_mean_squared_error: 0.2345 - val_loss: 0.5675 - val_output1_loss: 0.3180 - val_output1_mean_absolute_error: 0.5633 - val_output2_loss: 0.2492 - val_output2_mean_squared_error: 0.2492\n",
            "Epoch 62/100\n",
            "\u001b[1m522/522\u001b[0m \u001b[32m━━━━━━━━━━━━━━━━━━━━\u001b[0m\u001b[37m\u001b[0m \u001b[1m3s\u001b[0m 3ms/step - loss: 0.6604 - output1_loss: 0.4262 - output1_mean_absolute_error: 0.6515 - output2_loss: 0.2342 - output2_mean_squared_error: 0.2342 - val_loss: 0.5669 - val_output1_loss: 0.3180 - val_output1_mean_absolute_error: 0.5633 - val_output2_loss: 0.2485 - val_output2_mean_squared_error: 0.2485\n",
            "Epoch 63/100\n",
            "\u001b[1m522/522\u001b[0m \u001b[32m━━━━━━━━━━━━━━━━━━━━\u001b[0m\u001b[37m\u001b[0m \u001b[1m3s\u001b[0m 3ms/step - loss: 0.6604 - output1_loss: 0.4262 - output1_mean_absolute_error: 0.6514 - output2_loss: 0.2342 - output2_mean_squared_error: 0.2342 - val_loss: 0.5669 - val_output1_loss: 0.3180 - val_output1_mean_absolute_error: 0.5633 - val_output2_loss: 0.2485 - val_output2_mean_squared_error: 0.2485\n",
            "Epoch 64/100\n",
            "\u001b[1m522/522\u001b[0m \u001b[32m━━━━━━━━━━━━━━━━━━━━\u001b[0m\u001b[37m\u001b[0m \u001b[1m2s\u001b[0m 3ms/step - loss: 0.6611 - output1_loss: 0.4265 - output1_mean_absolute_error: 0.6517 - output2_loss: 0.2346 - output2_mean_squared_error: 0.2346 - val_loss: 0.5676 - val_output1_loss: 0.3180 - val_output1_mean_absolute_error: 0.5633 - val_output2_loss: 0.2493 - val_output2_mean_squared_error: 0.2492\n",
            "Epoch 65/100\n",
            "\u001b[1m522/522\u001b[0m \u001b[32m━━━━━━━━━━━━━━━━━━━━\u001b[0m\u001b[37m\u001b[0m \u001b[1m3s\u001b[0m 5ms/step - loss: 0.6599 - output1_loss: 0.4257 - output1_mean_absolute_error: 0.6511 - output2_loss: 0.2342 - output2_mean_squared_error: 0.2342 - val_loss: 0.5673 - val_output1_loss: 0.3180 - val_output1_mean_absolute_error: 0.5633 - val_output2_loss: 0.2489 - val_output2_mean_squared_error: 0.2490\n",
            "Epoch 66/100\n",
            "\u001b[1m522/522\u001b[0m \u001b[32m━━━━━━━━━━━━━━━━━━━━\u001b[0m\u001b[37m\u001b[0m \u001b[1m4s\u001b[0m 3ms/step - loss: 0.6604 - output1_loss: 0.4263 - output1_mean_absolute_error: 0.6516 - output2_loss: 0.2341 - output2_mean_squared_error: 0.2341 - val_loss: 0.5661 - val_output1_loss: 0.3180 - val_output1_mean_absolute_error: 0.5633 - val_output2_loss: 0.2477 - val_output2_mean_squared_error: 0.2477\n",
            "Epoch 67/100\n",
            "\u001b[1m522/522\u001b[0m \u001b[32m━━━━━━━━━━━━━━━━━━━━\u001b[0m\u001b[37m\u001b[0m \u001b[1m2s\u001b[0m 3ms/step - loss: 0.6614 - output1_loss: 0.4260 - output1_mean_absolute_error: 0.6513 - output2_loss: 0.2354 - output2_mean_squared_error: 0.2354 - val_loss: 0.5736 - val_output1_loss: 0.3180 - val_output1_mean_absolute_error: 0.5633 - val_output2_loss: 0.2553 - val_output2_mean_squared_error: 0.2552\n",
            "Epoch 68/100\n",
            "\u001b[1m522/522\u001b[0m \u001b[32m━━━━━━━━━━━━━━━━━━━━\u001b[0m\u001b[37m\u001b[0m \u001b[1m3s\u001b[0m 3ms/step - loss: 0.6605 - output1_loss: 0.4262 - output1_mean_absolute_error: 0.6514 - output2_loss: 0.2343 - output2_mean_squared_error: 0.2343 - val_loss: 0.5710 - val_output1_loss: 0.3180 - val_output1_mean_absolute_error: 0.5633 - val_output2_loss: 0.2526 - val_output2_mean_squared_error: 0.2526\n",
            "Epoch 69/100\n",
            "\u001b[1m522/522\u001b[0m \u001b[32m━━━━━━━━━━━━━━━━━━━━\u001b[0m\u001b[37m\u001b[0m \u001b[1m3s\u001b[0m 5ms/step - loss: 0.6592 - output1_loss: 0.4253 - output1_mean_absolute_error: 0.6508 - output2_loss: 0.2339 - output2_mean_squared_error: 0.2339 - val_loss: 0.5684 - val_output1_loss: 0.3180 - val_output1_mean_absolute_error: 0.5633 - val_output2_loss: 0.2500 - val_output2_mean_squared_error: 0.2500\n",
            "Epoch 70/100\n",
            "\u001b[1m522/522\u001b[0m \u001b[32m━━━━━━━━━━━━━━━━━━━━\u001b[0m\u001b[37m\u001b[0m \u001b[1m3s\u001b[0m 6ms/step - loss: 0.6600 - output1_loss: 0.4255 - output1_mean_absolute_error: 0.6510 - output2_loss: 0.2345 - output2_mean_squared_error: 0.2345 - val_loss: 0.5701 - val_output1_loss: 0.3180 - val_output1_mean_absolute_error: 0.5633 - val_output2_loss: 0.2518 - val_output2_mean_squared_error: 0.2517\n",
            "Epoch 71/100\n",
            "\u001b[1m522/522\u001b[0m \u001b[32m━━━━━━━━━━━━━━━━━━━━\u001b[0m\u001b[37m\u001b[0m \u001b[1m4s\u001b[0m 3ms/step - loss: 0.6600 - output1_loss: 0.4258 - output1_mean_absolute_error: 0.6512 - output2_loss: 0.2342 - output2_mean_squared_error: 0.2342 - val_loss: 0.5697 - val_output1_loss: 0.3180 - val_output1_mean_absolute_error: 0.5633 - val_output2_loss: 0.2513 - val_output2_mean_squared_error: 0.2513\n",
            "Epoch 72/100\n",
            "\u001b[1m522/522\u001b[0m \u001b[32m━━━━━━━━━━━━━━━━━━━━\u001b[0m\u001b[37m\u001b[0m \u001b[1m3s\u001b[0m 4ms/step - loss: 0.6601 - output1_loss: 0.4259 - output1_mean_absolute_error: 0.6513 - output2_loss: 0.2341 - output2_mean_squared_error: 0.2341 - val_loss: 0.5694 - val_output1_loss: 0.3180 - val_output1_mean_absolute_error: 0.5633 - val_output2_loss: 0.2511 - val_output2_mean_squared_error: 0.2511\n",
            "Epoch 73/100\n",
            "\u001b[1m522/522\u001b[0m \u001b[32m━━━━━━━━━━━━━━━━━━━━\u001b[0m\u001b[37m\u001b[0m \u001b[1m2s\u001b[0m 3ms/step - loss: 0.6592 - output1_loss: 0.4256 - output1_mean_absolute_error: 0.6510 - output2_loss: 0.2336 - output2_mean_squared_error: 0.2336 - val_loss: 0.5692 - val_output1_loss: 0.3180 - val_output1_mean_absolute_error: 0.5633 - val_output2_loss: 0.2510 - val_output2_mean_squared_error: 0.2509\n",
            "Epoch 74/100\n",
            "\u001b[1m522/522\u001b[0m \u001b[32m━━━━━━━━━━━━━━━━━━━━\u001b[0m\u001b[37m\u001b[0m \u001b[1m6s\u001b[0m 9ms/step - loss: 0.6611 - output1_loss: 0.4265 - output1_mean_absolute_error: 0.6517 - output2_loss: 0.2345 - output2_mean_squared_error: 0.2345 - val_loss: 0.5685 - val_output1_loss: 0.3180 - val_output1_mean_absolute_error: 0.5633 - val_output2_loss: 0.2501 - val_output2_mean_squared_error: 0.2501\n",
            "Epoch 75/100\n",
            "\u001b[1m522/522\u001b[0m \u001b[32m━━━━━━━━━━━━━━━━━━━━\u001b[0m\u001b[37m\u001b[0m \u001b[1m5s\u001b[0m 9ms/step - loss: 0.6611 - output1_loss: 0.4267 - output1_mean_absolute_error: 0.6518 - output2_loss: 0.2344 - output2_mean_squared_error: 0.2344 - val_loss: 0.5671 - val_output1_loss: 0.3180 - val_output1_mean_absolute_error: 0.5633 - val_output2_loss: 0.2488 - val_output2_mean_squared_error: 0.2488\n",
            "Epoch 76/100\n",
            "\u001b[1m522/522\u001b[0m \u001b[32m━━━━━━━━━━━━━━━━━━━━\u001b[0m\u001b[37m\u001b[0m \u001b[1m2s\u001b[0m 3ms/step - loss: 0.6600 - output1_loss: 0.4260 - output1_mean_absolute_error: 0.6513 - output2_loss: 0.2340 - output2_mean_squared_error: 0.2340 - val_loss: 0.5687 - val_output1_loss: 0.3180 - val_output1_mean_absolute_error: 0.5633 - val_output2_loss: 0.2503 - val_output2_mean_squared_error: 0.2503\n",
            "Epoch 77/100\n",
            "\u001b[1m522/522\u001b[0m \u001b[32m━━━━━━━━━━━━━━━━━━━━\u001b[0m\u001b[37m\u001b[0m \u001b[1m2s\u001b[0m 3ms/step - loss: 0.6595 - output1_loss: 0.4260 - output1_mean_absolute_error: 0.6513 - output2_loss: 0.2335 - output2_mean_squared_error: 0.2335 - val_loss: 0.5689 - val_output1_loss: 0.3180 - val_output1_mean_absolute_error: 0.5633 - val_output2_loss: 0.2506 - val_output2_mean_squared_error: 0.2506\n",
            "Epoch 78/100\n",
            "\u001b[1m522/522\u001b[0m \u001b[32m━━━━━━━━━━━━━━━━━━━━\u001b[0m\u001b[37m\u001b[0m \u001b[1m2s\u001b[0m 3ms/step - loss: 0.6603 - output1_loss: 0.4265 - output1_mean_absolute_error: 0.6517 - output2_loss: 0.2339 - output2_mean_squared_error: 0.2339 - val_loss: 0.5671 - val_output1_loss: 0.3180 - val_output1_mean_absolute_error: 0.5633 - val_output2_loss: 0.2488 - val_output2_mean_squared_error: 0.2488\n",
            "Epoch 79/100\n",
            "\u001b[1m522/522\u001b[0m \u001b[32m━━━━━━━━━━━━━━━━━━━━\u001b[0m\u001b[37m\u001b[0m \u001b[1m3s\u001b[0m 5ms/step - loss: 0.6595 - output1_loss: 0.4255 - output1_mean_absolute_error: 0.6509 - output2_loss: 0.2340 - output2_mean_squared_error: 0.2340 - val_loss: 0.5703 - val_output1_loss: 0.3180 - val_output1_mean_absolute_error: 0.5633 - val_output2_loss: 0.2519 - val_output2_mean_squared_error: 0.2519\n",
            "Epoch 80/100\n",
            "\u001b[1m522/522\u001b[0m \u001b[32m━━━━━━━━━━━━━━━━━━━━\u001b[0m\u001b[37m\u001b[0m \u001b[1m4s\u001b[0m 3ms/step - loss: 0.6600 - output1_loss: 0.4260 - output1_mean_absolute_error: 0.6513 - output2_loss: 0.2341 - output2_mean_squared_error: 0.2341 - val_loss: 0.5730 - val_output1_loss: 0.3180 - val_output1_mean_absolute_error: 0.5633 - val_output2_loss: 0.2547 - val_output2_mean_squared_error: 0.2547\n",
            "Epoch 81/100\n",
            "\u001b[1m522/522\u001b[0m \u001b[32m━━━━━━━━━━━━━━━━━━━━\u001b[0m\u001b[37m\u001b[0m \u001b[1m2s\u001b[0m 4ms/step - loss: 0.6598 - output1_loss: 0.4257 - output1_mean_absolute_error: 0.6511 - output2_loss: 0.2341 - output2_mean_squared_error: 0.2341 - val_loss: 0.5670 - val_output1_loss: 0.3180 - val_output1_mean_absolute_error: 0.5633 - val_output2_loss: 0.2487 - val_output2_mean_squared_error: 0.2487\n",
            "Epoch 82/100\n",
            "\u001b[1m522/522\u001b[0m \u001b[32m━━━━━━━━━━━━━━━━━━━━\u001b[0m\u001b[37m\u001b[0m \u001b[1m2s\u001b[0m 3ms/step - loss: 0.6597 - output1_loss: 0.4259 - output1_mean_absolute_error: 0.6512 - output2_loss: 0.2339 - output2_mean_squared_error: 0.2339 - val_loss: 0.5731 - val_output1_loss: 0.3180 - val_output1_mean_absolute_error: 0.5633 - val_output2_loss: 0.2548 - val_output2_mean_squared_error: 0.2548\n",
            "Epoch 83/100\n",
            "\u001b[1m522/522\u001b[0m \u001b[32m━━━━━━━━━━━━━━━━━━━━\u001b[0m\u001b[37m\u001b[0m \u001b[1m2s\u001b[0m 3ms/step - loss: 0.6602 - output1_loss: 0.4262 - output1_mean_absolute_error: 0.6514 - output2_loss: 0.2341 - output2_mean_squared_error: 0.2341 - val_loss: 0.5724 - val_output1_loss: 0.3180 - val_output1_mean_absolute_error: 0.5633 - val_output2_loss: 0.2541 - val_output2_mean_squared_error: 0.2541\n",
            "Epoch 84/100\n",
            "\u001b[1m522/522\u001b[0m \u001b[32m━━━━━━━━━━━━━━━━━━━━\u001b[0m\u001b[37m\u001b[0m \u001b[1m3s\u001b[0m 6ms/step - loss: 0.6596 - output1_loss: 0.4261 - output1_mean_absolute_error: 0.6514 - output2_loss: 0.2335 - output2_mean_squared_error: 0.2335 - val_loss: 0.5692 - val_output1_loss: 0.3180 - val_output1_mean_absolute_error: 0.5633 - val_output2_loss: 0.2509 - val_output2_mean_squared_error: 0.2508\n",
            "Epoch 85/100\n",
            "\u001b[1m522/522\u001b[0m \u001b[32m━━━━━━━━━━━━━━━━━━━━\u001b[0m\u001b[37m\u001b[0m \u001b[1m3s\u001b[0m 5ms/step - loss: 0.6606 - output1_loss: 0.4268 - output1_mean_absolute_error: 0.6520 - output2_loss: 0.2338 - output2_mean_squared_error: 0.2338 - val_loss: 0.5671 - val_output1_loss: 0.3180 - val_output1_mean_absolute_error: 0.5633 - val_output2_loss: 0.2487 - val_output2_mean_squared_error: 0.2487\n",
            "Epoch 86/100\n",
            "\u001b[1m522/522\u001b[0m \u001b[32m━━━━━━━━━━━━━━━━━━━━\u001b[0m\u001b[37m\u001b[0m \u001b[1m2s\u001b[0m 3ms/step - loss: 0.6598 - output1_loss: 0.4262 - output1_mean_absolute_error: 0.6515 - output2_loss: 0.2336 - output2_mean_squared_error: 0.2336 - val_loss: 0.5688 - val_output1_loss: 0.3180 - val_output1_mean_absolute_error: 0.5633 - val_output2_loss: 0.2505 - val_output2_mean_squared_error: 0.2504\n",
            "Epoch 87/100\n",
            "\u001b[1m522/522\u001b[0m \u001b[32m━━━━━━━━━━━━━━━━━━━━\u001b[0m\u001b[37m\u001b[0m \u001b[1m3s\u001b[0m 4ms/step - loss: 0.6589 - output1_loss: 0.4252 - output1_mean_absolute_error: 0.6507 - output2_loss: 0.2337 - output2_mean_squared_error: 0.2337 - val_loss: 0.5663 - val_output1_loss: 0.3180 - val_output1_mean_absolute_error: 0.5633 - val_output2_loss: 0.2479 - val_output2_mean_squared_error: 0.2480\n",
            "Epoch 88/100\n",
            "\u001b[1m522/522\u001b[0m \u001b[32m━━━━━━━━━━━━━━━━━━━━\u001b[0m\u001b[37m\u001b[0m \u001b[1m4s\u001b[0m 6ms/step - loss: 0.6600 - output1_loss: 0.4263 - output1_mean_absolute_error: 0.6516 - output2_loss: 0.2337 - output2_mean_squared_error: 0.2337 - val_loss: 0.5775 - val_output1_loss: 0.3180 - val_output1_mean_absolute_error: 0.5633 - val_output2_loss: 0.2592 - val_output2_mean_squared_error: 0.2592\n",
            "Epoch 89/100\n",
            "\u001b[1m522/522\u001b[0m \u001b[32m━━━━━━━━━━━━━━━━━━━━\u001b[0m\u001b[37m\u001b[0m \u001b[1m5s\u001b[0m 6ms/step - loss: 0.6601 - output1_loss: 0.4260 - output1_mean_absolute_error: 0.6513 - output2_loss: 0.2341 - output2_mean_squared_error: 0.2341 - val_loss: 0.5706 - val_output1_loss: 0.3180 - val_output1_mean_absolute_error: 0.5633 - val_output2_loss: 0.2523 - val_output2_mean_squared_error: 0.2523\n",
            "Epoch 90/100\n",
            "\u001b[1m522/522\u001b[0m \u001b[32m━━━━━━━━━━━━━━━━━━━━\u001b[0m\u001b[37m\u001b[0m \u001b[1m2s\u001b[0m 4ms/step - loss: 0.6596 - output1_loss: 0.4262 - output1_mean_absolute_error: 0.6515 - output2_loss: 0.2334 - output2_mean_squared_error: 0.2334 - val_loss: 0.5700 - val_output1_loss: 0.3180 - val_output1_mean_absolute_error: 0.5633 - val_output2_loss: 0.2517 - val_output2_mean_squared_error: 0.2517\n",
            "Epoch 91/100\n",
            "\u001b[1m522/522\u001b[0m \u001b[32m━━━━━━━━━━━━━━━━━━━━\u001b[0m\u001b[37m\u001b[0m \u001b[1m2s\u001b[0m 3ms/step - loss: 0.6598 - output1_loss: 0.4260 - output1_mean_absolute_error: 0.6513 - output2_loss: 0.2337 - output2_mean_squared_error: 0.2337 - val_loss: 0.5749 - val_output1_loss: 0.3180 - val_output1_mean_absolute_error: 0.5633 - val_output2_loss: 0.2566 - val_output2_mean_squared_error: 0.2566\n",
            "Epoch 92/100\n",
            "\u001b[1m522/522\u001b[0m \u001b[32m━━━━━━━━━━━━━━━━━━━━\u001b[0m\u001b[37m\u001b[0m \u001b[1m3s\u001b[0m 4ms/step - loss: 0.6602 - output1_loss: 0.4262 - output1_mean_absolute_error: 0.6515 - output2_loss: 0.2340 - output2_mean_squared_error: 0.2340 - val_loss: 0.5683 - val_output1_loss: 0.3180 - val_output1_mean_absolute_error: 0.5633 - val_output2_loss: 0.2499 - val_output2_mean_squared_error: 0.2500\n",
            "Epoch 93/100\n",
            "\u001b[1m522/522\u001b[0m \u001b[32m━━━━━━━━━━━━━━━━━━━━\u001b[0m\u001b[37m\u001b[0m \u001b[1m2s\u001b[0m 3ms/step - loss: 0.6591 - output1_loss: 0.4254 - output1_mean_absolute_error: 0.6508 - output2_loss: 0.2337 - output2_mean_squared_error: 0.2337 - val_loss: 0.5755 - val_output1_loss: 0.3180 - val_output1_mean_absolute_error: 0.5633 - val_output2_loss: 0.2572 - val_output2_mean_squared_error: 0.2571\n",
            "Epoch 94/100\n",
            "\u001b[1m522/522\u001b[0m \u001b[32m━━━━━━━━━━━━━━━━━━━━\u001b[0m\u001b[37m\u001b[0m \u001b[1m3s\u001b[0m 5ms/step - loss: 0.6604 - output1_loss: 0.4262 - output1_mean_absolute_error: 0.6515 - output2_loss: 0.2342 - output2_mean_squared_error: 0.2342 - val_loss: 0.5733 - val_output1_loss: 0.3180 - val_output1_mean_absolute_error: 0.5633 - val_output2_loss: 0.2551 - val_output2_mean_squared_error: 0.2550\n",
            "Epoch 95/100\n",
            "\u001b[1m522/522\u001b[0m \u001b[32m━━━━━━━━━━━━━━━━━━━━\u001b[0m\u001b[37m\u001b[0m \u001b[1m3s\u001b[0m 6ms/step - loss: 0.6608 - output1_loss: 0.4267 - output1_mean_absolute_error: 0.6518 - output2_loss: 0.2342 - output2_mean_squared_error: 0.2342 - val_loss: 0.5755 - val_output1_loss: 0.3180 - val_output1_mean_absolute_error: 0.5633 - val_output2_loss: 0.2571 - val_output2_mean_squared_error: 0.2571\n",
            "Epoch 96/100\n",
            "\u001b[1m522/522\u001b[0m \u001b[32m━━━━━━━━━━━━━━━━━━━━\u001b[0m\u001b[37m\u001b[0m \u001b[1m4s\u001b[0m 3ms/step - loss: 0.6600 - output1_loss: 0.4260 - output1_mean_absolute_error: 0.6513 - output2_loss: 0.2340 - output2_mean_squared_error: 0.2340 - val_loss: 0.5756 - val_output1_loss: 0.3180 - val_output1_mean_absolute_error: 0.5633 - val_output2_loss: 0.2574 - val_output2_mean_squared_error: 0.2573\n",
            "Epoch 97/100\n",
            "\u001b[1m522/522\u001b[0m \u001b[32m━━━━━━━━━━━━━━━━━━━━\u001b[0m\u001b[37m\u001b[0m \u001b[1m2s\u001b[0m 3ms/step - loss: 0.6599 - output1_loss: 0.4258 - output1_mean_absolute_error: 0.6512 - output2_loss: 0.2341 - output2_mean_squared_error: 0.2341 - val_loss: 0.5680 - val_output1_loss: 0.3180 - val_output1_mean_absolute_error: 0.5633 - val_output2_loss: 0.2497 - val_output2_mean_squared_error: 0.2497\n",
            "Epoch 98/100\n",
            "\u001b[1m522/522\u001b[0m \u001b[32m━━━━━━━━━━━━━━━━━━━━\u001b[0m\u001b[37m\u001b[0m \u001b[1m2s\u001b[0m 4ms/step - loss: 0.6601 - output1_loss: 0.4262 - output1_mean_absolute_error: 0.6514 - output2_loss: 0.2339 - output2_mean_squared_error: 0.2339 - val_loss: 0.5693 - val_output1_loss: 0.3180 - val_output1_mean_absolute_error: 0.5633 - val_output2_loss: 0.2509 - val_output2_mean_squared_error: 0.2509\n",
            "Epoch 99/100\n",
            "\u001b[1m522/522\u001b[0m \u001b[32m━━━━━━━━━━━━━━━━━━━━\u001b[0m\u001b[37m\u001b[0m \u001b[1m3s\u001b[0m 4ms/step - loss: 0.6602 - output1_loss: 0.4264 - output1_mean_absolute_error: 0.6516 - output2_loss: 0.2339 - output2_mean_squared_error: 0.2339 - val_loss: 0.5711 - val_output1_loss: 0.3180 - val_output1_mean_absolute_error: 0.5633 - val_output2_loss: 0.2529 - val_output2_mean_squared_error: 0.2528\n",
            "Epoch 100/100\n",
            "\u001b[1m522/522\u001b[0m \u001b[32m━━━━━━━━━━━━━━━━━━━━\u001b[0m\u001b[37m\u001b[0m \u001b[1m7s\u001b[0m 11ms/step - loss: 0.6596 - output1_loss: 0.4261 - output1_mean_absolute_error: 0.6514 - output2_loss: 0.2335 - output2_mean_squared_error: 0.2335 - val_loss: 0.5724 - val_output1_loss: 0.3180 - val_output1_mean_absolute_error: 0.5633 - val_output2_loss: 0.2542 - val_output2_mean_squared_error: 0.2541\n"
          ]
        },
        {
          "output_type": "execute_result",
          "data": {
            "text/plain": [
              "<keras.src.callbacks.history.History at 0x7abda4a2f070>"
            ]
          },
          "metadata": {},
          "execution_count": 34
        }
      ],
      "source": [
        "\n",
        "input_layer = keras.Input(shape=(input_width,numero_caracteristicas))\n",
        "shared_layer = layers.Dense(32, activation='relu')(input_layer)\n",
        "\n",
        "output1 = layers.Dense(2, activation='softmax', name='output1')(shared_layer)  # Clasificación\n",
        "output2 = layers.Dense(1, activation='linear', name='output2')(shared_layer)  # Regresión\n",
        "\n",
        "modeloDenso = keras.Model(inputs=input_layer, outputs=[output1, output2])\n",
        "\n",
        "modeloDenso.compile(loss=losses.MeanSquaredError(),\n",
        "                  optimizer=optimizers.Adam(),\n",
        "                  metrics=[metrics.MeanAbsoluteError(), metrics.MeanSquaredError()])\n",
        "\n",
        "modeloDenso.fit(x_train,{'output1': y_train1, 'output2': y_train2},callbacks = callback,epochs = 100, validation_split = 0.2)"
      ]
    },
    {
      "cell_type": "code",
      "execution_count": 61,
      "id": "e4a17c9f",
      "metadata": {
        "colab": {
          "base_uri": "https://localhost:8080/"
        },
        "id": "e4a17c9f",
        "outputId": "4b2affb1-9ba5-4bd0-f597-514f30894914"
      },
      "outputs": [
        {
          "output_type": "stream",
          "name": "stdout",
          "text": [
            "\u001b[1m1/1\u001b[0m \u001b[32m━━━━━━━━━━━━━━━━━━━━\u001b[0m\u001b[37m\u001b[0m \u001b[1m0s\u001b[0m 34ms/step - loss: 0.5477 - output1_loss: 0.2619 - output1_mean_absolute_error: 0.5117 - output2_loss: 0.2859 - output2_mean_squared_error: 0.2859\n"
          ]
        }
      ],
      "source": [
        "loss, loss_output1, loss_output2, acc_output1, mae_output2 = modeloDenso.evaluate(\n",
        "    x_test,\n",
        "    {'output1': y_test1, 'output2': y_test2}\n",
        ")"
      ]
    },
    {
      "cell_type": "code",
      "execution_count": null,
      "id": "dd060378",
      "metadata": {
        "id": "dd060378"
      },
      "outputs": [],
      "source": []
    },
    {
      "cell_type": "markdown",
      "id": "d4d9c8a6-4171-4aa5-b848-4f44d6da44e3",
      "metadata": {
        "id": "d4d9c8a6-4171-4aa5-b848-4f44d6da44e3"
      },
      "source": [
        "### 3.2 LSTM y GRU."
      ]
    },
    {
      "cell_type": "markdown",
      "id": "0421de8b",
      "metadata": {
        "id": "0421de8b"
      },
      "source": [
        "En esta primera usaremos lstm y falta añadir un gru pero con return_sequences = True para que  devuelva la secuencia entera de predicciones"
      ]
    },
    {
      "cell_type": "code",
      "source": [
        "input_layer = keras.Input(shape=(input_width,numero_caracteristicas))\n",
        "shared_layer = layers.LSTM(32, return_sequences = True)(input_layer)\n",
        "\n",
        "output1 = layers.Dense(2, activation='softmax', name='output1')(shared_layer)  # Clasificación\n",
        "output2 = layers.Dense(1, activation='linear', name='output2')(shared_layer)  # Regresión\n",
        "\n",
        "modeloLSTM = keras.Model(inputs=input_layer, outputs=[output1, output2])\n",
        "\n",
        "modeloLSTM.compile(loss=losses.MeanSquaredError(),\n",
        "                  optimizer=optimizers.Adam(),\n",
        "                  metrics=[metrics.MeanAbsoluteError(),metrics.BinaryAccuracy()])"
      ],
      "metadata": {
        "id": "lbbWlY89cBqd"
      },
      "id": "lbbWlY89cBqd",
      "execution_count": 52,
      "outputs": []
    },
    {
      "cell_type": "code",
      "source": [
        "input_layer = keras.Input(shape=(input_width,numero_caracteristicas))\n",
        "shared_layer = layers.GRU(32, return_sequences = True)(input_layer)\n",
        "\n",
        "output1 = layers.Dense(2, activation='softmax', name='output1')(shared_layer)  # Clasificación\n",
        "output2 = layers.Dense(1, activation='linear', name='output2')(shared_layer)  # Regresión\n",
        "\n",
        "modeloGRU = keras.Model(inputs=input_layer, outputs=[output1, output2])\n",
        "\n",
        "modeloGRU.compile(loss=losses.MeanSquaredError(),\n",
        "                  optimizer=optimizers.Adam(learning_rate=0.01),\n",
        "                  metrics=[metrics.MeanAbsoluteError(),metrics.BinaryAccuracy()])"
      ],
      "metadata": {
        "id": "4BXTAlbxcBs2"
      },
      "id": "4BXTAlbxcBs2",
      "execution_count": 59,
      "outputs": []
    },
    {
      "cell_type": "code",
      "source": [
        "modeloLSTM.fit(x_train,{'output1': y_train1, 'output2': y_train2},callbacks = callback,epochs = 100, validation_split = 0.2)"
      ],
      "metadata": {
        "colab": {
          "base_uri": "https://localhost:8080/"
        },
        "id": "ENEnCUlEcByw",
        "outputId": "8483d31b-e7d3-49d6-f39c-09885f50c15e"
      },
      "id": "ENEnCUlEcByw",
      "execution_count": 54,
      "outputs": [
        {
          "output_type": "stream",
          "name": "stdout",
          "text": [
            "Epoch 1/100\n",
            "\u001b[1m522/522\u001b[0m \u001b[32m━━━━━━━━━━━━━━━━━━━━\u001b[0m\u001b[37m\u001b[0m \u001b[1m8s\u001b[0m 16ms/step - loss: 0.6022 - output1_loss: 0.4255 - output1_mean_absolute_error: 0.6509 - output2_binary_accuracy: 0.7202 - output2_loss: 0.1768 - val_loss: 0.7121 - val_output1_loss: 0.3180 - val_output1_mean_absolute_error: 0.5633 - val_output2_binary_accuracy: 0.5402 - val_output2_loss: 0.3927\n",
            "Epoch 2/100\n",
            "\u001b[1m522/522\u001b[0m \u001b[32m━━━━━━━━━━━━━━━━━━━━\u001b[0m\u001b[37m\u001b[0m \u001b[1m9s\u001b[0m 13ms/step - loss: 0.6028 - output1_loss: 0.4260 - output1_mean_absolute_error: 0.6513 - output2_binary_accuracy: 0.7215 - output2_loss: 0.1767 - val_loss: 0.7165 - val_output1_loss: 0.3180 - val_output1_mean_absolute_error: 0.5633 - val_output2_binary_accuracy: 0.5343 - val_output2_loss: 0.3972\n",
            "Epoch 3/100\n",
            "\u001b[1m522/522\u001b[0m \u001b[32m━━━━━━━━━━━━━━━━━━━━\u001b[0m\u001b[37m\u001b[0m \u001b[1m8s\u001b[0m 16ms/step - loss: 0.6023 - output1_loss: 0.4256 - output1_mean_absolute_error: 0.6510 - output2_binary_accuracy: 0.7207 - output2_loss: 0.1767 - val_loss: 0.7156 - val_output1_loss: 0.3180 - val_output1_mean_absolute_error: 0.5633 - val_output2_binary_accuracy: 0.5349 - val_output2_loss: 0.3963\n",
            "Epoch 4/100\n",
            "\u001b[1m522/522\u001b[0m \u001b[32m━━━━━━━━━━━━━━━━━━━━\u001b[0m\u001b[37m\u001b[0m \u001b[1m7s\u001b[0m 13ms/step - loss: 0.6012 - output1_loss: 0.4256 - output1_mean_absolute_error: 0.6510 - output2_binary_accuracy: 0.7232 - output2_loss: 0.1756 - val_loss: 0.7171 - val_output1_loss: 0.3180 - val_output1_mean_absolute_error: 0.5633 - val_output2_binary_accuracy: 0.5433 - val_output2_loss: 0.3977\n",
            "Epoch 5/100\n",
            "\u001b[1m522/522\u001b[0m \u001b[32m━━━━━━━━━━━━━━━━━━━━\u001b[0m\u001b[37m\u001b[0m \u001b[1m8s\u001b[0m 16ms/step - loss: 0.6025 - output1_loss: 0.4260 - output1_mean_absolute_error: 0.6513 - output2_binary_accuracy: 0.7219 - output2_loss: 0.1765 - val_loss: 0.7215 - val_output1_loss: 0.3180 - val_output1_mean_absolute_error: 0.5633 - val_output2_binary_accuracy: 0.5383 - val_output2_loss: 0.4022\n",
            "Epoch 6/100\n",
            "\u001b[1m522/522\u001b[0m \u001b[32m━━━━━━━━━━━━━━━━━━━━\u001b[0m\u001b[37m\u001b[0m \u001b[1m7s\u001b[0m 13ms/step - loss: 0.6023 - output1_loss: 0.4261 - output1_mean_absolute_error: 0.6514 - output2_binary_accuracy: 0.7221 - output2_loss: 0.1762 - val_loss: 0.7177 - val_output1_loss: 0.3180 - val_output1_mean_absolute_error: 0.5633 - val_output2_binary_accuracy: 0.5445 - val_output2_loss: 0.3984\n",
            "Epoch 7/100\n",
            "\u001b[1m522/522\u001b[0m \u001b[32m━━━━━━━━━━━━━━━━━━━━\u001b[0m\u001b[37m\u001b[0m \u001b[1m10s\u001b[0m 13ms/step - loss: 0.6017 - output1_loss: 0.4262 - output1_mean_absolute_error: 0.6515 - output2_binary_accuracy: 0.7239 - output2_loss: 0.1755 - val_loss: 0.7249 - val_output1_loss: 0.3180 - val_output1_mean_absolute_error: 0.5633 - val_output2_binary_accuracy: 0.5406 - val_output2_loss: 0.4054\n",
            "Epoch 8/100\n",
            "\u001b[1m522/522\u001b[0m \u001b[32m━━━━━━━━━━━━━━━━━━━━\u001b[0m\u001b[37m\u001b[0m \u001b[1m11s\u001b[0m 15ms/step - loss: 0.6010 - output1_loss: 0.4254 - output1_mean_absolute_error: 0.6509 - output2_binary_accuracy: 0.7235 - output2_loss: 0.1756 - val_loss: 0.7274 - val_output1_loss: 0.3180 - val_output1_mean_absolute_error: 0.5633 - val_output2_binary_accuracy: 0.5383 - val_output2_loss: 0.4079\n",
            "Epoch 9/100\n",
            "\u001b[1m522/522\u001b[0m \u001b[32m━━━━━━━━━━━━━━━━━━━━\u001b[0m\u001b[37m\u001b[0m \u001b[1m8s\u001b[0m 15ms/step - loss: 0.6016 - output1_loss: 0.4258 - output1_mean_absolute_error: 0.6511 - output2_binary_accuracy: 0.7234 - output2_loss: 0.1759 - val_loss: 0.7283 - val_output1_loss: 0.3180 - val_output1_mean_absolute_error: 0.5633 - val_output2_binary_accuracy: 0.5354 - val_output2_loss: 0.4089\n",
            "Epoch 10/100\n",
            "\u001b[1m522/522\u001b[0m \u001b[32m━━━━━━━━━━━━━━━━━━━━\u001b[0m\u001b[37m\u001b[0m \u001b[1m9s\u001b[0m 17ms/step - loss: 0.6010 - output1_loss: 0.4259 - output1_mean_absolute_error: 0.6513 - output2_binary_accuracy: 0.7242 - output2_loss: 0.1751 - val_loss: 0.7196 - val_output1_loss: 0.3180 - val_output1_mean_absolute_error: 0.5633 - val_output2_binary_accuracy: 0.5350 - val_output2_loss: 0.4003\n",
            "Epoch 11/100\n",
            "\u001b[1m522/522\u001b[0m \u001b[32m━━━━━━━━━━━━━━━━━━━━\u001b[0m\u001b[37m\u001b[0m \u001b[1m10s\u001b[0m 16ms/step - loss: 0.6006 - output1_loss: 0.4261 - output1_mean_absolute_error: 0.6514 - output2_binary_accuracy: 0.7245 - output2_loss: 0.1745 - val_loss: 0.7246 - val_output1_loss: 0.3180 - val_output1_mean_absolute_error: 0.5633 - val_output2_binary_accuracy: 0.5399 - val_output2_loss: 0.4053\n",
            "Epoch 12/100\n",
            "\u001b[1m522/522\u001b[0m \u001b[32m━━━━━━━━━━━━━━━━━━━━\u001b[0m\u001b[37m\u001b[0m \u001b[1m9s\u001b[0m 13ms/step - loss: 0.6007 - output1_loss: 0.4267 - output1_mean_absolute_error: 0.6519 - output2_binary_accuracy: 0.7268 - output2_loss: 0.1740 - val_loss: 0.7268 - val_output1_loss: 0.3180 - val_output1_mean_absolute_error: 0.5633 - val_output2_binary_accuracy: 0.5324 - val_output2_loss: 0.4075\n",
            "Epoch 13/100\n",
            "\u001b[1m522/522\u001b[0m \u001b[32m━━━━━━━━━━━━━━━━━━━━\u001b[0m\u001b[37m\u001b[0m \u001b[1m8s\u001b[0m 16ms/step - loss: 0.6004 - output1_loss: 0.4260 - output1_mean_absolute_error: 0.6513 - output2_binary_accuracy: 0.7255 - output2_loss: 0.1744 - val_loss: 0.7241 - val_output1_loss: 0.3180 - val_output1_mean_absolute_error: 0.5633 - val_output2_binary_accuracy: 0.5423 - val_output2_loss: 0.4048\n",
            "Epoch 14/100\n",
            "\u001b[1m522/522\u001b[0m \u001b[32m━━━━━━━━━━━━━━━━━━━━\u001b[0m\u001b[37m\u001b[0m \u001b[1m7s\u001b[0m 14ms/step - loss: 0.5991 - output1_loss: 0.4255 - output1_mean_absolute_error: 0.6509 - output2_binary_accuracy: 0.7262 - output2_loss: 0.1737 - val_loss: 0.7274 - val_output1_loss: 0.3180 - val_output1_mean_absolute_error: 0.5633 - val_output2_binary_accuracy: 0.5368 - val_output2_loss: 0.4080\n",
            "Epoch 15/100\n",
            "\u001b[1m522/522\u001b[0m \u001b[32m━━━━━━━━━━━━━━━━━━━━\u001b[0m\u001b[37m\u001b[0m \u001b[1m9s\u001b[0m 12ms/step - loss: 0.6000 - output1_loss: 0.4262 - output1_mean_absolute_error: 0.6515 - output2_binary_accuracy: 0.7278 - output2_loss: 0.1737 - val_loss: 0.7293 - val_output1_loss: 0.3180 - val_output1_mean_absolute_error: 0.5633 - val_output2_binary_accuracy: 0.5330 - val_output2_loss: 0.4099\n",
            "Epoch 16/100\n",
            "\u001b[1m522/522\u001b[0m \u001b[32m━━━━━━━━━━━━━━━━━━━━\u001b[0m\u001b[37m\u001b[0m \u001b[1m15s\u001b[0m 22ms/step - loss: 0.6001 - output1_loss: 0.4257 - output1_mean_absolute_error: 0.6511 - output2_binary_accuracy: 0.7257 - output2_loss: 0.1744 - val_loss: 0.7260 - val_output1_loss: 0.3180 - val_output1_mean_absolute_error: 0.5633 - val_output2_binary_accuracy: 0.5276 - val_output2_loss: 0.4067\n",
            "Epoch 17/100\n",
            "\u001b[1m522/522\u001b[0m \u001b[32m━━━━━━━━━━━━━━━━━━━━\u001b[0m\u001b[37m\u001b[0m \u001b[1m10s\u001b[0m 20ms/step - loss: 0.5995 - output1_loss: 0.4255 - output1_mean_absolute_error: 0.6510 - output2_binary_accuracy: 0.7267 - output2_loss: 0.1739 - val_loss: 0.7280 - val_output1_loss: 0.3180 - val_output1_mean_absolute_error: 0.5633 - val_output2_binary_accuracy: 0.5367 - val_output2_loss: 0.4087\n",
            "Epoch 18/100\n",
            "\u001b[1m522/522\u001b[0m \u001b[32m━━━━━━━━━━━━━━━━━━━━\u001b[0m\u001b[37m\u001b[0m \u001b[1m9s\u001b[0m 16ms/step - loss: 0.5999 - output1_loss: 0.4259 - output1_mean_absolute_error: 0.6512 - output2_binary_accuracy: 0.7262 - output2_loss: 0.1740 - val_loss: 0.7279 - val_output1_loss: 0.3180 - val_output1_mean_absolute_error: 0.5633 - val_output2_binary_accuracy: 0.5306 - val_output2_loss: 0.4086\n",
            "Epoch 19/100\n",
            "\u001b[1m522/522\u001b[0m \u001b[32m━━━━━━━━━━━━━━━━━━━━\u001b[0m\u001b[37m\u001b[0m \u001b[1m9s\u001b[0m 14ms/step - loss: 0.5993 - output1_loss: 0.4252 - output1_mean_absolute_error: 0.6507 - output2_binary_accuracy: 0.7274 - output2_loss: 0.1740 - val_loss: 0.7235 - val_output1_loss: 0.3180 - val_output1_mean_absolute_error: 0.5633 - val_output2_binary_accuracy: 0.5379 - val_output2_loss: 0.4042\n",
            "Epoch 20/100\n",
            "\u001b[1m522/522\u001b[0m \u001b[32m━━━━━━━━━━━━━━━━━━━━\u001b[0m\u001b[37m\u001b[0m \u001b[1m11s\u001b[0m 16ms/step - loss: 0.5983 - output1_loss: 0.4257 - output1_mean_absolute_error: 0.6511 - output2_binary_accuracy: 0.7287 - output2_loss: 0.1727 - val_loss: 0.7312 - val_output1_loss: 0.3180 - val_output1_mean_absolute_error: 0.5633 - val_output2_binary_accuracy: 0.5334 - val_output2_loss: 0.4119\n",
            "Epoch 21/100\n",
            "\u001b[1m522/522\u001b[0m \u001b[32m━━━━━━━━━━━━━━━━━━━━\u001b[0m\u001b[37m\u001b[0m \u001b[1m8s\u001b[0m 15ms/step - loss: 0.5999 - output1_loss: 0.4264 - output1_mean_absolute_error: 0.6516 - output2_binary_accuracy: 0.7274 - output2_loss: 0.1735 - val_loss: 0.7248 - val_output1_loss: 0.3180 - val_output1_mean_absolute_error: 0.5633 - val_output2_binary_accuracy: 0.5361 - val_output2_loss: 0.4054\n",
            "Epoch 22/100\n",
            "\u001b[1m522/522\u001b[0m \u001b[32m━━━━━━━━━━━━━━━━━━━━\u001b[0m\u001b[37m\u001b[0m \u001b[1m9s\u001b[0m 14ms/step - loss: 0.5983 - output1_loss: 0.4260 - output1_mean_absolute_error: 0.6513 - output2_binary_accuracy: 0.7301 - output2_loss: 0.1723 - val_loss: 0.7247 - val_output1_loss: 0.3180 - val_output1_mean_absolute_error: 0.5633 - val_output2_binary_accuracy: 0.5401 - val_output2_loss: 0.4053\n",
            "Epoch 23/100\n",
            "\u001b[1m522/522\u001b[0m \u001b[32m━━━━━━━━━━━━━━━━━━━━\u001b[0m\u001b[37m\u001b[0m \u001b[1m9s\u001b[0m 17ms/step - loss: 0.5989 - output1_loss: 0.4264 - output1_mean_absolute_error: 0.6516 - output2_binary_accuracy: 0.7301 - output2_loss: 0.1726 - val_loss: 0.7298 - val_output1_loss: 0.3180 - val_output1_mean_absolute_error: 0.5633 - val_output2_binary_accuracy: 0.5358 - val_output2_loss: 0.4104\n",
            "Epoch 24/100\n",
            "\u001b[1m522/522\u001b[0m \u001b[32m━━━━━━━━━━━━━━━━━━━━\u001b[0m\u001b[37m\u001b[0m \u001b[1m9s\u001b[0m 15ms/step - loss: 0.5993 - output1_loss: 0.4266 - output1_mean_absolute_error: 0.6517 - output2_binary_accuracy: 0.7286 - output2_loss: 0.1728 - val_loss: 0.7317 - val_output1_loss: 0.3180 - val_output1_mean_absolute_error: 0.5633 - val_output2_binary_accuracy: 0.5404 - val_output2_loss: 0.4123\n",
            "Epoch 25/100\n",
            "\u001b[1m522/522\u001b[0m \u001b[32m━━━━━━━━━━━━━━━━━━━━\u001b[0m\u001b[37m\u001b[0m \u001b[1m9s\u001b[0m 14ms/step - loss: 0.5991 - output1_loss: 0.4258 - output1_mean_absolute_error: 0.6512 - output2_binary_accuracy: 0.7275 - output2_loss: 0.1733 - val_loss: 0.7272 - val_output1_loss: 0.3180 - val_output1_mean_absolute_error: 0.5633 - val_output2_binary_accuracy: 0.5353 - val_output2_loss: 0.4078\n",
            "Epoch 26/100\n",
            "\u001b[1m522/522\u001b[0m \u001b[32m━━━━━━━━━━━━━━━━━━━━\u001b[0m\u001b[37m\u001b[0m \u001b[1m9s\u001b[0m 16ms/step - loss: 0.5980 - output1_loss: 0.4257 - output1_mean_absolute_error: 0.6511 - output2_binary_accuracy: 0.7301 - output2_loss: 0.1723 - val_loss: 0.7314 - val_output1_loss: 0.3180 - val_output1_mean_absolute_error: 0.5633 - val_output2_binary_accuracy: 0.5334 - val_output2_loss: 0.4119\n",
            "Epoch 27/100\n",
            "\u001b[1m522/522\u001b[0m \u001b[32m━━━━━━━━━━━━━━━━━━━━\u001b[0m\u001b[37m\u001b[0m \u001b[1m7s\u001b[0m 14ms/step - loss: 0.5986 - output1_loss: 0.4260 - output1_mean_absolute_error: 0.6513 - output2_binary_accuracy: 0.7298 - output2_loss: 0.1726 - val_loss: 0.7293 - val_output1_loss: 0.3180 - val_output1_mean_absolute_error: 0.5633 - val_output2_binary_accuracy: 0.5367 - val_output2_loss: 0.4100\n",
            "Epoch 28/100\n",
            "\u001b[1m522/522\u001b[0m \u001b[32m━━━━━━━━━━━━━━━━━━━━\u001b[0m\u001b[37m\u001b[0m \u001b[1m10s\u001b[0m 18ms/step - loss: 0.5995 - output1_loss: 0.4267 - output1_mean_absolute_error: 0.6519 - output2_binary_accuracy: 0.7299 - output2_loss: 0.1728 - val_loss: 0.7227 - val_output1_loss: 0.3180 - val_output1_mean_absolute_error: 0.5633 - val_output2_binary_accuracy: 0.5379 - val_output2_loss: 0.4034\n",
            "Epoch 29/100\n",
            "\u001b[1m522/522\u001b[0m \u001b[32m━━━━━━━━━━━━━━━━━━━━\u001b[0m\u001b[37m\u001b[0m \u001b[1m8s\u001b[0m 15ms/step - loss: 0.5981 - output1_loss: 0.4259 - output1_mean_absolute_error: 0.6512 - output2_binary_accuracy: 0.7296 - output2_loss: 0.1722 - val_loss: 0.7302 - val_output1_loss: 0.3180 - val_output1_mean_absolute_error: 0.5633 - val_output2_binary_accuracy: 0.5312 - val_output2_loss: 0.4108\n",
            "Epoch 30/100\n",
            "\u001b[1m522/522\u001b[0m \u001b[32m━━━━━━━━━━━━━━━━━━━━\u001b[0m\u001b[37m\u001b[0m \u001b[1m11s\u001b[0m 16ms/step - loss: 0.5977 - output1_loss: 0.4258 - output1_mean_absolute_error: 0.6512 - output2_binary_accuracy: 0.7309 - output2_loss: 0.1719 - val_loss: 0.7282 - val_output1_loss: 0.3180 - val_output1_mean_absolute_error: 0.5633 - val_output2_binary_accuracy: 0.5289 - val_output2_loss: 0.4089\n",
            "Epoch 31/100\n",
            "\u001b[1m522/522\u001b[0m \u001b[32m━━━━━━━━━━━━━━━━━━━━\u001b[0m\u001b[37m\u001b[0m \u001b[1m10s\u001b[0m 16ms/step - loss: 0.5975 - output1_loss: 0.4257 - output1_mean_absolute_error: 0.6511 - output2_binary_accuracy: 0.7317 - output2_loss: 0.1717 - val_loss: 0.7302 - val_output1_loss: 0.3180 - val_output1_mean_absolute_error: 0.5633 - val_output2_binary_accuracy: 0.5313 - val_output2_loss: 0.4109\n",
            "Epoch 32/100\n",
            "\u001b[1m522/522\u001b[0m \u001b[32m━━━━━━━━━━━━━━━━━━━━\u001b[0m\u001b[37m\u001b[0m \u001b[1m9s\u001b[0m 17ms/step - loss: 0.5977 - output1_loss: 0.4263 - output1_mean_absolute_error: 0.6515 - output2_binary_accuracy: 0.7319 - output2_loss: 0.1714 - val_loss: 0.7272 - val_output1_loss: 0.3180 - val_output1_mean_absolute_error: 0.5633 - val_output2_binary_accuracy: 0.5295 - val_output2_loss: 0.4078\n",
            "Epoch 33/100\n",
            "\u001b[1m522/522\u001b[0m \u001b[32m━━━━━━━━━━━━━━━━━━━━\u001b[0m\u001b[37m\u001b[0m \u001b[1m8s\u001b[0m 14ms/step - loss: 0.5972 - output1_loss: 0.4262 - output1_mean_absolute_error: 0.6514 - output2_binary_accuracy: 0.7330 - output2_loss: 0.1710 - val_loss: 0.7267 - val_output1_loss: 0.3180 - val_output1_mean_absolute_error: 0.5633 - val_output2_binary_accuracy: 0.5282 - val_output2_loss: 0.4074\n",
            "Epoch 34/100\n",
            "\u001b[1m522/522\u001b[0m \u001b[32m━━━━━━━━━━━━━━━━━━━━\u001b[0m\u001b[37m\u001b[0m \u001b[1m10s\u001b[0m 18ms/step - loss: 0.5976 - output1_loss: 0.4256 - output1_mean_absolute_error: 0.6510 - output2_binary_accuracy: 0.7308 - output2_loss: 0.1720 - val_loss: 0.7235 - val_output1_loss: 0.3180 - val_output1_mean_absolute_error: 0.5633 - val_output2_binary_accuracy: 0.5354 - val_output2_loss: 0.4043\n",
            "Epoch 35/100\n",
            "\u001b[1m522/522\u001b[0m \u001b[32m━━━━━━━━━━━━━━━━━━━━\u001b[0m\u001b[37m\u001b[0m \u001b[1m8s\u001b[0m 14ms/step - loss: 0.5977 - output1_loss: 0.4260 - output1_mean_absolute_error: 0.6513 - output2_binary_accuracy: 0.7301 - output2_loss: 0.1718 - val_loss: 0.7289 - val_output1_loss: 0.3180 - val_output1_mean_absolute_error: 0.5633 - val_output2_binary_accuracy: 0.5314 - val_output2_loss: 0.4097\n",
            "Epoch 36/100\n",
            "\u001b[1m522/522\u001b[0m \u001b[32m━━━━━━━━━━━━━━━━━━━━\u001b[0m\u001b[37m\u001b[0m \u001b[1m9s\u001b[0m 17ms/step - loss: 0.5981 - output1_loss: 0.4259 - output1_mean_absolute_error: 0.6512 - output2_binary_accuracy: 0.7308 - output2_loss: 0.1722 - val_loss: 0.7282 - val_output1_loss: 0.3180 - val_output1_mean_absolute_error: 0.5633 - val_output2_binary_accuracy: 0.5292 - val_output2_loss: 0.4090\n",
            "Epoch 37/100\n",
            "\u001b[1m522/522\u001b[0m \u001b[32m━━━━━━━━━━━━━━━━━━━━\u001b[0m\u001b[37m\u001b[0m \u001b[1m8s\u001b[0m 15ms/step - loss: 0.5979 - output1_loss: 0.4262 - output1_mean_absolute_error: 0.6515 - output2_binary_accuracy: 0.7315 - output2_loss: 0.1717 - val_loss: 0.7273 - val_output1_loss: 0.3180 - val_output1_mean_absolute_error: 0.5633 - val_output2_binary_accuracy: 0.5345 - val_output2_loss: 0.4079\n",
            "Epoch 38/100\n",
            "\u001b[1m522/522\u001b[0m \u001b[32m━━━━━━━━━━━━━━━━━━━━\u001b[0m\u001b[37m\u001b[0m \u001b[1m8s\u001b[0m 16ms/step - loss: 0.5969 - output1_loss: 0.4258 - output1_mean_absolute_error: 0.6512 - output2_binary_accuracy: 0.7315 - output2_loss: 0.1711 - val_loss: 0.7304 - val_output1_loss: 0.3180 - val_output1_mean_absolute_error: 0.5633 - val_output2_binary_accuracy: 0.5303 - val_output2_loss: 0.4111\n",
            "Epoch 39/100\n",
            "\u001b[1m522/522\u001b[0m \u001b[32m━━━━━━━━━━━━━━━━━━━━\u001b[0m\u001b[37m\u001b[0m \u001b[1m11s\u001b[0m 18ms/step - loss: 0.5969 - output1_loss: 0.4260 - output1_mean_absolute_error: 0.6513 - output2_binary_accuracy: 0.7313 - output2_loss: 0.1709 - val_loss: 0.7280 - val_output1_loss: 0.3180 - val_output1_mean_absolute_error: 0.5633 - val_output2_binary_accuracy: 0.5261 - val_output2_loss: 0.4088\n",
            "Epoch 40/100\n",
            "\u001b[1m522/522\u001b[0m \u001b[32m━━━━━━━━━━━━━━━━━━━━\u001b[0m\u001b[37m\u001b[0m \u001b[1m10s\u001b[0m 18ms/step - loss: 0.5978 - output1_loss: 0.4263 - output1_mean_absolute_error: 0.6516 - output2_binary_accuracy: 0.7311 - output2_loss: 0.1715 - val_loss: 0.7304 - val_output1_loss: 0.3180 - val_output1_mean_absolute_error: 0.5633 - val_output2_binary_accuracy: 0.5276 - val_output2_loss: 0.4112\n",
            "Epoch 41/100\n",
            "\u001b[1m522/522\u001b[0m \u001b[32m━━━━━━━━━━━━━━━━━━━━\u001b[0m\u001b[37m\u001b[0m \u001b[1m8s\u001b[0m 16ms/step - loss: 0.5968 - output1_loss: 0.4260 - output1_mean_absolute_error: 0.6513 - output2_binary_accuracy: 0.7331 - output2_loss: 0.1708 - val_loss: 0.7251 - val_output1_loss: 0.3180 - val_output1_mean_absolute_error: 0.5633 - val_output2_binary_accuracy: 0.5271 - val_output2_loss: 0.4058\n",
            "Epoch 42/100\n",
            "\u001b[1m522/522\u001b[0m \u001b[32m━━━━━━━━━━━━━━━━━━━━\u001b[0m\u001b[37m\u001b[0m \u001b[1m9s\u001b[0m 16ms/step - loss: 0.5967 - output1_loss: 0.4267 - output1_mean_absolute_error: 0.6519 - output2_binary_accuracy: 0.7344 - output2_loss: 0.1700 - val_loss: 0.7289 - val_output1_loss: 0.3180 - val_output1_mean_absolute_error: 0.5633 - val_output2_binary_accuracy: 0.5257 - val_output2_loss: 0.4096\n",
            "Epoch 43/100\n",
            "\u001b[1m522/522\u001b[0m \u001b[32m━━━━━━━━━━━━━━━━━━━━\u001b[0m\u001b[37m\u001b[0m \u001b[1m9s\u001b[0m 13ms/step - loss: 0.5969 - output1_loss: 0.4267 - output1_mean_absolute_error: 0.6518 - output2_binary_accuracy: 0.7342 - output2_loss: 0.1702 - val_loss: 0.7275 - val_output1_loss: 0.3180 - val_output1_mean_absolute_error: 0.5633 - val_output2_binary_accuracy: 0.5304 - val_output2_loss: 0.4083\n",
            "Epoch 44/100\n",
            "\u001b[1m522/522\u001b[0m \u001b[32m━━━━━━━━━━━━━━━━━━━━\u001b[0m\u001b[37m\u001b[0m \u001b[1m11s\u001b[0m 15ms/step - loss: 0.5967 - output1_loss: 0.4260 - output1_mean_absolute_error: 0.6513 - output2_binary_accuracy: 0.7322 - output2_loss: 0.1707 - val_loss: 0.7348 - val_output1_loss: 0.3180 - val_output1_mean_absolute_error: 0.5633 - val_output2_binary_accuracy: 0.5231 - val_output2_loss: 0.4156\n",
            "Epoch 45/100\n",
            "\u001b[1m522/522\u001b[0m \u001b[32m━━━━━━━━━━━━━━━━━━━━\u001b[0m\u001b[37m\u001b[0m \u001b[1m11s\u001b[0m 17ms/step - loss: 0.5962 - output1_loss: 0.4257 - output1_mean_absolute_error: 0.6511 - output2_binary_accuracy: 0.7336 - output2_loss: 0.1705 - val_loss: 0.7304 - val_output1_loss: 0.3180 - val_output1_mean_absolute_error: 0.5633 - val_output2_binary_accuracy: 0.5330 - val_output2_loss: 0.4112\n",
            "Epoch 46/100\n",
            "\u001b[1m522/522\u001b[0m \u001b[32m━━━━━━━━━━━━━━━━━━━━\u001b[0m\u001b[37m\u001b[0m \u001b[1m9s\u001b[0m 14ms/step - loss: 0.5962 - output1_loss: 0.4259 - output1_mean_absolute_error: 0.6512 - output2_binary_accuracy: 0.7345 - output2_loss: 0.1704 - val_loss: 0.7311 - val_output1_loss: 0.3180 - val_output1_mean_absolute_error: 0.5633 - val_output2_binary_accuracy: 0.5264 - val_output2_loss: 0.4118\n",
            "Epoch 47/100\n",
            "\u001b[1m522/522\u001b[0m \u001b[32m━━━━━━━━━━━━━━━━━━━━\u001b[0m\u001b[37m\u001b[0m \u001b[1m9s\u001b[0m 17ms/step - loss: 0.5969 - output1_loss: 0.4260 - output1_mean_absolute_error: 0.6513 - output2_binary_accuracy: 0.7327 - output2_loss: 0.1709 - val_loss: 0.7302 - val_output1_loss: 0.3180 - val_output1_mean_absolute_error: 0.5633 - val_output2_binary_accuracy: 0.5268 - val_output2_loss: 0.4110\n",
            "Epoch 48/100\n",
            "\u001b[1m522/522\u001b[0m \u001b[32m━━━━━━━━━━━━━━━━━━━━\u001b[0m\u001b[37m\u001b[0m \u001b[1m8s\u001b[0m 15ms/step - loss: 0.5962 - output1_loss: 0.4263 - output1_mean_absolute_error: 0.6515 - output2_binary_accuracy: 0.7339 - output2_loss: 0.1699 - val_loss: 0.7280 - val_output1_loss: 0.3180 - val_output1_mean_absolute_error: 0.5633 - val_output2_binary_accuracy: 0.5330 - val_output2_loss: 0.4087\n",
            "Epoch 49/100\n",
            "\u001b[1m522/522\u001b[0m \u001b[32m━━━━━━━━━━━━━━━━━━━━\u001b[0m\u001b[37m\u001b[0m \u001b[1m8s\u001b[0m 15ms/step - loss: 0.5951 - output1_loss: 0.4258 - output1_mean_absolute_error: 0.6512 - output2_binary_accuracy: 0.7364 - output2_loss: 0.1693 - val_loss: 0.7359 - val_output1_loss: 0.3180 - val_output1_mean_absolute_error: 0.5633 - val_output2_binary_accuracy: 0.5234 - val_output2_loss: 0.4167\n",
            "Epoch 50/100\n",
            "\u001b[1m522/522\u001b[0m \u001b[32m━━━━━━━━━━━━━━━━━━━━\u001b[0m\u001b[37m\u001b[0m \u001b[1m11s\u001b[0m 17ms/step - loss: 0.5957 - output1_loss: 0.4260 - output1_mean_absolute_error: 0.6513 - output2_binary_accuracy: 0.7351 - output2_loss: 0.1697 - val_loss: 0.7320 - val_output1_loss: 0.3180 - val_output1_mean_absolute_error: 0.5633 - val_output2_binary_accuracy: 0.5259 - val_output2_loss: 0.4128\n",
            "Epoch 51/100\n",
            "\u001b[1m522/522\u001b[0m \u001b[32m━━━━━━━━━━━━━━━━━━━━\u001b[0m\u001b[37m\u001b[0m \u001b[1m8s\u001b[0m 13ms/step - loss: 0.5971 - output1_loss: 0.4270 - output1_mean_absolute_error: 0.6521 - output2_binary_accuracy: 0.7338 - output2_loss: 0.1701 - val_loss: 0.7320 - val_output1_loss: 0.3180 - val_output1_mean_absolute_error: 0.5633 - val_output2_binary_accuracy: 0.5325 - val_output2_loss: 0.4127\n",
            "Epoch 52/100\n",
            "\u001b[1m522/522\u001b[0m \u001b[32m━━━━━━━━━━━━━━━━━━━━\u001b[0m\u001b[37m\u001b[0m \u001b[1m9s\u001b[0m 16ms/step - loss: 0.5958 - output1_loss: 0.4259 - output1_mean_absolute_error: 0.6513 - output2_binary_accuracy: 0.7348 - output2_loss: 0.1699 - val_loss: 0.7295 - val_output1_loss: 0.3180 - val_output1_mean_absolute_error: 0.5633 - val_output2_binary_accuracy: 0.5254 - val_output2_loss: 0.4102\n",
            "Epoch 53/100\n",
            "\u001b[1m522/522\u001b[0m \u001b[32m━━━━━━━━━━━━━━━━━━━━\u001b[0m\u001b[37m\u001b[0m \u001b[1m10s\u001b[0m 16ms/step - loss: 0.5952 - output1_loss: 0.4255 - output1_mean_absolute_error: 0.6509 - output2_binary_accuracy: 0.7346 - output2_loss: 0.1697 - val_loss: 0.7319 - val_output1_loss: 0.3180 - val_output1_mean_absolute_error: 0.5633 - val_output2_binary_accuracy: 0.5262 - val_output2_loss: 0.4126\n",
            "Epoch 54/100\n",
            "\u001b[1m522/522\u001b[0m \u001b[32m━━━━━━━━━━━━━━━━━━━━\u001b[0m\u001b[37m\u001b[0m \u001b[1m9s\u001b[0m 13ms/step - loss: 0.5958 - output1_loss: 0.4255 - output1_mean_absolute_error: 0.6510 - output2_binary_accuracy: 0.7336 - output2_loss: 0.1703 - val_loss: 0.7301 - val_output1_loss: 0.3180 - val_output1_mean_absolute_error: 0.5633 - val_output2_binary_accuracy: 0.5222 - val_output2_loss: 0.4108\n",
            "Epoch 55/100\n",
            "\u001b[1m522/522\u001b[0m \u001b[32m━━━━━━━━━━━━━━━━━━━━\u001b[0m\u001b[37m\u001b[0m \u001b[1m9s\u001b[0m 17ms/step - loss: 0.5948 - output1_loss: 0.4259 - output1_mean_absolute_error: 0.6512 - output2_binary_accuracy: 0.7383 - output2_loss: 0.1689 - val_loss: 0.7260 - val_output1_loss: 0.3180 - val_output1_mean_absolute_error: 0.5633 - val_output2_binary_accuracy: 0.5253 - val_output2_loss: 0.4067\n",
            "Epoch 56/100\n",
            "\u001b[1m522/522\u001b[0m \u001b[32m━━━━━━━━━━━━━━━━━━━━\u001b[0m\u001b[37m\u001b[0m \u001b[1m9s\u001b[0m 15ms/step - loss: 0.5955 - output1_loss: 0.4254 - output1_mean_absolute_error: 0.6509 - output2_binary_accuracy: 0.7345 - output2_loss: 0.1701 - val_loss: 0.7303 - val_output1_loss: 0.3180 - val_output1_mean_absolute_error: 0.5633 - val_output2_binary_accuracy: 0.5269 - val_output2_loss: 0.4112\n",
            "Epoch 57/100\n",
            "\u001b[1m522/522\u001b[0m \u001b[32m━━━━━━━━━━━━━━━━━━━━\u001b[0m\u001b[37m\u001b[0m \u001b[1m8s\u001b[0m 15ms/step - loss: 0.5948 - output1_loss: 0.4260 - output1_mean_absolute_error: 0.6514 - output2_binary_accuracy: 0.7368 - output2_loss: 0.1687 - val_loss: 0.7353 - val_output1_loss: 0.3180 - val_output1_mean_absolute_error: 0.5633 - val_output2_binary_accuracy: 0.5147 - val_output2_loss: 0.4160\n",
            "Epoch 58/100\n",
            "\u001b[1m522/522\u001b[0m \u001b[32m━━━━━━━━━━━━━━━━━━━━\u001b[0m\u001b[37m\u001b[0m \u001b[1m9s\u001b[0m 16ms/step - loss: 0.5954 - output1_loss: 0.4262 - output1_mean_absolute_error: 0.6515 - output2_binary_accuracy: 0.7369 - output2_loss: 0.1692 - val_loss: 0.7327 - val_output1_loss: 0.3180 - val_output1_mean_absolute_error: 0.5633 - val_output2_binary_accuracy: 0.5227 - val_output2_loss: 0.4133\n",
            "Epoch 59/100\n",
            "\u001b[1m522/522\u001b[0m \u001b[32m━━━━━━━━━━━━━━━━━━━━\u001b[0m\u001b[37m\u001b[0m \u001b[1m7s\u001b[0m 14ms/step - loss: 0.5951 - output1_loss: 0.4263 - output1_mean_absolute_error: 0.6515 - output2_binary_accuracy: 0.7369 - output2_loss: 0.1688 - val_loss: 0.7358 - val_output1_loss: 0.3180 - val_output1_mean_absolute_error: 0.5633 - val_output2_binary_accuracy: 0.5227 - val_output2_loss: 0.4165\n",
            "Epoch 60/100\n",
            "\u001b[1m522/522\u001b[0m \u001b[32m━━━━━━━━━━━━━━━━━━━━\u001b[0m\u001b[37m\u001b[0m \u001b[1m12s\u001b[0m 17ms/step - loss: 0.5946 - output1_loss: 0.4263 - output1_mean_absolute_error: 0.6515 - output2_binary_accuracy: 0.7368 - output2_loss: 0.1683 - val_loss: 0.7247 - val_output1_loss: 0.3180 - val_output1_mean_absolute_error: 0.5633 - val_output2_binary_accuracy: 0.5284 - val_output2_loss: 0.4055\n",
            "Epoch 61/100\n",
            "\u001b[1m522/522\u001b[0m \u001b[32m━━━━━━━━━━━━━━━━━━━━\u001b[0m\u001b[37m\u001b[0m \u001b[1m10s\u001b[0m 16ms/step - loss: 0.5950 - output1_loss: 0.4258 - output1_mean_absolute_error: 0.6512 - output2_binary_accuracy: 0.7357 - output2_loss: 0.1692 - val_loss: 0.7305 - val_output1_loss: 0.3180 - val_output1_mean_absolute_error: 0.5633 - val_output2_binary_accuracy: 0.5270 - val_output2_loss: 0.4113\n",
            "Epoch 62/100\n",
            "\u001b[1m522/522\u001b[0m \u001b[32m━━━━━━━━━━━━━━━━━━━━\u001b[0m\u001b[37m\u001b[0m \u001b[1m7s\u001b[0m 14ms/step - loss: 0.5958 - output1_loss: 0.4260 - output1_mean_absolute_error: 0.6513 - output2_binary_accuracy: 0.7352 - output2_loss: 0.1698 - val_loss: 0.7297 - val_output1_loss: 0.3180 - val_output1_mean_absolute_error: 0.5633 - val_output2_binary_accuracy: 0.5249 - val_output2_loss: 0.4106\n",
            "Epoch 63/100\n",
            "\u001b[1m522/522\u001b[0m \u001b[32m━━━━━━━━━━━━━━━━━━━━\u001b[0m\u001b[37m\u001b[0m \u001b[1m9s\u001b[0m 16ms/step - loss: 0.5941 - output1_loss: 0.4256 - output1_mean_absolute_error: 0.6510 - output2_binary_accuracy: 0.7381 - output2_loss: 0.1685 - val_loss: 0.7273 - val_output1_loss: 0.3180 - val_output1_mean_absolute_error: 0.5633 - val_output2_binary_accuracy: 0.5223 - val_output2_loss: 0.4081\n",
            "Epoch 64/100\n",
            "\u001b[1m522/522\u001b[0m \u001b[32m━━━━━━━━━━━━━━━━━━━━\u001b[0m\u001b[37m\u001b[0m \u001b[1m9s\u001b[0m 13ms/step - loss: 0.5939 - output1_loss: 0.4257 - output1_mean_absolute_error: 0.6511 - output2_binary_accuracy: 0.7380 - output2_loss: 0.1682 - val_loss: 0.7358 - val_output1_loss: 0.3180 - val_output1_mean_absolute_error: 0.5633 - val_output2_binary_accuracy: 0.5172 - val_output2_loss: 0.4166\n",
            "Epoch 65/100\n",
            "\u001b[1m522/522\u001b[0m \u001b[32m━━━━━━━━━━━━━━━━━━━━\u001b[0m\u001b[37m\u001b[0m \u001b[1m9s\u001b[0m 16ms/step - loss: 0.5945 - output1_loss: 0.4263 - output1_mean_absolute_error: 0.6516 - output2_binary_accuracy: 0.7374 - output2_loss: 0.1682 - val_loss: 0.7278 - val_output1_loss: 0.3180 - val_output1_mean_absolute_error: 0.5633 - val_output2_binary_accuracy: 0.5260 - val_output2_loss: 0.4086\n",
            "Epoch 66/100\n",
            "\u001b[1m522/522\u001b[0m \u001b[32m━━━━━━━━━━━━━━━━━━━━\u001b[0m\u001b[37m\u001b[0m \u001b[1m7s\u001b[0m 13ms/step - loss: 0.5945 - output1_loss: 0.4265 - output1_mean_absolute_error: 0.6518 - output2_binary_accuracy: 0.7387 - output2_loss: 0.1680 - val_loss: 0.7269 - val_output1_loss: 0.3180 - val_output1_mean_absolute_error: 0.5633 - val_output2_binary_accuracy: 0.5241 - val_output2_loss: 0.4078\n",
            "Epoch 67/100\n",
            "\u001b[1m522/522\u001b[0m \u001b[32m━━━━━━━━━━━━━━━━━━━━\u001b[0m\u001b[37m\u001b[0m \u001b[1m9s\u001b[0m 17ms/step - loss: 0.5943 - output1_loss: 0.4257 - output1_mean_absolute_error: 0.6511 - output2_binary_accuracy: 0.7378 - output2_loss: 0.1686 - val_loss: 0.7326 - val_output1_loss: 0.3180 - val_output1_mean_absolute_error: 0.5633 - val_output2_binary_accuracy: 0.5220 - val_output2_loss: 0.4133\n",
            "Epoch 68/100\n",
            "\u001b[1m522/522\u001b[0m \u001b[32m━━━━━━━━━━━━━━━━━━━━\u001b[0m\u001b[37m\u001b[0m \u001b[1m9s\u001b[0m 15ms/step - loss: 0.5942 - output1_loss: 0.4257 - output1_mean_absolute_error: 0.6511 - output2_binary_accuracy: 0.7368 - output2_loss: 0.1685 - val_loss: 0.7374 - val_output1_loss: 0.3180 - val_output1_mean_absolute_error: 0.5633 - val_output2_binary_accuracy: 0.5127 - val_output2_loss: 0.4182\n",
            "Epoch 69/100\n",
            "\u001b[1m522/522\u001b[0m \u001b[32m━━━━━━━━━━━━━━━━━━━━\u001b[0m\u001b[37m\u001b[0m \u001b[1m8s\u001b[0m 15ms/step - loss: 0.5939 - output1_loss: 0.4259 - output1_mean_absolute_error: 0.6512 - output2_binary_accuracy: 0.7390 - output2_loss: 0.1680 - val_loss: 0.7347 - val_output1_loss: 0.3180 - val_output1_mean_absolute_error: 0.5633 - val_output2_binary_accuracy: 0.5191 - val_output2_loss: 0.4155\n",
            "Epoch 70/100\n",
            "\u001b[1m522/522\u001b[0m \u001b[32m━━━━━━━━━━━━━━━━━━━━\u001b[0m\u001b[37m\u001b[0m \u001b[1m9s\u001b[0m 16ms/step - loss: 0.5941 - output1_loss: 0.4255 - output1_mean_absolute_error: 0.6509 - output2_binary_accuracy: 0.7383 - output2_loss: 0.1686 - val_loss: 0.7322 - val_output1_loss: 0.3180 - val_output1_mean_absolute_error: 0.5633 - val_output2_binary_accuracy: 0.5204 - val_output2_loss: 0.4130\n",
            "Epoch 71/100\n",
            "\u001b[1m522/522\u001b[0m \u001b[32m━━━━━━━━━━━━━━━━━━━━\u001b[0m\u001b[37m\u001b[0m \u001b[1m10s\u001b[0m 17ms/step - loss: 0.5942 - output1_loss: 0.4256 - output1_mean_absolute_error: 0.6510 - output2_binary_accuracy: 0.7371 - output2_loss: 0.1686 - val_loss: 0.7301 - val_output1_loss: 0.3180 - val_output1_mean_absolute_error: 0.5633 - val_output2_binary_accuracy: 0.5221 - val_output2_loss: 0.4109\n",
            "Epoch 72/100\n",
            "\u001b[1m522/522\u001b[0m \u001b[32m━━━━━━━━━━━━━━━━━━━━\u001b[0m\u001b[37m\u001b[0m \u001b[1m9s\u001b[0m 14ms/step - loss: 0.5935 - output1_loss: 0.4266 - output1_mean_absolute_error: 0.6518 - output2_binary_accuracy: 0.7411 - output2_loss: 0.1669 - val_loss: 0.7294 - val_output1_loss: 0.3180 - val_output1_mean_absolute_error: 0.5633 - val_output2_binary_accuracy: 0.5269 - val_output2_loss: 0.4102\n",
            "Epoch 73/100\n",
            "\u001b[1m522/522\u001b[0m \u001b[32m━━━━━━━━━━━━━━━━━━━━\u001b[0m\u001b[37m\u001b[0m \u001b[1m11s\u001b[0m 17ms/step - loss: 0.5937 - output1_loss: 0.4252 - output1_mean_absolute_error: 0.6507 - output2_binary_accuracy: 0.7376 - output2_loss: 0.1685 - val_loss: 0.7281 - val_output1_loss: 0.3180 - val_output1_mean_absolute_error: 0.5633 - val_output2_binary_accuracy: 0.5228 - val_output2_loss: 0.4089\n",
            "Epoch 74/100\n",
            "\u001b[1m522/522\u001b[0m \u001b[32m━━━━━━━━━━━━━━━━━━━━\u001b[0m\u001b[37m\u001b[0m \u001b[1m7s\u001b[0m 13ms/step - loss: 0.5936 - output1_loss: 0.4258 - output1_mean_absolute_error: 0.6512 - output2_binary_accuracy: 0.7394 - output2_loss: 0.1677 - val_loss: 0.7319 - val_output1_loss: 0.3180 - val_output1_mean_absolute_error: 0.5633 - val_output2_binary_accuracy: 0.5232 - val_output2_loss: 0.4127\n",
            "Epoch 75/100\n",
            "\u001b[1m522/522\u001b[0m \u001b[32m━━━━━━━━━━━━━━━━━━━━\u001b[0m\u001b[37m\u001b[0m \u001b[1m10s\u001b[0m 13ms/step - loss: 0.5948 - output1_loss: 0.4254 - output1_mean_absolute_error: 0.6508 - output2_binary_accuracy: 0.7353 - output2_loss: 0.1694 - val_loss: 0.7284 - val_output1_loss: 0.3180 - val_output1_mean_absolute_error: 0.5633 - val_output2_binary_accuracy: 0.5242 - val_output2_loss: 0.4092\n",
            "Epoch 76/100\n",
            "\u001b[1m522/522\u001b[0m \u001b[32m━━━━━━━━━━━━━━━━━━━━\u001b[0m\u001b[37m\u001b[0m \u001b[1m9s\u001b[0m 17ms/step - loss: 0.5933 - output1_loss: 0.4251 - output1_mean_absolute_error: 0.6507 - output2_binary_accuracy: 0.7387 - output2_loss: 0.1682 - val_loss: 0.7366 - val_output1_loss: 0.3180 - val_output1_mean_absolute_error: 0.5633 - val_output2_binary_accuracy: 0.5192 - val_output2_loss: 0.4174\n",
            "Epoch 77/100\n",
            "\u001b[1m522/522\u001b[0m \u001b[32m━━━━━━━━━━━━━━━━━━━━\u001b[0m\u001b[37m\u001b[0m \u001b[1m7s\u001b[0m 13ms/step - loss: 0.5934 - output1_loss: 0.4256 - output1_mean_absolute_error: 0.6510 - output2_binary_accuracy: 0.7391 - output2_loss: 0.1678 - val_loss: 0.7341 - val_output1_loss: 0.3180 - val_output1_mean_absolute_error: 0.5633 - val_output2_binary_accuracy: 0.5161 - val_output2_loss: 0.4149\n",
            "Epoch 78/100\n",
            "\u001b[1m522/522\u001b[0m \u001b[32m━━━━━━━━━━━━━━━━━━━━\u001b[0m\u001b[37m\u001b[0m \u001b[1m9s\u001b[0m 17ms/step - loss: 0.5927 - output1_loss: 0.4260 - output1_mean_absolute_error: 0.6513 - output2_binary_accuracy: 0.7415 - output2_loss: 0.1667 - val_loss: 0.7312 - val_output1_loss: 0.3180 - val_output1_mean_absolute_error: 0.5633 - val_output2_binary_accuracy: 0.5204 - val_output2_loss: 0.4119\n",
            "Epoch 79/100\n",
            "\u001b[1m522/522\u001b[0m \u001b[32m━━━━━━━━━━━━━━━━━━━━\u001b[0m\u001b[37m\u001b[0m \u001b[1m7s\u001b[0m 14ms/step - loss: 0.5927 - output1_loss: 0.4262 - output1_mean_absolute_error: 0.6515 - output2_binary_accuracy: 0.7425 - output2_loss: 0.1665 - val_loss: 0.7292 - val_output1_loss: 0.3180 - val_output1_mean_absolute_error: 0.5633 - val_output2_binary_accuracy: 0.5242 - val_output2_loss: 0.4100\n",
            "Epoch 80/100\n",
            "\u001b[1m522/522\u001b[0m \u001b[32m━━━━━━━━━━━━━━━━━━━━\u001b[0m\u001b[37m\u001b[0m \u001b[1m10s\u001b[0m 14ms/step - loss: 0.5935 - output1_loss: 0.4260 - output1_mean_absolute_error: 0.6513 - output2_binary_accuracy: 0.7402 - output2_loss: 0.1675 - val_loss: 0.7326 - val_output1_loss: 0.3180 - val_output1_mean_absolute_error: 0.5633 - val_output2_binary_accuracy: 0.5167 - val_output2_loss: 0.4133\n",
            "Epoch 81/100\n",
            "\u001b[1m522/522\u001b[0m \u001b[32m━━━━━━━━━━━━━━━━━━━━\u001b[0m\u001b[37m\u001b[0m \u001b[1m12s\u001b[0m 17ms/step - loss: 0.5926 - output1_loss: 0.4254 - output1_mean_absolute_error: 0.6509 - output2_binary_accuracy: 0.7393 - output2_loss: 0.1672 - val_loss: 0.7407 - val_output1_loss: 0.3180 - val_output1_mean_absolute_error: 0.5633 - val_output2_binary_accuracy: 0.5114 - val_output2_loss: 0.4214\n",
            "Epoch 82/100\n",
            "\u001b[1m522/522\u001b[0m \u001b[32m━━━━━━━━━━━━━━━━━━━━\u001b[0m\u001b[37m\u001b[0m \u001b[1m8s\u001b[0m 15ms/step - loss: 0.5934 - output1_loss: 0.4258 - output1_mean_absolute_error: 0.6512 - output2_binary_accuracy: 0.7403 - output2_loss: 0.1676 - val_loss: 0.7365 - val_output1_loss: 0.3180 - val_output1_mean_absolute_error: 0.5633 - val_output2_binary_accuracy: 0.5168 - val_output2_loss: 0.4174\n",
            "Epoch 83/100\n",
            "\u001b[1m522/522\u001b[0m \u001b[32m━━━━━━━━━━━━━━━━━━━━\u001b[0m\u001b[37m\u001b[0m \u001b[1m9s\u001b[0m 13ms/step - loss: 0.5922 - output1_loss: 0.4260 - output1_mean_absolute_error: 0.6513 - output2_binary_accuracy: 0.7427 - output2_loss: 0.1663 - val_loss: 0.7351 - val_output1_loss: 0.3180 - val_output1_mean_absolute_error: 0.5633 - val_output2_binary_accuracy: 0.5174 - val_output2_loss: 0.4159\n",
            "Epoch 84/100\n",
            "\u001b[1m522/522\u001b[0m \u001b[32m━━━━━━━━━━━━━━━━━━━━\u001b[0m\u001b[37m\u001b[0m \u001b[1m11s\u001b[0m 15ms/step - loss: 0.5927 - output1_loss: 0.4259 - output1_mean_absolute_error: 0.6512 - output2_binary_accuracy: 0.7413 - output2_loss: 0.1669 - val_loss: 0.7305 - val_output1_loss: 0.3180 - val_output1_mean_absolute_error: 0.5633 - val_output2_binary_accuracy: 0.5202 - val_output2_loss: 0.4113\n",
            "Epoch 85/100\n",
            "\u001b[1m522/522\u001b[0m \u001b[32m━━━━━━━━━━━━━━━━━━━━\u001b[0m\u001b[37m\u001b[0m \u001b[1m11s\u001b[0m 17ms/step - loss: 0.5918 - output1_loss: 0.4257 - output1_mean_absolute_error: 0.6511 - output2_binary_accuracy: 0.7433 - output2_loss: 0.1661 - val_loss: 0.7308 - val_output1_loss: 0.3180 - val_output1_mean_absolute_error: 0.5633 - val_output2_binary_accuracy: 0.5180 - val_output2_loss: 0.4117\n",
            "Epoch 86/100\n",
            "\u001b[1m522/522\u001b[0m \u001b[32m━━━━━━━━━━━━━━━━━━━━\u001b[0m\u001b[37m\u001b[0m \u001b[1m7s\u001b[0m 14ms/step - loss: 0.5921 - output1_loss: 0.4252 - output1_mean_absolute_error: 0.6507 - output2_binary_accuracy: 0.7406 - output2_loss: 0.1669 - val_loss: 0.7307 - val_output1_loss: 0.3180 - val_output1_mean_absolute_error: 0.5633 - val_output2_binary_accuracy: 0.5193 - val_output2_loss: 0.4115\n",
            "Epoch 87/100\n",
            "\u001b[1m522/522\u001b[0m \u001b[32m━━━━━━━━━━━━━━━━━━━━\u001b[0m\u001b[37m\u001b[0m \u001b[1m11s\u001b[0m 15ms/step - loss: 0.5920 - output1_loss: 0.4256 - output1_mean_absolute_error: 0.6510 - output2_binary_accuracy: 0.7414 - output2_loss: 0.1664 - val_loss: 0.7358 - val_output1_loss: 0.3180 - val_output1_mean_absolute_error: 0.5633 - val_output2_binary_accuracy: 0.5189 - val_output2_loss: 0.4167\n",
            "Epoch 88/100\n",
            "\u001b[1m522/522\u001b[0m \u001b[32m━━━━━━━━━━━━━━━━━━━━\u001b[0m\u001b[37m\u001b[0m \u001b[1m11s\u001b[0m 17ms/step - loss: 0.5930 - output1_loss: 0.4257 - output1_mean_absolute_error: 0.6511 - output2_binary_accuracy: 0.7394 - output2_loss: 0.1673 - val_loss: 0.7262 - val_output1_loss: 0.3180 - val_output1_mean_absolute_error: 0.5633 - val_output2_binary_accuracy: 0.5212 - val_output2_loss: 0.4071\n",
            "Epoch 89/100\n",
            "\u001b[1m522/522\u001b[0m \u001b[32m━━━━━━━━━━━━━━━━━━━━\u001b[0m\u001b[37m\u001b[0m \u001b[1m8s\u001b[0m 16ms/step - loss: 0.5921 - output1_loss: 0.4262 - output1_mean_absolute_error: 0.6515 - output2_binary_accuracy: 0.7438 - output2_loss: 0.1659 - val_loss: 0.7313 - val_output1_loss: 0.3180 - val_output1_mean_absolute_error: 0.5633 - val_output2_binary_accuracy: 0.5204 - val_output2_loss: 0.4121\n",
            "Epoch 90/100\n",
            "\u001b[1m522/522\u001b[0m \u001b[32m━━━━━━━━━━━━━━━━━━━━\u001b[0m\u001b[37m\u001b[0m \u001b[1m10s\u001b[0m 14ms/step - loss: 0.5925 - output1_loss: 0.4257 - output1_mean_absolute_error: 0.6511 - output2_binary_accuracy: 0.7419 - output2_loss: 0.1668 - val_loss: 0.7305 - val_output1_loss: 0.3180 - val_output1_mean_absolute_error: 0.5633 - val_output2_binary_accuracy: 0.5192 - val_output2_loss: 0.4113\n",
            "Epoch 91/100\n",
            "\u001b[1m522/522\u001b[0m \u001b[32m━━━━━━━━━━━━━━━━━━━━\u001b[0m\u001b[37m\u001b[0m \u001b[1m9s\u001b[0m 18ms/step - loss: 0.5919 - output1_loss: 0.4260 - output1_mean_absolute_error: 0.6513 - output2_binary_accuracy: 0.7428 - output2_loss: 0.1660 - val_loss: 0.7295 - val_output1_loss: 0.3180 - val_output1_mean_absolute_error: 0.5633 - val_output2_binary_accuracy: 0.5239 - val_output2_loss: 0.4104\n",
            "Epoch 92/100\n",
            "\u001b[1m522/522\u001b[0m \u001b[32m━━━━━━━━━━━━━━━━━━━━\u001b[0m\u001b[37m\u001b[0m \u001b[1m9s\u001b[0m 15ms/step - loss: 0.5920 - output1_loss: 0.4262 - output1_mean_absolute_error: 0.6515 - output2_binary_accuracy: 0.7436 - output2_loss: 0.1658 - val_loss: 0.7318 - val_output1_loss: 0.3180 - val_output1_mean_absolute_error: 0.5633 - val_output2_binary_accuracy: 0.5149 - val_output2_loss: 0.4127\n",
            "Epoch 93/100\n",
            "\u001b[1m522/522\u001b[0m \u001b[32m━━━━━━━━━━━━━━━━━━━━\u001b[0m\u001b[37m\u001b[0m \u001b[1m9s\u001b[0m 17ms/step - loss: 0.5921 - output1_loss: 0.4261 - output1_mean_absolute_error: 0.6514 - output2_binary_accuracy: 0.7435 - output2_loss: 0.1660 - val_loss: 0.7328 - val_output1_loss: 0.3180 - val_output1_mean_absolute_error: 0.5633 - val_output2_binary_accuracy: 0.5177 - val_output2_loss: 0.4137\n",
            "Epoch 94/100\n",
            "\u001b[1m522/522\u001b[0m \u001b[32m━━━━━━━━━━━━━━━━━━━━\u001b[0m\u001b[37m\u001b[0m \u001b[1m10s\u001b[0m 17ms/step - loss: 0.5921 - output1_loss: 0.4255 - output1_mean_absolute_error: 0.6509 - output2_binary_accuracy: 0.7425 - output2_loss: 0.1666 - val_loss: 0.7295 - val_output1_loss: 0.3180 - val_output1_mean_absolute_error: 0.5633 - val_output2_binary_accuracy: 0.5213 - val_output2_loss: 0.4104\n",
            "Epoch 95/100\n",
            "\u001b[1m522/522\u001b[0m \u001b[32m━━━━━━━━━━━━━━━━━━━━\u001b[0m\u001b[37m\u001b[0m \u001b[1m9s\u001b[0m 14ms/step - loss: 0.5923 - output1_loss: 0.4262 - output1_mean_absolute_error: 0.6515 - output2_binary_accuracy: 0.7423 - output2_loss: 0.1662 - val_loss: 0.7299 - val_output1_loss: 0.3180 - val_output1_mean_absolute_error: 0.5633 - val_output2_binary_accuracy: 0.5218 - val_output2_loss: 0.4107\n",
            "Epoch 96/100\n",
            "\u001b[1m522/522\u001b[0m \u001b[32m━━━━━━━━━━━━━━━━━━━━\u001b[0m\u001b[37m\u001b[0m \u001b[1m11s\u001b[0m 16ms/step - loss: 0.5920 - output1_loss: 0.4265 - output1_mean_absolute_error: 0.6517 - output2_binary_accuracy: 0.7438 - output2_loss: 0.1655 - val_loss: 0.7313 - val_output1_loss: 0.3180 - val_output1_mean_absolute_error: 0.5633 - val_output2_binary_accuracy: 0.5210 - val_output2_loss: 0.4123\n",
            "Epoch 97/100\n",
            "\u001b[1m522/522\u001b[0m \u001b[32m━━━━━━━━━━━━━━━━━━━━\u001b[0m\u001b[37m\u001b[0m \u001b[1m11s\u001b[0m 17ms/step - loss: 0.5916 - output1_loss: 0.4253 - output1_mean_absolute_error: 0.6508 - output2_binary_accuracy: 0.7424 - output2_loss: 0.1663 - val_loss: 0.7339 - val_output1_loss: 0.3180 - val_output1_mean_absolute_error: 0.5633 - val_output2_binary_accuracy: 0.5145 - val_output2_loss: 0.4148\n",
            "Epoch 98/100\n",
            "\u001b[1m522/522\u001b[0m \u001b[32m━━━━━━━━━━━━━━━━━━━━\u001b[0m\u001b[37m\u001b[0m \u001b[1m7s\u001b[0m 14ms/step - loss: 0.5916 - output1_loss: 0.4260 - output1_mean_absolute_error: 0.6514 - output2_binary_accuracy: 0.7452 - output2_loss: 0.1656 - val_loss: 0.7321 - val_output1_loss: 0.3180 - val_output1_mean_absolute_error: 0.5633 - val_output2_binary_accuracy: 0.5176 - val_output2_loss: 0.4129\n",
            "Epoch 99/100\n",
            "\u001b[1m522/522\u001b[0m \u001b[32m━━━━━━━━━━━━━━━━━━━━\u001b[0m\u001b[37m\u001b[0m \u001b[1m9s\u001b[0m 17ms/step - loss: 0.5916 - output1_loss: 0.4263 - output1_mean_absolute_error: 0.6515 - output2_binary_accuracy: 0.7447 - output2_loss: 0.1653 - val_loss: 0.7350 - val_output1_loss: 0.3180 - val_output1_mean_absolute_error: 0.5633 - val_output2_binary_accuracy: 0.5132 - val_output2_loss: 0.4158\n",
            "Epoch 100/100\n",
            "\u001b[1m522/522\u001b[0m \u001b[32m━━━━━━━━━━━━━━━━━━━━\u001b[0m\u001b[37m\u001b[0m \u001b[1m9s\u001b[0m 16ms/step - loss: 0.5918 - output1_loss: 0.4255 - output1_mean_absolute_error: 0.6509 - output2_binary_accuracy: 0.7426 - output2_loss: 0.1663 - val_loss: 0.7330 - val_output1_loss: 0.3180 - val_output1_mean_absolute_error: 0.5633 - val_output2_binary_accuracy: 0.5182 - val_output2_loss: 0.4137\n"
          ]
        },
        {
          "output_type": "execute_result",
          "data": {
            "text/plain": [
              "<keras.src.callbacks.history.History at 0x7abda203f6a0>"
            ]
          },
          "metadata": {},
          "execution_count": 54
        }
      ]
    },
    {
      "cell_type": "code",
      "source": [],
      "metadata": {
        "id": "KdzjIOeVRg9z"
      },
      "id": "KdzjIOeVRg9z",
      "execution_count": null,
      "outputs": []
    },
    {
      "cell_type": "code",
      "source": [
        "modeloGRU.fit(x_train,{'output1': y_train1, 'output2': y_train2},callbacks = callback,epochs = 100, validation_split = 0.2)"
      ],
      "metadata": {
        "colab": {
          "base_uri": "https://localhost:8080/"
        },
        "id": "_hWor3dhcB1l",
        "outputId": "35704591-80d5-43a9-8233-ae1cb2c3e913"
      },
      "id": "_hWor3dhcB1l",
      "execution_count": 64,
      "outputs": [
        {
          "output_type": "stream",
          "name": "stdout",
          "text": [
            "Epoch 1/100\n",
            "\u001b[1m522/522\u001b[0m \u001b[32m━━━━━━━━━━━━━━━━━━━━\u001b[0m\u001b[37m\u001b[0m \u001b[1m13s\u001b[0m 20ms/step - loss: 0.6953 - output1_loss: 0.4282 - output1_mean_absolute_error: 0.6518 - output2_binary_accuracy: 0.5629 - output2_loss: 0.2671 - val_loss: 0.5580 - val_output1_loss: 0.3181 - val_output1_mean_absolute_error: 0.5633 - val_output2_binary_accuracy: 0.5935 - val_output2_loss: 0.2394\n",
            "Epoch 2/100\n",
            "\u001b[1m522/522\u001b[0m \u001b[32m━━━━━━━━━━━━━━━━━━━━\u001b[0m\u001b[37m\u001b[0m \u001b[1m10s\u001b[0m 19ms/step - loss: 0.6667 - output1_loss: 0.4257 - output1_mean_absolute_error: 0.6511 - output2_binary_accuracy: 0.5790 - output2_loss: 0.2410 - val_loss: 0.5582 - val_output1_loss: 0.3181 - val_output1_mean_absolute_error: 0.5633 - val_output2_binary_accuracy: 0.5968 - val_output2_loss: 0.2397\n",
            "Epoch 3/100\n",
            "\u001b[1m522/522\u001b[0m \u001b[32m━━━━━━━━━━━━━━━━━━━━\u001b[0m\u001b[37m\u001b[0m \u001b[1m8s\u001b[0m 15ms/step - loss: 0.6622 - output1_loss: 0.4257 - output1_mean_absolute_error: 0.6510 - output2_binary_accuracy: 0.5949 - output2_loss: 0.2365 - val_loss: 0.5645 - val_output1_loss: 0.3180 - val_output1_mean_absolute_error: 0.5633 - val_output2_binary_accuracy: 0.5673 - val_output2_loss: 0.2461\n",
            "Epoch 4/100\n",
            "\u001b[1m522/522\u001b[0m \u001b[32m━━━━━━━━━━━━━━━━━━━━\u001b[0m\u001b[37m\u001b[0m \u001b[1m12s\u001b[0m 19ms/step - loss: 0.6591 - output1_loss: 0.4264 - output1_mean_absolute_error: 0.6516 - output2_binary_accuracy: 0.6026 - output2_loss: 0.2327 - val_loss: 0.5724 - val_output1_loss: 0.3180 - val_output1_mean_absolute_error: 0.5633 - val_output2_binary_accuracy: 0.5842 - val_output2_loss: 0.2537\n",
            "Epoch 5/100\n",
            "\u001b[1m522/522\u001b[0m \u001b[32m━━━━━━━━━━━━━━━━━━━━\u001b[0m\u001b[37m\u001b[0m \u001b[1m10s\u001b[0m 19ms/step - loss: 0.6520 - output1_loss: 0.4257 - output1_mean_absolute_error: 0.6511 - output2_binary_accuracy: 0.6178 - output2_loss: 0.2264 - val_loss: 0.5766 - val_output1_loss: 0.3180 - val_output1_mean_absolute_error: 0.5633 - val_output2_binary_accuracy: 0.5735 - val_output2_loss: 0.2579\n",
            "Epoch 6/100\n",
            "\u001b[1m522/522\u001b[0m \u001b[32m━━━━━━━━━━━━━━━━━━━━\u001b[0m\u001b[37m\u001b[0m \u001b[1m8s\u001b[0m 15ms/step - loss: 0.6462 - output1_loss: 0.4265 - output1_mean_absolute_error: 0.6517 - output2_binary_accuracy: 0.6328 - output2_loss: 0.2197 - val_loss: 0.5836 - val_output1_loss: 0.3180 - val_output1_mean_absolute_error: 0.5633 - val_output2_binary_accuracy: 0.5330 - val_output2_loss: 0.2650\n",
            "Epoch 7/100\n",
            "\u001b[1m522/522\u001b[0m \u001b[32m━━━━━━━━━━━━━━━━━━━━\u001b[0m\u001b[37m\u001b[0m \u001b[1m11s\u001b[0m 21ms/step - loss: 0.6409 - output1_loss: 0.4254 - output1_mean_absolute_error: 0.6509 - output2_binary_accuracy: 0.6423 - output2_loss: 0.2155 - val_loss: 0.5890 - val_output1_loss: 0.3180 - val_output1_mean_absolute_error: 0.5633 - val_output2_binary_accuracy: 0.5389 - val_output2_loss: 0.2703\n",
            "Epoch 8/100\n",
            "\u001b[1m522/522\u001b[0m \u001b[32m━━━━━━━━━━━━━━━━━━━━\u001b[0m\u001b[37m\u001b[0m \u001b[1m18s\u001b[0m 15ms/step - loss: 0.6383 - output1_loss: 0.4261 - output1_mean_absolute_error: 0.6514 - output2_binary_accuracy: 0.6466 - output2_loss: 0.2122 - val_loss: 0.6030 - val_output1_loss: 0.3180 - val_output1_mean_absolute_error: 0.5633 - val_output2_binary_accuracy: 0.5204 - val_output2_loss: 0.2844\n",
            "Epoch 9/100\n",
            "\u001b[1m522/522\u001b[0m \u001b[32m━━━━━━━━━━━━━━━━━━━━\u001b[0m\u001b[37m\u001b[0m \u001b[1m11s\u001b[0m 17ms/step - loss: 0.6345 - output1_loss: 0.4266 - output1_mean_absolute_error: 0.6517 - output2_binary_accuracy: 0.6581 - output2_loss: 0.2080 - val_loss: 0.5953 - val_output1_loss: 0.3180 - val_output1_mean_absolute_error: 0.5633 - val_output2_binary_accuracy: 0.5197 - val_output2_loss: 0.2768\n",
            "Epoch 10/100\n",
            "\u001b[1m522/522\u001b[0m \u001b[32m━━━━━━━━━━━━━━━━━━━━\u001b[0m\u001b[37m\u001b[0m \u001b[1m11s\u001b[0m 19ms/step - loss: 0.6330 - output1_loss: 0.4255 - output1_mean_absolute_error: 0.6509 - output2_binary_accuracy: 0.6586 - output2_loss: 0.2076 - val_loss: 0.5936 - val_output1_loss: 0.3181 - val_output1_mean_absolute_error: 0.5633 - val_output2_binary_accuracy: 0.5483 - val_output2_loss: 0.2751\n",
            "Epoch 11/100\n",
            "\u001b[1m522/522\u001b[0m \u001b[32m━━━━━━━━━━━━━━━━━━━━\u001b[0m\u001b[37m\u001b[0m \u001b[1m10s\u001b[0m 20ms/step - loss: 0.6315 - output1_loss: 0.4265 - output1_mean_absolute_error: 0.6517 - output2_binary_accuracy: 0.6632 - output2_loss: 0.2050 - val_loss: 0.5980 - val_output1_loss: 0.3180 - val_output1_mean_absolute_error: 0.5633 - val_output2_binary_accuracy: 0.5512 - val_output2_loss: 0.2793\n"
          ]
        },
        {
          "output_type": "execute_result",
          "data": {
            "text/plain": [
              "<keras.src.callbacks.history.History at 0x7abd98dc9330>"
            ]
          },
          "metadata": {},
          "execution_count": 64
        }
      ]
    },
    {
      "cell_type": "code",
      "execution_count": 65,
      "id": "f8ad3e10",
      "metadata": {
        "colab": {
          "base_uri": "https://localhost:8080/"
        },
        "id": "f8ad3e10",
        "outputId": "d48ef4bf-2aee-43e1-bdd3-c193bc2c823d"
      },
      "outputs": [
        {
          "output_type": "stream",
          "name": "stdout",
          "text": [
            "\u001b[1m1/1\u001b[0m \u001b[32m━━━━━━━━━━━━━━━━━━━━\u001b[0m\u001b[37m\u001b[0m \u001b[1m0s\u001b[0m 60ms/step - loss: 0.6394 - output1_loss: 0.2619 - output1_mean_absolute_error: 0.5117 - output2_binary_accuracy: 0.4597 - output2_loss: 0.3775\n"
          ]
        }
      ],
      "source": [
        "loss, loss_output1, loss_output2, acc_output1, mae_output2 = modeloLSTM.evaluate(\n",
        "    x_test,\n",
        "    {'output1': y_test1, 'output2': y_test2}\n",
        ")"
      ]
    },
    {
      "cell_type": "code",
      "source": [
        "loss, loss_output1, loss_output2, acc_output1, mae_output2 = modeloGRU.evaluate(\n",
        "    x_test,\n",
        "    {'output1': y_test1, 'output2': y_test2}\n",
        ")"
      ],
      "metadata": {
        "colab": {
          "base_uri": "https://localhost:8080/"
        },
        "id": "F4vEcwRpzdsy",
        "outputId": "c1d45a2c-491c-400b-981a-e6245c14ab2a"
      },
      "id": "F4vEcwRpzdsy",
      "execution_count": 66,
      "outputs": [
        {
          "output_type": "stream",
          "name": "stdout",
          "text": [
            "\u001b[1m1/1\u001b[0m \u001b[32m━━━━━━━━━━━━━━━━━━━━\u001b[0m\u001b[37m\u001b[0m \u001b[1m0s\u001b[0m 48ms/step - loss: 0.5410 - output1_loss: 0.2620 - output1_mean_absolute_error: 0.5117 - output2_binary_accuracy: 0.4919 - output2_loss: 0.2790\n"
          ]
        }
      ]
    },
    {
      "cell_type": "markdown",
      "id": "df90899d-b43c-4681-9469-9aa995399a91",
      "metadata": {
        "id": "df90899d-b43c-4681-9469-9aa995399a91"
      },
      "source": [
        "### 3.3. LSTM y GRU anidados. Se requieren al menos dos capas."
      ]
    },
    {
      "cell_type": "code",
      "source": [
        "input_layer = keras.Input(shape=(input_width,numero_caracteristicas))\n",
        "x = layers.LSTM(32, return_sequences = True)(input_layer)\n",
        "shared_layer = layers.GRU(32, return_sequences = True)(x)\n",
        "\n",
        "output1 = layers.Dense(2, activation='softmax', name='output1')(shared_layer)  # Clasificación\n",
        "output2 = layers.Dense(1, activation='linear', name='output2')(shared_layer)  # Regresión\n",
        "\n",
        "modeloAnidado = keras.Model(inputs=input_layer, outputs=[output1, output2])\n",
        "\n",
        "modeloAnidado.compile(loss=losses.MeanSquaredError(),\n",
        "                  optimizer=optimizers.Adam(),\n",
        "                  metrics=[metrics.MeanAbsoluteError(),metrics.BinaryAccuracy()])\n",
        "\n",
        "\n"
      ],
      "metadata": {
        "id": "SBA5p0w8SYil"
      },
      "id": "SBA5p0w8SYil",
      "execution_count": 71,
      "outputs": []
    },
    {
      "cell_type": "code",
      "source": [
        "\n",
        "modeloAnidado.fit(x_train,{'output1': y_train1, 'output2': y_train2},callbacks = callback,epochs = 100, validation_split = 0.2)"
      ],
      "metadata": {
        "colab": {
          "base_uri": "https://localhost:8080/"
        },
        "id": "52Mwfm0BSRHl",
        "outputId": "456cc1bb-d054-42a0-d6af-875246d28fef"
      },
      "id": "52Mwfm0BSRHl",
      "execution_count": 74,
      "outputs": [
        {
          "output_type": "stream",
          "name": "stdout",
          "text": [
            "Epoch 1/100\n",
            "\u001b[1m522/522\u001b[0m \u001b[32m━━━━━━━━━━━━━━━━━━━━\u001b[0m\u001b[37m\u001b[0m \u001b[1m15s\u001b[0m 30ms/step - loss: 0.6673 - output1_loss: 0.4258 - output1_mean_absolute_error: 0.6511 - output2_binary_accuracy: 0.5775 - output2_loss: 0.2415 - val_loss: 0.5591 - val_output1_loss: 0.3181 - val_output1_mean_absolute_error: 0.5633 - val_output2_binary_accuracy: 0.5886 - val_output2_loss: 0.2407\n",
            "Epoch 2/100\n",
            "\u001b[1m522/522\u001b[0m \u001b[32m━━━━━━━━━━━━━━━━━━━━\u001b[0m\u001b[37m\u001b[0m \u001b[1m22s\u001b[0m 33ms/step - loss: 0.6654 - output1_loss: 0.4264 - output1_mean_absolute_error: 0.6516 - output2_binary_accuracy: 0.5847 - output2_loss: 0.2391 - val_loss: 0.5576 - val_output1_loss: 0.3181 - val_output1_mean_absolute_error: 0.5633 - val_output2_binary_accuracy: 0.5922 - val_output2_loss: 0.2391\n",
            "Epoch 3/100\n",
            "\u001b[1m522/522\u001b[0m \u001b[32m━━━━━━━━━━━━━━━━━━━━\u001b[0m\u001b[37m\u001b[0m \u001b[1m16s\u001b[0m 30ms/step - loss: 0.6642 - output1_loss: 0.4259 - output1_mean_absolute_error: 0.6512 - output2_binary_accuracy: 0.5880 - output2_loss: 0.2383 - val_loss: 0.5608 - val_output1_loss: 0.3181 - val_output1_mean_absolute_error: 0.5633 - val_output2_binary_accuracy: 0.5804 - val_output2_loss: 0.2423\n",
            "Epoch 4/100\n",
            "\u001b[1m522/522\u001b[0m \u001b[32m━━━━━━━━━━━━━━━━━━━━\u001b[0m\u001b[37m\u001b[0m \u001b[1m20s\u001b[0m 29ms/step - loss: 0.6639 - output1_loss: 0.4267 - output1_mean_absolute_error: 0.6518 - output2_binary_accuracy: 0.5922 - output2_loss: 0.2372 - val_loss: 0.5612 - val_output1_loss: 0.3181 - val_output1_mean_absolute_error: 0.5633 - val_output2_binary_accuracy: 0.5754 - val_output2_loss: 0.2427\n",
            "Epoch 5/100\n",
            "\u001b[1m522/522\u001b[0m \u001b[32m━━━━━━━━━━━━━━━━━━━━\u001b[0m\u001b[37m\u001b[0m \u001b[1m20s\u001b[0m 29ms/step - loss: 0.6616 - output1_loss: 0.4262 - output1_mean_absolute_error: 0.6515 - output2_binary_accuracy: 0.5970 - output2_loss: 0.2354 - val_loss: 0.5623 - val_output1_loss: 0.3180 - val_output1_mean_absolute_error: 0.5633 - val_output2_binary_accuracy: 0.5774 - val_output2_loss: 0.2439\n",
            "Epoch 6/100\n",
            "\u001b[1m522/522\u001b[0m \u001b[32m━━━━━━━━━━━━━━━━━━━━\u001b[0m\u001b[37m\u001b[0m \u001b[1m15s\u001b[0m 29ms/step - loss: 0.6612 - output1_loss: 0.4259 - output1_mean_absolute_error: 0.6512 - output2_binary_accuracy: 0.5970 - output2_loss: 0.2353 - val_loss: 0.5682 - val_output1_loss: 0.3180 - val_output1_mean_absolute_error: 0.5633 - val_output2_binary_accuracy: 0.5536 - val_output2_loss: 0.2499\n",
            "Epoch 7/100\n",
            "\u001b[1m522/522\u001b[0m \u001b[32m━━━━━━━━━━━━━━━━━━━━\u001b[0m\u001b[37m\u001b[0m \u001b[1m15s\u001b[0m 28ms/step - loss: 0.6588 - output1_loss: 0.4259 - output1_mean_absolute_error: 0.6513 - output2_binary_accuracy: 0.6029 - output2_loss: 0.2328 - val_loss: 0.5729 - val_output1_loss: 0.3180 - val_output1_mean_absolute_error: 0.5633 - val_output2_binary_accuracy: 0.5470 - val_output2_loss: 0.2544\n",
            "Epoch 8/100\n",
            "\u001b[1m522/522\u001b[0m \u001b[32m━━━━━━━━━━━━━━━━━━━━\u001b[0m\u001b[37m\u001b[0m \u001b[1m20s\u001b[0m 28ms/step - loss: 0.6556 - output1_loss: 0.4252 - output1_mean_absolute_error: 0.6507 - output2_binary_accuracy: 0.6098 - output2_loss: 0.2303 - val_loss: 0.5740 - val_output1_loss: 0.3180 - val_output1_mean_absolute_error: 0.5633 - val_output2_binary_accuracy: 0.5417 - val_output2_loss: 0.2557\n",
            "Epoch 9/100\n",
            "\u001b[1m522/522\u001b[0m \u001b[32m━━━━━━━━━━━━━━━━━━━━\u001b[0m\u001b[37m\u001b[0m \u001b[1m16s\u001b[0m 31ms/step - loss: 0.6534 - output1_loss: 0.4261 - output1_mean_absolute_error: 0.6515 - output2_binary_accuracy: 0.6177 - output2_loss: 0.2272 - val_loss: 0.5754 - val_output1_loss: 0.3180 - val_output1_mean_absolute_error: 0.5633 - val_output2_binary_accuracy: 0.5386 - val_output2_loss: 0.2570\n",
            "Epoch 10/100\n",
            "\u001b[1m522/522\u001b[0m \u001b[32m━━━━━━━━━━━━━━━━━━━━\u001b[0m\u001b[37m\u001b[0m \u001b[1m20s\u001b[0m 30ms/step - loss: 0.6508 - output1_loss: 0.4264 - output1_mean_absolute_error: 0.6516 - output2_binary_accuracy: 0.6234 - output2_loss: 0.2244 - val_loss: 0.5720 - val_output1_loss: 0.3180 - val_output1_mean_absolute_error: 0.5633 - val_output2_binary_accuracy: 0.5626 - val_output2_loss: 0.2537\n",
            "Epoch 11/100\n",
            "\u001b[1m522/522\u001b[0m \u001b[32m━━━━━━━━━━━━━━━━━━━━\u001b[0m\u001b[37m\u001b[0m \u001b[1m19s\u001b[0m 28ms/step - loss: 0.6479 - output1_loss: 0.4266 - output1_mean_absolute_error: 0.6518 - output2_binary_accuracy: 0.6284 - output2_loss: 0.2213 - val_loss: 0.5757 - val_output1_loss: 0.3180 - val_output1_mean_absolute_error: 0.5633 - val_output2_binary_accuracy: 0.5485 - val_output2_loss: 0.2571\n",
            "Epoch 12/100\n",
            "\u001b[1m522/522\u001b[0m \u001b[32m━━━━━━━━━━━━━━━━━━━━\u001b[0m\u001b[37m\u001b[0m \u001b[1m20s\u001b[0m 28ms/step - loss: 0.6452 - output1_loss: 0.4260 - output1_mean_absolute_error: 0.6513 - output2_binary_accuracy: 0.6332 - output2_loss: 0.2192 - val_loss: 0.5778 - val_output1_loss: 0.3180 - val_output1_mean_absolute_error: 0.5633 - val_output2_binary_accuracy: 0.5596 - val_output2_loss: 0.2592\n",
            "Epoch 13/100\n",
            "\u001b[1m522/522\u001b[0m \u001b[32m━━━━━━━━━━━━━━━━━━━━\u001b[0m\u001b[37m\u001b[0m \u001b[1m20s\u001b[0m 28ms/step - loss: 0.6414 - output1_loss: 0.4255 - output1_mean_absolute_error: 0.6509 - output2_binary_accuracy: 0.6394 - output2_loss: 0.2160 - val_loss: 0.5860 - val_output1_loss: 0.3180 - val_output1_mean_absolute_error: 0.5633 - val_output2_binary_accuracy: 0.5465 - val_output2_loss: 0.2672\n",
            "Epoch 14/100\n",
            "\u001b[1m522/522\u001b[0m \u001b[32m━━━━━━━━━━━━━━━━━━━━\u001b[0m\u001b[37m\u001b[0m \u001b[1m21s\u001b[0m 28ms/step - loss: 0.6401 - output1_loss: 0.4258 - output1_mean_absolute_error: 0.6511 - output2_binary_accuracy: 0.6439 - output2_loss: 0.2143 - val_loss: 0.5851 - val_output1_loss: 0.3180 - val_output1_mean_absolute_error: 0.5633 - val_output2_binary_accuracy: 0.5460 - val_output2_loss: 0.2665\n",
            "Epoch 15/100\n",
            "\u001b[1m522/522\u001b[0m \u001b[32m━━━━━━━━━━━━━━━━━━━━\u001b[0m\u001b[37m\u001b[0m \u001b[1m15s\u001b[0m 28ms/step - loss: 0.6368 - output1_loss: 0.4260 - output1_mean_absolute_error: 0.6514 - output2_binary_accuracy: 0.6520 - output2_loss: 0.2108 - val_loss: 0.5888 - val_output1_loss: 0.3180 - val_output1_mean_absolute_error: 0.5633 - val_output2_binary_accuracy: 0.5441 - val_output2_loss: 0.2700\n",
            "Epoch 16/100\n",
            "\u001b[1m522/522\u001b[0m \u001b[32m━━━━━━━━━━━━━━━━━━━━\u001b[0m\u001b[37m\u001b[0m \u001b[1m21s\u001b[0m 29ms/step - loss: 0.6350 - output1_loss: 0.4263 - output1_mean_absolute_error: 0.6516 - output2_binary_accuracy: 0.6544 - output2_loss: 0.2087 - val_loss: 0.5959 - val_output1_loss: 0.3180 - val_output1_mean_absolute_error: 0.5633 - val_output2_binary_accuracy: 0.5313 - val_output2_loss: 0.2772\n",
            "Epoch 17/100\n",
            "\u001b[1m522/522\u001b[0m \u001b[32m━━━━━━━━━━━━━━━━━━━━\u001b[0m\u001b[37m\u001b[0m \u001b[1m22s\u001b[0m 32ms/step - loss: 0.6327 - output1_loss: 0.4268 - output1_mean_absolute_error: 0.6520 - output2_binary_accuracy: 0.6603 - output2_loss: 0.2059 - val_loss: 0.5917 - val_output1_loss: 0.3180 - val_output1_mean_absolute_error: 0.5633 - val_output2_binary_accuracy: 0.5584 - val_output2_loss: 0.2731\n",
            "Epoch 18/100\n",
            "\u001b[1m522/522\u001b[0m \u001b[32m━━━━━━━━━━━━━━━━━━━━\u001b[0m\u001b[37m\u001b[0m \u001b[1m15s\u001b[0m 29ms/step - loss: 0.6307 - output1_loss: 0.4256 - output1_mean_absolute_error: 0.6510 - output2_binary_accuracy: 0.6604 - output2_loss: 0.2051 - val_loss: 0.5997 - val_output1_loss: 0.3180 - val_output1_mean_absolute_error: 0.5633 - val_output2_binary_accuracy: 0.5446 - val_output2_loss: 0.2813\n",
            "Epoch 19/100\n",
            "\u001b[1m522/522\u001b[0m \u001b[32m━━━━━━━━━━━━━━━━━━━━\u001b[0m\u001b[37m\u001b[0m \u001b[1m15s\u001b[0m 29ms/step - loss: 0.6287 - output1_loss: 0.4261 - output1_mean_absolute_error: 0.6514 - output2_binary_accuracy: 0.6659 - output2_loss: 0.2026 - val_loss: 0.5969 - val_output1_loss: 0.3180 - val_output1_mean_absolute_error: 0.5633 - val_output2_binary_accuracy: 0.5543 - val_output2_loss: 0.2783\n",
            "Epoch 20/100\n",
            "\u001b[1m522/522\u001b[0m \u001b[32m━━━━━━━━━━━━━━━━━━━━\u001b[0m\u001b[37m\u001b[0m \u001b[1m20s\u001b[0m 28ms/step - loss: 0.6268 - output1_loss: 0.4265 - output1_mean_absolute_error: 0.6517 - output2_binary_accuracy: 0.6701 - output2_loss: 0.2003 - val_loss: 0.6050 - val_output1_loss: 0.3180 - val_output1_mean_absolute_error: 0.5633 - val_output2_binary_accuracy: 0.5421 - val_output2_loss: 0.2864\n",
            "Epoch 21/100\n",
            "\u001b[1m522/522\u001b[0m \u001b[32m━━━━━━━━━━━━━━━━━━━━\u001b[0m\u001b[37m\u001b[0m \u001b[1m15s\u001b[0m 29ms/step - loss: 0.6224 - output1_loss: 0.4253 - output1_mean_absolute_error: 0.6508 - output2_binary_accuracy: 0.6778 - output2_loss: 0.1971 - val_loss: 0.6171 - val_output1_loss: 0.3180 - val_output1_mean_absolute_error: 0.5633 - val_output2_binary_accuracy: 0.5251 - val_output2_loss: 0.2987\n",
            "Epoch 22/100\n",
            "\u001b[1m522/522\u001b[0m \u001b[32m━━━━━━━━━━━━━━━━━━━━\u001b[0m\u001b[37m\u001b[0m \u001b[1m20s\u001b[0m 29ms/step - loss: 0.6231 - output1_loss: 0.4262 - output1_mean_absolute_error: 0.6515 - output2_binary_accuracy: 0.6776 - output2_loss: 0.1969 - val_loss: 0.6123 - val_output1_loss: 0.3180 - val_output1_mean_absolute_error: 0.5633 - val_output2_binary_accuracy: 0.5458 - val_output2_loss: 0.2941\n",
            "Epoch 23/100\n",
            "\u001b[1m522/522\u001b[0m \u001b[32m━━━━━━━━━━━━━━━━━━━━\u001b[0m\u001b[37m\u001b[0m \u001b[1m15s\u001b[0m 28ms/step - loss: 0.6210 - output1_loss: 0.4259 - output1_mean_absolute_error: 0.6513 - output2_binary_accuracy: 0.6820 - output2_loss: 0.1950 - val_loss: 0.6257 - val_output1_loss: 0.3180 - val_output1_mean_absolute_error: 0.5633 - val_output2_binary_accuracy: 0.5203 - val_output2_loss: 0.3071\n",
            "Epoch 24/100\n",
            "\u001b[1m522/522\u001b[0m \u001b[32m━━━━━━━━━━━━━━━━━━━━\u001b[0m\u001b[37m\u001b[0m \u001b[1m21s\u001b[0m 29ms/step - loss: 0.6187 - output1_loss: 0.4258 - output1_mean_absolute_error: 0.6511 - output2_binary_accuracy: 0.6871 - output2_loss: 0.1929 - val_loss: 0.6230 - val_output1_loss: 0.3180 - val_output1_mean_absolute_error: 0.5633 - val_output2_binary_accuracy: 0.5390 - val_output2_loss: 0.3045\n",
            "Epoch 25/100\n",
            "\u001b[1m522/522\u001b[0m \u001b[32m━━━━━━━━━━━━━━━━━━━━\u001b[0m\u001b[37m\u001b[0m \u001b[1m20s\u001b[0m 29ms/step - loss: 0.6175 - output1_loss: 0.4260 - output1_mean_absolute_error: 0.6513 - output2_binary_accuracy: 0.6896 - output2_loss: 0.1915 - val_loss: 0.6295 - val_output1_loss: 0.3180 - val_output1_mean_absolute_error: 0.5633 - val_output2_binary_accuracy: 0.5193 - val_output2_loss: 0.3109\n",
            "Epoch 26/100\n",
            "\u001b[1m522/522\u001b[0m \u001b[32m━━━━━━━━━━━━━━━━━━━━\u001b[0m\u001b[37m\u001b[0m \u001b[1m15s\u001b[0m 29ms/step - loss: 0.6167 - output1_loss: 0.4256 - output1_mean_absolute_error: 0.6510 - output2_binary_accuracy: 0.6894 - output2_loss: 0.1911 - val_loss: 0.6256 - val_output1_loss: 0.3180 - val_output1_mean_absolute_error: 0.5633 - val_output2_binary_accuracy: 0.5364 - val_output2_loss: 0.3074\n",
            "Epoch 27/100\n",
            "\u001b[1m522/522\u001b[0m \u001b[32m━━━━━━━━━━━━━━━━━━━━\u001b[0m\u001b[37m\u001b[0m \u001b[1m15s\u001b[0m 29ms/step - loss: 0.6144 - output1_loss: 0.4256 - output1_mean_absolute_error: 0.6510 - output2_binary_accuracy: 0.6929 - output2_loss: 0.1888 - val_loss: 0.6413 - val_output1_loss: 0.3180 - val_output1_mean_absolute_error: 0.5633 - val_output2_binary_accuracy: 0.5187 - val_output2_loss: 0.3232\n",
            "Epoch 28/100\n",
            "\u001b[1m522/522\u001b[0m \u001b[32m━━━━━━━━━━━━━━━━━━━━\u001b[0m\u001b[37m\u001b[0m \u001b[1m20s\u001b[0m 29ms/step - loss: 0.6143 - output1_loss: 0.4254 - output1_mean_absolute_error: 0.6509 - output2_binary_accuracy: 0.6924 - output2_loss: 0.1889 - val_loss: 0.6372 - val_output1_loss: 0.3180 - val_output1_mean_absolute_error: 0.5633 - val_output2_binary_accuracy: 0.5309 - val_output2_loss: 0.3186\n",
            "Epoch 29/100\n",
            "\u001b[1m522/522\u001b[0m \u001b[32m━━━━━━━━━━━━━━━━━━━━\u001b[0m\u001b[37m\u001b[0m \u001b[1m21s\u001b[0m 30ms/step - loss: 0.6133 - output1_loss: 0.4262 - output1_mean_absolute_error: 0.6515 - output2_binary_accuracy: 0.6969 - output2_loss: 0.1871 - val_loss: 0.6483 - val_output1_loss: 0.3180 - val_output1_mean_absolute_error: 0.5633 - val_output2_binary_accuracy: 0.5210 - val_output2_loss: 0.3298\n",
            "Epoch 30/100\n",
            "\u001b[1m522/522\u001b[0m \u001b[32m━━━━━━━━━━━━━━━━━━━━\u001b[0m\u001b[37m\u001b[0m \u001b[1m20s\u001b[0m 28ms/step - loss: 0.6106 - output1_loss: 0.4258 - output1_mean_absolute_error: 0.6512 - output2_binary_accuracy: 0.7017 - output2_loss: 0.1848 - val_loss: 0.6523 - val_output1_loss: 0.3180 - val_output1_mean_absolute_error: 0.5633 - val_output2_binary_accuracy: 0.5195 - val_output2_loss: 0.3338\n",
            "Epoch 31/100\n",
            "\u001b[1m522/522\u001b[0m \u001b[32m━━━━━━━━━━━━━━━━━━━━\u001b[0m\u001b[37m\u001b[0m \u001b[1m15s\u001b[0m 28ms/step - loss: 0.6109 - output1_loss: 0.4260 - output1_mean_absolute_error: 0.6513 - output2_binary_accuracy: 0.6992 - output2_loss: 0.1848 - val_loss: 0.6457 - val_output1_loss: 0.3180 - val_output1_mean_absolute_error: 0.5633 - val_output2_binary_accuracy: 0.5319 - val_output2_loss: 0.3273\n",
            "Epoch 32/100\n",
            "\u001b[1m522/522\u001b[0m \u001b[32m━━━━━━━━━━━━━━━━━━━━\u001b[0m\u001b[37m\u001b[0m \u001b[1m21s\u001b[0m 29ms/step - loss: 0.6091 - output1_loss: 0.4258 - output1_mean_absolute_error: 0.6512 - output2_binary_accuracy: 0.7030 - output2_loss: 0.1833 - val_loss: 0.6505 - val_output1_loss: 0.3180 - val_output1_mean_absolute_error: 0.5633 - val_output2_binary_accuracy: 0.5284 - val_output2_loss: 0.3321\n",
            "Epoch 33/100\n",
            "\u001b[1m522/522\u001b[0m \u001b[32m━━━━━━━━━━━━━━━━━━━━\u001b[0m\u001b[37m\u001b[0m \u001b[1m17s\u001b[0m 33ms/step - loss: 0.6083 - output1_loss: 0.4264 - output1_mean_absolute_error: 0.6516 - output2_binary_accuracy: 0.7068 - output2_loss: 0.1819 - val_loss: 0.6536 - val_output1_loss: 0.3180 - val_output1_mean_absolute_error: 0.5633 - val_output2_binary_accuracy: 0.5254 - val_output2_loss: 0.3355\n",
            "Epoch 34/100\n",
            "\u001b[1m522/522\u001b[0m \u001b[32m━━━━━━━━━━━━━━━━━━━━\u001b[0m\u001b[37m\u001b[0m \u001b[1m15s\u001b[0m 29ms/step - loss: 0.6072 - output1_loss: 0.4261 - output1_mean_absolute_error: 0.6514 - output2_binary_accuracy: 0.7071 - output2_loss: 0.1811 - val_loss: 0.6611 - val_output1_loss: 0.3180 - val_output1_mean_absolute_error: 0.5633 - val_output2_binary_accuracy: 0.5153 - val_output2_loss: 0.3429\n",
            "Epoch 35/100\n",
            "\u001b[1m522/522\u001b[0m \u001b[32m━━━━━━━━━━━━━━━━━━━━\u001b[0m\u001b[37m\u001b[0m \u001b[1m15s\u001b[0m 29ms/step - loss: 0.6062 - output1_loss: 0.4262 - output1_mean_absolute_error: 0.6515 - output2_binary_accuracy: 0.7101 - output2_loss: 0.1800 - val_loss: 0.6579 - val_output1_loss: 0.3180 - val_output1_mean_absolute_error: 0.5633 - val_output2_binary_accuracy: 0.5253 - val_output2_loss: 0.3395\n",
            "Epoch 36/100\n",
            "\u001b[1m522/522\u001b[0m \u001b[32m━━━━━━━━━━━━━━━━━━━━\u001b[0m\u001b[37m\u001b[0m \u001b[1m15s\u001b[0m 29ms/step - loss: 0.6048 - output1_loss: 0.4262 - output1_mean_absolute_error: 0.6515 - output2_binary_accuracy: 0.7134 - output2_loss: 0.1786 - val_loss: 0.6572 - val_output1_loss: 0.3180 - val_output1_mean_absolute_error: 0.5633 - val_output2_binary_accuracy: 0.5268 - val_output2_loss: 0.3387\n",
            "Epoch 37/100\n",
            "\u001b[1m522/522\u001b[0m \u001b[32m━━━━━━━━━━━━━━━━━━━━\u001b[0m\u001b[37m\u001b[0m \u001b[1m20s\u001b[0m 29ms/step - loss: 0.6037 - output1_loss: 0.4260 - output1_mean_absolute_error: 0.6513 - output2_binary_accuracy: 0.7145 - output2_loss: 0.1777 - val_loss: 0.6691 - val_output1_loss: 0.3180 - val_output1_mean_absolute_error: 0.5633 - val_output2_binary_accuracy: 0.5221 - val_output2_loss: 0.3506\n",
            "Epoch 38/100\n",
            "\u001b[1m522/522\u001b[0m \u001b[32m━━━━━━━━━━━━━━━━━━━━\u001b[0m\u001b[37m\u001b[0m \u001b[1m20s\u001b[0m 28ms/step - loss: 0.6029 - output1_loss: 0.4262 - output1_mean_absolute_error: 0.6515 - output2_binary_accuracy: 0.7162 - output2_loss: 0.1767 - val_loss: 0.6604 - val_output1_loss: 0.3180 - val_output1_mean_absolute_error: 0.5633 - val_output2_binary_accuracy: 0.5306 - val_output2_loss: 0.3421\n",
            "Epoch 39/100\n",
            "\u001b[1m522/522\u001b[0m \u001b[32m━━━━━━━━━━━━━━━━━━━━\u001b[0m\u001b[37m\u001b[0m \u001b[1m21s\u001b[0m 29ms/step - loss: 0.6025 - output1_loss: 0.4255 - output1_mean_absolute_error: 0.6509 - output2_binary_accuracy: 0.7154 - output2_loss: 0.1770 - val_loss: 0.6617 - val_output1_loss: 0.3180 - val_output1_mean_absolute_error: 0.5633 - val_output2_binary_accuracy: 0.5288 - val_output2_loss: 0.3435\n",
            "Epoch 40/100\n",
            "\u001b[1m522/522\u001b[0m \u001b[32m━━━━━━━━━━━━━━━━━━━━\u001b[0m\u001b[37m\u001b[0m \u001b[1m20s\u001b[0m 29ms/step - loss: 0.6008 - output1_loss: 0.4262 - output1_mean_absolute_error: 0.6515 - output2_binary_accuracy: 0.7217 - output2_loss: 0.1746 - val_loss: 0.6660 - val_output1_loss: 0.3180 - val_output1_mean_absolute_error: 0.5633 - val_output2_binary_accuracy: 0.5259 - val_output2_loss: 0.3475\n",
            "Epoch 41/100\n",
            "\u001b[1m522/522\u001b[0m \u001b[32m━━━━━━━━━━━━━━━━━━━━\u001b[0m\u001b[37m\u001b[0m \u001b[1m21s\u001b[0m 29ms/step - loss: 0.6004 - output1_loss: 0.4260 - output1_mean_absolute_error: 0.6514 - output2_binary_accuracy: 0.7230 - output2_loss: 0.1744 - val_loss: 0.6638 - val_output1_loss: 0.3180 - val_output1_mean_absolute_error: 0.5633 - val_output2_binary_accuracy: 0.5281 - val_output2_loss: 0.3454\n",
            "Epoch 42/100\n",
            "\u001b[1m522/522\u001b[0m \u001b[32m━━━━━━━━━━━━━━━━━━━━\u001b[0m\u001b[37m\u001b[0m \u001b[1m15s\u001b[0m 29ms/step - loss: 0.5992 - output1_loss: 0.4256 - output1_mean_absolute_error: 0.6510 - output2_binary_accuracy: 0.7223 - output2_loss: 0.1737 - val_loss: 0.6747 - val_output1_loss: 0.3180 - val_output1_mean_absolute_error: 0.5633 - val_output2_binary_accuracy: 0.5192 - val_output2_loss: 0.3563\n",
            "Epoch 43/100\n",
            "\u001b[1m522/522\u001b[0m \u001b[32m━━━━━━━━━━━━━━━━━━━━\u001b[0m\u001b[37m\u001b[0m \u001b[1m20s\u001b[0m 28ms/step - loss: 0.5990 - output1_loss: 0.4267 - output1_mean_absolute_error: 0.6519 - output2_binary_accuracy: 0.7264 - output2_loss: 0.1723 - val_loss: 0.6705 - val_output1_loss: 0.3180 - val_output1_mean_absolute_error: 0.5633 - val_output2_binary_accuracy: 0.5262 - val_output2_loss: 0.3522\n",
            "Epoch 44/100\n",
            "\u001b[1m522/522\u001b[0m \u001b[32m━━━━━━━━━━━━━━━━━━━━\u001b[0m\u001b[37m\u001b[0m \u001b[1m21s\u001b[0m 29ms/step - loss: 0.5975 - output1_loss: 0.4255 - output1_mean_absolute_error: 0.6509 - output2_binary_accuracy: 0.7266 - output2_loss: 0.1721 - val_loss: 0.6811 - val_output1_loss: 0.3180 - val_output1_mean_absolute_error: 0.5633 - val_output2_binary_accuracy: 0.5184 - val_output2_loss: 0.3625\n",
            "Epoch 45/100\n",
            "\u001b[1m522/522\u001b[0m \u001b[32m━━━━━━━━━━━━━━━━━━━━\u001b[0m\u001b[37m\u001b[0m \u001b[1m21s\u001b[0m 29ms/step - loss: 0.5981 - output1_loss: 0.4261 - output1_mean_absolute_error: 0.6514 - output2_binary_accuracy: 0.7272 - output2_loss: 0.1720 - val_loss: 0.6747 - val_output1_loss: 0.3180 - val_output1_mean_absolute_error: 0.5633 - val_output2_binary_accuracy: 0.5258 - val_output2_loss: 0.3562\n",
            "Epoch 46/100\n",
            "\u001b[1m522/522\u001b[0m \u001b[32m━━━━━━━━━━━━━━━━━━━━\u001b[0m\u001b[37m\u001b[0m \u001b[1m20s\u001b[0m 29ms/step - loss: 0.5959 - output1_loss: 0.4265 - output1_mean_absolute_error: 0.6517 - output2_binary_accuracy: 0.7306 - output2_loss: 0.1694 - val_loss: 0.6808 - val_output1_loss: 0.3180 - val_output1_mean_absolute_error: 0.5633 - val_output2_binary_accuracy: 0.5216 - val_output2_loss: 0.3622\n",
            "Epoch 47/100\n",
            "\u001b[1m522/522\u001b[0m \u001b[32m━━━━━━━━━━━━━━━━━━━━\u001b[0m\u001b[37m\u001b[0m \u001b[1m20s\u001b[0m 29ms/step - loss: 0.5949 - output1_loss: 0.4261 - output1_mean_absolute_error: 0.6514 - output2_binary_accuracy: 0.7331 - output2_loss: 0.1688 - val_loss: 0.6690 - val_output1_loss: 0.3180 - val_output1_mean_absolute_error: 0.5633 - val_output2_binary_accuracy: 0.5391 - val_output2_loss: 0.3504\n",
            "Epoch 48/100\n",
            "\u001b[1m522/522\u001b[0m \u001b[32m━━━━━━━━━━━━━━━━━━━━\u001b[0m\u001b[37m\u001b[0m \u001b[1m23s\u001b[0m 33ms/step - loss: 0.5947 - output1_loss: 0.4258 - output1_mean_absolute_error: 0.6512 - output2_binary_accuracy: 0.7307 - output2_loss: 0.1689 - val_loss: 0.6790 - val_output1_loss: 0.3180 - val_output1_mean_absolute_error: 0.5633 - val_output2_binary_accuracy: 0.5187 - val_output2_loss: 0.3606\n",
            "Epoch 49/100\n",
            "\u001b[1m522/522\u001b[0m \u001b[32m━━━━━━━━━━━━━━━━━━━━\u001b[0m\u001b[37m\u001b[0m \u001b[1m18s\u001b[0m 29ms/step - loss: 0.5945 - output1_loss: 0.4264 - output1_mean_absolute_error: 0.6517 - output2_binary_accuracy: 0.7333 - output2_loss: 0.1681 - val_loss: 0.6789 - val_output1_loss: 0.3180 - val_output1_mean_absolute_error: 0.5633 - val_output2_binary_accuracy: 0.5272 - val_output2_loss: 0.3604\n",
            "Epoch 50/100\n",
            "\u001b[1m522/522\u001b[0m \u001b[32m━━━━━━━━━━━━━━━━━━━━\u001b[0m\u001b[37m\u001b[0m \u001b[1m21s\u001b[0m 30ms/step - loss: 0.5944 - output1_loss: 0.4258 - output1_mean_absolute_error: 0.6511 - output2_binary_accuracy: 0.7330 - output2_loss: 0.1687 - val_loss: 0.6914 - val_output1_loss: 0.3180 - val_output1_mean_absolute_error: 0.5633 - val_output2_binary_accuracy: 0.5210 - val_output2_loss: 0.3731\n",
            "Epoch 51/100\n",
            "\u001b[1m522/522\u001b[0m \u001b[32m━━━━━━━━━━━━━━━━━━━━\u001b[0m\u001b[37m\u001b[0m \u001b[1m20s\u001b[0m 29ms/step - loss: 0.5930 - output1_loss: 0.4260 - output1_mean_absolute_error: 0.6514 - output2_binary_accuracy: 0.7369 - output2_loss: 0.1670 - val_loss: 0.6796 - val_output1_loss: 0.3180 - val_output1_mean_absolute_error: 0.5633 - val_output2_binary_accuracy: 0.5273 - val_output2_loss: 0.3612\n",
            "Epoch 52/100\n",
            "\u001b[1m522/522\u001b[0m \u001b[32m━━━━━━━━━━━━━━━━━━━━\u001b[0m\u001b[37m\u001b[0m \u001b[1m15s\u001b[0m 30ms/step - loss: 0.5925 - output1_loss: 0.4270 - output1_mean_absolute_error: 0.6521 - output2_binary_accuracy: 0.7395 - output2_loss: 0.1656 - val_loss: 0.6886 - val_output1_loss: 0.3180 - val_output1_mean_absolute_error: 0.5633 - val_output2_binary_accuracy: 0.5199 - val_output2_loss: 0.3700\n",
            "Epoch 53/100\n",
            "\u001b[1m522/522\u001b[0m \u001b[32m━━━━━━━━━━━━━━━━━━━━\u001b[0m\u001b[37m\u001b[0m \u001b[1m20s\u001b[0m 29ms/step - loss: 0.5917 - output1_loss: 0.4256 - output1_mean_absolute_error: 0.6510 - output2_binary_accuracy: 0.7365 - output2_loss: 0.1661 - val_loss: 0.6852 - val_output1_loss: 0.3180 - val_output1_mean_absolute_error: 0.5633 - val_output2_binary_accuracy: 0.5299 - val_output2_loss: 0.3670\n",
            "Epoch 54/100\n",
            "\u001b[1m522/522\u001b[0m \u001b[32m━━━━━━━━━━━━━━━━━━━━\u001b[0m\u001b[37m\u001b[0m \u001b[1m15s\u001b[0m 30ms/step - loss: 0.5920 - output1_loss: 0.4267 - output1_mean_absolute_error: 0.6518 - output2_binary_accuracy: 0.7396 - output2_loss: 0.1653 - val_loss: 0.6935 - val_output1_loss: 0.3180 - val_output1_mean_absolute_error: 0.5633 - val_output2_binary_accuracy: 0.5242 - val_output2_loss: 0.3750\n",
            "Epoch 55/100\n",
            "\u001b[1m522/522\u001b[0m \u001b[32m━━━━━━━━━━━━━━━━━━━━\u001b[0m\u001b[37m\u001b[0m \u001b[1m15s\u001b[0m 30ms/step - loss: 0.5908 - output1_loss: 0.4259 - output1_mean_absolute_error: 0.6512 - output2_binary_accuracy: 0.7396 - output2_loss: 0.1649 - val_loss: 0.6943 - val_output1_loss: 0.3180 - val_output1_mean_absolute_error: 0.5633 - val_output2_binary_accuracy: 0.5285 - val_output2_loss: 0.3761\n",
            "Epoch 56/100\n",
            "\u001b[1m522/522\u001b[0m \u001b[32m━━━━━━━━━━━━━━━━━━━━\u001b[0m\u001b[37m\u001b[0m \u001b[1m20s\u001b[0m 29ms/step - loss: 0.5904 - output1_loss: 0.4259 - output1_mean_absolute_error: 0.6513 - output2_binary_accuracy: 0.7399 - output2_loss: 0.1644 - val_loss: 0.6952 - val_output1_loss: 0.3180 - val_output1_mean_absolute_error: 0.5633 - val_output2_binary_accuracy: 0.5232 - val_output2_loss: 0.3768\n",
            "Epoch 57/100\n",
            "\u001b[1m522/522\u001b[0m \u001b[32m━━━━━━━━━━━━━━━━━━━━\u001b[0m\u001b[37m\u001b[0m \u001b[1m20s\u001b[0m 28ms/step - loss: 0.5900 - output1_loss: 0.4262 - output1_mean_absolute_error: 0.6514 - output2_binary_accuracy: 0.7420 - output2_loss: 0.1639 - val_loss: 0.6938 - val_output1_loss: 0.3180 - val_output1_mean_absolute_error: 0.5633 - val_output2_binary_accuracy: 0.5218 - val_output2_loss: 0.3755\n",
            "Epoch 58/100\n",
            "\u001b[1m522/522\u001b[0m \u001b[32m━━━━━━━━━━━━━━━━━━━━\u001b[0m\u001b[37m\u001b[0m \u001b[1m15s\u001b[0m 29ms/step - loss: 0.5896 - output1_loss: 0.4258 - output1_mean_absolute_error: 0.6512 - output2_binary_accuracy: 0.7427 - output2_loss: 0.1637 - val_loss: 0.6921 - val_output1_loss: 0.3180 - val_output1_mean_absolute_error: 0.5633 - val_output2_binary_accuracy: 0.5285 - val_output2_loss: 0.3737\n",
            "Epoch 59/100\n",
            "\u001b[1m522/522\u001b[0m \u001b[32m━━━━━━━━━━━━━━━━━━━━\u001b[0m\u001b[37m\u001b[0m \u001b[1m15s\u001b[0m 28ms/step - loss: 0.5888 - output1_loss: 0.4261 - output1_mean_absolute_error: 0.6514 - output2_binary_accuracy: 0.7440 - output2_loss: 0.1628 - val_loss: 0.6983 - val_output1_loss: 0.3180 - val_output1_mean_absolute_error: 0.5633 - val_output2_binary_accuracy: 0.5206 - val_output2_loss: 0.3799\n",
            "Epoch 60/100\n",
            "\u001b[1m522/522\u001b[0m \u001b[32m━━━━━━━━━━━━━━━━━━━━\u001b[0m\u001b[37m\u001b[0m \u001b[1m21s\u001b[0m 29ms/step - loss: 0.5892 - output1_loss: 0.4259 - output1_mean_absolute_error: 0.6512 - output2_binary_accuracy: 0.7435 - output2_loss: 0.1633 - val_loss: 0.6865 - val_output1_loss: 0.3180 - val_output1_mean_absolute_error: 0.5633 - val_output2_binary_accuracy: 0.5326 - val_output2_loss: 0.3682\n",
            "Epoch 61/100\n",
            "\u001b[1m522/522\u001b[0m \u001b[32m━━━━━━━━━━━━━━━━━━━━\u001b[0m\u001b[37m\u001b[0m \u001b[1m16s\u001b[0m 30ms/step - loss: 0.5883 - output1_loss: 0.4256 - output1_mean_absolute_error: 0.6510 - output2_binary_accuracy: 0.7439 - output2_loss: 0.1627 - val_loss: 0.6986 - val_output1_loss: 0.3180 - val_output1_mean_absolute_error: 0.5633 - val_output2_binary_accuracy: 0.5237 - val_output2_loss: 0.3800\n",
            "Epoch 62/100\n",
            "\u001b[1m522/522\u001b[0m \u001b[32m━━━━━━━━━━━━━━━━━━━━\u001b[0m\u001b[37m\u001b[0m \u001b[1m20s\u001b[0m 29ms/step - loss: 0.5873 - output1_loss: 0.4259 - output1_mean_absolute_error: 0.6513 - output2_binary_accuracy: 0.7481 - output2_loss: 0.1613 - val_loss: 0.6936 - val_output1_loss: 0.3180 - val_output1_mean_absolute_error: 0.5633 - val_output2_binary_accuracy: 0.5277 - val_output2_loss: 0.3751\n",
            "Epoch 63/100\n",
            "\u001b[1m522/522\u001b[0m \u001b[32m━━━━━━━━━━━━━━━━━━━━\u001b[0m\u001b[37m\u001b[0m \u001b[1m23s\u001b[0m 33ms/step - loss: 0.5879 - output1_loss: 0.4260 - output1_mean_absolute_error: 0.6514 - output2_binary_accuracy: 0.7448 - output2_loss: 0.1619 - val_loss: 0.7066 - val_output1_loss: 0.3180 - val_output1_mean_absolute_error: 0.5633 - val_output2_binary_accuracy: 0.5188 - val_output2_loss: 0.3882\n",
            "Epoch 64/100\n",
            "\u001b[1m522/522\u001b[0m \u001b[32m━━━━━━━━━━━━━━━━━━━━\u001b[0m\u001b[37m\u001b[0m \u001b[1m18s\u001b[0m 29ms/step - loss: 0.5874 - output1_loss: 0.4260 - output1_mean_absolute_error: 0.6513 - output2_binary_accuracy: 0.7458 - output2_loss: 0.1614 - val_loss: 0.6969 - val_output1_loss: 0.3180 - val_output1_mean_absolute_error: 0.5633 - val_output2_binary_accuracy: 0.5262 - val_output2_loss: 0.3786\n",
            "Epoch 65/100\n",
            "\u001b[1m522/522\u001b[0m \u001b[32m━━━━━━━━━━━━━━━━━━━━\u001b[0m\u001b[37m\u001b[0m \u001b[1m21s\u001b[0m 29ms/step - loss: 0.5859 - output1_loss: 0.4255 - output1_mean_absolute_error: 0.6509 - output2_binary_accuracy: 0.7476 - output2_loss: 0.1604 - val_loss: 0.7031 - val_output1_loss: 0.3180 - val_output1_mean_absolute_error: 0.5633 - val_output2_binary_accuracy: 0.5174 - val_output2_loss: 0.3848\n",
            "Epoch 66/100\n",
            "\u001b[1m522/522\u001b[0m \u001b[32m━━━━━━━━━━━━━━━━━━━━\u001b[0m\u001b[37m\u001b[0m \u001b[1m16s\u001b[0m 30ms/step - loss: 0.5855 - output1_loss: 0.4264 - output1_mean_absolute_error: 0.6516 - output2_binary_accuracy: 0.7528 - output2_loss: 0.1591 - val_loss: 0.6968 - val_output1_loss: 0.3180 - val_output1_mean_absolute_error: 0.5633 - val_output2_binary_accuracy: 0.5274 - val_output2_loss: 0.3785\n",
            "Epoch 67/100\n",
            "\u001b[1m522/522\u001b[0m \u001b[32m━━━━━━━━━━━━━━━━━━━━\u001b[0m\u001b[37m\u001b[0m \u001b[1m20s\u001b[0m 30ms/step - loss: 0.5859 - output1_loss: 0.4259 - output1_mean_absolute_error: 0.6512 - output2_binary_accuracy: 0.7484 - output2_loss: 0.1600 - val_loss: 0.7103 - val_output1_loss: 0.3180 - val_output1_mean_absolute_error: 0.5633 - val_output2_binary_accuracy: 0.5218 - val_output2_loss: 0.3917\n",
            "Epoch 68/100\n",
            "\u001b[1m522/522\u001b[0m \u001b[32m━━━━━━━━━━━━━━━━━━━━\u001b[0m\u001b[37m\u001b[0m \u001b[1m20s\u001b[0m 30ms/step - loss: 0.5848 - output1_loss: 0.4263 - output1_mean_absolute_error: 0.6516 - output2_binary_accuracy: 0.7530 - output2_loss: 0.1585 - val_loss: 0.7019 - val_output1_loss: 0.3180 - val_output1_mean_absolute_error: 0.5633 - val_output2_binary_accuracy: 0.5224 - val_output2_loss: 0.3835\n",
            "Epoch 69/100\n",
            "\u001b[1m522/522\u001b[0m \u001b[32m━━━━━━━━━━━━━━━━━━━━\u001b[0m\u001b[37m\u001b[0m \u001b[1m20s\u001b[0m 30ms/step - loss: 0.5849 - output1_loss: 0.4258 - output1_mean_absolute_error: 0.6512 - output2_binary_accuracy: 0.7522 - output2_loss: 0.1590 - val_loss: 0.7032 - val_output1_loss: 0.3180 - val_output1_mean_absolute_error: 0.5633 - val_output2_binary_accuracy: 0.5219 - val_output2_loss: 0.3848\n",
            "Epoch 70/100\n",
            "\u001b[1m522/522\u001b[0m \u001b[32m━━━━━━━━━━━━━━━━━━━━\u001b[0m\u001b[37m\u001b[0m \u001b[1m20s\u001b[0m 29ms/step - loss: 0.5845 - output1_loss: 0.4260 - output1_mean_absolute_error: 0.6513 - output2_binary_accuracy: 0.7527 - output2_loss: 0.1585 - val_loss: 0.7113 - val_output1_loss: 0.3180 - val_output1_mean_absolute_error: 0.5633 - val_output2_binary_accuracy: 0.5193 - val_output2_loss: 0.3930\n",
            "Epoch 71/100\n",
            "\u001b[1m522/522\u001b[0m \u001b[32m━━━━━━━━━━━━━━━━━━━━\u001b[0m\u001b[37m\u001b[0m \u001b[1m20s\u001b[0m 29ms/step - loss: 0.5850 - output1_loss: 0.4268 - output1_mean_absolute_error: 0.6519 - output2_binary_accuracy: 0.7527 - output2_loss: 0.1582 - val_loss: 0.7110 - val_output1_loss: 0.3180 - val_output1_mean_absolute_error: 0.5633 - val_output2_binary_accuracy: 0.5180 - val_output2_loss: 0.3928\n",
            "Epoch 72/100\n",
            "\u001b[1m522/522\u001b[0m \u001b[32m━━━━━━━━━━━━━━━━━━━━\u001b[0m\u001b[37m\u001b[0m \u001b[1m16s\u001b[0m 30ms/step - loss: 0.5834 - output1_loss: 0.4265 - output1_mean_absolute_error: 0.6517 - output2_binary_accuracy: 0.7559 - output2_loss: 0.1569 - val_loss: 0.7083 - val_output1_loss: 0.3180 - val_output1_mean_absolute_error: 0.5633 - val_output2_binary_accuracy: 0.5227 - val_output2_loss: 0.3901\n",
            "Epoch 73/100\n",
            "\u001b[1m522/522\u001b[0m \u001b[32m━━━━━━━━━━━━━━━━━━━━\u001b[0m\u001b[37m\u001b[0m \u001b[1m16s\u001b[0m 30ms/step - loss: 0.5829 - output1_loss: 0.4262 - output1_mean_absolute_error: 0.6515 - output2_binary_accuracy: 0.7563 - output2_loss: 0.1567 - val_loss: 0.7117 - val_output1_loss: 0.3180 - val_output1_mean_absolute_error: 0.5633 - val_output2_binary_accuracy: 0.5253 - val_output2_loss: 0.3934\n",
            "Epoch 74/100\n",
            "\u001b[1m522/522\u001b[0m \u001b[32m━━━━━━━━━━━━━━━━━━━━\u001b[0m\u001b[37m\u001b[0m \u001b[1m16s\u001b[0m 30ms/step - loss: 0.5834 - output1_loss: 0.4257 - output1_mean_absolute_error: 0.6510 - output2_binary_accuracy: 0.7539 - output2_loss: 0.1577 - val_loss: 0.7084 - val_output1_loss: 0.3180 - val_output1_mean_absolute_error: 0.5633 - val_output2_binary_accuracy: 0.5179 - val_output2_loss: 0.3897\n",
            "Epoch 75/100\n",
            "\u001b[1m522/522\u001b[0m \u001b[32m━━━━━━━━━━━━━━━━━━━━\u001b[0m\u001b[37m\u001b[0m \u001b[1m16s\u001b[0m 30ms/step - loss: 0.5811 - output1_loss: 0.4261 - output1_mean_absolute_error: 0.6514 - output2_binary_accuracy: 0.7606 - output2_loss: 0.1551 - val_loss: 0.7068 - val_output1_loss: 0.3180 - val_output1_mean_absolute_error: 0.5633 - val_output2_binary_accuracy: 0.5229 - val_output2_loss: 0.3881\n",
            "Epoch 76/100\n",
            "\u001b[1m522/522\u001b[0m \u001b[32m━━━━━━━━━━━━━━━━━━━━\u001b[0m\u001b[37m\u001b[0m \u001b[1m21s\u001b[0m 31ms/step - loss: 0.5815 - output1_loss: 0.4256 - output1_mean_absolute_error: 0.6510 - output2_binary_accuracy: 0.7577 - output2_loss: 0.1559 - val_loss: 0.7156 - val_output1_loss: 0.3180 - val_output1_mean_absolute_error: 0.5633 - val_output2_binary_accuracy: 0.5123 - val_output2_loss: 0.3970\n",
            "Epoch 77/100\n",
            "\u001b[1m522/522\u001b[0m \u001b[32m━━━━━━━━━━━━━━━━━━━━\u001b[0m\u001b[37m\u001b[0m \u001b[1m20s\u001b[0m 30ms/step - loss: 0.5811 - output1_loss: 0.4258 - output1_mean_absolute_error: 0.6512 - output2_binary_accuracy: 0.7589 - output2_loss: 0.1553 - val_loss: 0.7121 - val_output1_loss: 0.3180 - val_output1_mean_absolute_error: 0.5633 - val_output2_binary_accuracy: 0.5173 - val_output2_loss: 0.3936\n",
            "Epoch 78/100\n",
            "\u001b[1m522/522\u001b[0m \u001b[32m━━━━━━━━━━━━━━━━━━━━\u001b[0m\u001b[37m\u001b[0m \u001b[1m22s\u001b[0m 32ms/step - loss: 0.5809 - output1_loss: 0.4258 - output1_mean_absolute_error: 0.6512 - output2_binary_accuracy: 0.7605 - output2_loss: 0.1551 - val_loss: 0.7180 - val_output1_loss: 0.3180 - val_output1_mean_absolute_error: 0.5633 - val_output2_binary_accuracy: 0.5173 - val_output2_loss: 0.3996\n",
            "Epoch 79/100\n",
            "\u001b[1m522/522\u001b[0m \u001b[32m━━━━━━━━━━━━━━━━━━━━\u001b[0m\u001b[37m\u001b[0m \u001b[1m16s\u001b[0m 31ms/step - loss: 0.5809 - output1_loss: 0.4252 - output1_mean_absolute_error: 0.6507 - output2_binary_accuracy: 0.7590 - output2_loss: 0.1558 - val_loss: 0.7159 - val_output1_loss: 0.3180 - val_output1_mean_absolute_error: 0.5633 - val_output2_binary_accuracy: 0.5203 - val_output2_loss: 0.3972\n",
            "Epoch 80/100\n",
            "\u001b[1m522/522\u001b[0m \u001b[32m━━━━━━━━━━━━━━━━━━━━\u001b[0m\u001b[37m\u001b[0m \u001b[1m19s\u001b[0m 29ms/step - loss: 0.5804 - output1_loss: 0.4260 - output1_mean_absolute_error: 0.6513 - output2_binary_accuracy: 0.7610 - output2_loss: 0.1544 - val_loss: 0.7114 - val_output1_loss: 0.3180 - val_output1_mean_absolute_error: 0.5633 - val_output2_binary_accuracy: 0.5196 - val_output2_loss: 0.3929\n",
            "Epoch 81/100\n",
            "\u001b[1m522/522\u001b[0m \u001b[32m━━━━━━━━━━━━━━━━━━━━\u001b[0m\u001b[37m\u001b[0m \u001b[1m15s\u001b[0m 29ms/step - loss: 0.5803 - output1_loss: 0.4258 - output1_mean_absolute_error: 0.6511 - output2_binary_accuracy: 0.7606 - output2_loss: 0.1546 - val_loss: 0.7194 - val_output1_loss: 0.3180 - val_output1_mean_absolute_error: 0.5633 - val_output2_binary_accuracy: 0.5134 - val_output2_loss: 0.4008\n",
            "Epoch 82/100\n",
            "\u001b[1m522/522\u001b[0m \u001b[32m━━━━━━━━━━━━━━━━━━━━\u001b[0m\u001b[37m\u001b[0m \u001b[1m15s\u001b[0m 29ms/step - loss: 0.5806 - output1_loss: 0.4264 - output1_mean_absolute_error: 0.6516 - output2_binary_accuracy: 0.7610 - output2_loss: 0.1543 - val_loss: 0.7208 - val_output1_loss: 0.3180 - val_output1_mean_absolute_error: 0.5633 - val_output2_binary_accuracy: 0.5135 - val_output2_loss: 0.4024\n",
            "Epoch 83/100\n",
            "\u001b[1m522/522\u001b[0m \u001b[32m━━━━━━━━━━━━━━━━━━━━\u001b[0m\u001b[37m\u001b[0m \u001b[1m21s\u001b[0m 30ms/step - loss: 0.5816 - output1_loss: 0.4261 - output1_mean_absolute_error: 0.6514 - output2_binary_accuracy: 0.7593 - output2_loss: 0.1555 - val_loss: 0.7145 - val_output1_loss: 0.3180 - val_output1_mean_absolute_error: 0.5633 - val_output2_binary_accuracy: 0.5210 - val_output2_loss: 0.3958\n",
            "Epoch 84/100\n",
            "\u001b[1m522/522\u001b[0m \u001b[32m━━━━━━━━━━━━━━━━━━━━\u001b[0m\u001b[37m\u001b[0m \u001b[1m20s\u001b[0m 29ms/step - loss: 0.5801 - output1_loss: 0.4262 - output1_mean_absolute_error: 0.6515 - output2_binary_accuracy: 0.7623 - output2_loss: 0.1539 - val_loss: 0.7111 - val_output1_loss: 0.3180 - val_output1_mean_absolute_error: 0.5633 - val_output2_binary_accuracy: 0.5166 - val_output2_loss: 0.3925\n",
            "Epoch 85/100\n",
            "\u001b[1m522/522\u001b[0m \u001b[32m━━━━━━━━━━━━━━━━━━━━\u001b[0m\u001b[37m\u001b[0m \u001b[1m21s\u001b[0m 30ms/step - loss: 0.5788 - output1_loss: 0.4265 - output1_mean_absolute_error: 0.6517 - output2_binary_accuracy: 0.7644 - output2_loss: 0.1524 - val_loss: 0.7192 - val_output1_loss: 0.3180 - val_output1_mean_absolute_error: 0.5633 - val_output2_binary_accuracy: 0.5181 - val_output2_loss: 0.4005\n",
            "Epoch 86/100\n",
            "\u001b[1m522/522\u001b[0m \u001b[32m━━━━━━━━━━━━━━━━━━━━\u001b[0m\u001b[37m\u001b[0m \u001b[1m20s\u001b[0m 30ms/step - loss: 0.5791 - output1_loss: 0.4261 - output1_mean_absolute_error: 0.6514 - output2_binary_accuracy: 0.7649 - output2_loss: 0.1530 - val_loss: 0.7179 - val_output1_loss: 0.3180 - val_output1_mean_absolute_error: 0.5633 - val_output2_binary_accuracy: 0.5134 - val_output2_loss: 0.3992\n",
            "Epoch 87/100\n",
            "\u001b[1m522/522\u001b[0m \u001b[32m━━━━━━━━━━━━━━━━━━━━\u001b[0m\u001b[37m\u001b[0m \u001b[1m16s\u001b[0m 30ms/step - loss: 0.5793 - output1_loss: 0.4262 - output1_mean_absolute_error: 0.6515 - output2_binary_accuracy: 0.7631 - output2_loss: 0.1530 - val_loss: 0.7193 - val_output1_loss: 0.3180 - val_output1_mean_absolute_error: 0.5633 - val_output2_binary_accuracy: 0.5158 - val_output2_loss: 0.4007\n",
            "Epoch 88/100\n",
            "\u001b[1m522/522\u001b[0m \u001b[32m━━━━━━━━━━━━━━━━━━━━\u001b[0m\u001b[37m\u001b[0m \u001b[1m21s\u001b[0m 30ms/step - loss: 0.5791 - output1_loss: 0.4264 - output1_mean_absolute_error: 0.6516 - output2_binary_accuracy: 0.7649 - output2_loss: 0.1527 - val_loss: 0.7168 - val_output1_loss: 0.3180 - val_output1_mean_absolute_error: 0.5633 - val_output2_binary_accuracy: 0.5158 - val_output2_loss: 0.3981\n",
            "Epoch 89/100\n",
            "\u001b[1m522/522\u001b[0m \u001b[32m━━━━━━━━━━━━━━━━━━━━\u001b[0m\u001b[37m\u001b[0m \u001b[1m16s\u001b[0m 31ms/step - loss: 0.5780 - output1_loss: 0.4263 - output1_mean_absolute_error: 0.6516 - output2_binary_accuracy: 0.7679 - output2_loss: 0.1516 - val_loss: 0.7198 - val_output1_loss: 0.3180 - val_output1_mean_absolute_error: 0.5633 - val_output2_binary_accuracy: 0.5152 - val_output2_loss: 0.4013\n",
            "Epoch 90/100\n",
            "\u001b[1m522/522\u001b[0m \u001b[32m━━━━━━━━━━━━━━━━━━━━\u001b[0m\u001b[37m\u001b[0m \u001b[1m16s\u001b[0m 32ms/step - loss: 0.5772 - output1_loss: 0.4251 - output1_mean_absolute_error: 0.6507 - output2_binary_accuracy: 0.7666 - output2_loss: 0.1521 - val_loss: 0.7231 - val_output1_loss: 0.3180 - val_output1_mean_absolute_error: 0.5633 - val_output2_binary_accuracy: 0.5149 - val_output2_loss: 0.4044\n",
            "Epoch 91/100\n",
            "\u001b[1m522/522\u001b[0m \u001b[32m━━━━━━━━━━━━━━━━━━━━\u001b[0m\u001b[37m\u001b[0m \u001b[1m20s\u001b[0m 31ms/step - loss: 0.5773 - output1_loss: 0.4253 - output1_mean_absolute_error: 0.6508 - output2_binary_accuracy: 0.7667 - output2_loss: 0.1521 - val_loss: 0.7207 - val_output1_loss: 0.3180 - val_output1_mean_absolute_error: 0.5633 - val_output2_binary_accuracy: 0.5212 - val_output2_loss: 0.4020\n",
            "Epoch 92/100\n",
            "\u001b[1m522/522\u001b[0m \u001b[32m━━━━━━━━━━━━━━━━━━━━\u001b[0m\u001b[37m\u001b[0m \u001b[1m21s\u001b[0m 31ms/step - loss: 0.5771 - output1_loss: 0.4257 - output1_mean_absolute_error: 0.6511 - output2_binary_accuracy: 0.7684 - output2_loss: 0.1514 - val_loss: 0.7194 - val_output1_loss: 0.3180 - val_output1_mean_absolute_error: 0.5633 - val_output2_binary_accuracy: 0.5143 - val_output2_loss: 0.4010\n",
            "Epoch 93/100\n",
            "\u001b[1m522/522\u001b[0m \u001b[32m━━━━━━━━━━━━━━━━━━━━\u001b[0m\u001b[37m\u001b[0m \u001b[1m16s\u001b[0m 31ms/step - loss: 0.5770 - output1_loss: 0.4260 - output1_mean_absolute_error: 0.6513 - output2_binary_accuracy: 0.7685 - output2_loss: 0.1510 - val_loss: 0.7193 - val_output1_loss: 0.3180 - val_output1_mean_absolute_error: 0.5633 - val_output2_binary_accuracy: 0.5187 - val_output2_loss: 0.4007\n",
            "Epoch 94/100\n",
            "\u001b[1m522/522\u001b[0m \u001b[32m━━━━━━━━━━━━━━━━━━━━\u001b[0m\u001b[37m\u001b[0m \u001b[1m24s\u001b[0m 37ms/step - loss: 0.5757 - output1_loss: 0.4257 - output1_mean_absolute_error: 0.6511 - output2_binary_accuracy: 0.7706 - output2_loss: 0.1501 - val_loss: 0.7264 - val_output1_loss: 0.3180 - val_output1_mean_absolute_error: 0.5633 - val_output2_binary_accuracy: 0.5149 - val_output2_loss: 0.4077\n",
            "Epoch 95/100\n",
            "\u001b[1m522/522\u001b[0m \u001b[32m━━━━━━━━━━━━━━━━━━━━\u001b[0m\u001b[37m\u001b[0m \u001b[1m29s\u001b[0m 53ms/step - loss: 0.5766 - output1_loss: 0.4264 - output1_mean_absolute_error: 0.6516 - output2_binary_accuracy: 0.7694 - output2_loss: 0.1502 - val_loss: 0.7232 - val_output1_loss: 0.3180 - val_output1_mean_absolute_error: 0.5633 - val_output2_binary_accuracy: 0.5130 - val_output2_loss: 0.4046\n",
            "Epoch 96/100\n",
            "\u001b[1m522/522\u001b[0m \u001b[32m━━━━━━━━━━━━━━━━━━━━\u001b[0m\u001b[37m\u001b[0m \u001b[1m42s\u001b[0m 55ms/step - loss: 0.5758 - output1_loss: 0.4259 - output1_mean_absolute_error: 0.6512 - output2_binary_accuracy: 0.7715 - output2_loss: 0.1500 - val_loss: 0.7237 - val_output1_loss: 0.3180 - val_output1_mean_absolute_error: 0.5633 - val_output2_binary_accuracy: 0.5147 - val_output2_loss: 0.4049\n",
            "Epoch 97/100\n",
            "\u001b[1m522/522\u001b[0m \u001b[32m━━━━━━━━━━━━━━━━━━━━\u001b[0m\u001b[37m\u001b[0m \u001b[1m32s\u001b[0m 37ms/step - loss: 0.5755 - output1_loss: 0.4260 - output1_mean_absolute_error: 0.6514 - output2_binary_accuracy: 0.7717 - output2_loss: 0.1494 - val_loss: 0.7214 - val_output1_loss: 0.3180 - val_output1_mean_absolute_error: 0.5633 - val_output2_binary_accuracy: 0.5147 - val_output2_loss: 0.4027\n",
            "Epoch 98/100\n",
            "\u001b[1m522/522\u001b[0m \u001b[32m━━━━━━━━━━━━━━━━━━━━\u001b[0m\u001b[37m\u001b[0m \u001b[1m20s\u001b[0m 35ms/step - loss: 0.5753 - output1_loss: 0.4258 - output1_mean_absolute_error: 0.6512 - output2_binary_accuracy: 0.7720 - output2_loss: 0.1495 - val_loss: 0.7267 - val_output1_loss: 0.3180 - val_output1_mean_absolute_error: 0.5633 - val_output2_binary_accuracy: 0.5068 - val_output2_loss: 0.4080\n",
            "Epoch 99/100\n",
            "\u001b[1m522/522\u001b[0m \u001b[32m━━━━━━━━━━━━━━━━━━━━\u001b[0m\u001b[37m\u001b[0m \u001b[1m19s\u001b[0m 37ms/step - loss: 0.5755 - output1_loss: 0.4260 - output1_mean_absolute_error: 0.6513 - output2_binary_accuracy: 0.7710 - output2_loss: 0.1495 - val_loss: 0.7296 - val_output1_loss: 0.3180 - val_output1_mean_absolute_error: 0.5633 - val_output2_binary_accuracy: 0.5116 - val_output2_loss: 0.4108\n",
            "Epoch 100/100\n",
            "\u001b[1m522/522\u001b[0m \u001b[32m━━━━━━━━━━━━━━━━━━━━\u001b[0m\u001b[37m\u001b[0m \u001b[1m21s\u001b[0m 38ms/step - loss: 0.5751 - output1_loss: 0.4259 - output1_mean_absolute_error: 0.6512 - output2_binary_accuracy: 0.7726 - output2_loss: 0.1492 - val_loss: 0.7268 - val_output1_loss: 0.3180 - val_output1_mean_absolute_error: 0.5633 - val_output2_binary_accuracy: 0.5096 - val_output2_loss: 0.4081\n"
          ]
        },
        {
          "output_type": "execute_result",
          "data": {
            "text/plain": [
              "<keras.src.callbacks.history.History at 0x7abd9a74ba30>"
            ]
          },
          "metadata": {},
          "execution_count": 74
        }
      ]
    },
    {
      "cell_type": "code",
      "execution_count": null,
      "id": "ae0bbb18",
      "metadata": {
        "colab": {
          "base_uri": "https://localhost:8080/"
        },
        "id": "ae0bbb18",
        "outputId": "30b8664d-3cff-45c5-b358-c1d5e80a96ce"
      },
      "outputs": [
        {
          "output_type": "stream",
          "name": "stdout",
          "text": [
            "\u001b[1m51/51\u001b[0m \u001b[32m━━━━━━━━━━━━━━━━━━━━\u001b[0m\u001b[37m\u001b[0m \u001b[1m0s\u001b[0m 8ms/step - loss: 0.0095 - mean_absolute_error: 0.0947\n"
          ]
        }
      ],
      "source": [
        "test_loss = modeloAnidado.evaluate(x_test, y_test)"
      ]
    },
    {
      "cell_type": "code",
      "source": [
        "prediccion = modeloAnidado.predict(x_test)"
      ],
      "metadata": {
        "colab": {
          "base_uri": "https://localhost:8080/"
        },
        "id": "Y_sbYSMk1CPw",
        "outputId": "e02a548f-1525-4098-9258-144b07b2e009"
      },
      "id": "Y_sbYSMk1CPw",
      "execution_count": null,
      "outputs": [
        {
          "output_type": "stream",
          "name": "stdout",
          "text": [
            "\u001b[1m51/51\u001b[0m \u001b[32m━━━━━━━━━━━━━━━━━━━━\u001b[0m\u001b[37m\u001b[0m \u001b[1m1s\u001b[0m 13ms/step\n"
          ]
        }
      ]
    },
    {
      "cell_type": "code",
      "source": [],
      "metadata": {
        "colab": {
          "base_uri": "https://localhost:8080/"
        },
        "id": "HmmSkP4n1bkE",
        "outputId": "d1681587-4f30-43df-f18e-5bb570c5b527"
      },
      "id": "HmmSkP4n1bkE",
      "execution_count": null,
      "outputs": [
        {
          "output_type": "stream",
          "name": "stdout",
          "text": [
            "[[[0.9978]\n",
            "  [0.9985]\n",
            "  [0.9972]\n",
            "  ...\n",
            "  [0.9948]\n",
            "  [0.9949]\n",
            "  [0.995 ]]\n",
            "\n",
            " [[0.9985]\n",
            "  [0.9972]\n",
            "  [0.9999]\n",
            "  ...\n",
            "  [0.9949]\n",
            "  [0.995 ]\n",
            "  [0.9949]]\n",
            "\n",
            " [[0.9972]\n",
            "  [0.9999]\n",
            "  [0.9989]\n",
            "  ...\n",
            "  [0.995 ]\n",
            "  [0.9949]\n",
            "  [0.995 ]]\n",
            "\n",
            " ...\n",
            "\n",
            " [[1.004 ]\n",
            "  [1.0032]\n",
            "  [1.0034]\n",
            "  ...\n",
            "  [0.9949]\n",
            "  [0.9945]\n",
            "  [0.9955]]\n",
            "\n",
            " [[1.0032]\n",
            "  [1.0034]\n",
            "  [1.0059]\n",
            "  ...\n",
            "  [0.9945]\n",
            "  [0.9955]\n",
            "  [0.9977]]\n",
            "\n",
            " [[1.0034]\n",
            "  [1.0059]\n",
            "  [1.0058]\n",
            "  ...\n",
            "  [0.9955]\n",
            "  [0.9977]\n",
            "  [0.995 ]]]\n",
            "[[[1.0887557]\n",
            "  [1.1094446]\n",
            "  [1.084252 ]\n",
            "  ...\n",
            "  [1.0780834]\n",
            "  [1.0885864]\n",
            "  [1.0920736]]\n",
            "\n",
            " [[1.0984372]\n",
            "  [1.1078739]\n",
            "  [1.0819281]\n",
            "  ...\n",
            "  [1.0888729]\n",
            "  [1.0923332]\n",
            "  [1.0921527]]\n",
            "\n",
            " [[1.1035838]\n",
            "  [1.1083316]\n",
            "  [1.0757314]\n",
            "  ...\n",
            "  [1.0926472]\n",
            "  [1.0924376]\n",
            "  [1.1073028]]\n",
            "\n",
            " ...\n",
            "\n",
            " [[1.029519 ]\n",
            "  [1.0982335]\n",
            "  [1.0928886]\n",
            "  ...\n",
            "  [1.0655832]\n",
            "  [1.0692393]\n",
            "  [1.0728863]]\n",
            "\n",
            " [[1.0274397]\n",
            "  [1.1098462]\n",
            "  [1.0981374]\n",
            "  ...\n",
            "  [1.0688797]\n",
            "  [1.072635 ]\n",
            "  [1.0905467]]\n",
            "\n",
            " [[1.0357363]\n",
            "  [1.1142851]\n",
            "  [1.0870982]\n",
            "  ...\n",
            "  [1.072467 ]\n",
            "  [1.0905017]\n",
            "  [1.1078041]]]\n"
          ]
        }
      ]
    },
    {
      "cell_type": "code",
      "source": [],
      "metadata": {
        "id": "FJ84HMgA1buy"
      },
      "id": "FJ84HMgA1buy",
      "execution_count": null,
      "outputs": []
    },
    {
      "cell_type": "markdown",
      "id": "342b3506-bd52-4bee-b820-1a2bca4bc7bb",
      "metadata": {
        "id": "342b3506-bd52-4bee-b820-1a2bca4bc7bb"
      },
      "source": [
        "### 3.4. Transformer (No es necesario entrenarlo, sólo prepararlo para su uso)."
      ]
    },
    {
      "cell_type": "code",
      "source": [],
      "metadata": {
        "id": "F4CG9ear1adc"
      },
      "id": "F4CG9ear1adc",
      "execution_count": null,
      "outputs": []
    },
    {
      "cell_type": "markdown",
      "id": "3834ce4b-430a-40c2-b4c4-5c865fb1c863",
      "metadata": {
        "id": "3834ce4b-430a-40c2-b4c4-5c865fb1c863"
      },
      "source": [
        "## 4. Evaluación del rendimiento del/los modelo/s frente a baselines."
      ]
    },
    {
      "cell_type": "markdown",
      "id": "3b4ee2b4-91c8-44d0-8a22-e1da94fc5438",
      "metadata": {
        "id": "3b4ee2b4-91c8-44d0-8a22-e1da94fc5438"
      },
      "source": [
        "### 4.1. Compara el rendimiento de tus modelos frente entre sí y con dos baselines sencillas (diseñados baselines similares para el problema binario):\n",
        " - Un modelo que prediga siempre el último valor de entrada recibido (6h antes del dato\n",
        "a predecir).\n",
        " - Un modelo que prediga la media de los valores de entrada recibidos."
      ]
    },
    {
      "cell_type": "markdown",
      "id": "76e2164c-7e45-4584-b207-4077adf45680",
      "metadata": {
        "id": "76e2164c-7e45-4584-b207-4077adf45680"
      },
      "source": [
        "### 4.2. Identifica sesgos en tu modelo. Para ello, analiza las distribuciones de entrenamiento y test y las predicciones/errores de entrenamiento/test. Si identificas algún problema, adapta tu pipeline para intentar solventarlo."
      ]
    },
    {
      "cell_type": "markdown",
      "id": "fa90e60d-5d76-4eeb-87ff-b8126c6057d6",
      "metadata": {
        "id": "fa90e60d-5d76-4eeb-87ff-b8126c6057d6"
      },
      "source": [
        "### 4.3. Busca dar respuesta a las preguntas, ¿por cuántos céntimos de dólar falla cada modelo? ¿Cuánto puedo esperar ganar con mi modelo durante el periodo de test, haciendo las operaciones de 1$?"
      ]
    },
    {
      "cell_type": "code",
      "execution_count": null,
      "id": "afb54393-63bc-44eb-80d4-1d21dc66be26",
      "metadata": {
        "id": "afb54393-63bc-44eb-80d4-1d21dc66be26"
      },
      "outputs": [],
      "source": []
    }
  ],
  "metadata": {
    "kernelspec": {
      "display_name": "Python 3 (ipykernel)",
      "language": "python",
      "name": "python3"
    },
    "language_info": {
      "codemirror_mode": {
        "name": "ipython",
        "version": 3
      },
      "file_extension": ".py",
      "mimetype": "text/x-python",
      "name": "python",
      "nbconvert_exporter": "python",
      "pygments_lexer": "ipython3",
      "version": "3.10.12"
    },
    "colab": {
      "provenance": []
    }
  },
  "nbformat": 4,
  "nbformat_minor": 5
}