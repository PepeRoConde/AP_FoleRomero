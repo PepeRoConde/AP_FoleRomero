{
 "cells": [
  {
   "cell_type": "markdown",
   "id": "2332ad83-86cc-4e5a-a8db-2e45d33de9d8",
   "metadata": {},
   "source": [
    "# Práctica RNN \n",
    "## Hugo Fole Abellás y José Romero Conde"
   ]
  },
  {
   "cell_type": "markdown",
   "id": "c0b915c3-488c-491e-97d3-abb3394b5281",
   "metadata": {},
   "source": [
    "------"
   ]
  },
  {
   "cell_type": "markdown",
   "id": "5c340306-2ab4-4099-8724-5fe740e87b57",
   "metadata": {},
   "source": [
    "En esta práctica deberás desarrollar un modelo que sea capaz de predecir el precio del dólar en euros con\n",
    "6h de adelanto. Para ello, contarás con el fichero de datos UDC_EUR.json, disponible en el canal de Teams de\n",
    "la asignatura.\n",
    "\n",
    "La idea es hacer un modelo que te permita decidir cuándo comprar y cuándo vender dólares, para que puedas\n",
    "operar de la siguiente manera:\n",
    " - Si el modelo predice que el dólar bajará: vendo un dólar ahora y lo compro más barato dentro de 6h. La diferencia entre el precio de venta y el de compra es mi ganancia.\n",
    " - Si el modelo predice que el dólar subirá: compro un dólar ahora y lo vendo más caro dentro de 6h. La diferencia entre el precio de compra y el de venta es mi ganancia.\n",
    " - Puedes suministrarle al modelo los datos de entrada que estimes para cada predicción, siempre\n",
    "respetando que ninguno esté a menos de 6h del que intentas predecir.\n",
    "\n",
    "Debes respetar las siguientes restricciones:\n",
    "\n",
    " - No se deben utilizar datos posteriores a 31/08/2022 23:59:59 para entrenamiento. Los datos desde\n",
    "01/09/2022 00:00:00 en adelante se podrán utilizar como conjunto de test.\n",
    " - La predicción se deberá hacer a 6h vista, es decir, se deberá predecir el valor de salida 6 horas\n",
    "después del dato más reciente que se le proporcione al modelo. Se deberán predecir dos valores distintos:\n",
    "      - Valor de la variable \"precio fin\".\n",
    "      - Valor binario que indicará si \"precio fin\"6h después será mayor o menor que en el dato más\n",
    "reciente proporcionado a la entrada."
   ]
  },
  {
   "cell_type": "markdown",
   "id": "b000b1ab-8a2d-4d3a-b2b2-2866fb2b4279",
   "metadata": {},
   "source": [
    "----"
   ]
  },
  {
   "cell_type": "markdown",
   "id": "e2a6fef7-f56e-4dfb-ae7b-7fb620fb5555",
   "metadata": {},
   "source": [
    "## _Librerías_"
   ]
  },
  {
   "cell_type": "code",
   "execution_count": 3,
   "id": "743222b9",
   "metadata": {},
   "outputs": [
    {
     "name": "stdout",
     "output_type": "stream",
     "text": [
      "Defaulting to user installation because normal site-packages is not writeable\n",
      "Requirement already satisfied: seaborn in /home/folengui/.local/lib/python3.10/site-packages (0.13.2)\n",
      "Requirement already satisfied: pandas>=1.2 in /home/folengui/.local/lib/python3.10/site-packages (from seaborn) (2.2.3)\n",
      "Requirement already satisfied: numpy!=1.24.0,>=1.20 in /home/folengui/.local/lib/python3.10/site-packages (from seaborn) (2.0.2)\n",
      "Requirement already satisfied: matplotlib!=3.6.1,>=3.4 in /home/folengui/.local/lib/python3.10/site-packages (from seaborn) (3.9.2)\n",
      "Requirement already satisfied: python-dateutil>=2.7 in /home/folengui/.local/lib/python3.10/site-packages (from matplotlib!=3.6.1,>=3.4->seaborn) (2.9.0.post0)\n",
      "Requirement already satisfied: kiwisolver>=1.3.1 in /usr/lib/python3/dist-packages (from matplotlib!=3.6.1,>=3.4->seaborn) (1.3.2)\n",
      "Requirement already satisfied: pyparsing>=2.3.1 in /usr/lib/python3/dist-packages (from matplotlib!=3.6.1,>=3.4->seaborn) (2.4.7)\n",
      "Requirement already satisfied: contourpy>=1.0.1 in /home/folengui/.local/lib/python3.10/site-packages (from matplotlib!=3.6.1,>=3.4->seaborn) (1.3.0)\n",
      "Requirement already satisfied: packaging>=20.0 in /usr/lib/python3/dist-packages (from matplotlib!=3.6.1,>=3.4->seaborn) (21.3)\n",
      "Requirement already satisfied: cycler>=0.10 in /usr/lib/python3/dist-packages (from matplotlib!=3.6.1,>=3.4->seaborn) (0.11.0)\n",
      "Requirement already satisfied: pillow>=8 in /usr/lib/python3/dist-packages (from matplotlib!=3.6.1,>=3.4->seaborn) (9.0.1)\n",
      "Requirement already satisfied: fonttools>=4.22.0 in /usr/lib/python3/dist-packages (from matplotlib!=3.6.1,>=3.4->seaborn) (4.29.1)\n",
      "Requirement already satisfied: tzdata>=2022.7 in /home/folengui/.local/lib/python3.10/site-packages (from pandas>=1.2->seaborn) (2024.2)\n",
      "Requirement already satisfied: pytz>=2020.1 in /usr/lib/python3/dist-packages (from pandas>=1.2->seaborn) (2022.1)\n",
      "Requirement already satisfied: six>=1.5 in /usr/lib/python3/dist-packages (from python-dateutil>=2.7->matplotlib!=3.6.1,>=3.4->seaborn) (1.16.0)\n",
      "Note: you may need to restart the kernel to use updated packages.\n"
     ]
    }
   ],
   "source": [
    "pip install seaborn #por si no lo tienes"
   ]
  },
  {
   "cell_type": "code",
   "execution_count": 1,
   "id": "944ae39f-57a9-4bad-9b58-c32652f99a2d",
   "metadata": {},
   "outputs": [
    {
     "name": "stderr",
     "output_type": "stream",
     "text": [
      "/home/folengui/.local/lib/python3.10/site-packages/matplotlib/projections/__init__.py:63: UserWarning: Unable to import Axes3D. This may be due to multiple versions of Matplotlib being installed (e.g. as a system package and as a pip package). As a result, the 3D projection is not available.\n",
      "  warnings.warn(\"Unable to import Axes3D. This may be due to multiple versions of \"\n",
      "2024-12-17 20:05:23.531305: E external/local_xla/xla/stream_executor/cuda/cuda_fft.cc:477] Unable to register cuFFT factory: Attempting to register factory for plugin cuFFT when one has already been registered\n",
      "WARNING: All log messages before absl::InitializeLog() is called are written to STDERR\n",
      "E0000 00:00:1734462323.542405    4549 cuda_dnn.cc:8310] Unable to register cuDNN factory: Attempting to register factory for plugin cuDNN when one has already been registered\n",
      "E0000 00:00:1734462323.545659    4549 cuda_blas.cc:1418] Unable to register cuBLAS factory: Attempting to register factory for plugin cuBLAS when one has already been registered\n",
      "2024-12-17 20:05:23.556889: I tensorflow/core/platform/cpu_feature_guard.cc:210] This TensorFlow binary is optimized to use available CPU instructions in performance-critical operations.\n",
      "To enable the following instructions: AVX2 AVX512F AVX512_VNNI FMA, in other operations, rebuild TensorFlow with the appropriate compiler flags.\n"
     ]
    }
   ],
   "source": [
    "import pandas as pd # siguiendo la convención universal\n",
    "from matplotlib import pyplot as plt\n",
    "import numpy as np\n",
    "from scipy import stats\n",
    "import os\n",
    "import datetime\n",
    "from tensorflow.keras import layers, models,metrics, losses,optimizers\n",
    "from tensorflow import keras\n",
    "import seaborn as sns"
   ]
  },
  {
   "cell_type": "markdown",
   "id": "653ab370-9494-490b-b34d-cc9bf73758bd",
   "metadata": {},
   "source": [
    "## 1. Carga y examina los datos"
   ]
  },
  {
   "cell_type": "markdown",
   "id": "3536fa3c-c437-433f-9c35-4fa13e428ad8",
   "metadata": {},
   "source": [
    "### 1.1. Carga los datos con Pandas y haz un examen preliminar de los mismos. Descarta aquellos que sean erróneos."
   ]
  },
  {
   "cell_type": "code",
   "execution_count": 2,
   "id": "0c9fd1fe-7324-452c-b7ca-2234c7c941ed",
   "metadata": {},
   "outputs": [],
   "source": [
    "if 'USD_EUR.json' in os.listdir():\n",
    "    df = pd.read_json('USD_EUR.json') # usando df para seguir la convención"
   ]
  },
  {
   "cell_type": "code",
   "execution_count": 3,
   "id": "3a853530-40e6-4624-8c1f-ff563919f835",
   "metadata": {
    "scrolled": true
   },
   "outputs": [
    {
     "data": {
      "text/html": [
       "<div>\n",
       "<style scoped>\n",
       "    .dataframe tbody tr th:only-of-type {\n",
       "        vertical-align: middle;\n",
       "    }\n",
       "\n",
       "    .dataframe tbody tr th {\n",
       "        vertical-align: top;\n",
       "    }\n",
       "\n",
       "    .dataframe thead th {\n",
       "        text-align: right;\n",
       "    }\n",
       "</style>\n",
       "<table border=\"1\" class=\"dataframe\">\n",
       "  <thead>\n",
       "    <tr style=\"text-align: right;\">\n",
       "      <th></th>\n",
       "      <th>timestamp inicial</th>\n",
       "      <th>precio inicio</th>\n",
       "      <th>precio mas alto</th>\n",
       "      <th>precio mas bajo</th>\n",
       "      <th>precio fin</th>\n",
       "      <th>volumen</th>\n",
       "      <th>timestamp final</th>\n",
       "      <th>volumen en cuotas</th>\n",
       "      <th>numero de compras</th>\n",
       "      <th>volumen de dolares</th>\n",
       "      <th>volumen de euros</th>\n",
       "    </tr>\n",
       "  </thead>\n",
       "  <tbody>\n",
       "    <tr>\n",
       "      <th>count</th>\n",
       "      <td>24970</td>\n",
       "      <td>24970.000000</td>\n",
       "      <td>24970.000000</td>\n",
       "      <td>24970.000000</td>\n",
       "      <td>24970.000000</td>\n",
       "      <td>2.497000e+04</td>\n",
       "      <td>24970</td>\n",
       "      <td>2.497000e+04</td>\n",
       "      <td>24970.000000</td>\n",
       "      <td>2.497000e+04</td>\n",
       "      <td>2.497000e+04</td>\n",
       "    </tr>\n",
       "    <tr>\n",
       "      <th>mean</th>\n",
       "      <td>2021-06-07 09:52:59.014818048</td>\n",
       "      <td>1.126497</td>\n",
       "      <td>1.127797</td>\n",
       "      <td>1.125329</td>\n",
       "      <td>1.126459</td>\n",
       "      <td>1.588138e+06</td>\n",
       "      <td>2021-06-07 10:52:58.645466880</td>\n",
       "      <td>1.831407e+06</td>\n",
       "      <td>3249.635603</td>\n",
       "      <td>7.412968e+05</td>\n",
       "      <td>8.552054e+05</td>\n",
       "    </tr>\n",
       "    <tr>\n",
       "      <th>min</th>\n",
       "      <td>2020-01-03 08:00:00</td>\n",
       "      <td>0.953600</td>\n",
       "      <td>0.955400</td>\n",
       "      <td>0.953500</td>\n",
       "      <td>0.953600</td>\n",
       "      <td>0.000000e+00</td>\n",
       "      <td>2020-01-03 08:59:59.999000</td>\n",
       "      <td>0.000000e+00</td>\n",
       "      <td>0.000000</td>\n",
       "      <td>0.000000e+00</td>\n",
       "      <td>0.000000e+00</td>\n",
       "    </tr>\n",
       "    <tr>\n",
       "      <th>25%</th>\n",
       "      <td>2020-09-19 22:15:00</td>\n",
       "      <td>1.080000</td>\n",
       "      <td>1.082000</td>\n",
       "      <td>1.078000</td>\n",
       "      <td>1.080000</td>\n",
       "      <td>7.440733e+04</td>\n",
       "      <td>2020-09-19 23:14:59.999000064</td>\n",
       "      <td>8.558465e+04</td>\n",
       "      <td>298.000000</td>\n",
       "      <td>3.189642e+04</td>\n",
       "      <td>3.638405e+04</td>\n",
       "    </tr>\n",
       "    <tr>\n",
       "      <th>50%</th>\n",
       "      <td>2021-06-07 13:30:00</td>\n",
       "      <td>1.133000</td>\n",
       "      <td>1.134000</td>\n",
       "      <td>1.132000</td>\n",
       "      <td>1.133000</td>\n",
       "      <td>7.911794e+05</td>\n",
       "      <td>2021-06-07 14:29:59.999000064</td>\n",
       "      <td>8.722955e+05</td>\n",
       "      <td>2046.000000</td>\n",
       "      <td>3.359175e+05</td>\n",
       "      <td>3.709915e+05</td>\n",
       "    </tr>\n",
       "    <tr>\n",
       "      <th>75%</th>\n",
       "      <td>2022-02-22 21:45:00</td>\n",
       "      <td>1.178800</td>\n",
       "      <td>1.179900</td>\n",
       "      <td>1.177700</td>\n",
       "      <td>1.178700</td>\n",
       "      <td>2.069755e+06</td>\n",
       "      <td>2022-02-22 22:44:59.999000064</td>\n",
       "      <td>2.302447e+06</td>\n",
       "      <td>4215.000000</td>\n",
       "      <td>9.509889e+05</td>\n",
       "      <td>1.063618e+06</td>\n",
       "    </tr>\n",
       "    <tr>\n",
       "      <th>max</th>\n",
       "      <td>2022-11-10 00:00:00</td>\n",
       "      <td>1.309800</td>\n",
       "      <td>4.950000</td>\n",
       "      <td>1.269500</td>\n",
       "      <td>1.309800</td>\n",
       "      <td>4.694843e+07</td>\n",
       "      <td>2022-11-10 00:59:59.999000</td>\n",
       "      <td>5.784383e+07</td>\n",
       "      <td>53917.000000</td>\n",
       "      <td>2.354437e+07</td>\n",
       "      <td>2.905002e+07</td>\n",
       "    </tr>\n",
       "    <tr>\n",
       "      <th>std</th>\n",
       "      <td>NaN</td>\n",
       "      <td>0.066949</td>\n",
       "      <td>0.071274</td>\n",
       "      <td>0.066925</td>\n",
       "      <td>0.066935</td>\n",
       "      <td>2.435379e+06</td>\n",
       "      <td>NaN</td>\n",
       "      <td>2.898230e+06</td>\n",
       "      <td>4291.602485</td>\n",
       "      <td>1.189478e+06</td>\n",
       "      <td>1.413589e+06</td>\n",
       "    </tr>\n",
       "  </tbody>\n",
       "</table>\n",
       "</div>"
      ],
      "text/plain": [
       "                   timestamp inicial  precio inicio  precio mas alto  \\\n",
       "count                          24970   24970.000000     24970.000000   \n",
       "mean   2021-06-07 09:52:59.014818048       1.126497         1.127797   \n",
       "min              2020-01-03 08:00:00       0.953600         0.955400   \n",
       "25%              2020-09-19 22:15:00       1.080000         1.082000   \n",
       "50%              2021-06-07 13:30:00       1.133000         1.134000   \n",
       "75%              2022-02-22 21:45:00       1.178800         1.179900   \n",
       "max              2022-11-10 00:00:00       1.309800         4.950000   \n",
       "std                              NaN       0.066949         0.071274   \n",
       "\n",
       "       precio mas bajo    precio fin       volumen  \\\n",
       "count     24970.000000  24970.000000  2.497000e+04   \n",
       "mean          1.125329      1.126459  1.588138e+06   \n",
       "min           0.953500      0.953600  0.000000e+00   \n",
       "25%           1.078000      1.080000  7.440733e+04   \n",
       "50%           1.132000      1.133000  7.911794e+05   \n",
       "75%           1.177700      1.178700  2.069755e+06   \n",
       "max           1.269500      1.309800  4.694843e+07   \n",
       "std           0.066925      0.066935  2.435379e+06   \n",
       "\n",
       "                     timestamp final  volumen en cuotas  numero de compras  \\\n",
       "count                          24970       2.497000e+04       24970.000000   \n",
       "mean   2021-06-07 10:52:58.645466880       1.831407e+06        3249.635603   \n",
       "min       2020-01-03 08:59:59.999000       0.000000e+00           0.000000   \n",
       "25%    2020-09-19 23:14:59.999000064       8.558465e+04         298.000000   \n",
       "50%    2021-06-07 14:29:59.999000064       8.722955e+05        2046.000000   \n",
       "75%    2022-02-22 22:44:59.999000064       2.302447e+06        4215.000000   \n",
       "max       2022-11-10 00:59:59.999000       5.784383e+07       53917.000000   \n",
       "std                              NaN       2.898230e+06        4291.602485   \n",
       "\n",
       "       volumen de dolares  volumen de euros  \n",
       "count        2.497000e+04      2.497000e+04  \n",
       "mean         7.412968e+05      8.552054e+05  \n",
       "min          0.000000e+00      0.000000e+00  \n",
       "25%          3.189642e+04      3.638405e+04  \n",
       "50%          3.359175e+05      3.709915e+05  \n",
       "75%          9.509889e+05      1.063618e+06  \n",
       "max          2.354437e+07      2.905002e+07  \n",
       "std          1.189478e+06      1.413589e+06  "
      ]
     },
     "execution_count": 3,
     "metadata": {},
     "output_type": "execute_result"
    }
   ],
   "source": [
    "df.describe() # les echamos un ojo"
   ]
  },
  {
   "cell_type": "markdown",
   "id": "1becacc1-1320-4916-9261-b8dc8b6f9b37",
   "metadata": {},
   "source": [
    "Vemos en el resumen superior que hay un valor muy alto en `precio mas alto`, constrastamos esta creencia ploteando."
   ]
  },
  {
   "cell_type": "code",
   "execution_count": 4,
   "id": "9055774b-0ff4-44dc-9a73-59f5f14fb919",
   "metadata": {},
   "outputs": [
    {
     "data": {
      "image/png": "[encoded data removed]",
      "text/plain": [
       "<Figure size 432x288 with 1 Axes>"
      ]
     },
     "metadata": {
      "needs_background": "light"
     },
     "output_type": "display_data"
    }
   ],
   "source": [
    "plt.plot(df[[\"precio mas alto\"]]);"
   ]
  },
  {
   "cell_type": "markdown",
   "id": "c5fe3e0e-2e1c-4471-8a82-609687d070b0",
   "metadata": {},
   "source": [
    "Filtramos (solo las columnas numéricas) los valores que estén alejados a más de 3 sigmas de la media. Y vemos el resultado en que el plot anterior ahora es más correcto. (De todas formas, el plot solo muestra de una columna y se filtra en todas menos dos.)"
   ]
  },
  {
   "cell_type": "code",
   "execution_count": 5,
   "id": "150a1d7f-eab1-4eed-a646-9bf28babacb9",
   "metadata": {},
   "outputs": [],
   "source": [
    "columnasFiltrar = ['precio inicio', 'precio mas alto', 'precio mas bajo', 'precio fin', 'volumen', 'volumen en cuotas', 'volumen en cuotas', 'numero de compras', 'volumen de dolares', 'volumen de euros']\n",
    "\n",
    "df = df[(np.abs(stats.zscore(df[columnasFiltrar])) < 3).all(axis=1)]"
   ]
  },
  {
   "cell_type": "code",
   "execution_count": 6,
   "id": "4996b422-7812-4f6e-922a-bf413ceb4bd5",
   "metadata": {},
   "outputs": [
    {
     "data": {
      "image/png": "[encoded data removed]",
      "text/plain": [
       "<Figure size 432x288 with 1 Axes>"
      ]
     },
     "metadata": {
      "needs_background": "light"
     },
     "output_type": "display_data"
    }
   ],
   "source": [
    "plt.plot(df[[\"precio mas alto\"]]);"
   ]
  },
  {
   "cell_type": "markdown",
   "id": "e75ab9a7",
   "metadata": {},
   "source": [
    "Ver como cambian los datos con el tiempo."
   ]
  },
  {
   "cell_type": "code",
   "execution_count": 12,
   "id": "492a8e75",
   "metadata": {},
   "outputs": [
    {
     "data": {
      "image/png": "[encoded data removed]",
      "text/plain": [
       "<Figure size 432x288 with 3 Axes>"
      ]
     },
     "metadata": {
      "needs_background": "light"
     },
     "output_type": "display_data"
    },
    {
     "data": {
      "image/png": "[encoded data removed]",
      "text/plain": [
       "<Figure size 432x288 with 3 Axes>"
      ]
     },
     "metadata": {
      "needs_background": "light"
     },
     "output_type": "display_data"
    }
   ],
   "source": [
    "plot_cols = ['precio inicio', 'precio fin', 'numero de compras']\n",
    "plot_features = df[plot_cols]\n",
    "plot_features.index = df['timestamp inicial']\n",
    "_ = plot_features.plot(subplots=True)\n",
    "\n",
    "plot_features = df[plot_cols][480:1000]\n",
    "plot_features.index = df['timestamp inicial'][480:1000]\n",
    "_ = plot_features.plot(subplots=True)"
   ]
  },
  {
   "cell_type": "markdown",
   "id": "4a699055-b731-4186-81ce-a8bf62451468",
   "metadata": {},
   "source": [
    "### 1.2. Haz la partición entre conjunto de entrenamiento y conjunto de test."
   ]
  },
  {
   "cell_type": "code",
   "execution_count": 13,
   "id": "44c11e4c-dcf8-4d4e-9991-d708afe44a38",
   "metadata": {},
   "outputs": [],
   "source": [
    "instanteSeparacion = pd.to_datetime(\"31/08/2022 23:59:59\", dayfirst=True)\n",
    "dfEntrenamiento = df[df['timestamp inicial'] <= instanteSeparacion] \n",
    "dfTest = df[df['timestamp inicial'] > instanteSeparacion] "
   ]
  },
  {
   "cell_type": "code",
   "execution_count": 14,
   "id": "08f6ffcc",
   "metadata": {},
   "outputs": [
    {
     "name": "stdout",
     "output_type": "stream",
     "text": [
      "    timestamp inicial  precio inicio  precio mas alto  precio mas bajo  \\\n",
      "0 2020-01-03 08:00:00         1.1154           1.1200           1.1154   \n",
      "1 2020-01-03 09:00:00         1.1182           1.1182           1.1151   \n",
      "2 2020-01-03 10:00:00         1.1151           1.1172           1.1151   \n",
      "3 2020-01-03 11:00:00         1.1136           1.1151           1.1136   \n",
      "4 2020-01-03 12:00:00         1.1126           1.1133           1.1126   \n",
      "\n",
      "   precio fin   volumen         timestamp final  volumen en cuotas  \\\n",
      "0      1.1182  37309.48 2020-01-03 08:59:59.999       41775.464275   \n",
      "1      1.1151   2132.61 2020-01-03 09:59:59.999        2384.431292   \n",
      "2      1.1151   1950.83 2020-01-03 10:59:59.999        2175.391533   \n",
      "3      1.1141    310.53 2020-01-03 11:59:59.999         346.107438   \n",
      "4      1.1133    394.52 2020-01-03 12:59:59.999         439.130428   \n",
      "\n",
      "   numero de compras  volumen de dolares  volumen de euros  \n",
      "0                 31            20419.46      22858.822356  \n",
      "1                  5             2036.69       2277.401075  \n",
      "2                  4               10.00         11.172000  \n",
      "3                  4              232.00        258.656430  \n",
      "4                  3                0.00          0.000000  \n"
     ]
    }
   ],
   "source": [
    "print(dfEntrenamiento.head())"
   ]
  },
  {
   "cell_type": "markdown",
   "id": "521f508d-3b6b-4a65-ac76-321a584b92ab",
   "metadata": {},
   "source": [
    "----"
   ]
  },
  {
   "cell_type": "markdown",
   "id": "3cba241f-f514-4e3a-920f-f0a2c859c700",
   "metadata": {},
   "source": [
    "## 2. Preprocesado"
   ]
  },
  {
   "cell_type": "markdown",
   "id": "18745ea9-42aa-4200-87d7-4bd7c8f1cb15",
   "metadata": {},
   "source": [
    "### 2.1. Representa las variables en un formato que facilite el aprendizaje. Para ello estandariza aquellas que lo necesiten y transforma las fechas a un formato adecuado.\n",
    "\n",
    "Comenzaremos transformando las fechas a un formato que nuestro modelo pueda entender.Utilizaremos un método simple para convertirlo en una señal utilizable es usar el [seno] y el [coseno] para convertir la hora en señales claras de \"Hora del día\" y \"Hora del año\". Hay que operar de tal manera que:\n",
    "\n",
    "1. $\\cos(hora~0) = \\cos(hora~24)$ y $\\sin(hora~0) = \\sin(hora~24)$ en la hora del día.\n",
    "1. $\\cos(1~enero) \\approx \\cos(31~diciembre)$ y $\\sin(1~enero) \\approx \\sin(31~diciembre)$ en la hora anual. \n",
    "\n",
    "Las variables a tranformar serán:\n",
    "- `timestamp inicial` : representa el punto en el tiempo en el que se empiezan a recoger datos.\n",
    "- `timestamp final` : representa el punto en el tiempo en el que se acaba de recoger datos."
   ]
  },
  {
   "cell_type": "code",
   "execution_count": 15,
   "id": "59220b00",
   "metadata": {},
   "outputs": [],
   "source": [
    "def normalizar_fechas(dataset):\n",
    "    #Sacamos los valores de las fechas (inicial y final)\n",
    "    date_time_inicial = pd.to_datetime(dataset.pop('timestamp inicial'), format='%d.%m.%Y %H:%M:%S')\n",
    "    date_time_final = pd.to_datetime(dataset.pop('timestamp final'), format='%d.%m.%Y %H:%M:%S')\n",
    "    # Los pasamos a segundos\n",
    "    timestamp_s_inicial = date_time_inicial.map(pd.Timestamp.timestamp)\n",
    "    timestamp_s_final = date_time_final.map(pd.Timestamp.timestamp)\n",
    "    #Segundos en un dia y un año\n",
    "    day = 24 * 60 * 60\n",
    "    year = 365 * day\n",
    "\n",
    "\n",
    "    # TODO: Extrae, para cada fecha, el seno y el coseno, y añádelos al dataframe\n",
    "    dataset['Dia sin inic'] = np.sin(2 * np.pi * (timestamp_s_inicial % day) / day)\n",
    "    dataset['Dia cos inic'] = np.cos(2 * np.pi * (timestamp_s_inicial % day) / day)\n",
    "    dataset['Anho sin inic'] = np.sin(2 * np.pi * (timestamp_s_inicial % year) / year)\n",
    "    dataset['Anho cos inic'] = np.cos(2 * np.pi * (timestamp_s_inicial % year) / year)\n",
    "\n",
    "    dataset['Dia sin fin'] = np.sin(2 * np.pi * (timestamp_s_inicial % day) / day)\n",
    "    dataset['Dia cos fin'] = np.cos(2 * np.pi * (timestamp_s_inicial % day) / day)\n",
    "    dataset['Anho sin fin'] = np.sin(2 * np.pi * (timestamp_s_inicial % year) / year)\n",
    "    dataset['Anho cos fin'] = np.cos(2 * np.pi * (timestamp_s_inicial % year) / year)\n",
    "\n",
    "    return dataset"
   ]
  },
  {
   "cell_type": "code",
   "execution_count": 16,
   "id": "ac06f3b0",
   "metadata": {},
   "outputs": [
    {
     "name": "stderr",
     "output_type": "stream",
     "text": [
      "/tmp/ipykernel_4549/3480315936.py:14: SettingWithCopyWarning: \n",
      "A value is trying to be set on a copy of a slice from a DataFrame.\n",
      "Try using .loc[row_indexer,col_indexer] = value instead\n",
      "\n",
      "See the caveats in the documentation: https://pandas.pydata.org/pandas-docs/stable/user_guide/indexing.html#returning-a-view-versus-a-copy\n",
      "  dataset['Dia sin inic'] = np.sin(2 * np.pi * (timestamp_s_inicial % day) / day)\n",
      "/tmp/ipykernel_4549/3480315936.py:15: SettingWithCopyWarning: \n",
      "A value is trying to be set on a copy of a slice from a DataFrame.\n",
      "Try using .loc[row_indexer,col_indexer] = value instead\n",
      "\n",
      "See the caveats in the documentation: https://pandas.pydata.org/pandas-docs/stable/user_guide/indexing.html#returning-a-view-versus-a-copy\n",
      "  dataset['Dia cos inic'] = np.cos(2 * np.pi * (timestamp_s_inicial % day) / day)\n",
      "/tmp/ipykernel_4549/3480315936.py:16: SettingWithCopyWarning: \n",
      "A value is trying to be set on a copy of a slice from a DataFrame.\n",
      "Try using .loc[row_indexer,col_indexer] = value instead\n",
      "\n",
      "See the caveats in the documentation: https://pandas.pydata.org/pandas-docs/stable/user_guide/indexing.html#returning-a-view-versus-a-copy\n",
      "  dataset['Anho sin inic'] = np.sin(2 * np.pi * (timestamp_s_inicial % year) / year)\n",
      "/tmp/ipykernel_4549/3480315936.py:17: SettingWithCopyWarning: \n",
      "A value is trying to be set on a copy of a slice from a DataFrame.\n",
      "Try using .loc[row_indexer,col_indexer] = value instead\n",
      "\n",
      "See the caveats in the documentation: https://pandas.pydata.org/pandas-docs/stable/user_guide/indexing.html#returning-a-view-versus-a-copy\n",
      "  dataset['Anho cos inic'] = np.cos(2 * np.pi * (timestamp_s_inicial % year) / year)\n",
      "/tmp/ipykernel_4549/3480315936.py:19: SettingWithCopyWarning: \n",
      "A value is trying to be set on a copy of a slice from a DataFrame.\n",
      "Try using .loc[row_indexer,col_indexer] = value instead\n",
      "\n",
      "See the caveats in the documentation: https://pandas.pydata.org/pandas-docs/stable/user_guide/indexing.html#returning-a-view-versus-a-copy\n",
      "  dataset['Dia sin fin'] = np.sin(2 * np.pi * (timestamp_s_inicial % day) / day)\n",
      "/tmp/ipykernel_4549/3480315936.py:20: SettingWithCopyWarning: \n",
      "A value is trying to be set on a copy of a slice from a DataFrame.\n",
      "Try using .loc[row_indexer,col_indexer] = value instead\n",
      "\n",
      "See the caveats in the documentation: https://pandas.pydata.org/pandas-docs/stable/user_guide/indexing.html#returning-a-view-versus-a-copy\n",
      "  dataset['Dia cos fin'] = np.cos(2 * np.pi * (timestamp_s_inicial % day) / day)\n",
      "/tmp/ipykernel_4549/3480315936.py:21: SettingWithCopyWarning: \n",
      "A value is trying to be set on a copy of a slice from a DataFrame.\n",
      "Try using .loc[row_indexer,col_indexer] = value instead\n",
      "\n",
      "See the caveats in the documentation: https://pandas.pydata.org/pandas-docs/stable/user_guide/indexing.html#returning-a-view-versus-a-copy\n",
      "  dataset['Anho sin fin'] = np.sin(2 * np.pi * (timestamp_s_inicial % year) / year)\n",
      "/tmp/ipykernel_4549/3480315936.py:22: SettingWithCopyWarning: \n",
      "A value is trying to be set on a copy of a slice from a DataFrame.\n",
      "Try using .loc[row_indexer,col_indexer] = value instead\n",
      "\n",
      "See the caveats in the documentation: https://pandas.pydata.org/pandas-docs/stable/user_guide/indexing.html#returning-a-view-versus-a-copy\n",
      "  dataset['Anho cos fin'] = np.cos(2 * np.pi * (timestamp_s_inicial % year) / year)\n",
      "/tmp/ipykernel_4549/3480315936.py:14: SettingWithCopyWarning: \n",
      "A value is trying to be set on a copy of a slice from a DataFrame.\n",
      "Try using .loc[row_indexer,col_indexer] = value instead\n",
      "\n",
      "See the caveats in the documentation: https://pandas.pydata.org/pandas-docs/stable/user_guide/indexing.html#returning-a-view-versus-a-copy\n",
      "  dataset['Dia sin inic'] = np.sin(2 * np.pi * (timestamp_s_inicial % day) / day)\n",
      "/tmp/ipykernel_4549/3480315936.py:15: SettingWithCopyWarning: \n",
      "A value is trying to be set on a copy of a slice from a DataFrame.\n",
      "Try using .loc[row_indexer,col_indexer] = value instead\n",
      "\n",
      "See the caveats in the documentation: https://pandas.pydata.org/pandas-docs/stable/user_guide/indexing.html#returning-a-view-versus-a-copy\n",
      "  dataset['Dia cos inic'] = np.cos(2 * np.pi * (timestamp_s_inicial % day) / day)\n",
      "/tmp/ipykernel_4549/3480315936.py:16: SettingWithCopyWarning: \n",
      "A value is trying to be set on a copy of a slice from a DataFrame.\n",
      "Try using .loc[row_indexer,col_indexer] = value instead\n",
      "\n",
      "See the caveats in the documentation: https://pandas.pydata.org/pandas-docs/stable/user_guide/indexing.html#returning-a-view-versus-a-copy\n",
      "  dataset['Anho sin inic'] = np.sin(2 * np.pi * (timestamp_s_inicial % year) / year)\n",
      "/tmp/ipykernel_4549/3480315936.py:17: SettingWithCopyWarning: \n",
      "A value is trying to be set on a copy of a slice from a DataFrame.\n",
      "Try using .loc[row_indexer,col_indexer] = value instead\n",
      "\n",
      "See the caveats in the documentation: https://pandas.pydata.org/pandas-docs/stable/user_guide/indexing.html#returning-a-view-versus-a-copy\n",
      "  dataset['Anho cos inic'] = np.cos(2 * np.pi * (timestamp_s_inicial % year) / year)\n",
      "/tmp/ipykernel_4549/3480315936.py:19: SettingWithCopyWarning: \n",
      "A value is trying to be set on a copy of a slice from a DataFrame.\n",
      "Try using .loc[row_indexer,col_indexer] = value instead\n",
      "\n",
      "See the caveats in the documentation: https://pandas.pydata.org/pandas-docs/stable/user_guide/indexing.html#returning-a-view-versus-a-copy\n",
      "  dataset['Dia sin fin'] = np.sin(2 * np.pi * (timestamp_s_inicial % day) / day)\n",
      "/tmp/ipykernel_4549/3480315936.py:20: SettingWithCopyWarning: \n",
      "A value is trying to be set on a copy of a slice from a DataFrame.\n",
      "Try using .loc[row_indexer,col_indexer] = value instead\n",
      "\n",
      "See the caveats in the documentation: https://pandas.pydata.org/pandas-docs/stable/user_guide/indexing.html#returning-a-view-versus-a-copy\n",
      "  dataset['Dia cos fin'] = np.cos(2 * np.pi * (timestamp_s_inicial % day) / day)\n",
      "/tmp/ipykernel_4549/3480315936.py:21: SettingWithCopyWarning: \n",
      "A value is trying to be set on a copy of a slice from a DataFrame.\n",
      "Try using .loc[row_indexer,col_indexer] = value instead\n",
      "\n",
      "See the caveats in the documentation: https://pandas.pydata.org/pandas-docs/stable/user_guide/indexing.html#returning-a-view-versus-a-copy\n",
      "  dataset['Anho sin fin'] = np.sin(2 * np.pi * (timestamp_s_inicial % year) / year)\n",
      "/tmp/ipykernel_4549/3480315936.py:22: SettingWithCopyWarning: \n",
      "A value is trying to be set on a copy of a slice from a DataFrame.\n",
      "Try using .loc[row_indexer,col_indexer] = value instead\n",
      "\n",
      "See the caveats in the documentation: https://pandas.pydata.org/pandas-docs/stable/user_guide/indexing.html#returning-a-view-versus-a-copy\n",
      "  dataset['Anho cos fin'] = np.cos(2 * np.pi * (timestamp_s_inicial % year) / year)\n"
     ]
    }
   ],
   "source": [
    "dfEntrenamiento = normalizar_fechas(dfEntrenamiento)\n",
    "dfTest = normalizar_fechas(dfTest)"
   ]
  },
  {
   "cell_type": "code",
   "execution_count": 17,
   "id": "d46a89ce",
   "metadata": {},
   "outputs": [
    {
     "name": "stdout",
     "output_type": "stream",
     "text": [
      "   precio inicio  precio mas alto  precio mas bajo  precio fin   volumen  \\\n",
      "0         1.1154           1.1200           1.1154      1.1182  37309.48   \n",
      "1         1.1182           1.1182           1.1151      1.1151   2132.61   \n",
      "2         1.1151           1.1172           1.1151      1.1151   1950.83   \n",
      "3         1.1136           1.1151           1.1136      1.1141    310.53   \n",
      "4         1.1126           1.1133           1.1126      1.1133    394.52   \n",
      "\n",
      "   volumen en cuotas  numero de compras  volumen de dolares  volumen de euros  \\\n",
      "0       41775.464275                 31            20419.46      22858.822356   \n",
      "1        2384.431292                  5             2036.69       2277.401075   \n",
      "2        2175.391533                  4               10.00         11.172000   \n",
      "3         346.107438                  4              232.00        258.656430   \n",
      "4         439.130428                  3                0.00          0.000000   \n",
      "\n",
      "   Dia sin inic  Dia cos inic  Anho sin inic  Anho cos inic   Dia sin fin  \\\n",
      "0  8.660254e-01     -0.500000       0.244241       0.969715  8.660254e-01   \n",
      "1  7.071068e-01     -0.707107       0.244937       0.969539  7.071068e-01   \n",
      "2  5.000000e-01     -0.866025       0.245632       0.969363  5.000000e-01   \n",
      "3  2.588190e-01     -0.965926       0.246327       0.969187  2.588190e-01   \n",
      "4 -3.216245e-16     -1.000000       0.247022       0.969010 -3.216245e-16   \n",
      "\n",
      "   Dia cos fin  Anho sin fin  Anho cos fin  \n",
      "0    -0.500000      0.244241      0.969715  \n",
      "1    -0.707107      0.244937      0.969539  \n",
      "2    -0.866025      0.245632      0.969363  \n",
      "3    -0.965926      0.246327      0.969187  \n",
      "4    -1.000000      0.247022      0.969010  \n"
     ]
    }
   ],
   "source": [
    "print(dfEntrenamiento.head())"
   ]
  },
  {
   "cell_type": "code",
   "execution_count": 18,
   "id": "89334124",
   "metadata": {},
   "outputs": [],
   "source": [
    "columnasNormalizar = ['volumen', 'volumen en cuotas','numero de compras', 'volumen de dolares', 'volumen de euros']\n",
    "datasets = [dfEntrenamiento, dfTest]\n",
    "for df in datasets:\n",
    "    for col in columnasNormalizar:\n",
    "        df[col] = (df[col] - df[col].mean()) / df[col].std()\n"
   ]
  },
  {
   "cell_type": "code",
   "execution_count": 19,
   "id": "023ee4bf",
   "metadata": {},
   "outputs": [
    {
     "name": "stdout",
     "output_type": "stream",
     "text": [
      "   precio inicio  precio mas alto  precio mas bajo  precio fin   volumen  \\\n",
      "0         1.1154           1.1200           1.1154      1.1182 -0.783575   \n",
      "1         1.1182           1.1182           1.1151      1.1151 -0.805618   \n",
      "2         1.1151           1.1172           1.1151      1.1151 -0.805732   \n",
      "3         1.1136           1.1151           1.1136      1.1141 -0.806760   \n",
      "4         1.1126           1.1133           1.1126      1.1133 -0.806708   \n",
      "\n",
      "   volumen en cuotas  numero de compras  volumen de dolares  volumen de euros  \\\n",
      "0          -0.768803          -0.859680           -0.742409         -0.729870   \n",
      "1          -0.789786          -0.867851           -0.766170         -0.752510   \n",
      "2          -0.789898          -0.868166           -0.768789         -0.755003   \n",
      "3          -0.790872          -0.868166           -0.768502         -0.754731   \n",
      "4          -0.790822          -0.868480           -0.768802         -0.755015   \n",
      "\n",
      "   Dia sin inic  Dia cos inic  Anho sin inic  Anho cos inic   Dia sin fin  \\\n",
      "0  8.660254e-01     -0.500000       0.244241       0.969715  8.660254e-01   \n",
      "1  7.071068e-01     -0.707107       0.244937       0.969539  7.071068e-01   \n",
      "2  5.000000e-01     -0.866025       0.245632       0.969363  5.000000e-01   \n",
      "3  2.588190e-01     -0.965926       0.246327       0.969187  2.588190e-01   \n",
      "4 -3.216245e-16     -1.000000       0.247022       0.969010 -3.216245e-16   \n",
      "\n",
      "   Dia cos fin  Anho sin fin  Anho cos fin  \n",
      "0    -0.500000      0.244241      0.969715  \n",
      "1    -0.707107      0.244937      0.969539  \n",
      "2    -0.866025      0.245632      0.969363  \n",
      "3    -0.965926      0.246327      0.969187  \n",
      "4    -1.000000      0.247022      0.969010  \n"
     ]
    }
   ],
   "source": [
    "print(dfEntrenamiento.head())"
   ]
  },
  {
   "cell_type": "markdown",
   "id": "d85c7988",
   "metadata": {},
   "source": [
    "Ver como se reparten los valores una vez normalizados."
   ]
  },
  {
   "cell_type": "code",
   "execution_count": 20,
   "id": "5808b1df",
   "metadata": {},
   "outputs": [
    {
     "name": "stderr",
     "output_type": "stream",
     "text": [
      "/tmp/ipykernel_4549/3962566233.py:4: UserWarning: set_ticklabels() should only be used with a fixed number of ticks, i.e. after set_ticks() or using a FixedLocator.\n",
      "  _ = ax.set_xticklabels(dfEntrenamiento.keys(), rotation=90)\n"
     ]
    },
    {
     "data": {
      "image/png": "[encoded data removed]",
      "text/plain": [
       "<Figure size 864x432 with 1 Axes>"
      ]
     },
     "metadata": {
      "needs_background": "light"
     },
     "output_type": "display_data"
    }
   ],
   "source": [
    "df_std = dfEntrenamiento.melt(var_name='Column', value_name='Normalized')\n",
    "plt.figure(figsize=(12, 6))\n",
    "ax = sns.violinplot(x='Column', y='Normalized', data=df_std)\n",
    "_ = ax.set_xticklabels(dfEntrenamiento.keys(), rotation=90)"
   ]
  },
  {
   "cell_type": "markdown",
   "id": "0c48eb3f-2da7-45fe-bb8e-a89a63d9226f",
   "metadata": {},
   "source": [
    "### 2.2. Transforma los conjuntos de entrenamiento y test a NumPy."
   ]
  },
  {
   "cell_type": "code",
   "execution_count": 21,
   "id": "f8d307a7",
   "metadata": {},
   "outputs": [],
   "source": [
    "dfEntrenamientoNP = dfEntrenamiento.to_numpy()\n",
    "dfTestNP = dfTest.to_numpy()"
   ]
  },
  {
   "cell_type": "markdown",
   "id": "59ced856-2743-45bf-aae3-47c83a910002",
   "metadata": {},
   "source": [
    "### 2.3. Utiliza la función sliding_window del Lab11 para ventanear la serie temporal para obtener un lote de muchos pares (vector de entrada, etiqueta) para entrenamiento y otro lote para test:\n",
    "- Haz que el tamaño de ventana sea configurable para poder probar varias alternativas.\n",
    "- Revisa la continuidad temporal de la serie para que las ventanas representen siempre el mismo\n",
    "periodo de tiempo. Descarta las ventanas incorrectas."
   ]
  },
  {
   "cell_type": "markdown",
   "id": "9ff3ae75",
   "metadata": {},
   "source": [
    "Utilizaremos la función aportada en el laboratorio 11 llamada `sliding_windows`, que nos permitirá crear conjuntos de datos cuya salida deseada este movida en el tiempo 6 horas. Esto lo haremos asignando el atributo `offset` = 6, ya que los datos son recogidos cada hora."
   ]
  },
  {
   "cell_type": "code",
   "execution_count": 22,
   "id": "8701cae5",
   "metadata": {},
   "outputs": [],
   "source": [
    "def sliding_window(data, labels, input_width, label_width=1, offset=0):\n",
    "    x = []\n",
    "    y = []\n",
    "\n",
    "    # Corrección en el rango del bucle\n",
    "    for i in range(len(data) - input_width - label_width - offset + 1):\n",
    "        # Seleccionar la ventana de entrada y etiquetas\n",
    "        _x = data[i:i + input_width]\n",
    "        _y = labels[i + input_width + offset:i + input_width + offset + label_width]\n",
    "        x.append(_x)\n",
    "        y.append(_y)\n",
    "\n",
    "    # Convertir a numpy arrays\n",
    "    x, y = np.array(x), np.array(y)\n",
    "\n",
    "    # Añadir nueva dimensión si es necesario\n",
    "    if len(x.shape) == 2:  # Si x es 2D, hazlo 3D\n",
    "        x = x[:, :, np.newaxis]\n",
    "\n",
    "    if len(y.shape) == 2:  # Si y es 2D, hazlo 3D\n",
    "        y = y[:, :, np.newaxis]\n",
    "\n",
    "    return x, y"
   ]
  },
  {
   "cell_type": "markdown",
   "id": "fbbc3f15",
   "metadata": {},
   "source": [
    "Hay que cambiar la forma de pasarle el dataset, ya que le paso pandas dataframe y tiene que ser np.ndarray"
   ]
  },
  {
   "cell_type": "code",
   "execution_count": 24,
   "id": "d6736742",
   "metadata": {},
   "outputs": [],
   "source": [
    "input_width = 24\n",
    "label_width = 24\n",
    "offset = 6\n",
    "target_labels = 'precio fin' # Vamos a tratar de predecir la temperatura\n",
    "\n",
    "\n",
    "# TODO: Llama a la función para dividir el dataset\n",
    "x_train, y_train = sliding_window(\n",
    "    dfEntrenamiento.drop(columns=target_labels).values,  # Datos de entrada sin la etiqueta objetivo\n",
    "    dfEntrenamiento[target_labels].values,\n",
    "    input_width=input_width,\n",
    "    label_width=label_width,\n",
    "    offset=offset\n",
    ")\n",
    "x_test, y_test = sliding_window(\n",
    "    dfTest.drop(columns=target_labels).values,  # Datos de entrada sin la etiqueta objetivo\n",
    "    dfTest[target_labels].values,\n",
    "    input_width=input_width,\n",
    "    label_width=label_width,\n",
    "    offset=offset\n",
    ")\n"
   ]
  },
  {
   "cell_type": "markdown",
   "id": "c5e4c905-bfb3-4dfe-ab8d-d4dd713c943a",
   "metadata": {},
   "source": [
    "----"
   ]
  },
  {
   "cell_type": "markdown",
   "id": "219e066a-1b1c-46c0-b906-ddb6cf38857f",
   "metadata": {},
   "source": [
    "## 3. Elección del/los modelo/s. Prueba con ventanas de distinto tamaño, y ajusta a los datos de entrenamiento a modelos con arquitecturas de tipo"
   ]
  },
  {
   "cell_type": "code",
   "execution_count": 17,
   "id": "789c6dc5",
   "metadata": {},
   "outputs": [],
   "source": [
    "numero_caracteristicas = dfEntrenamiento.shape[1] - 1"
   ]
  },
  {
   "cell_type": "markdown",
   "id": "1869ac6b-4a7d-4651-8d79-dd0fc693a214",
   "metadata": {},
   "source": [
    "### 3.1 Totalmente conectado."
   ]
  },
  {
   "cell_type": "code",
   "execution_count": 18,
   "id": "d9384ab1",
   "metadata": {},
   "outputs": [
    {
     "name": "stdout",
     "output_type": "stream",
     "text": [
      "Epoch 1/100\n"
     ]
    },
    {
     "name": "stderr",
     "output_type": "stream",
     "text": [
      "2024-12-17 18:46:37.344994: E external/local_xla/xla/stream_executor/cuda/cuda_driver.cc:152] failed call to cuInit: INTERNAL: CUDA error: Failed call to cuInit: CUDA_ERROR_NO_DEVICE: no CUDA-capable device is detected\n"
     ]
    },
    {
     "name": "stdout",
     "output_type": "stream",
     "text": [
      "\u001b[1m562/562\u001b[0m \u001b[32m━━━━━━━━━━━━━━━━━━━━\u001b[0m\u001b[37m\u001b[0m \u001b[1m1s\u001b[0m 840us/step - loss: 0.0098 - mean_absolute_error: 0.0575 - val_loss: 7.4616e-04 - val_mean_absolute_error: 0.0212\n",
      "Epoch 2/100\n",
      "\u001b[1m562/562\u001b[0m \u001b[32m━━━━━━━━━━━━━━━━━━━━\u001b[0m\u001b[37m\u001b[0m \u001b[1m0s\u001b[0m 668us/step - loss: 4.2972e-04 - mean_absolute_error: 0.0154 - val_loss: 6.0939e-04 - val_mean_absolute_error: 0.0196\n",
      "Epoch 3/100\n",
      "\u001b[1m562/562\u001b[0m \u001b[32m━━━━━━━━━━━━━━━━━━━━\u001b[0m\u001b[37m\u001b[0m \u001b[1m0s\u001b[0m 664us/step - loss: 2.3195e-04 - mean_absolute_error: 0.0117 - val_loss: 2.0109e-04 - val_mean_absolute_error: 0.0111\n",
      "Epoch 4/100\n",
      "\u001b[1m562/562\u001b[0m \u001b[32m━━━━━━━━━━━━━━━━━━━━\u001b[0m\u001b[37m\u001b[0m \u001b[1m0s\u001b[0m 677us/step - loss: 1.6224e-04 - mean_absolute_error: 0.0098 - val_loss: 4.2878e-04 - val_mean_absolute_error: 0.0166\n",
      "Epoch 5/100\n",
      "\u001b[1m562/562\u001b[0m \u001b[32m━━━━━━━━━━━━━━━━━━━━\u001b[0m\u001b[37m\u001b[0m \u001b[1m0s\u001b[0m 665us/step - loss: 1.9739e-04 - mean_absolute_error: 0.0106 - val_loss: 1.0792e-04 - val_mean_absolute_error: 0.0082\n",
      "Epoch 6/100\n",
      "\u001b[1m562/562\u001b[0m \u001b[32m━━━━━━━━━━━━━━━━━━━━\u001b[0m\u001b[37m\u001b[0m \u001b[1m0s\u001b[0m 653us/step - loss: 9.7251e-05 - mean_absolute_error: 0.0076 - val_loss: 1.2358e-04 - val_mean_absolute_error: 0.0090\n",
      "Epoch 7/100\n",
      "\u001b[1m562/562\u001b[0m \u001b[32m━━━━━━━━━━━━━━━━━━━━\u001b[0m\u001b[37m\u001b[0m \u001b[1m0s\u001b[0m 653us/step - loss: 1.3729e-04 - mean_absolute_error: 0.0090 - val_loss: 2.4659e-04 - val_mean_absolute_error: 0.0138\n",
      "Epoch 8/100\n",
      "\u001b[1m562/562\u001b[0m \u001b[32m━━━━━━━━━━━━━━━━━━━━\u001b[0m\u001b[37m\u001b[0m \u001b[1m0s\u001b[0m 675us/step - loss: 8.0470e-05 - mean_absolute_error: 0.0068 - val_loss: 1.8086e-04 - val_mean_absolute_error: 0.0110\n",
      "Epoch 9/100\n",
      "\u001b[1m562/562\u001b[0m \u001b[32m━━━━━━━━━━━━━━━━━━━━\u001b[0m\u001b[37m\u001b[0m \u001b[1m0s\u001b[0m 675us/step - loss: 1.6995e-04 - mean_absolute_error: 0.0101 - val_loss: 2.9594e-04 - val_mean_absolute_error: 0.0149\n",
      "Epoch 10/100\n",
      "\u001b[1m562/562\u001b[0m \u001b[32m━━━━━━━━━━━━━━━━━━━━\u001b[0m\u001b[37m\u001b[0m \u001b[1m0s\u001b[0m 674us/step - loss: 8.8108e-05 - mean_absolute_error: 0.0073 - val_loss: 8.9820e-05 - val_mean_absolute_error: 0.0077\n",
      "Epoch 11/100\n",
      "\u001b[1m562/562\u001b[0m \u001b[32m━━━━━━━━━━━━━━━━━━━━\u001b[0m\u001b[37m\u001b[0m \u001b[1m0s\u001b[0m 671us/step - loss: 1.2741e-04 - mean_absolute_error: 0.0088 - val_loss: 2.7433e-04 - val_mean_absolute_error: 0.0142\n",
      "Epoch 12/100\n",
      "\u001b[1m562/562\u001b[0m \u001b[32m━━━━━━━━━━━━━━━━━━━━\u001b[0m\u001b[37m\u001b[0m \u001b[1m0s\u001b[0m 673us/step - loss: 1.0288e-04 - mean_absolute_error: 0.0076 - val_loss: 1.6383e-04 - val_mean_absolute_error: 0.0103\n",
      "Epoch 13/100\n",
      "\u001b[1m562/562\u001b[0m \u001b[32m━━━━━━━━━━━━━━━━━━━━\u001b[0m\u001b[37m\u001b[0m \u001b[1m0s\u001b[0m 691us/step - loss: 7.6427e-05 - mean_absolute_error: 0.0067 - val_loss: 1.2350e-04 - val_mean_absolute_error: 0.0089\n",
      "Epoch 14/100\n",
      "\u001b[1m562/562\u001b[0m \u001b[32m━━━━━━━━━━━━━━━━━━━━\u001b[0m\u001b[37m\u001b[0m \u001b[1m0s\u001b[0m 671us/step - loss: 7.0426e-05 - mean_absolute_error: 0.0065 - val_loss: 1.6860e-04 - val_mean_absolute_error: 0.0111\n",
      "Epoch 15/100\n",
      "\u001b[1m562/562\u001b[0m \u001b[32m━━━━━━━━━━━━━━━━━━━━\u001b[0m\u001b[37m\u001b[0m \u001b[1m0s\u001b[0m 677us/step - loss: 8.0492e-05 - mean_absolute_error: 0.0068 - val_loss: 1.8597e-04 - val_mean_absolute_error: 0.0114\n",
      "Epoch 16/100\n",
      "\u001b[1m562/562\u001b[0m \u001b[32m━━━━━━━━━━━━━━━━━━━━\u001b[0m\u001b[37m\u001b[0m \u001b[1m0s\u001b[0m 688us/step - loss: 9.2523e-05 - mean_absolute_error: 0.0073 - val_loss: 2.0494e-04 - val_mean_absolute_error: 0.0123\n",
      "Epoch 17/100\n",
      "\u001b[1m562/562\u001b[0m \u001b[32m━━━━━━━━━━━━━━━━━━━━\u001b[0m\u001b[37m\u001b[0m \u001b[1m0s\u001b[0m 684us/step - loss: 6.0553e-05 - mean_absolute_error: 0.0059 - val_loss: 2.0625e-04 - val_mean_absolute_error: 0.0119\n",
      "Epoch 18/100\n",
      "\u001b[1m562/562\u001b[0m \u001b[32m━━━━━━━━━━━━━━━━━━━━\u001b[0m\u001b[37m\u001b[0m \u001b[1m0s\u001b[0m 687us/step - loss: 7.9577e-05 - mean_absolute_error: 0.0068 - val_loss: 8.8267e-05 - val_mean_absolute_error: 0.0075\n",
      "Epoch 19/100\n",
      "\u001b[1m562/562\u001b[0m \u001b[32m━━━━━━━━━━━━━━━━━━━━\u001b[0m\u001b[37m\u001b[0m \u001b[1m0s\u001b[0m 704us/step - loss: 1.0573e-04 - mean_absolute_error: 0.0078 - val_loss: 1.9557e-04 - val_mean_absolute_error: 0.0113\n",
      "Epoch 20/100\n",
      "\u001b[1m562/562\u001b[0m \u001b[32m━━━━━━━━━━━━━━━━━━━━\u001b[0m\u001b[37m\u001b[0m \u001b[1m0s\u001b[0m 685us/step - loss: 8.0490e-05 - mean_absolute_error: 0.0069 - val_loss: 1.6351e-04 - val_mean_absolute_error: 0.0107\n",
      "Epoch 21/100\n",
      "\u001b[1m562/562\u001b[0m \u001b[32m━━━━━━━━━━━━━━━━━━━━\u001b[0m\u001b[37m\u001b[0m \u001b[1m0s\u001b[0m 682us/step - loss: 7.0219e-05 - mean_absolute_error: 0.0064 - val_loss: 3.2479e-04 - val_mean_absolute_error: 0.0158\n",
      "Epoch 22/100\n",
      "\u001b[1m562/562\u001b[0m \u001b[32m━━━━━━━━━━━━━━━━━━━━\u001b[0m\u001b[37m\u001b[0m \u001b[1m0s\u001b[0m 687us/step - loss: 9.8289e-05 - mean_absolute_error: 0.0076 - val_loss: 2.1549e-04 - val_mean_absolute_error: 0.0129\n",
      "Epoch 23/100\n",
      "\u001b[1m562/562\u001b[0m \u001b[32m━━━━━━━━━━━━━━━━━━━━\u001b[0m\u001b[37m\u001b[0m \u001b[1m0s\u001b[0m 688us/step - loss: 6.0115e-05 - mean_absolute_error: 0.0059 - val_loss: 2.0343e-04 - val_mean_absolute_error: 0.0120\n",
      "Epoch 24/100\n",
      "\u001b[1m562/562\u001b[0m \u001b[32m━━━━━━━━━━━━━━━━━━━━\u001b[0m\u001b[37m\u001b[0m \u001b[1m0s\u001b[0m 676us/step - loss: 7.1038e-05 - mean_absolute_error: 0.0065 - val_loss: 3.5399e-04 - val_mean_absolute_error: 0.0174\n",
      "Epoch 25/100\n",
      "\u001b[1m562/562\u001b[0m \u001b[32m━━━━━━━━━━━━━━━━━━━━\u001b[0m\u001b[37m\u001b[0m \u001b[1m0s\u001b[0m 689us/step - loss: 7.1953e-05 - mean_absolute_error: 0.0065 - val_loss: 4.8815e-04 - val_mean_absolute_error: 0.0197\n",
      "Epoch 26/100\n",
      "\u001b[1m562/562\u001b[0m \u001b[32m━━━━━━━━━━━━━━━━━━━━\u001b[0m\u001b[37m\u001b[0m \u001b[1m0s\u001b[0m 672us/step - loss: 1.0855e-04 - mean_absolute_error: 0.0078 - val_loss: 1.1933e-04 - val_mean_absolute_error: 0.0089\n",
      "Epoch 27/100\n",
      "\u001b[1m562/562\u001b[0m \u001b[32m━━━━━━━━━━━━━━━━━━━━\u001b[0m\u001b[37m\u001b[0m \u001b[1m0s\u001b[0m 691us/step - loss: 5.6823e-05 - mean_absolute_error: 0.0058 - val_loss: 2.0589e-04 - val_mean_absolute_error: 0.0123\n",
      "Epoch 28/100\n",
      "\u001b[1m562/562\u001b[0m \u001b[32m━━━━━━━━━━━━━━━━━━━━\u001b[0m\u001b[37m\u001b[0m \u001b[1m0s\u001b[0m 688us/step - loss: 7.1755e-05 - mean_absolute_error: 0.0065 - val_loss: 3.4207e-04 - val_mean_absolute_error: 0.0156\n",
      "Epoch 29/100\n",
      "\u001b[1m562/562\u001b[0m \u001b[32m━━━━━━━━━━━━━━━━━━━━\u001b[0m\u001b[37m\u001b[0m \u001b[1m0s\u001b[0m 685us/step - loss: 6.5517e-05 - mean_absolute_error: 0.0061 - val_loss: 3.5443e-04 - val_mean_absolute_error: 0.0172\n",
      "Epoch 30/100\n",
      "\u001b[1m562/562\u001b[0m \u001b[32m━━━━━━━━━━━━━━━━━━━━\u001b[0m\u001b[37m\u001b[0m \u001b[1m0s\u001b[0m 667us/step - loss: 6.5441e-05 - mean_absolute_error: 0.0062 - val_loss: 4.5700e-04 - val_mean_absolute_error: 0.0194\n",
      "Epoch 31/100\n",
      "\u001b[1m562/562\u001b[0m \u001b[32m━━━━━━━━━━━━━━━━━━━━\u001b[0m\u001b[37m\u001b[0m \u001b[1m0s\u001b[0m 695us/step - loss: 5.5931e-05 - mean_absolute_error: 0.0057 - val_loss: 2.5500e-04 - val_mean_absolute_error: 0.0133\n",
      "Epoch 32/100\n",
      "\u001b[1m562/562\u001b[0m \u001b[32m━━━━━━━━━━━━━━━━━━━━\u001b[0m\u001b[37m\u001b[0m \u001b[1m0s\u001b[0m 679us/step - loss: 6.8690e-05 - mean_absolute_error: 0.0064 - val_loss: 1.7661e-04 - val_mean_absolute_error: 0.0108\n",
      "Epoch 33/100\n",
      "\u001b[1m562/562\u001b[0m \u001b[32m━━━━━━━━━━━━━━━━━━━━\u001b[0m\u001b[37m\u001b[0m \u001b[1m0s\u001b[0m 683us/step - loss: 5.6458e-05 - mean_absolute_error: 0.0057 - val_loss: 2.0631e-04 - val_mean_absolute_error: 0.0117\n",
      "Epoch 34/100\n",
      "\u001b[1m562/562\u001b[0m \u001b[32m━━━━━━━━━━━━━━━━━━━━\u001b[0m\u001b[37m\u001b[0m \u001b[1m0s\u001b[0m 667us/step - loss: 6.0971e-05 - mean_absolute_error: 0.0060 - val_loss: 3.1200e-04 - val_mean_absolute_error: 0.0158\n",
      "Epoch 35/100\n",
      "\u001b[1m562/562\u001b[0m \u001b[32m━━━━━━━━━━━━━━━━━━━━\u001b[0m\u001b[37m\u001b[0m \u001b[1m0s\u001b[0m 695us/step - loss: 6.1316e-05 - mean_absolute_error: 0.0059 - val_loss: 2.4538e-04 - val_mean_absolute_error: 0.0129\n",
      "Epoch 36/100\n",
      "\u001b[1m562/562\u001b[0m \u001b[32m━━━━━━━━━━━━━━━━━━━━\u001b[0m\u001b[37m\u001b[0m \u001b[1m0s\u001b[0m 706us/step - loss: 5.5268e-05 - mean_absolute_error: 0.0057 - val_loss: 2.4402e-04 - val_mean_absolute_error: 0.0130\n",
      "Epoch 37/100\n",
      "\u001b[1m562/562\u001b[0m \u001b[32m━━━━━━━━━━━━━━━━━━━━\u001b[0m\u001b[37m\u001b[0m \u001b[1m0s\u001b[0m 688us/step - loss: 7.4005e-05 - mean_absolute_error: 0.0065 - val_loss: 2.6656e-04 - val_mean_absolute_error: 0.0139\n",
      "Epoch 38/100\n",
      "\u001b[1m562/562\u001b[0m \u001b[32m━━━━━━━━━━━━━━━━━━━━\u001b[0m\u001b[37m\u001b[0m \u001b[1m0s\u001b[0m 690us/step - loss: 5.6643e-05 - mean_absolute_error: 0.0057 - val_loss: 2.0395e-04 - val_mean_absolute_error: 0.0124\n",
      "Epoch 39/100\n",
      "\u001b[1m562/562\u001b[0m \u001b[32m━━━━━━━━━━━━━━━━━━━━\u001b[0m\u001b[37m\u001b[0m \u001b[1m0s\u001b[0m 720us/step - loss: 5.7130e-05 - mean_absolute_error: 0.0058 - val_loss: 2.4935e-04 - val_mean_absolute_error: 0.0138\n",
      "Epoch 40/100\n",
      "\u001b[1m562/562\u001b[0m \u001b[32m━━━━━━━━━━━━━━━━━━━━\u001b[0m\u001b[37m\u001b[0m \u001b[1m0s\u001b[0m 747us/step - loss: 7.1513e-05 - mean_absolute_error: 0.0064 - val_loss: 3.4847e-04 - val_mean_absolute_error: 0.0165\n",
      "Epoch 41/100\n",
      "\u001b[1m562/562\u001b[0m \u001b[32m━━━━━━━━━━━━━━━━━━━━\u001b[0m\u001b[37m\u001b[0m \u001b[1m0s\u001b[0m 715us/step - loss: 5.4562e-05 - mean_absolute_error: 0.0056 - val_loss: 2.2479e-04 - val_mean_absolute_error: 0.0120\n",
      "Epoch 42/100\n",
      "\u001b[1m562/562\u001b[0m \u001b[32m━━━━━━━━━━━━━━━━━━━━\u001b[0m\u001b[37m\u001b[0m \u001b[1m0s\u001b[0m 672us/step - loss: 7.0565e-05 - mean_absolute_error: 0.0063 - val_loss: 3.0067e-04 - val_mean_absolute_error: 0.0148\n"
     ]
    },
    {
     "name": "stdout",
     "output_type": "stream",
     "text": [
      "Epoch 43/100\n",
      "\u001b[1m562/562\u001b[0m \u001b[32m━━━━━━━━━━━━━━━━━━━━\u001b[0m\u001b[37m\u001b[0m \u001b[1m0s\u001b[0m 681us/step - loss: 5.5156e-05 - mean_absolute_error: 0.0056 - val_loss: 2.3722e-04 - val_mean_absolute_error: 0.0132\n",
      "Epoch 44/100\n",
      "\u001b[1m562/562\u001b[0m \u001b[32m━━━━━━━━━━━━━━━━━━━━\u001b[0m\u001b[37m\u001b[0m \u001b[1m0s\u001b[0m 683us/step - loss: 5.5604e-05 - mean_absolute_error: 0.0056 - val_loss: 3.5242e-04 - val_mean_absolute_error: 0.0163\n",
      "Epoch 45/100\n",
      "\u001b[1m562/562\u001b[0m \u001b[32m━━━━━━━━━━━━━━━━━━━━\u001b[0m\u001b[37m\u001b[0m \u001b[1m0s\u001b[0m 668us/step - loss: 5.4667e-05 - mean_absolute_error: 0.0056 - val_loss: 3.5664e-04 - val_mean_absolute_error: 0.0168\n",
      "Epoch 46/100\n",
      "\u001b[1m562/562\u001b[0m \u001b[32m━━━━━━━━━━━━━━━━━━━━\u001b[0m\u001b[37m\u001b[0m \u001b[1m0s\u001b[0m 691us/step - loss: 5.0436e-05 - mean_absolute_error: 0.0054 - val_loss: 2.2523e-04 - val_mean_absolute_error: 0.0126\n",
      "Epoch 47/100\n",
      "\u001b[1m562/562\u001b[0m \u001b[32m━━━━━━━━━━━━━━━━━━━━\u001b[0m\u001b[37m\u001b[0m \u001b[1m0s\u001b[0m 674us/step - loss: 5.9993e-05 - mean_absolute_error: 0.0060 - val_loss: 2.7321e-04 - val_mean_absolute_error: 0.0139\n",
      "Epoch 48/100\n",
      "\u001b[1m562/562\u001b[0m \u001b[32m━━━━━━━━━━━━━━━━━━━━\u001b[0m\u001b[37m\u001b[0m \u001b[1m0s\u001b[0m 667us/step - loss: 5.7697e-05 - mean_absolute_error: 0.0058 - val_loss: 2.4889e-04 - val_mean_absolute_error: 0.0130\n",
      "Epoch 49/100\n",
      "\u001b[1m562/562\u001b[0m \u001b[32m━━━━━━━━━━━━━━━━━━━━\u001b[0m\u001b[37m\u001b[0m \u001b[1m0s\u001b[0m 692us/step - loss: 5.3304e-05 - mean_absolute_error: 0.0055 - val_loss: 1.7146e-04 - val_mean_absolute_error: 0.0105\n",
      "Epoch 50/100\n",
      "\u001b[1m562/562\u001b[0m \u001b[32m━━━━━━━━━━━━━━━━━━━━\u001b[0m\u001b[37m\u001b[0m \u001b[1m0s\u001b[0m 691us/step - loss: 5.9869e-05 - mean_absolute_error: 0.0059 - val_loss: 1.8245e-04 - val_mean_absolute_error: 0.0110\n",
      "Epoch 51/100\n",
      "\u001b[1m562/562\u001b[0m \u001b[32m━━━━━━━━━━━━━━━━━━━━\u001b[0m\u001b[37m\u001b[0m \u001b[1m0s\u001b[0m 681us/step - loss: 5.2399e-05 - mean_absolute_error: 0.0055 - val_loss: 3.2540e-04 - val_mean_absolute_error: 0.0153\n",
      "Epoch 52/100\n",
      "\u001b[1m562/562\u001b[0m \u001b[32m━━━━━━━━━━━━━━━━━━━━\u001b[0m\u001b[37m\u001b[0m \u001b[1m0s\u001b[0m 688us/step - loss: 4.9941e-05 - mean_absolute_error: 0.0053 - val_loss: 2.7484e-04 - val_mean_absolute_error: 0.0140\n",
      "Epoch 53/100\n",
      "\u001b[1m562/562\u001b[0m \u001b[32m━━━━━━━━━━━━━━━━━━━━\u001b[0m\u001b[37m\u001b[0m \u001b[1m0s\u001b[0m 663us/step - loss: 5.3199e-05 - mean_absolute_error: 0.0056 - val_loss: 3.7062e-04 - val_mean_absolute_error: 0.0168\n"
     ]
    },
    {
     "data": {
      "text/plain": [
       "<keras.src.callbacks.history.History at 0x79335a984370>"
      ]
     },
     "execution_count": 18,
     "metadata": {},
     "output_type": "execute_result"
    }
   ],
   "source": [
    "modeloDenso = models.Sequential([\n",
    "    layers.Input(shape=(input_width, numero_caracteristicas)),  \n",
    "    layers.Flatten(),  \n",
    "    layers.Dense(128, activation='relu'),  \n",
    "    layers.Dense(64, activation='relu'),   \n",
    "    layers.Dense(32, activation='relu'),  \n",
    "    layers.Dense(1, activation='linear')  \n",
    "])\n",
    "\n",
    "modeloDenso.compile(loss=losses.MeanSquaredError(),\n",
    "                  optimizer=optimizers.Adam(),\n",
    "                  metrics=[metrics.MeanAbsoluteError()])\n",
    "\n",
    "callback  = keras.callbacks.EarlyStopping(\n",
    "    monitor=\"loss\",\n",
    "    patience=10,\n",
    "    restore_best_weights=True\n",
    "    \n",
    ")\n",
    "\n",
    "\n",
    "modeloDenso.fit(x_train,y_train,callbacks = callback,epochs = 100, validation_split = 0.2)"
   ]
  },
  {
   "cell_type": "code",
   "execution_count": 19,
   "id": "e4a17c9f",
   "metadata": {},
   "outputs": [
    {
     "name": "stdout",
     "output_type": "stream",
     "text": [
      "\u001b[1m51/51\u001b[0m \u001b[32m━━━━━━━━━━━━━━━━━━━━\u001b[0m\u001b[37m\u001b[0m \u001b[1m0s\u001b[0m 406us/step - loss: 8.2135e-04 - mean_absolute_error: 0.0279\n"
     ]
    }
   ],
   "source": [
    "test_loss = modeloDenso.evaluate(x_test, y_test)"
   ]
  },
  {
   "cell_type": "code",
   "execution_count": null,
   "id": "dd060378",
   "metadata": {},
   "outputs": [],
   "source": []
  },
  {
   "cell_type": "markdown",
   "id": "d4d9c8a6-4171-4aa5-b848-4f44d6da44e3",
   "metadata": {},
   "source": [
    "### 3.2 LSTM y GRU."
   ]
  },
  {
   "cell_type": "markdown",
   "id": "0421de8b",
   "metadata": {},
   "source": [
    "En esta primera usaremos lstm y falta añadir un gru pero con return_sequences = True para que  devuelva la secuencia entera de predicciones"
   ]
  },
  {
   "cell_type": "code",
   "execution_count": 20,
   "id": "8dd30fc6",
   "metadata": {},
   "outputs": [
    {
     "name": "stdout",
     "output_type": "stream",
     "text": [
      "Epoch 1/100\n",
      "\u001b[1m562/562\u001b[0m \u001b[32m━━━━━━━━━━━━━━━━━━━━\u001b[0m\u001b[37m\u001b[0m \u001b[1m2s\u001b[0m 3ms/step - loss: 0.0990 - mean_absolute_error: 0.1393 - val_loss: 0.0048 - val_mean_absolute_error: 0.0597\n",
      "Epoch 2/100\n",
      "\u001b[1m562/562\u001b[0m \u001b[32m━━━━━━━━━━━━━━━━━━━━\u001b[0m\u001b[37m\u001b[0m \u001b[1m1s\u001b[0m 3ms/step - loss: 3.4344e-04 - mean_absolute_error: 0.0138 - val_loss: 0.0051 - val_mean_absolute_error: 0.0616\n",
      "Epoch 3/100\n",
      "\u001b[1m562/562\u001b[0m \u001b[32m━━━━━━━━━━━━━━━━━━━━\u001b[0m\u001b[37m\u001b[0m \u001b[1m1s\u001b[0m 3ms/step - loss: 2.0448e-04 - mean_absolute_error: 0.0108 - val_loss: 0.0048 - val_mean_absolute_error: 0.0605\n",
      "Epoch 4/100\n",
      "\u001b[1m562/562\u001b[0m \u001b[32m━━━━━━━━━━━━━━━━━━━━\u001b[0m\u001b[37m\u001b[0m \u001b[1m2s\u001b[0m 3ms/step - loss: 1.5914e-04 - mean_absolute_error: 0.0095 - val_loss: 0.0049 - val_mean_absolute_error: 0.0618\n",
      "Epoch 5/100\n",
      "\u001b[1m562/562\u001b[0m \u001b[32m━━━━━━━━━━━━━━━━━━━━\u001b[0m\u001b[37m\u001b[0m \u001b[1m2s\u001b[0m 3ms/step - loss: 1.3482e-04 - mean_absolute_error: 0.0088 - val_loss: 0.0042 - val_mean_absolute_error: 0.0580\n",
      "Epoch 6/100\n",
      "\u001b[1m562/562\u001b[0m \u001b[32m━━━━━━━━━━━━━━━━━━━━\u001b[0m\u001b[37m\u001b[0m \u001b[1m2s\u001b[0m 3ms/step - loss: 1.1294e-04 - mean_absolute_error: 0.0080 - val_loss: 0.0040 - val_mean_absolute_error: 0.0564\n",
      "Epoch 7/100\n",
      "\u001b[1m562/562\u001b[0m \u001b[32m━━━━━━━━━━━━━━━━━━━━\u001b[0m\u001b[37m\u001b[0m \u001b[1m2s\u001b[0m 3ms/step - loss: 1.0805e-04 - mean_absolute_error: 0.0081 - val_loss: 0.0044 - val_mean_absolute_error: 0.0603\n",
      "Epoch 8/100\n",
      "\u001b[1m562/562\u001b[0m \u001b[32m━━━━━━━━━━━━━━━━━━━━\u001b[0m\u001b[37m\u001b[0m \u001b[1m2s\u001b[0m 3ms/step - loss: 9.0341e-05 - mean_absolute_error: 0.0073 - val_loss: 0.0034 - val_mean_absolute_error: 0.0520\n",
      "Epoch 9/100\n",
      "\u001b[1m562/562\u001b[0m \u001b[32m━━━━━━━━━━━━━━━━━━━━\u001b[0m\u001b[37m\u001b[0m \u001b[1m2s\u001b[0m 3ms/step - loss: 8.4835e-05 - mean_absolute_error: 0.0071 - val_loss: 0.0035 - val_mean_absolute_error: 0.0522\n",
      "Epoch 10/100\n",
      "\u001b[1m562/562\u001b[0m \u001b[32m━━━━━━━━━━━━━━━━━━━━\u001b[0m\u001b[37m\u001b[0m \u001b[1m2s\u001b[0m 3ms/step - loss: 8.1605e-05 - mean_absolute_error: 0.0070 - val_loss: 0.0032 - val_mean_absolute_error: 0.0504\n",
      "Epoch 11/100\n",
      "\u001b[1m562/562\u001b[0m \u001b[32m━━━━━━━━━━━━━━━━━━━━\u001b[0m\u001b[37m\u001b[0m \u001b[1m2s\u001b[0m 3ms/step - loss: 7.1152e-05 - mean_absolute_error: 0.0065 - val_loss: 0.0032 - val_mean_absolute_error: 0.0512\n",
      "Epoch 12/100\n",
      "\u001b[1m562/562\u001b[0m \u001b[32m━━━━━━━━━━━━━━━━━━━━\u001b[0m\u001b[37m\u001b[0m \u001b[1m2s\u001b[0m 3ms/step - loss: 7.5479e-05 - mean_absolute_error: 0.0067 - val_loss: 0.0031 - val_mean_absolute_error: 0.0514\n",
      "Epoch 13/100\n",
      "\u001b[1m562/562\u001b[0m \u001b[32m━━━━━━━━━━━━━━━━━━━━\u001b[0m\u001b[37m\u001b[0m \u001b[1m2s\u001b[0m 3ms/step - loss: 6.5512e-05 - mean_absolute_error: 0.0063 - val_loss: 0.0023 - val_mean_absolute_error: 0.0420\n",
      "Epoch 14/100\n",
      "\u001b[1m562/562\u001b[0m \u001b[32m━━━━━━━━━━━━━━━━━━━━\u001b[0m\u001b[37m\u001b[0m \u001b[1m2s\u001b[0m 3ms/step - loss: 6.5774e-05 - mean_absolute_error: 0.0063 - val_loss: 0.0020 - val_mean_absolute_error: 0.0397\n",
      "Epoch 15/100\n",
      "\u001b[1m562/562\u001b[0m \u001b[32m━━━━━━━━━━━━━━━━━━━━\u001b[0m\u001b[37m\u001b[0m \u001b[1m2s\u001b[0m 3ms/step - loss: 6.9206e-05 - mean_absolute_error: 0.0064 - val_loss: 0.0020 - val_mean_absolute_error: 0.0397\n",
      "Epoch 16/100\n",
      "\u001b[1m562/562\u001b[0m \u001b[32m━━━━━━━━━━━━━━━━━━━━\u001b[0m\u001b[37m\u001b[0m \u001b[1m2s\u001b[0m 3ms/step - loss: 5.3850e-05 - mean_absolute_error: 0.0056 - val_loss: 0.0021 - val_mean_absolute_error: 0.0414\n",
      "Epoch 17/100\n",
      "\u001b[1m562/562\u001b[0m \u001b[32m━━━━━━━━━━━━━━━━━━━━\u001b[0m\u001b[37m\u001b[0m \u001b[1m2s\u001b[0m 3ms/step - loss: 5.3453e-05 - mean_absolute_error: 0.0057 - val_loss: 0.0014 - val_mean_absolute_error: 0.0322\n",
      "Epoch 18/100\n",
      "\u001b[1m562/562\u001b[0m \u001b[32m━━━━━━━━━━━━━━━━━━━━\u001b[0m\u001b[37m\u001b[0m \u001b[1m2s\u001b[0m 3ms/step - loss: 5.9898e-05 - mean_absolute_error: 0.0060 - val_loss: 0.0018 - val_mean_absolute_error: 0.0370\n",
      "Epoch 19/100\n",
      "\u001b[1m562/562\u001b[0m \u001b[32m━━━━━━━━━━━━━━━━━━━━\u001b[0m\u001b[37m\u001b[0m \u001b[1m2s\u001b[0m 3ms/step - loss: 5.4755e-05 - mean_absolute_error: 0.0057 - val_loss: 0.0014 - val_mean_absolute_error: 0.0321\n",
      "Epoch 20/100\n",
      "\u001b[1m562/562\u001b[0m \u001b[32m━━━━━━━━━━━━━━━━━━━━\u001b[0m\u001b[37m\u001b[0m \u001b[1m2s\u001b[0m 3ms/step - loss: 5.5869e-05 - mean_absolute_error: 0.0057 - val_loss: 0.0016 - val_mean_absolute_error: 0.0358\n",
      "Epoch 21/100\n",
      "\u001b[1m562/562\u001b[0m \u001b[32m━━━━━━━━━━━━━━━━━━━━\u001b[0m\u001b[37m\u001b[0m \u001b[1m2s\u001b[0m 3ms/step - loss: 4.8819e-05 - mean_absolute_error: 0.0054 - val_loss: 0.0013 - val_mean_absolute_error: 0.0320\n",
      "Epoch 22/100\n",
      "\u001b[1m562/562\u001b[0m \u001b[32m━━━━━━━━━━━━━━━━━━━━\u001b[0m\u001b[37m\u001b[0m \u001b[1m2s\u001b[0m 3ms/step - loss: 5.0894e-05 - mean_absolute_error: 0.0054 - val_loss: 0.0010 - val_mean_absolute_error: 0.0277\n",
      "Epoch 23/100\n",
      "\u001b[1m562/562\u001b[0m \u001b[32m━━━━━━━━━━━━━━━━━━━━\u001b[0m\u001b[37m\u001b[0m \u001b[1m2s\u001b[0m 3ms/step - loss: 4.5517e-05 - mean_absolute_error: 0.0051 - val_loss: 0.0012 - val_mean_absolute_error: 0.0306\n",
      "Epoch 24/100\n",
      "\u001b[1m562/562\u001b[0m \u001b[32m━━━━━━━━━━━━━━━━━━━━\u001b[0m\u001b[37m\u001b[0m \u001b[1m2s\u001b[0m 3ms/step - loss: 4.2781e-05 - mean_absolute_error: 0.0050 - val_loss: 0.0014 - val_mean_absolute_error: 0.0326\n",
      "Epoch 25/100\n",
      "\u001b[1m562/562\u001b[0m \u001b[32m━━━━━━━━━━━━━━━━━━━━\u001b[0m\u001b[37m\u001b[0m \u001b[1m2s\u001b[0m 3ms/step - loss: 4.9053e-05 - mean_absolute_error: 0.0054 - val_loss: 0.0012 - val_mean_absolute_error: 0.0317\n",
      "Epoch 26/100\n",
      "\u001b[1m562/562\u001b[0m \u001b[32m━━━━━━━━━━━━━━━━━━━━\u001b[0m\u001b[37m\u001b[0m \u001b[1m2s\u001b[0m 3ms/step - loss: 4.8299e-05 - mean_absolute_error: 0.0053 - val_loss: 9.0241e-04 - val_mean_absolute_error: 0.0261\n",
      "Epoch 27/100\n",
      "\u001b[1m562/562\u001b[0m \u001b[32m━━━━━━━━━━━━━━━━━━━━\u001b[0m\u001b[37m\u001b[0m \u001b[1m2s\u001b[0m 3ms/step - loss: 3.9640e-05 - mean_absolute_error: 0.0047 - val_loss: 8.4844e-04 - val_mean_absolute_error: 0.0257\n",
      "Epoch 28/100\n",
      "\u001b[1m562/562\u001b[0m \u001b[32m━━━━━━━━━━━━━━━━━━━━\u001b[0m\u001b[37m\u001b[0m \u001b[1m2s\u001b[0m 3ms/step - loss: 4.3179e-05 - mean_absolute_error: 0.0050 - val_loss: 8.2802e-04 - val_mean_absolute_error: 0.0249\n",
      "Epoch 29/100\n",
      "\u001b[1m562/562\u001b[0m \u001b[32m━━━━━━━━━━━━━━━━━━━━\u001b[0m\u001b[37m\u001b[0m \u001b[1m2s\u001b[0m 3ms/step - loss: 4.3406e-05 - mean_absolute_error: 0.0050 - val_loss: 7.8017e-04 - val_mean_absolute_error: 0.0247\n",
      "Epoch 30/100\n",
      "\u001b[1m562/562\u001b[0m \u001b[32m━━━━━━━━━━━━━━━━━━━━\u001b[0m\u001b[37m\u001b[0m \u001b[1m2s\u001b[0m 3ms/step - loss: 4.1001e-05 - mean_absolute_error: 0.0049 - val_loss: 6.5821e-04 - val_mean_absolute_error: 0.0222\n",
      "Epoch 31/100\n",
      "\u001b[1m562/562\u001b[0m \u001b[32m━━━━━━━━━━━━━━━━━━━━\u001b[0m\u001b[37m\u001b[0m \u001b[1m2s\u001b[0m 3ms/step - loss: 4.0209e-05 - mean_absolute_error: 0.0048 - val_loss: 8.2617e-04 - val_mean_absolute_error: 0.0252\n",
      "Epoch 32/100\n",
      "\u001b[1m562/562\u001b[0m \u001b[32m━━━━━━━━━━━━━━━━━━━━\u001b[0m\u001b[37m\u001b[0m \u001b[1m2s\u001b[0m 3ms/step - loss: 3.8940e-05 - mean_absolute_error: 0.0047 - val_loss: 6.3599e-04 - val_mean_absolute_error: 0.0222\n",
      "Epoch 33/100\n",
      "\u001b[1m562/562\u001b[0m \u001b[32m━━━━━━━━━━━━━━━━━━━━\u001b[0m\u001b[37m\u001b[0m \u001b[1m2s\u001b[0m 3ms/step - loss: 4.2785e-05 - mean_absolute_error: 0.0049 - val_loss: 7.4331e-04 - val_mean_absolute_error: 0.0239\n",
      "Epoch 34/100\n",
      "\u001b[1m562/562\u001b[0m \u001b[32m━━━━━━━━━━━━━━━━━━━━\u001b[0m\u001b[37m\u001b[0m \u001b[1m2s\u001b[0m 3ms/step - loss: 3.9586e-05 - mean_absolute_error: 0.0048 - val_loss: 8.1973e-04 - val_mean_absolute_error: 0.0245\n",
      "Epoch 35/100\n",
      "\u001b[1m562/562\u001b[0m \u001b[32m━━━━━━━━━━━━━━━━━━━━\u001b[0m\u001b[37m\u001b[0m \u001b[1m2s\u001b[0m 3ms/step - loss: 4.1379e-05 - mean_absolute_error: 0.0049 - val_loss: 5.9249e-04 - val_mean_absolute_error: 0.0205\n",
      "Epoch 36/100\n",
      "\u001b[1m562/562\u001b[0m \u001b[32m━━━━━━━━━━━━━━━━━━━━\u001b[0m\u001b[37m\u001b[0m \u001b[1m2s\u001b[0m 3ms/step - loss: 4.1628e-05 - mean_absolute_error: 0.0049 - val_loss: 8.2659e-04 - val_mean_absolute_error: 0.0256\n",
      "Epoch 37/100\n",
      "\u001b[1m562/562\u001b[0m \u001b[32m━━━━━━━━━━━━━━━━━━━━\u001b[0m\u001b[37m\u001b[0m \u001b[1m2s\u001b[0m 3ms/step - loss: 3.7892e-05 - mean_absolute_error: 0.0047 - val_loss: 5.9679e-04 - val_mean_absolute_error: 0.0211\n",
      "Epoch 38/100\n",
      "\u001b[1m562/562\u001b[0m \u001b[32m━━━━━━━━━━━━━━━━━━━━\u001b[0m\u001b[37m\u001b[0m \u001b[1m2s\u001b[0m 3ms/step - loss: 3.5796e-05 - mean_absolute_error: 0.0044 - val_loss: 5.8057e-04 - val_mean_absolute_error: 0.0206\n",
      "Epoch 39/100\n",
      "\u001b[1m562/562\u001b[0m \u001b[32m━━━━━━━━━━━━━━━━━━━━\u001b[0m\u001b[37m\u001b[0m \u001b[1m2s\u001b[0m 3ms/step - loss: 3.6614e-05 - mean_absolute_error: 0.0046 - val_loss: 5.7323e-04 - val_mean_absolute_error: 0.0210\n",
      "Epoch 40/100\n",
      "\u001b[1m562/562\u001b[0m \u001b[32m━━━━━━━━━━━━━━━━━━━━\u001b[0m\u001b[37m\u001b[0m \u001b[1m2s\u001b[0m 3ms/step - loss: 3.9858e-05 - mean_absolute_error: 0.0048 - val_loss: 7.2753e-04 - val_mean_absolute_error: 0.0234\n",
      "Epoch 41/100\n",
      "\u001b[1m562/562\u001b[0m \u001b[32m━━━━━━━━━━━━━━━━━━━━\u001b[0m\u001b[37m\u001b[0m \u001b[1m2s\u001b[0m 3ms/step - loss: 4.0081e-05 - mean_absolute_error: 0.0048 - val_loss: 9.8795e-04 - val_mean_absolute_error: 0.0274\n",
      "Epoch 42/100\n",
      "\u001b[1m562/562\u001b[0m \u001b[32m━━━━━━━━━━━━━━━━━━━━\u001b[0m\u001b[37m\u001b[0m \u001b[1m2s\u001b[0m 3ms/step - loss: 3.9251e-05 - mean_absolute_error: 0.0047 - val_loss: 0.0011 - val_mean_absolute_error: 0.0297\n",
      "Epoch 43/100\n",
      "\u001b[1m562/562\u001b[0m \u001b[32m━━━━━━━━━━━━━━━━━━━━\u001b[0m\u001b[37m\u001b[0m \u001b[1m2s\u001b[0m 3ms/step - loss: 3.9319e-05 - mean_absolute_error: 0.0048 - val_loss: 6.5129e-04 - val_mean_absolute_error: 0.0222\n"
     ]
    },
    {
     "name": "stdout",
     "output_type": "stream",
     "text": [
      "Epoch 44/100\n",
      "\u001b[1m562/562\u001b[0m \u001b[32m━━━━━━━━━━━━━━━━━━━━\u001b[0m\u001b[37m\u001b[0m \u001b[1m2s\u001b[0m 3ms/step - loss: 3.3981e-05 - mean_absolute_error: 0.0044 - val_loss: 6.8904e-04 - val_mean_absolute_error: 0.0232\n",
      "Epoch 45/100\n",
      "\u001b[1m562/562\u001b[0m \u001b[32m━━━━━━━━━━━━━━━━━━━━\u001b[0m\u001b[37m\u001b[0m \u001b[1m2s\u001b[0m 3ms/step - loss: 4.0444e-05 - mean_absolute_error: 0.0048 - val_loss: 9.3316e-04 - val_mean_absolute_error: 0.0277\n",
      "Epoch 46/100\n",
      "\u001b[1m562/562\u001b[0m \u001b[32m━━━━━━━━━━━━━━━━━━━━\u001b[0m\u001b[37m\u001b[0m \u001b[1m2s\u001b[0m 3ms/step - loss: 3.6840e-05 - mean_absolute_error: 0.0046 - val_loss: 7.1300e-04 - val_mean_absolute_error: 0.0230\n",
      "Epoch 47/100\n",
      "\u001b[1m562/562\u001b[0m \u001b[32m━━━━━━━━━━━━━━━━━━━━\u001b[0m\u001b[37m\u001b[0m \u001b[1m2s\u001b[0m 3ms/step - loss: 3.5460e-05 - mean_absolute_error: 0.0045 - val_loss: 8.4890e-04 - val_mean_absolute_error: 0.0257\n",
      "Epoch 48/100\n",
      "\u001b[1m562/562\u001b[0m \u001b[32m━━━━━━━━━━━━━━━━━━━━\u001b[0m\u001b[37m\u001b[0m \u001b[1m2s\u001b[0m 3ms/step - loss: 3.2628e-05 - mean_absolute_error: 0.0043 - val_loss: 7.3696e-04 - val_mean_absolute_error: 0.0235\n",
      "Epoch 49/100\n",
      "\u001b[1m562/562\u001b[0m \u001b[32m━━━━━━━━━━━━━━━━━━━━\u001b[0m\u001b[37m\u001b[0m \u001b[1m2s\u001b[0m 3ms/step - loss: 3.5156e-05 - mean_absolute_error: 0.0045 - val_loss: 7.5072e-04 - val_mean_absolute_error: 0.0242\n",
      "Epoch 50/100\n",
      "\u001b[1m562/562\u001b[0m \u001b[32m━━━━━━━━━━━━━━━━━━━━\u001b[0m\u001b[37m\u001b[0m \u001b[1m2s\u001b[0m 3ms/step - loss: 3.3851e-05 - mean_absolute_error: 0.0044 - val_loss: 6.4933e-04 - val_mean_absolute_error: 0.0223\n",
      "Epoch 51/100\n",
      "\u001b[1m562/562\u001b[0m \u001b[32m━━━━━━━━━━━━━━━━━━━━\u001b[0m\u001b[37m\u001b[0m \u001b[1m2s\u001b[0m 3ms/step - loss: 3.4607e-05 - mean_absolute_error: 0.0044 - val_loss: 7.8875e-04 - val_mean_absolute_error: 0.0249\n",
      "Epoch 52/100\n",
      "\u001b[1m562/562\u001b[0m \u001b[32m━━━━━━━━━━━━━━━━━━━━\u001b[0m\u001b[37m\u001b[0m \u001b[1m2s\u001b[0m 3ms/step - loss: 3.9028e-05 - mean_absolute_error: 0.0047 - val_loss: 8.6267e-04 - val_mean_absolute_error: 0.0256\n",
      "Epoch 53/100\n",
      "\u001b[1m562/562\u001b[0m \u001b[32m━━━━━━━━━━━━━━━━━━━━\u001b[0m\u001b[37m\u001b[0m \u001b[1m2s\u001b[0m 3ms/step - loss: 3.3073e-05 - mean_absolute_error: 0.0043 - val_loss: 8.7187e-04 - val_mean_absolute_error: 0.0262\n",
      "Epoch 54/100\n",
      "\u001b[1m562/562\u001b[0m \u001b[32m━━━━━━━━━━━━━━━━━━━━\u001b[0m\u001b[37m\u001b[0m \u001b[1m2s\u001b[0m 3ms/step - loss: 3.3748e-05 - mean_absolute_error: 0.0043 - val_loss: 6.8229e-04 - val_mean_absolute_error: 0.0225\n",
      "Epoch 55/100\n",
      "\u001b[1m562/562\u001b[0m \u001b[32m━━━━━━━━━━━━━━━━━━━━\u001b[0m\u001b[37m\u001b[0m \u001b[1m2s\u001b[0m 3ms/step - loss: 3.3359e-05 - mean_absolute_error: 0.0043 - val_loss: 9.9651e-04 - val_mean_absolute_error: 0.0282\n",
      "Epoch 56/100\n",
      "\u001b[1m562/562\u001b[0m \u001b[32m━━━━━━━━━━━━━━━━━━━━\u001b[0m\u001b[37m\u001b[0m \u001b[1m2s\u001b[0m 3ms/step - loss: 3.5277e-05 - mean_absolute_error: 0.0045 - val_loss: 9.0025e-04 - val_mean_absolute_error: 0.0268\n",
      "Epoch 57/100\n",
      "\u001b[1m562/562\u001b[0m \u001b[32m━━━━━━━━━━━━━━━━━━━━\u001b[0m\u001b[37m\u001b[0m \u001b[1m2s\u001b[0m 3ms/step - loss: 3.5610e-05 - mean_absolute_error: 0.0044 - val_loss: 7.8909e-04 - val_mean_absolute_error: 0.0248\n",
      "Epoch 58/100\n",
      "\u001b[1m562/562\u001b[0m \u001b[32m━━━━━━━━━━━━━━━━━━━━\u001b[0m\u001b[37m\u001b[0m \u001b[1m2s\u001b[0m 3ms/step - loss: 3.2745e-05 - mean_absolute_error: 0.0042 - val_loss: 8.1029e-04 - val_mean_absolute_error: 0.0257\n",
      "Epoch 59/100\n",
      "\u001b[1m562/562\u001b[0m \u001b[32m━━━━━━━━━━━━━━━━━━━━\u001b[0m\u001b[37m\u001b[0m \u001b[1m2s\u001b[0m 3ms/step - loss: 3.1688e-05 - mean_absolute_error: 0.0042 - val_loss: 7.8760e-04 - val_mean_absolute_error: 0.0248\n",
      "Epoch 60/100\n",
      "\u001b[1m562/562\u001b[0m \u001b[32m━━━━━━━━━━━━━━━━━━━━\u001b[0m\u001b[37m\u001b[0m \u001b[1m2s\u001b[0m 3ms/step - loss: 3.4315e-05 - mean_absolute_error: 0.0044 - val_loss: 0.0011 - val_mean_absolute_error: 0.0294\n",
      "Epoch 61/100\n",
      "\u001b[1m562/562\u001b[0m \u001b[32m━━━━━━━━━━━━━━━━━━━━\u001b[0m\u001b[37m\u001b[0m \u001b[1m2s\u001b[0m 3ms/step - loss: 3.1969e-05 - mean_absolute_error: 0.0042 - val_loss: 9.8969e-04 - val_mean_absolute_error: 0.0283\n",
      "Epoch 62/100\n",
      "\u001b[1m562/562\u001b[0m \u001b[32m━━━━━━━━━━━━━━━━━━━━\u001b[0m\u001b[37m\u001b[0m \u001b[1m2s\u001b[0m 4ms/step - loss: 3.2245e-05 - mean_absolute_error: 0.0042 - val_loss: 7.8201e-04 - val_mean_absolute_error: 0.0246\n",
      "Epoch 63/100\n",
      "\u001b[1m562/562\u001b[0m \u001b[32m━━━━━━━━━━━━━━━━━━━━\u001b[0m\u001b[37m\u001b[0m \u001b[1m2s\u001b[0m 4ms/step - loss: 3.3005e-05 - mean_absolute_error: 0.0043 - val_loss: 0.0011 - val_mean_absolute_error: 0.0296\n",
      "Epoch 64/100\n",
      "\u001b[1m562/562\u001b[0m \u001b[32m━━━━━━━━━━━━━━━━━━━━\u001b[0m\u001b[37m\u001b[0m \u001b[1m2s\u001b[0m 3ms/step - loss: 3.3446e-05 - mean_absolute_error: 0.0043 - val_loss: 7.3444e-04 - val_mean_absolute_error: 0.0238\n",
      "Epoch 65/100\n",
      "\u001b[1m562/562\u001b[0m \u001b[32m━━━━━━━━━━━━━━━━━━━━\u001b[0m\u001b[37m\u001b[0m \u001b[1m2s\u001b[0m 3ms/step - loss: 3.3575e-05 - mean_absolute_error: 0.0043 - val_loss: 0.0011 - val_mean_absolute_error: 0.0292\n",
      "Epoch 66/100\n",
      "\u001b[1m562/562\u001b[0m \u001b[32m━━━━━━━━━━━━━━━━━━━━\u001b[0m\u001b[37m\u001b[0m \u001b[1m2s\u001b[0m 3ms/step - loss: 3.0991e-05 - mean_absolute_error: 0.0041 - val_loss: 9.6625e-04 - val_mean_absolute_error: 0.0277\n",
      "Epoch 67/100\n",
      "\u001b[1m562/562\u001b[0m \u001b[32m━━━━━━━━━━━━━━━━━━━━\u001b[0m\u001b[37m\u001b[0m \u001b[1m2s\u001b[0m 3ms/step - loss: 3.3394e-05 - mean_absolute_error: 0.0044 - val_loss: 9.9932e-04 - val_mean_absolute_error: 0.0282\n",
      "Epoch 68/100\n",
      "\u001b[1m562/562\u001b[0m \u001b[32m━━━━━━━━━━━━━━━━━━━━\u001b[0m\u001b[37m\u001b[0m \u001b[1m2s\u001b[0m 3ms/step - loss: 3.1991e-05 - mean_absolute_error: 0.0042 - val_loss: 9.7532e-04 - val_mean_absolute_error: 0.0281\n",
      "Epoch 69/100\n",
      "\u001b[1m562/562\u001b[0m \u001b[32m━━━━━━━━━━━━━━━━━━━━\u001b[0m\u001b[37m\u001b[0m \u001b[1m2s\u001b[0m 3ms/step - loss: 3.3583e-05 - mean_absolute_error: 0.0043 - val_loss: 0.0011 - val_mean_absolute_error: 0.0298\n",
      "Epoch 70/100\n",
      "\u001b[1m562/562\u001b[0m \u001b[32m━━━━━━━━━━━━━━━━━━━━\u001b[0m\u001b[37m\u001b[0m \u001b[1m2s\u001b[0m 3ms/step - loss: 3.1762e-05 - mean_absolute_error: 0.0042 - val_loss: 9.5963e-04 - val_mean_absolute_error: 0.0276\n",
      "Epoch 71/100\n",
      "\u001b[1m562/562\u001b[0m \u001b[32m━━━━━━━━━━━━━━━━━━━━\u001b[0m\u001b[37m\u001b[0m \u001b[1m2s\u001b[0m 4ms/step - loss: 3.3296e-05 - mean_absolute_error: 0.0043 - val_loss: 9.9640e-04 - val_mean_absolute_error: 0.0283\n",
      "Epoch 72/100\n",
      "\u001b[1m562/562\u001b[0m \u001b[32m━━━━━━━━━━━━━━━━━━━━\u001b[0m\u001b[37m\u001b[0m \u001b[1m2s\u001b[0m 3ms/step - loss: 3.2723e-05 - mean_absolute_error: 0.0043 - val_loss: 0.0010 - val_mean_absolute_error: 0.0283\n",
      "Epoch 73/100\n",
      "\u001b[1m562/562\u001b[0m \u001b[32m━━━━━━━━━━━━━━━━━━━━\u001b[0m\u001b[37m\u001b[0m \u001b[1m2s\u001b[0m 3ms/step - loss: 3.2422e-05 - mean_absolute_error: 0.0043 - val_loss: 0.0011 - val_mean_absolute_error: 0.0302\n",
      "Epoch 74/100\n",
      "\u001b[1m562/562\u001b[0m \u001b[32m━━━━━━━━━━━━━━━━━━━━\u001b[0m\u001b[37m\u001b[0m \u001b[1m2s\u001b[0m 3ms/step - loss: 2.8931e-05 - mean_absolute_error: 0.0040 - val_loss: 0.0011 - val_mean_absolute_error: 0.0298\n",
      "Epoch 75/100\n",
      "\u001b[1m562/562\u001b[0m \u001b[32m━━━━━━━━━━━━━━━━━━━━\u001b[0m\u001b[37m\u001b[0m \u001b[1m2s\u001b[0m 3ms/step - loss: 2.9974e-05 - mean_absolute_error: 0.0041 - val_loss: 9.8442e-04 - val_mean_absolute_error: 0.0279\n",
      "Epoch 76/100\n",
      "\u001b[1m562/562\u001b[0m \u001b[32m━━━━━━━━━━━━━━━━━━━━\u001b[0m\u001b[37m\u001b[0m \u001b[1m2s\u001b[0m 3ms/step - loss: 2.8717e-05 - mean_absolute_error: 0.0040 - val_loss: 0.0011 - val_mean_absolute_error: 0.0289\n",
      "Epoch 77/100\n",
      "\u001b[1m562/562\u001b[0m \u001b[32m━━━━━━━━━━━━━━━━━━━━\u001b[0m\u001b[37m\u001b[0m \u001b[1m2s\u001b[0m 3ms/step - loss: 2.7841e-05 - mean_absolute_error: 0.0039 - val_loss: 9.8506e-04 - val_mean_absolute_error: 0.0278\n",
      "Epoch 78/100\n",
      "\u001b[1m562/562\u001b[0m \u001b[32m━━━━━━━━━━━━━━━━━━━━\u001b[0m\u001b[37m\u001b[0m \u001b[1m2s\u001b[0m 3ms/step - loss: 3.3048e-05 - mean_absolute_error: 0.0043 - val_loss: 0.0013 - val_mean_absolute_error: 0.0320\n",
      "Epoch 79/100\n",
      "\u001b[1m562/562\u001b[0m \u001b[32m━━━━━━━━━━━━━━━━━━━━\u001b[0m\u001b[37m\u001b[0m \u001b[1m2s\u001b[0m 4ms/step - loss: 3.2119e-05 - mean_absolute_error: 0.0042 - val_loss: 0.0013 - val_mean_absolute_error: 0.0319\n",
      "Epoch 80/100\n",
      "\u001b[1m562/562\u001b[0m \u001b[32m━━━━━━━━━━━━━━━━━━━━\u001b[0m\u001b[37m\u001b[0m \u001b[1m2s\u001b[0m 4ms/step - loss: 2.8940e-05 - mean_absolute_error: 0.0040 - val_loss: 0.0014 - val_mean_absolute_error: 0.0339\n",
      "Epoch 81/100\n",
      "\u001b[1m562/562\u001b[0m \u001b[32m━━━━━━━━━━━━━━━━━━━━\u001b[0m\u001b[37m\u001b[0m \u001b[1m2s\u001b[0m 3ms/step - loss: 3.0374e-05 - mean_absolute_error: 0.0041 - val_loss: 0.0014 - val_mean_absolute_error: 0.0332\n",
      "Epoch 82/100\n",
      "\u001b[1m562/562\u001b[0m \u001b[32m━━━━━━━━━━━━━━━━━━━━\u001b[0m\u001b[37m\u001b[0m \u001b[1m2s\u001b[0m 3ms/step - loss: 3.0928e-05 - mean_absolute_error: 0.0042 - val_loss: 0.0016 - val_mean_absolute_error: 0.0357\n",
      "Epoch 83/100\n",
      "\u001b[1m562/562\u001b[0m \u001b[32m━━━━━━━━━━━━━━━━━━━━\u001b[0m\u001b[37m\u001b[0m \u001b[1m2s\u001b[0m 3ms/step - loss: 2.8946e-05 - mean_absolute_error: 0.0040 - val_loss: 0.0015 - val_mean_absolute_error: 0.0347\n",
      "Epoch 84/100\n",
      "\u001b[1m562/562\u001b[0m \u001b[32m━━━━━━━━━━━━━━━━━━━━\u001b[0m\u001b[37m\u001b[0m \u001b[1m2s\u001b[0m 3ms/step - loss: 2.6920e-05 - mean_absolute_error: 0.0038 - val_loss: 0.0016 - val_mean_absolute_error: 0.0352\n",
      "Epoch 85/100\n",
      "\u001b[1m562/562\u001b[0m \u001b[32m━━━━━━━━━━━━━━━━━━━━\u001b[0m\u001b[37m\u001b[0m \u001b[1m2s\u001b[0m 3ms/step - loss: 2.8593e-05 - mean_absolute_error: 0.0040 - val_loss: 0.0015 - val_mean_absolute_error: 0.0347\n",
      "Epoch 86/100\n",
      "\u001b[1m562/562\u001b[0m \u001b[32m━━━━━━━━━━━━━━━━━━━━\u001b[0m\u001b[37m\u001b[0m \u001b[1m2s\u001b[0m 3ms/step - loss: 2.7217e-05 - mean_absolute_error: 0.0039 - val_loss: 0.0015 - val_mean_absolute_error: 0.0343\n",
      "Epoch 87/100\n",
      "\u001b[1m562/562\u001b[0m \u001b[32m━━━━━━━━━━━━━━━━━━━━\u001b[0m\u001b[37m\u001b[0m \u001b[1m2s\u001b[0m 4ms/step - loss: 2.9545e-05 - mean_absolute_error: 0.0040 - val_loss: 0.0014 - val_mean_absolute_error: 0.0329\n",
      "Epoch 88/100\n",
      "\u001b[1m562/562\u001b[0m \u001b[32m━━━━━━━━━━━━━━━━━━━━\u001b[0m\u001b[37m\u001b[0m \u001b[1m2s\u001b[0m 3ms/step - loss: 2.7748e-05 - mean_absolute_error: 0.0039 - val_loss: 0.0018 - val_mean_absolute_error: 0.0377\n",
      "Epoch 89/100\n",
      "\u001b[1m562/562\u001b[0m \u001b[32m━━━━━━━━━━━━━━━━━━━━\u001b[0m\u001b[37m\u001b[0m \u001b[1m2s\u001b[0m 3ms/step - loss: 2.7213e-05 - mean_absolute_error: 0.0039 - val_loss: 0.0019 - val_mean_absolute_error: 0.0392\n",
      "Epoch 90/100\n",
      "\u001b[1m562/562\u001b[0m \u001b[32m━━━━━━━━━━━━━━━━━━━━\u001b[0m\u001b[37m\u001b[0m \u001b[1m2s\u001b[0m 3ms/step - loss: 3.1995e-05 - mean_absolute_error: 0.0042 - val_loss: 0.0016 - val_mean_absolute_error: 0.0357\n",
      "Epoch 91/100\n",
      "\u001b[1m562/562\u001b[0m \u001b[32m━━━━━━━━━━━━━━━━━━━━\u001b[0m\u001b[37m\u001b[0m \u001b[1m2s\u001b[0m 4ms/step - loss: 2.8307e-05 - mean_absolute_error: 0.0040 - val_loss: 0.0015 - val_mean_absolute_error: 0.0343\n",
      "Epoch 92/100\n",
      "\u001b[1m562/562\u001b[0m \u001b[32m━━━━━━━━━━━━━━━━━━━━\u001b[0m\u001b[37m\u001b[0m \u001b[1m2s\u001b[0m 4ms/step - loss: 2.8089e-05 - mean_absolute_error: 0.0040 - val_loss: 0.0015 - val_mean_absolute_error: 0.0337\n",
      "Epoch 93/100\n",
      "\u001b[1m562/562\u001b[0m \u001b[32m━━━━━━━━━━━━━━━━━━━━\u001b[0m\u001b[37m\u001b[0m \u001b[1m2s\u001b[0m 4ms/step - loss: 2.9548e-05 - mean_absolute_error: 0.0041 - val_loss: 0.0020 - val_mean_absolute_error: 0.0398\n",
      "Epoch 94/100\n",
      "\u001b[1m562/562\u001b[0m \u001b[32m━━━━━━━━━━━━━━━━━━━━\u001b[0m\u001b[37m\u001b[0m \u001b[1m2s\u001b[0m 4ms/step - loss: 2.8911e-05 - mean_absolute_error: 0.0040 - val_loss: 0.0018 - val_mean_absolute_error: 0.0368\n",
      "Epoch 95/100\n",
      "\u001b[1m562/562\u001b[0m \u001b[32m━━━━━━━━━━━━━━━━━━━━\u001b[0m\u001b[37m\u001b[0m \u001b[1m2s\u001b[0m 4ms/step - loss: 2.6712e-05 - mean_absolute_error: 0.0038 - val_loss: 0.0017 - val_mean_absolute_error: 0.0359\n",
      "Epoch 96/100\n",
      "\u001b[1m562/562\u001b[0m \u001b[32m━━━━━━━━━━━━━━━━━━━━\u001b[0m\u001b[37m\u001b[0m \u001b[1m2s\u001b[0m 4ms/step - loss: 2.8251e-05 - mean_absolute_error: 0.0040 - val_loss: 0.0018 - val_mean_absolute_error: 0.0372\n",
      "Epoch 97/100\n",
      "\u001b[1m562/562\u001b[0m \u001b[32m━━━━━━━━━━━━━━━━━━━━\u001b[0m\u001b[37m\u001b[0m \u001b[1m2s\u001b[0m 4ms/step - loss: 2.7643e-05 - mean_absolute_error: 0.0039 - val_loss: 0.0018 - val_mean_absolute_error: 0.0372\n",
      "Epoch 98/100\n",
      "\u001b[1m562/562\u001b[0m \u001b[32m━━━━━━━━━━━━━━━━━━━━\u001b[0m\u001b[37m\u001b[0m \u001b[1m2s\u001b[0m 4ms/step - loss: 2.7492e-05 - mean_absolute_error: 0.0039 - val_loss: 0.0019 - val_mean_absolute_error: 0.0381\n",
      "Epoch 99/100\n",
      "\u001b[1m562/562\u001b[0m \u001b[32m━━━━━━━━━━━━━━━━━━━━\u001b[0m\u001b[37m\u001b[0m \u001b[1m2s\u001b[0m 4ms/step - loss: 2.8825e-05 - mean_absolute_error: 0.0040 - val_loss: 0.0018 - val_mean_absolute_error: 0.0373\n",
      "Epoch 100/100\n",
      "\u001b[1m562/562\u001b[0m \u001b[32m━━━━━━━━━━━━━━━━━━━━\u001b[0m\u001b[37m\u001b[0m \u001b[1m2s\u001b[0m 4ms/step - loss: 2.7287e-05 - mean_absolute_error: 0.0039 - val_loss: 0.0020 - val_mean_absolute_error: 0.0394\n"
     ]
    },
    {
     "data": {
      "text/plain": [
       "<keras.src.callbacks.history.History at 0x79335a827280>"
      ]
     },
     "execution_count": 20,
     "metadata": {},
     "output_type": "execute_result"
    }
   ],
   "source": [
    "modeloREC = models.Sequential([\n",
    "    keras.layers.LSTM(32, return_sequences = True), # Capa recurrente (usa un múmero de unidades de la capa oculta de 32, y establece correctamente el valor de return_sequences).\n",
    "    keras.layers.Dense(1) # Capa densa (escoge correctamente su número de unidades)\n",
    "])\n",
    "\n",
    "modeloREC.compile(loss=losses.MeanSquaredError(),\n",
    "                  optimizer=optimizers.Adam(),\n",
    "                  metrics=[metrics.MeanAbsoluteError()])\n",
    "callback  = keras.callbacks.EarlyStopping(\n",
    "    monitor=\"loss\",\n",
    "    patience=10,\n",
    "    restore_best_weights=True\n",
    "    \n",
    ")\n",
    "\n",
    "\n",
    "modeloREC.fit(x_train,y_train,callbacks = callback,epochs = 100,validation_split=0.2)"
   ]
  },
  {
   "cell_type": "code",
   "execution_count": 30,
   "id": "f8ad3e10",
   "metadata": {},
   "outputs": [
    {
     "name": "stdout",
     "output_type": "stream",
     "text": [
      "\u001b[1m51/51\u001b[0m \u001b[32m━━━━━━━━━━━━━━━━━━━━\u001b[0m\u001b[37m\u001b[0m \u001b[1m0s\u001b[0m 980us/step - loss: 0.0338 - mean_absolute_error: 0.1834\n"
     ]
    }
   ],
   "source": [
    "test_loss = modeloREC.evaluate(x_test, y_test)"
   ]
  },
  {
   "cell_type": "markdown",
   "id": "df90899d-b43c-4681-9469-9aa995399a91",
   "metadata": {},
   "source": [
    "### 3.3. LSTM y GRU anidados. Se requieren al menos dos capas."
   ]
  },
  {
   "cell_type": "code",
   "execution_count": 22,
   "id": "a84542b9",
   "metadata": {},
   "outputs": [
    {
     "name": "stdout",
     "output_type": "stream",
     "text": [
      "Epoch 1/100\n",
      "\u001b[1m562/562\u001b[0m \u001b[32m━━━━━━━━━━━━━━━━━━━━\u001b[0m\u001b[37m\u001b[0m \u001b[1m7s\u001b[0m 9ms/step - loss: 0.1043 - mean_absolute_error: 0.1583 - val_loss: 0.0138 - val_mean_absolute_error: 0.1048\n",
      "Epoch 2/100\n",
      "\u001b[1m562/562\u001b[0m \u001b[32m━━━━━━━━━━━━━━━━━━━━\u001b[0m\u001b[37m\u001b[0m \u001b[1m5s\u001b[0m 9ms/step - loss: 3.7794e-04 - mean_absolute_error: 0.0141 - val_loss: 0.0117 - val_mean_absolute_error: 0.0960\n",
      "Epoch 3/100\n",
      "\u001b[1m562/562\u001b[0m \u001b[32m━━━━━━━━━━━━━━━━━━━━\u001b[0m\u001b[37m\u001b[0m \u001b[1m5s\u001b[0m 9ms/step - loss: 2.2880e-04 - mean_absolute_error: 0.0114 - val_loss: 0.0112 - val_mean_absolute_error: 0.0926\n",
      "Epoch 4/100\n",
      "\u001b[1m562/562\u001b[0m \u001b[32m━━━━━━━━━━━━━━━━━━━━\u001b[0m\u001b[37m\u001b[0m \u001b[1m5s\u001b[0m 10ms/step - loss: 1.6927e-04 - mean_absolute_error: 0.0097 - val_loss: 0.0106 - val_mean_absolute_error: 0.0904\n",
      "Epoch 5/100\n",
      "\u001b[1m562/562\u001b[0m \u001b[32m━━━━━━━━━━━━━━━━━━━━\u001b[0m\u001b[37m\u001b[0m \u001b[1m6s\u001b[0m 10ms/step - loss: 1.4539e-04 - mean_absolute_error: 0.0090 - val_loss: 0.0099 - val_mean_absolute_error: 0.0878\n",
      "Epoch 6/100\n",
      "\u001b[1m562/562\u001b[0m \u001b[32m━━━━━━━━━━━━━━━━━━━━\u001b[0m\u001b[37m\u001b[0m \u001b[1m5s\u001b[0m 10ms/step - loss: 1.3953e-04 - mean_absolute_error: 0.0089 - val_loss: 0.0088 - val_mean_absolute_error: 0.0821\n",
      "Epoch 7/100\n",
      "\u001b[1m562/562\u001b[0m \u001b[32m━━━━━━━━━━━━━━━━━━━━\u001b[0m\u001b[37m\u001b[0m \u001b[1m6s\u001b[0m 11ms/step - loss: 1.1779e-04 - mean_absolute_error: 0.0082 - val_loss: 0.0084 - val_mean_absolute_error: 0.0808\n",
      "Epoch 8/100\n",
      "\u001b[1m562/562\u001b[0m \u001b[32m━━━━━━━━━━━━━━━━━━━━\u001b[0m\u001b[37m\u001b[0m \u001b[1m6s\u001b[0m 11ms/step - loss: 1.0629e-04 - mean_absolute_error: 0.0078 - val_loss: 0.0089 - val_mean_absolute_error: 0.0841\n",
      "Epoch 9/100\n",
      "\u001b[1m562/562\u001b[0m \u001b[32m━━━━━━━━━━━━━━━━━━━━\u001b[0m\u001b[37m\u001b[0m \u001b[1m6s\u001b[0m 11ms/step - loss: 1.0061e-04 - mean_absolute_error: 0.0076 - val_loss: 0.0075 - val_mean_absolute_error: 0.0740\n",
      "Epoch 10/100\n",
      "\u001b[1m562/562\u001b[0m \u001b[32m━━━━━━━━━━━━━━━━━━━━\u001b[0m\u001b[37m\u001b[0m \u001b[1m6s\u001b[0m 11ms/step - loss: 1.0510e-04 - mean_absolute_error: 0.0078 - val_loss: 0.0078 - val_mean_absolute_error: 0.0768\n",
      "Epoch 11/100\n",
      "\u001b[1m562/562\u001b[0m \u001b[32m━━━━━━━━━━━━━━━━━━━━\u001b[0m\u001b[37m\u001b[0m \u001b[1m7s\u001b[0m 12ms/step - loss: 9.2810e-05 - mean_absolute_error: 0.0073 - val_loss: 0.0091 - val_mean_absolute_error: 0.0843\n",
      "Epoch 12/100\n",
      "\u001b[1m562/562\u001b[0m \u001b[32m━━━━━━━━━━━━━━━━━━━━\u001b[0m\u001b[37m\u001b[0m \u001b[1m7s\u001b[0m 12ms/step - loss: 9.1779e-05 - mean_absolute_error: 0.0074 - val_loss: 0.0088 - val_mean_absolute_error: 0.0820\n",
      "Epoch 13/100\n",
      "\u001b[1m562/562\u001b[0m \u001b[32m━━━━━━━━━━━━━━━━━━━━\u001b[0m\u001b[37m\u001b[0m \u001b[1m6s\u001b[0m 11ms/step - loss: 1.1211e-04 - mean_absolute_error: 0.0081 - val_loss: 0.0080 - val_mean_absolute_error: 0.0775\n",
      "Epoch 14/100\n",
      "\u001b[1m562/562\u001b[0m \u001b[32m━━━━━━━━━━━━━━━━━━━━\u001b[0m\u001b[37m\u001b[0m \u001b[1m6s\u001b[0m 11ms/step - loss: 9.1688e-05 - mean_absolute_error: 0.0074 - val_loss: 0.0084 - val_mean_absolute_error: 0.0801\n",
      "Epoch 15/100\n",
      "\u001b[1m562/562\u001b[0m \u001b[32m━━━━━━━━━━━━━━━━━━━━\u001b[0m\u001b[37m\u001b[0m \u001b[1m6s\u001b[0m 10ms/step - loss: 6.8564e-05 - mean_absolute_error: 0.0063 - val_loss: 0.0078 - val_mean_absolute_error: 0.0750\n",
      "Epoch 16/100\n",
      "\u001b[1m562/562\u001b[0m \u001b[32m━━━━━━━━━━━━━━━━━━━━\u001b[0m\u001b[37m\u001b[0m \u001b[1m6s\u001b[0m 11ms/step - loss: 6.9840e-05 - mean_absolute_error: 0.0064 - val_loss: 0.0080 - val_mean_absolute_error: 0.0774\n",
      "Epoch 17/100\n",
      "\u001b[1m562/562\u001b[0m \u001b[32m━━━━━━━━━━━━━━━━━━━━\u001b[0m\u001b[37m\u001b[0m \u001b[1m7s\u001b[0m 12ms/step - loss: 7.0927e-05 - mean_absolute_error: 0.0064 - val_loss: 0.0082 - val_mean_absolute_error: 0.0771\n",
      "Epoch 18/100\n",
      "\u001b[1m562/562\u001b[0m \u001b[32m━━━━━━━━━━━━━━━━━━━━\u001b[0m\u001b[37m\u001b[0m \u001b[1m7s\u001b[0m 12ms/step - loss: 7.6153e-05 - mean_absolute_error: 0.0067 - val_loss: 0.0087 - val_mean_absolute_error: 0.0801\n",
      "Epoch 19/100\n",
      "\u001b[1m562/562\u001b[0m \u001b[32m━━━━━━━━━━━━━━━━━━━━\u001b[0m\u001b[37m\u001b[0m \u001b[1m7s\u001b[0m 12ms/step - loss: 6.6726e-05 - mean_absolute_error: 0.0063 - val_loss: 0.0070 - val_mean_absolute_error: 0.0694\n",
      "Epoch 20/100\n",
      "\u001b[1m562/562\u001b[0m \u001b[32m━━━━━━━━━━━━━━━━━━━━\u001b[0m\u001b[37m\u001b[0m \u001b[1m7s\u001b[0m 12ms/step - loss: 7.0194e-05 - mean_absolute_error: 0.0064 - val_loss: 0.0074 - val_mean_absolute_error: 0.0721\n",
      "Epoch 21/100\n",
      "\u001b[1m562/562\u001b[0m \u001b[32m━━━━━━━━━━━━━━━━━━━━\u001b[0m\u001b[37m\u001b[0m \u001b[1m7s\u001b[0m 12ms/step - loss: 6.5278e-05 - mean_absolute_error: 0.0062 - val_loss: 0.0081 - val_mean_absolute_error: 0.0753\n",
      "Epoch 22/100\n",
      "\u001b[1m562/562\u001b[0m \u001b[32m━━━━━━━━━━━━━━━━━━━━\u001b[0m\u001b[37m\u001b[0m \u001b[1m7s\u001b[0m 13ms/step - loss: 5.6452e-05 - mean_absolute_error: 0.0058 - val_loss: 0.0071 - val_mean_absolute_error: 0.0685\n",
      "Epoch 23/100\n",
      "\u001b[1m562/562\u001b[0m \u001b[32m━━━━━━━━━━━━━━━━━━━━\u001b[0m\u001b[37m\u001b[0m \u001b[1m7s\u001b[0m 13ms/step - loss: 5.7121e-05 - mean_absolute_error: 0.0057 - val_loss: 0.0074 - val_mean_absolute_error: 0.0704\n",
      "Epoch 24/100\n",
      "\u001b[1m562/562\u001b[0m \u001b[32m━━━━━━━━━━━━━━━━━━━━\u001b[0m\u001b[37m\u001b[0m \u001b[1m7s\u001b[0m 13ms/step - loss: 5.0587e-05 - mean_absolute_error: 0.0054 - val_loss: 0.0068 - val_mean_absolute_error: 0.0684\n",
      "Epoch 25/100\n",
      "\u001b[1m562/562\u001b[0m \u001b[32m━━━━━━━━━━━━━━━━━━━━\u001b[0m\u001b[37m\u001b[0m \u001b[1m7s\u001b[0m 13ms/step - loss: 5.1521e-05 - mean_absolute_error: 0.0055 - val_loss: 0.0077 - val_mean_absolute_error: 0.0725\n",
      "Epoch 26/100\n",
      "\u001b[1m562/562\u001b[0m \u001b[32m━━━━━━━━━━━━━━━━━━━━\u001b[0m\u001b[37m\u001b[0m \u001b[1m6s\u001b[0m 11ms/step - loss: 5.3356e-05 - mean_absolute_error: 0.0056 - val_loss: 0.0071 - val_mean_absolute_error: 0.0698\n",
      "Epoch 27/100\n",
      "\u001b[1m562/562\u001b[0m \u001b[32m━━━━━━━━━━━━━━━━━━━━\u001b[0m\u001b[37m\u001b[0m \u001b[1m7s\u001b[0m 12ms/step - loss: 5.3606e-05 - mean_absolute_error: 0.0055 - val_loss: 0.0083 - val_mean_absolute_error: 0.0760\n",
      "Epoch 28/100\n",
      "\u001b[1m562/562\u001b[0m \u001b[32m━━━━━━━━━━━━━━━━━━━━\u001b[0m\u001b[37m\u001b[0m \u001b[1m7s\u001b[0m 12ms/step - loss: 4.8529e-05 - mean_absolute_error: 0.0053 - val_loss: 0.0084 - val_mean_absolute_error: 0.0776\n",
      "Epoch 29/100\n",
      "\u001b[1m562/562\u001b[0m \u001b[32m━━━━━━━━━━━━━━━━━━━━\u001b[0m\u001b[37m\u001b[0m \u001b[1m7s\u001b[0m 12ms/step - loss: 5.2204e-05 - mean_absolute_error: 0.0055 - val_loss: 0.0091 - val_mean_absolute_error: 0.0805\n",
      "Epoch 30/100\n",
      "\u001b[1m562/562\u001b[0m \u001b[32m━━━━━━━━━━━━━━━━━━━━\u001b[0m\u001b[37m\u001b[0m \u001b[1m6s\u001b[0m 11ms/step - loss: 4.4123e-05 - mean_absolute_error: 0.0050 - val_loss: 0.0077 - val_mean_absolute_error: 0.0735\n",
      "Epoch 31/100\n",
      "\u001b[1m562/562\u001b[0m \u001b[32m━━━━━━━━━━━━━━━━━━━━\u001b[0m\u001b[37m\u001b[0m \u001b[1m6s\u001b[0m 12ms/step - loss: 4.5999e-05 - mean_absolute_error: 0.0051 - val_loss: 0.0086 - val_mean_absolute_error: 0.0783\n",
      "Epoch 32/100\n",
      "\u001b[1m562/562\u001b[0m \u001b[32m━━━━━━━━━━━━━━━━━━━━\u001b[0m\u001b[37m\u001b[0m \u001b[1m6s\u001b[0m 12ms/step - loss: 4.7120e-05 - mean_absolute_error: 0.0053 - val_loss: 0.0081 - val_mean_absolute_error: 0.0755\n",
      "Epoch 33/100\n",
      "\u001b[1m562/562\u001b[0m \u001b[32m━━━━━━━━━━━━━━━━━━━━\u001b[0m\u001b[37m\u001b[0m \u001b[1m6s\u001b[0m 11ms/step - loss: 4.6511e-05 - mean_absolute_error: 0.0052 - val_loss: 0.0087 - val_mean_absolute_error: 0.0792\n",
      "Epoch 34/100\n",
      "\u001b[1m562/562\u001b[0m \u001b[32m━━━━━━━━━━━━━━━━━━━━\u001b[0m\u001b[37m\u001b[0m \u001b[1m7s\u001b[0m 12ms/step - loss: 4.5500e-05 - mean_absolute_error: 0.0051 - val_loss: 0.0091 - val_mean_absolute_error: 0.0824\n",
      "Epoch 35/100\n",
      "\u001b[1m562/562\u001b[0m \u001b[32m━━━━━━━━━━━━━━━━━━━━\u001b[0m\u001b[37m\u001b[0m \u001b[1m6s\u001b[0m 12ms/step - loss: 3.9642e-05 - mean_absolute_error: 0.0048 - val_loss: 0.0083 - val_mean_absolute_error: 0.0784\n",
      "Epoch 36/100\n",
      "\u001b[1m562/562\u001b[0m \u001b[32m━━━━━━━━━━━━━━━━━━━━\u001b[0m\u001b[37m\u001b[0m \u001b[1m7s\u001b[0m 12ms/step - loss: 3.9916e-05 - mean_absolute_error: 0.0048 - val_loss: 0.0083 - val_mean_absolute_error: 0.0784\n",
      "Epoch 37/100\n",
      "\u001b[1m562/562\u001b[0m \u001b[32m━━━━━━━━━━━━━━━━━━━━\u001b[0m\u001b[37m\u001b[0m \u001b[1m7s\u001b[0m 12ms/step - loss: 3.8523e-05 - mean_absolute_error: 0.0047 - val_loss: 0.0087 - val_mean_absolute_error: 0.0803\n",
      "Epoch 38/100\n",
      "\u001b[1m562/562\u001b[0m \u001b[32m━━━━━━━━━━━━━━━━━━━━\u001b[0m\u001b[37m\u001b[0m \u001b[1m7s\u001b[0m 12ms/step - loss: 3.7703e-05 - mean_absolute_error: 0.0047 - val_loss: 0.0106 - val_mean_absolute_error: 0.0907\n",
      "Epoch 39/100\n",
      "\u001b[1m562/562\u001b[0m \u001b[32m━━━━━━━━━━━━━━━━━━━━\u001b[0m\u001b[37m\u001b[0m \u001b[1m7s\u001b[0m 12ms/step - loss: 4.3225e-05 - mean_absolute_error: 0.0051 - val_loss: 0.0092 - val_mean_absolute_error: 0.0833\n",
      "Epoch 40/100\n",
      "\u001b[1m562/562\u001b[0m \u001b[32m━━━━━━━━━━━━━━━━━━━━\u001b[0m\u001b[37m\u001b[0m \u001b[1m7s\u001b[0m 12ms/step - loss: 3.8948e-05 - mean_absolute_error: 0.0047 - val_loss: 0.0096 - val_mean_absolute_error: 0.0856\n",
      "Epoch 41/100\n",
      "\u001b[1m562/562\u001b[0m \u001b[32m━━━━━━━━━━━━━━━━━━━━\u001b[0m\u001b[37m\u001b[0m \u001b[1m7s\u001b[0m 12ms/step - loss: 3.6830e-05 - mean_absolute_error: 0.0046 - val_loss: 0.0093 - val_mean_absolute_error: 0.0839\n",
      "Epoch 42/100\n",
      "\u001b[1m562/562\u001b[0m \u001b[32m━━━━━━━━━━━━━━━━━━━━\u001b[0m\u001b[37m\u001b[0m \u001b[1m7s\u001b[0m 12ms/step - loss: 3.9879e-05 - mean_absolute_error: 0.0047 - val_loss: 0.0092 - val_mean_absolute_error: 0.0833\n",
      "Epoch 43/100\n",
      "\u001b[1m562/562\u001b[0m \u001b[32m━━━━━━━━━━━━━━━━━━━━\u001b[0m\u001b[37m\u001b[0m \u001b[1m7s\u001b[0m 12ms/step - loss: 3.5403e-05 - mean_absolute_error: 0.0045 - val_loss: 0.0097 - val_mean_absolute_error: 0.0860\n"
     ]
    },
    {
     "name": "stdout",
     "output_type": "stream",
     "text": [
      "Epoch 44/100\n",
      "\u001b[1m562/562\u001b[0m \u001b[32m━━━━━━━━━━━━━━━━━━━━\u001b[0m\u001b[37m\u001b[0m \u001b[1m7s\u001b[0m 12ms/step - loss: 3.4538e-05 - mean_absolute_error: 0.0045 - val_loss: 0.0096 - val_mean_absolute_error: 0.0850\n",
      "Epoch 45/100\n",
      "\u001b[1m562/562\u001b[0m \u001b[32m━━━━━━━━━━━━━━━━━━━━\u001b[0m\u001b[37m\u001b[0m \u001b[1m7s\u001b[0m 12ms/step - loss: 3.7227e-05 - mean_absolute_error: 0.0046 - val_loss: 0.0094 - val_mean_absolute_error: 0.0845\n",
      "Epoch 46/100\n",
      "\u001b[1m562/562\u001b[0m \u001b[32m━━━━━━━━━━━━━━━━━━━━\u001b[0m\u001b[37m\u001b[0m \u001b[1m7s\u001b[0m 12ms/step - loss: 3.6871e-05 - mean_absolute_error: 0.0046 - val_loss: 0.0103 - val_mean_absolute_error: 0.0891\n",
      "Epoch 47/100\n",
      "\u001b[1m562/562\u001b[0m \u001b[32m━━━━━━━━━━━━━━━━━━━━\u001b[0m\u001b[37m\u001b[0m \u001b[1m7s\u001b[0m 12ms/step - loss: 3.3428e-05 - mean_absolute_error: 0.0044 - val_loss: 0.0095 - val_mean_absolute_error: 0.0857\n",
      "Epoch 48/100\n",
      "\u001b[1m562/562\u001b[0m \u001b[32m━━━━━━━━━━━━━━━━━━━━\u001b[0m\u001b[37m\u001b[0m \u001b[1m7s\u001b[0m 12ms/step - loss: 3.5978e-05 - mean_absolute_error: 0.0046 - val_loss: 0.0097 - val_mean_absolute_error: 0.0865\n",
      "Epoch 49/100\n",
      "\u001b[1m562/562\u001b[0m \u001b[32m━━━━━━━━━━━━━━━━━━━━\u001b[0m\u001b[37m\u001b[0m \u001b[1m7s\u001b[0m 12ms/step - loss: 3.7447e-05 - mean_absolute_error: 0.0046 - val_loss: 0.0104 - val_mean_absolute_error: 0.0900\n",
      "Epoch 50/100\n",
      "\u001b[1m562/562\u001b[0m \u001b[32m━━━━━━━━━━━━━━━━━━━━\u001b[0m\u001b[37m\u001b[0m \u001b[1m7s\u001b[0m 12ms/step - loss: 3.2811e-05 - mean_absolute_error: 0.0044 - val_loss: 0.0097 - val_mean_absolute_error: 0.0864\n",
      "Epoch 51/100\n",
      "\u001b[1m562/562\u001b[0m \u001b[32m━━━━━━━━━━━━━━━━━━━━\u001b[0m\u001b[37m\u001b[0m \u001b[1m7s\u001b[0m 12ms/step - loss: 3.8282e-05 - mean_absolute_error: 0.0047 - val_loss: 0.0105 - val_mean_absolute_error: 0.0902\n",
      "Epoch 52/100\n",
      "\u001b[1m562/562\u001b[0m \u001b[32m━━━━━━━━━━━━━━━━━━━━\u001b[0m\u001b[37m\u001b[0m \u001b[1m7s\u001b[0m 12ms/step - loss: 3.0125e-05 - mean_absolute_error: 0.0042 - val_loss: 0.0111 - val_mean_absolute_error: 0.0933\n",
      "Epoch 53/100\n",
      "\u001b[1m562/562\u001b[0m \u001b[32m━━━━━━━━━━━━━━━━━━━━\u001b[0m\u001b[37m\u001b[0m \u001b[1m7s\u001b[0m 12ms/step - loss: 3.3856e-05 - mean_absolute_error: 0.0044 - val_loss: 0.0105 - val_mean_absolute_error: 0.0905\n",
      "Epoch 54/100\n",
      "\u001b[1m562/562\u001b[0m \u001b[32m━━━━━━━━━━━━━━━━━━━━\u001b[0m\u001b[37m\u001b[0m \u001b[1m7s\u001b[0m 12ms/step - loss: 3.2599e-05 - mean_absolute_error: 0.0043 - val_loss: 0.0100 - val_mean_absolute_error: 0.0882\n",
      "Epoch 55/100\n",
      "\u001b[1m562/562\u001b[0m \u001b[32m━━━━━━━━━━━━━━━━━━━━\u001b[0m\u001b[37m\u001b[0m \u001b[1m7s\u001b[0m 12ms/step - loss: 3.4287e-05 - mean_absolute_error: 0.0045 - val_loss: 0.0113 - val_mean_absolute_error: 0.0945\n",
      "Epoch 56/100\n",
      "\u001b[1m562/562\u001b[0m \u001b[32m━━━━━━━━━━━━━━━━━━━━\u001b[0m\u001b[37m\u001b[0m \u001b[1m7s\u001b[0m 12ms/step - loss: 3.3267e-05 - mean_absolute_error: 0.0044 - val_loss: 0.0111 - val_mean_absolute_error: 0.0936\n",
      "Epoch 57/100\n",
      "\u001b[1m562/562\u001b[0m \u001b[32m━━━━━━━━━━━━━━━━━━━━\u001b[0m\u001b[37m\u001b[0m \u001b[1m7s\u001b[0m 12ms/step - loss: 2.9841e-05 - mean_absolute_error: 0.0041 - val_loss: 0.0118 - val_mean_absolute_error: 0.0969\n",
      "Epoch 58/100\n",
      "\u001b[1m562/562\u001b[0m \u001b[32m━━━━━━━━━━━━━━━━━━━━\u001b[0m\u001b[37m\u001b[0m \u001b[1m7s\u001b[0m 12ms/step - loss: 3.2281e-05 - mean_absolute_error: 0.0043 - val_loss: 0.0110 - val_mean_absolute_error: 0.0932\n",
      "Epoch 59/100\n",
      "\u001b[1m562/562\u001b[0m \u001b[32m━━━━━━━━━━━━━━━━━━━━\u001b[0m\u001b[37m\u001b[0m \u001b[1m7s\u001b[0m 12ms/step - loss: 3.2574e-05 - mean_absolute_error: 0.0043 - val_loss: 0.0109 - val_mean_absolute_error: 0.0925\n",
      "Epoch 60/100\n",
      "\u001b[1m562/562\u001b[0m \u001b[32m━━━━━━━━━━━━━━━━━━━━\u001b[0m\u001b[37m\u001b[0m \u001b[1m7s\u001b[0m 12ms/step - loss: 3.0039e-05 - mean_absolute_error: 0.0041 - val_loss: 0.0110 - val_mean_absolute_error: 0.0928\n",
      "Epoch 61/100\n",
      "\u001b[1m562/562\u001b[0m \u001b[32m━━━━━━━━━━━━━━━━━━━━\u001b[0m\u001b[37m\u001b[0m \u001b[1m7s\u001b[0m 12ms/step - loss: 6.3523e-05 - mean_absolute_error: 0.0056 - val_loss: 0.0111 - val_mean_absolute_error: 0.0931\n",
      "Epoch 62/100\n",
      "\u001b[1m562/562\u001b[0m \u001b[32m━━━━━━━━━━━━━━━━━━━━\u001b[0m\u001b[37m\u001b[0m \u001b[1m7s\u001b[0m 12ms/step - loss: 3.2138e-05 - mean_absolute_error: 0.0043 - val_loss: 0.0111 - val_mean_absolute_error: 0.0935\n",
      "Epoch 63/100\n",
      "\u001b[1m562/562\u001b[0m \u001b[32m━━━━━━━━━━━━━━━━━━━━\u001b[0m\u001b[37m\u001b[0m \u001b[1m7s\u001b[0m 12ms/step - loss: 3.0486e-05 - mean_absolute_error: 0.0042 - val_loss: 0.0110 - val_mean_absolute_error: 0.0930\n",
      "Epoch 64/100\n",
      "\u001b[1m562/562\u001b[0m \u001b[32m━━━━━━━━━━━━━━━━━━━━\u001b[0m\u001b[37m\u001b[0m \u001b[1m7s\u001b[0m 12ms/step - loss: 2.9274e-05 - mean_absolute_error: 0.0041 - val_loss: 0.0111 - val_mean_absolute_error: 0.0941\n",
      "Epoch 65/100\n",
      "\u001b[1m562/562\u001b[0m \u001b[32m━━━━━━━━━━━━━━━━━━━━\u001b[0m\u001b[37m\u001b[0m \u001b[1m7s\u001b[0m 12ms/step - loss: 2.8638e-05 - mean_absolute_error: 0.0040 - val_loss: 0.0116 - val_mean_absolute_error: 0.0963\n",
      "Epoch 66/100\n",
      "\u001b[1m562/562\u001b[0m \u001b[32m━━━━━━━━━━━━━━━━━━━━\u001b[0m\u001b[37m\u001b[0m \u001b[1m7s\u001b[0m 12ms/step - loss: 2.8399e-05 - mean_absolute_error: 0.0041 - val_loss: 0.0113 - val_mean_absolute_error: 0.0951\n",
      "Epoch 67/100\n",
      "\u001b[1m562/562\u001b[0m \u001b[32m━━━━━━━━━━━━━━━━━━━━\u001b[0m\u001b[37m\u001b[0m \u001b[1m7s\u001b[0m 12ms/step - loss: 2.8012e-05 - mean_absolute_error: 0.0040 - val_loss: 0.0108 - val_mean_absolute_error: 0.0924\n",
      "Epoch 68/100\n",
      "\u001b[1m562/562\u001b[0m \u001b[32m━━━━━━━━━━━━━━━━━━━━\u001b[0m\u001b[37m\u001b[0m \u001b[1m7s\u001b[0m 12ms/step - loss: 2.8046e-05 - mean_absolute_error: 0.0040 - val_loss: 0.0108 - val_mean_absolute_error: 0.0929\n",
      "Epoch 69/100\n",
      "\u001b[1m562/562\u001b[0m \u001b[32m━━━━━━━━━━━━━━━━━━━━\u001b[0m\u001b[37m\u001b[0m \u001b[1m7s\u001b[0m 12ms/step - loss: 2.8825e-05 - mean_absolute_error: 0.0041 - val_loss: 0.0119 - val_mean_absolute_error: 0.0983\n",
      "Epoch 70/100\n",
      "\u001b[1m562/562\u001b[0m \u001b[32m━━━━━━━━━━━━━━━━━━━━\u001b[0m\u001b[37m\u001b[0m \u001b[1m7s\u001b[0m 12ms/step - loss: 2.8170e-05 - mean_absolute_error: 0.0040 - val_loss: 0.0114 - val_mean_absolute_error: 0.0957\n",
      "Epoch 71/100\n",
      "\u001b[1m562/562\u001b[0m \u001b[32m━━━━━━━━━━━━━━━━━━━━\u001b[0m\u001b[37m\u001b[0m \u001b[1m7s\u001b[0m 12ms/step - loss: 2.8028e-05 - mean_absolute_error: 0.0040 - val_loss: 0.0117 - val_mean_absolute_error: 0.0974\n",
      "Epoch 72/100\n",
      "\u001b[1m562/562\u001b[0m \u001b[32m━━━━━━━━━━━━━━━━━━━━\u001b[0m\u001b[37m\u001b[0m \u001b[1m7s\u001b[0m 12ms/step - loss: 2.6325e-05 - mean_absolute_error: 0.0039 - val_loss: 0.0117 - val_mean_absolute_error: 0.0979\n",
      "Epoch 73/100\n",
      "\u001b[1m562/562\u001b[0m \u001b[32m━━━━━━━━━━━━━━━━━━━━\u001b[0m\u001b[37m\u001b[0m \u001b[1m7s\u001b[0m 12ms/step - loss: 2.8050e-05 - mean_absolute_error: 0.0040 - val_loss: 0.0115 - val_mean_absolute_error: 0.0962\n",
      "Epoch 74/100\n",
      "\u001b[1m562/562\u001b[0m \u001b[32m━━━━━━━━━━━━━━━━━━━━\u001b[0m\u001b[37m\u001b[0m \u001b[1m7s\u001b[0m 12ms/step - loss: 2.6272e-05 - mean_absolute_error: 0.0039 - val_loss: 0.0114 - val_mean_absolute_error: 0.0957\n",
      "Epoch 75/100\n",
      "\u001b[1m562/562\u001b[0m \u001b[32m━━━━━━━━━━━━━━━━━━━━\u001b[0m\u001b[37m\u001b[0m \u001b[1m7s\u001b[0m 12ms/step - loss: 2.7401e-05 - mean_absolute_error: 0.0039 - val_loss: 0.0119 - val_mean_absolute_error: 0.0982\n",
      "Epoch 76/100\n",
      "\u001b[1m562/562\u001b[0m \u001b[32m━━━━━━━━━━━━━━━━━━━━\u001b[0m\u001b[37m\u001b[0m \u001b[1m7s\u001b[0m 12ms/step - loss: 2.5409e-05 - mean_absolute_error: 0.0038 - val_loss: 0.0121 - val_mean_absolute_error: 0.0990\n",
      "Epoch 77/100\n",
      "\u001b[1m562/562\u001b[0m \u001b[32m━━━━━━━━━━━━━━━━━━━━\u001b[0m\u001b[37m\u001b[0m \u001b[1m7s\u001b[0m 12ms/step - loss: 2.5031e-05 - mean_absolute_error: 0.0038 - val_loss: 0.0117 - val_mean_absolute_error: 0.0976\n",
      "Epoch 78/100\n",
      "\u001b[1m562/562\u001b[0m \u001b[32m━━━━━━━━━━━━━━━━━━━━\u001b[0m\u001b[37m\u001b[0m \u001b[1m7s\u001b[0m 12ms/step - loss: 2.5822e-05 - mean_absolute_error: 0.0038 - val_loss: 0.0125 - val_mean_absolute_error: 0.1016\n",
      "Epoch 79/100\n",
      "\u001b[1m562/562\u001b[0m \u001b[32m━━━━━━━━━━━━━━━━━━━━\u001b[0m\u001b[37m\u001b[0m \u001b[1m7s\u001b[0m 12ms/step - loss: 2.6373e-05 - mean_absolute_error: 0.0039 - val_loss: 0.0126 - val_mean_absolute_error: 0.1021\n",
      "Epoch 80/100\n",
      "\u001b[1m562/562\u001b[0m \u001b[32m━━━━━━━━━━━━━━━━━━━━\u001b[0m\u001b[37m\u001b[0m \u001b[1m7s\u001b[0m 12ms/step - loss: 2.5302e-05 - mean_absolute_error: 0.0038 - val_loss: 0.0118 - val_mean_absolute_error: 0.0971\n",
      "Epoch 81/100\n",
      "\u001b[1m562/562\u001b[0m \u001b[32m━━━━━━━━━━━━━━━━━━━━\u001b[0m\u001b[37m\u001b[0m \u001b[1m7s\u001b[0m 12ms/step - loss: 2.4167e-05 - mean_absolute_error: 0.0037 - val_loss: 0.0124 - val_mean_absolute_error: 0.1002\n",
      "Epoch 82/100\n",
      "\u001b[1m562/562\u001b[0m \u001b[32m━━━━━━━━━━━━━━━━━━━━\u001b[0m\u001b[37m\u001b[0m \u001b[1m7s\u001b[0m 12ms/step - loss: 2.3523e-05 - mean_absolute_error: 0.0036 - val_loss: 0.0123 - val_mean_absolute_error: 0.0999\n",
      "Epoch 83/100\n",
      "\u001b[1m562/562\u001b[0m \u001b[32m━━━━━━━━━━━━━━━━━━━━\u001b[0m\u001b[37m\u001b[0m \u001b[1m7s\u001b[0m 13ms/step - loss: 2.4800e-05 - mean_absolute_error: 0.0038 - val_loss: 0.0124 - val_mean_absolute_error: 0.1012\n",
      "Epoch 84/100\n",
      "\u001b[1m562/562\u001b[0m \u001b[32m━━━━━━━━━━━━━━━━━━━━\u001b[0m\u001b[37m\u001b[0m \u001b[1m7s\u001b[0m 12ms/step - loss: 2.4070e-05 - mean_absolute_error: 0.0037 - val_loss: 0.0128 - val_mean_absolute_error: 0.1025\n",
      "Epoch 85/100\n",
      "\u001b[1m562/562\u001b[0m \u001b[32m━━━━━━━━━━━━━━━━━━━━\u001b[0m\u001b[37m\u001b[0m \u001b[1m7s\u001b[0m 13ms/step - loss: 2.2590e-05 - mean_absolute_error: 0.0036 - val_loss: 0.0121 - val_mean_absolute_error: 0.0995\n",
      "Epoch 86/100\n",
      "\u001b[1m562/562\u001b[0m \u001b[32m━━━━━━━━━━━━━━━━━━━━\u001b[0m\u001b[37m\u001b[0m \u001b[1m7s\u001b[0m 12ms/step - loss: 2.3750e-05 - mean_absolute_error: 0.0037 - val_loss: 0.0132 - val_mean_absolute_error: 0.1054\n"
     ]
    },
    {
     "name": "stdout",
     "output_type": "stream",
     "text": [
      "Epoch 87/100\n",
      "\u001b[1m562/562\u001b[0m \u001b[32m━━━━━━━━━━━━━━━━━━━━\u001b[0m\u001b[37m\u001b[0m \u001b[1m7s\u001b[0m 12ms/step - loss: 2.3352e-05 - mean_absolute_error: 0.0036 - val_loss: 0.0128 - val_mean_absolute_error: 0.1030\n",
      "Epoch 88/100\n",
      "\u001b[1m562/562\u001b[0m \u001b[32m━━━━━━━━━━━━━━━━━━━━\u001b[0m\u001b[37m\u001b[0m \u001b[1m7s\u001b[0m 12ms/step - loss: 2.2395e-05 - mean_absolute_error: 0.0035 - val_loss: 0.0133 - val_mean_absolute_error: 0.1052\n",
      "Epoch 89/100\n",
      "\u001b[1m562/562\u001b[0m \u001b[32m━━━━━━━━━━━━━━━━━━━━\u001b[0m\u001b[37m\u001b[0m \u001b[1m7s\u001b[0m 12ms/step - loss: 2.3556e-05 - mean_absolute_error: 0.0037 - val_loss: 0.0122 - val_mean_absolute_error: 0.1009\n",
      "Epoch 90/100\n",
      "\u001b[1m562/562\u001b[0m \u001b[32m━━━━━━━━━━━━━━━━━━━━\u001b[0m\u001b[37m\u001b[0m \u001b[1m7s\u001b[0m 12ms/step - loss: 2.3863e-05 - mean_absolute_error: 0.0036 - val_loss: 0.0123 - val_mean_absolute_error: 0.1012\n",
      "Epoch 91/100\n",
      "\u001b[1m562/562\u001b[0m \u001b[32m━━━━━━━━━━━━━━━━━━━━\u001b[0m\u001b[37m\u001b[0m \u001b[1m7s\u001b[0m 12ms/step - loss: 2.2612e-05 - mean_absolute_error: 0.0036 - val_loss: 0.0126 - val_mean_absolute_error: 0.1023\n",
      "Epoch 92/100\n",
      "\u001b[1m562/562\u001b[0m \u001b[32m━━━━━━━━━━━━━━━━━━━━\u001b[0m\u001b[37m\u001b[0m \u001b[1m7s\u001b[0m 13ms/step - loss: 2.1176e-05 - mean_absolute_error: 0.0035 - val_loss: 0.0128 - val_mean_absolute_error: 0.1032\n",
      "Epoch 93/100\n",
      "\u001b[1m562/562\u001b[0m \u001b[32m━━━━━━━━━━━━━━━━━━━━\u001b[0m\u001b[37m\u001b[0m \u001b[1m7s\u001b[0m 12ms/step - loss: 2.2415e-05 - mean_absolute_error: 0.0036 - val_loss: 0.0128 - val_mean_absolute_error: 0.1036\n",
      "Epoch 94/100\n",
      "\u001b[1m562/562\u001b[0m \u001b[32m━━━━━━━━━━━━━━━━━━━━\u001b[0m\u001b[37m\u001b[0m \u001b[1m7s\u001b[0m 12ms/step - loss: 2.1096e-05 - mean_absolute_error: 0.0035 - val_loss: 0.0131 - val_mean_absolute_error: 0.1053\n",
      "Epoch 95/100\n",
      "\u001b[1m562/562\u001b[0m \u001b[32m━━━━━━━━━━━━━━━━━━━━\u001b[0m\u001b[37m\u001b[0m \u001b[1m7s\u001b[0m 13ms/step - loss: 2.2415e-05 - mean_absolute_error: 0.0036 - val_loss: 0.0128 - val_mean_absolute_error: 0.1038\n",
      "Epoch 96/100\n",
      "\u001b[1m562/562\u001b[0m \u001b[32m━━━━━━━━━━━━━━━━━━━━\u001b[0m\u001b[37m\u001b[0m \u001b[1m7s\u001b[0m 12ms/step - loss: 1.9754e-05 - mean_absolute_error: 0.0033 - val_loss: 0.0125 - val_mean_absolute_error: 0.1008\n",
      "Epoch 97/100\n",
      "\u001b[1m562/562\u001b[0m \u001b[32m━━━━━━━━━━━━━━━━━━━━\u001b[0m\u001b[37m\u001b[0m \u001b[1m7s\u001b[0m 12ms/step - loss: 2.0870e-05 - mean_absolute_error: 0.0034 - val_loss: 0.0127 - val_mean_absolute_error: 0.1024\n",
      "Epoch 98/100\n",
      "\u001b[1m562/562\u001b[0m \u001b[32m━━━━━━━━━━━━━━━━━━━━\u001b[0m\u001b[37m\u001b[0m \u001b[1m7s\u001b[0m 13ms/step - loss: 2.1450e-05 - mean_absolute_error: 0.0035 - val_loss: 0.0133 - val_mean_absolute_error: 0.1059\n",
      "Epoch 99/100\n",
      "\u001b[1m562/562\u001b[0m \u001b[32m━━━━━━━━━━━━━━━━━━━━\u001b[0m\u001b[37m\u001b[0m \u001b[1m7s\u001b[0m 13ms/step - loss: 1.9965e-05 - mean_absolute_error: 0.0033 - val_loss: 0.0130 - val_mean_absolute_error: 0.1044\n",
      "Epoch 100/100\n",
      "\u001b[1m562/562\u001b[0m \u001b[32m━━━━━━━━━━━━━━━━━━━━\u001b[0m\u001b[37m\u001b[0m \u001b[1m7s\u001b[0m 13ms/step - loss: 2.0490e-05 - mean_absolute_error: 0.0034 - val_loss: 0.0123 - val_mean_absolute_error: 0.1009\n"
     ]
    },
    {
     "data": {
      "text/plain": [
       "<keras.src.callbacks.history.History at 0x79335a86ae00>"
      ]
     },
     "execution_count": 22,
     "metadata": {},
     "output_type": "execute_result"
    }
   ],
   "source": [
    "modeloAnidado = models.Sequential([\n",
    "    keras.layers.LSTM(64, return_sequences = True),\n",
    "    keras.layers.GRU(32,return_sequences = True),\n",
    "    keras.layers.LSTM(32, return_sequences = True),\n",
    "    keras.layers.Dense(1) # Capa densa (escoge correctamente su número de unidades)\n",
    "])\n",
    "\n",
    "modeloAnidado.compile(loss=losses.MeanSquaredError(),\n",
    "                  optimizer=optimizers.Adam(),\n",
    "                  metrics=[metrics.MeanAbsoluteError()])\n",
    "callback  = keras.callbacks.EarlyStopping(\n",
    "    monitor=\"loss\",\n",
    "    patience=10,\n",
    "    restore_best_weights=True\n",
    "    \n",
    ")\n",
    "\n",
    "\n",
    "modeloAnidado.fit(x_train,y_train,callbacks = callback,epochs = 100,validation_split=0.2)"
   ]
  },
  {
   "cell_type": "code",
   "execution_count": 23,
   "id": "ae0bbb18",
   "metadata": {},
   "outputs": [
    {
     "name": "stdout",
     "output_type": "stream",
     "text": [
      "\u001b[1m51/51\u001b[0m \u001b[32m━━━━━━━━━━━━━━━━━━━━\u001b[0m\u001b[37m\u001b[0m \u001b[1m0s\u001b[0m 2ms/step - loss: 0.0259 - mean_absolute_error: 0.1592\n"
     ]
    }
   ],
   "source": [
    "test_loss = modeloAnidado.evaluate(x_test, y_test)"
   ]
  },
  {
   "cell_type": "markdown",
   "id": "342b3506-bd52-4bee-b820-1a2bca4bc7bb",
   "metadata": {},
   "source": [
    "### 3.4. Transformer (No es necesario entrenarlo, sólo prepararlo para su uso)."
   ]
  },
  {
   "cell_type": "markdown",
   "id": "3834ce4b-430a-40c2-b4c4-5c865fb1c863",
   "metadata": {},
   "source": [
    "## 4. Evaluación del rendimiento del/los modelo/s frente a baselines."
   ]
  },
  {
   "cell_type": "markdown",
   "id": "3b4ee2b4-91c8-44d0-8a22-e1da94fc5438",
   "metadata": {},
   "source": [
    "### 4.1. Compara el rendimiento de tus modelos frente entre sí y con dos baselines sencillas (diseñados baselines similares para el problema binario):\n",
    " - Un modelo que prediga siempre el último valor de entrada recibido (6h antes del dato\n",
    "a predecir).\n",
    " - Un modelo que prediga la media de los valores de entrada recibidos."
   ]
  },
  {
   "cell_type": "markdown",
   "id": "76e2164c-7e45-4584-b207-4077adf45680",
   "metadata": {},
   "source": [
    "### 4.2. Identifica sesgos en tu modelo. Para ello, analiza las distribuciones de entrenamiento y test y las predicciones/errores de entrenamiento/test. Si identificas algún problema, adapta tu pipeline para intentar solventarlo."
   ]
  },
  {
   "cell_type": "markdown",
   "id": "fa90e60d-5d76-4eeb-87ff-b8126c6057d6",
   "metadata": {},
   "source": [
    "### 4.3. Busca dar respuesta a las preguntas, ¿por cuántos céntimos de dólar falla cada modelo? ¿Cuánto puedo esperar ganar con mi modelo durante el periodo de test, haciendo las operaciones de 1$?"
   ]
  },
  {
   "cell_type": "code",
   "execution_count": null,
   "id": "afb54393-63bc-44eb-80d4-1d21dc66be26",
   "metadata": {},
   "outputs": [],
   "source": []
  }
 ],
 "metadata": {
  "kernelspec": {
   "display_name": "Python 3 (ipykernel)",
   "language": "python",
   "name": "python3"
  },
  "language_info": {
   "codemirror_mode": {
    "name": "ipython",
    "version": 3
   },
   "file_extension": ".py",
   "mimetype": "text/x-python",
   "name": "python",
   "nbconvert_exporter": "python",
   "pygments_lexer": "ipython3",
   "version": "3.10.12"
  }
 },
 "nbformat": 4,
 "nbformat_minor": 5
}
