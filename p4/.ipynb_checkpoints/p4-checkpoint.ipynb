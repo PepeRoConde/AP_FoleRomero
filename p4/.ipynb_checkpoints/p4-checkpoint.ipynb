{
 "cells": [
  {
   "cell_type": "markdown",
   "id": "2332ad83-86cc-4e5a-a8db-2e45d33de9d8",
   "metadata": {},
   "source": [
    "# Práctica RNN \n",
    "## Hugo Fole Abellás y José Romero Conde"
   ]
  },
  {
   "cell_type": "markdown",
   "id": "c0b915c3-488c-491e-97d3-abb3394b5281",
   "metadata": {},
   "source": [
    "------"
   ]
  },
  {
   "cell_type": "markdown",
   "id": "5c340306-2ab4-4099-8724-5fe740e87b57",
   "metadata": {},
   "source": [
    "En esta práctica deberás desarrollar un modelo que sea capaz de predecir el precio del dólar en euros con\n",
    "6h de adelanto. Para ello, contarás con el fichero de datos UDC_EUR.json, disponible en el canal de Teams de\n",
    "la asignatura.\n",
    "\n",
    "La idea es hacer un modelo que te permita decidir cuándo comprar y cuándo vender dólares, para que puedas\n",
    "operar de la siguiente manera:\n",
    " - Si el modelo predice que el dólar bajará: vendo un dólar ahora y lo compro más barato dentro de 6h. La diferencia entre el precio de venta y el de compra es mi ganancia.\n",
    " - Si el modelo predice que el dólar subirá: compro un dólar ahora y lo vendo más caro dentro de 6h. La diferencia entre el precio de compra y el de venta es mi ganancia.\n",
    " - Puedes suministrarle al modelo los datos de entrada que estimes para cada predicción, siempre\n",
    "respetando que ninguno esté a menos de 6h del que intentas predecir.\n",
    "\n",
    "Debes respetar las siguientes restricciones:\n",
    "\n",
    " - No se deben utilizar datos posteriores a 31/08/2022 23:59:59 para entrenamiento. Los datos desde\n",
    "01/09/2022 00:00:00 en adelante se podrán utilizar como conjunto de test.\n",
    " - La predicción se deberá hacer a 6h vista, es decir, se deberá predecir el valor de salida 6 horas\n",
    "después del dato más reciente que se le proporcione al modelo. Se deberán predecir dos valores distintos:\n",
    "      - Valor de la variable \"precio fin\".\n",
    "      - Valor binario que indicará si \"precio fin\"6h después será mayor o menor que en el dato más\n",
    "reciente proporcionado a la entrada."
   ]
  },
  {
   "cell_type": "markdown",
   "id": "b000b1ab-8a2d-4d3a-b2b2-2866fb2b4279",
   "metadata": {},
   "source": [
    "----"
   ]
  },
  {
   "cell_type": "markdown",
   "id": "e2a6fef7-f56e-4dfb-ae7b-7fb620fb5555",
   "metadata": {},
   "source": [
    "## _Librerías_"
   ]
  },
  {
   "cell_type": "code",
   "execution_count": null,
   "id": "944ae39f-57a9-4bad-9b58-c32652f99a2d",
   "metadata": {},
   "outputs": [],
   "source": [
    "import pandas as pd # siguiendo la convención universal\n",
    "from matplotlib import pyplot as plt\n",
    "import numpy as np\n",
    "from scipy import stats"
   ]
  },
  {
   "cell_type": "markdown",
   "id": "653ab370-9494-490b-b34d-cc9bf73758bd",
   "metadata": {},
   "source": [
    "## 1. Carga y examina los datos"
   ]
  },
  {
   "cell_type": "markdown",
   "id": "3536fa3c-c437-433f-9c35-4fa13e428ad8",
   "metadata": {},
   "source": [
    "### 1.1. Carga los datos con Pandas y haz un examen preliminar de los mismos. Descarta aquellos que sean erróneos."
   ]
  },
  {
   "cell_type": "code",
   "execution_count": null,
   "id": "0c9fd1fe-7324-452c-b7ca-2234c7c941ed",
   "metadata": {},
   "outputs": [],
   "source": [
    "if 'USD_EUR.json' in os.listdir():\n",
    "    df = pd.read_json('USD_EUR.json') # usando df para seguir la convención"
   ]
  },
  {
   "cell_type": "code",
   "execution_count": null,
   "id": "3a853530-40e6-4624-8c1f-ff563919f835",
   "metadata": {
    "scrolled": true
   },
   "outputs": [],
   "source": [
    "df.describe() # les echamos un ojo"
   ]
  },
  {
   "cell_type": "markdown",
   "id": "1becacc1-1320-4916-9261-b8dc8b6f9b37",
   "metadata": {},
   "source": [
    "Vemos en el resumen superior que hay un valor muy alto en `precio mas alto`, constrastamos esta creencia ploteando."
   ]
  },
  {
   "cell_type": "code",
   "execution_count": null,
   "id": "9055774b-0ff4-44dc-9a73-59f5f14fb919",
   "metadata": {},
   "outputs": [],
   "source": [
    "plt.plot(df[[\"precio mas alto\"]]);"
   ]
  },
  {
   "cell_type": "markdown",
   "id": "c5fe3e0e-2e1c-4471-8a82-609687d070b0",
   "metadata": {},
   "source": [
    "Filtramos (solo las columnas numéricas) los valores que estén alejados a más de 3 sigmas de la media. Y vemos el resultado en que el plot anterior ahora es más correcto. (De todas formas, el plot solo muestra de una columna y se filtra en todas menos dos.)"
   ]
  },
  {
   "cell_type": "code",
   "execution_count": null,
   "id": "150a1d7f-eab1-4eed-a646-9bf28babacb9",
   "metadata": {},
   "outputs": [],
   "source": [
    "columnasFiltrar = ['precio inicio', 'precio mas alto', 'precio mas bajo', 'precio fin', 'volumen', 'volumen en cuotas', 'volumen en cuotas', 'numero de compras', 'volumen de dolares', 'volumen de euros']\n",
    "\n",
    "df = df[(np.abs(stats.zscore(df[columnasFiltrar])) < 3).all(axis=1)]"
   ]
  },
  {
   "cell_type": "code",
   "execution_count": null,
   "id": "4996b422-7812-4f6e-922a-bf413ceb4bd5",
   "metadata": {},
   "outputs": [],
   "source": [
    "plt.plot(df[[\"precio mas alto\"]]);"
   ]
  },
  {
   "cell_type": "markdown",
   "id": "4a699055-b731-4186-81ce-a8bf62451468",
   "metadata": {},
   "source": [
    "### 1.2. Haz la partición entre conjunto de entrenamiento y conjunto de test."
   ]
  },
  {
   "cell_type": "code",
   "execution_count": null,
   "id": "44c11e4c-dcf8-4d4e-9991-d708afe44a38",
   "metadata": {},
   "outputs": [],
   "source": [
    "instanteSeparacion = pd.to_datetime(\"31/08/2022 23:59:59\", dayfirst=True)\n",
    "dfEntrenamiento = df[df['timestamp inicial'] <= instanteSeparacion] \n",
    "dfTest = df[df['timestamp inicial'] > instanteSeparacion] "
   ]
  },
  {
   "cell_type": "markdown",
   "id": "521f508d-3b6b-4a65-ac76-321a584b92ab",
   "metadata": {},
   "source": [
    "----"
   ]
  },
  {
   "cell_type": "markdown",
   "id": "3cba241f-f514-4e3a-920f-f0a2c859c700",
   "metadata": {},
   "source": [
    "## 2. Preprocesado"
   ]
  },
  {
   "cell_type": "markdown",
   "id": "18745ea9-42aa-4200-87d7-4bd7c8f1cb15",
   "metadata": {},
   "source": [
    "### 2.1. Representa las variables en un formato que facilite el aprendizaje. Para ello estandariza aquellas que lo necesiten y transforma las fechas a un formato adecuado."
   ]
  },
  {
   "cell_type": "markdown",
   "id": "0c48eb3f-2da7-45fe-bb8e-a89a63d9226f",
   "metadata": {},
   "source": [
    "### 2.2. Transforma los conjuntos de entrenamiento y test a NumPy."
   ]
  },
  {
   "cell_type": "markdown",
   "id": "59ced856-2743-45bf-aae3-47c83a910002",
   "metadata": {},
   "source": [
    "### 2.3. Utiliza la función sliding_window del Lab11 para ventanear la serie temporal para obtener un lote de muchos pares (vector de entrada, etiqueta) para entrenamiento y otro lote para test:\n",
    "- Haz que el tamaño de ventana sea configurable para poder probar varias alternativas.\n",
    "- Revisa la continuidad temporal de la serie para que las ventanas representen siempre el mismo\n",
    "periodo de tiempo. Descarta las ventanas incorrectas."
   ]
  },
  {
   "cell_type": "markdown",
   "id": "c5e4c905-bfb3-4dfe-ab8d-d4dd713c943a",
   "metadata": {},
   "source": [
    "----"
   ]
  },
  {
   "cell_type": "markdown",
   "id": "219e066a-1b1c-46c0-b906-ddb6cf38857f",
   "metadata": {},
   "source": [
    "## 3. Elección del/los modelo/s. Prueba con ventanas de distinto tamaño, y ajusta a los datos de entrenamiento a modelos con arquitecturas de tipo"
   ]
  },
  {
   "cell_type": "markdown",
   "id": "1869ac6b-4a7d-4651-8d79-dd0fc693a214",
   "metadata": {},
   "source": [
    "### 3.1 Totalmente conectado."
   ]
  },
  {
   "cell_type": "markdown",
   "id": "d4d9c8a6-4171-4aa5-b848-4f44d6da44e3",
   "metadata": {},
   "source": [
    "### 3.2 LSTM y GRU."
   ]
  },
  {
   "cell_type": "markdown",
   "id": "df90899d-b43c-4681-9469-9aa995399a91",
   "metadata": {},
   "source": [
    "### 3.3. LSTM y GRU anidados. Se requieren al menos dos capas."
   ]
  },
  {
   "cell_type": "markdown",
   "id": "342b3506-bd52-4bee-b820-1a2bca4bc7bb",
   "metadata": {},
   "source": [
    "### 3.4. Transformer (No es necesario entrenarlo, sólo prepararlo para su uso)."
   ]
  },
  {
   "cell_type": "markdown",
   "id": "3834ce4b-430a-40c2-b4c4-5c865fb1c863",
   "metadata": {},
   "source": [
    "## 4. Evaluación del rendimiento del/los modelo/s frente a baselines."
   ]
  },
  {
   "cell_type": "markdown",
   "id": "3b4ee2b4-91c8-44d0-8a22-e1da94fc5438",
   "metadata": {},
   "source": [
    "### 4.1. Compara el rendimiento de tus modelos frente entre sí y con dos baselines sencillas (diseñados baselines similares para el problema binario):\n",
    " - Un modelo que prediga siempre el último valor de entrada recibido (6h antes del dato\n",
    "a predecir).\n",
    " - Un modelo que prediga la media de los valores de entrada recibidos."
   ]
  },
  {
   "cell_type": "markdown",
   "id": "76e2164c-7e45-4584-b207-4077adf45680",
   "metadata": {},
   "source": [
    "### 4.2. Identifica sesgos en tu modelo. Para ello, analiza las distribuciones de entrenamiento y test y las predicciones/errores de entrenamiento/test. Si identificas algún problema, adapta tu pipeline para intentar solventarlo."
   ]
  },
  {
   "cell_type": "markdown",
   "id": "fa90e60d-5d76-4eeb-87ff-b8126c6057d6",
   "metadata": {},
   "source": [
    "### 4.3. Busca dar respuesta a las preguntas, ¿por cuántos céntimos de dólar falla cada modelo? ¿Cuánto puedo esperar ganar con mi modelo durante el periodo de test, haciendo las operaciones de 1$?"
   ]
  },
  {
   "cell_type": "code",
   "execution_count": null,
   "id": "afb54393-63bc-44eb-80d4-1d21dc66be26",
   "metadata": {},
   "outputs": [],
   "source": []
  }
 ],
 "metadata": {
  "kernelspec": {
   "display_name": "Ent_AP",
   "language": "python",
   "name": "ent_ap"
  },
  "language_info": {
   "codemirror_mode": {
    "name": "ipython",
    "version": 3
   },
   "file_extension": ".py",
   "mimetype": "text/x-python",
   "name": "python",
   "nbconvert_exporter": "python",
   "pygments_lexer": "ipython3",
   "version": "3.11.0"
  }
 },
 "nbformat": 4,
 "nbformat_minor": 5
}
