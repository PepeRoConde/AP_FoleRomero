{
 "cells": [
  {
   "cell_type": "markdown",
   "id": "2332ad83-86cc-4e5a-a8db-2e45d33de9d8",
   "metadata": {
    "id": "2332ad83-86cc-4e5a-a8db-2e45d33de9d8"
   },
   "source": [
    "# Práctica RNN\n",
    "## Hugo Fole Abellás y José Romero Conde"
   ]
  },
  {
   "cell_type": "markdown",
   "id": "c0b915c3-488c-491e-97d3-abb3394b5281",
   "metadata": {
    "id": "c0b915c3-488c-491e-97d3-abb3394b5281"
   },
   "source": [
    "------"
   ]
  },
  {
   "cell_type": "markdown",
   "id": "5c340306-2ab4-4099-8724-5fe740e87b57",
   "metadata": {
    "id": "5c340306-2ab4-4099-8724-5fe740e87b57"
   },
   "source": [
    "En esta práctica deberás desarrollar un modelo que sea capaz de predecir el precio del dólar en euros con\n",
    "6h de adelanto. Para ello, contarás con el fichero de datos UDC_EUR.json, disponible en el canal de Teams de\n",
    "la asignatura.\n",
    "\n",
    "La idea es hacer un modelo que te permita decidir cuándo comprar y cuándo vender dólares, para que puedas\n",
    "operar de la siguiente manera:\n",
    " - Si el modelo predice que el dólar bajará: vendo un dólar ahora y lo compro más barato dentro de 6h. La diferencia entre el precio de venta y el de compra es mi ganancia.\n",
    " - Si el modelo predice que el dólar subirá: compro un dólar ahora y lo vendo más caro dentro de 6h. La diferencia entre el precio de compra y el de venta es mi ganancia.\n",
    " - Puedes suministrarle al modelo los datos de entrada que estimes para cada predicción, siempre\n",
    "respetando que ninguno esté a menos de 6h del que intentas predecir.\n",
    "\n",
    "Debes respetar las siguientes restricciones:\n",
    "\n",
    " - No se deben utilizar datos posteriores a 31/08/2022 23:59:59 para entrenamiento. Los datos desde\n",
    "01/09/2022 00:00:00 en adelante se podrán utilizar como conjunto de test.\n",
    " - La predicción se deberá hacer a 6h vista, es decir, se deberá predecir el valor de salida 6 horas\n",
    "después del dato más reciente que se le proporcione al modelo. Se deberán predecir dos valores distintos:\n",
    "      - Valor de la variable \"precio fin\".\n",
    "      - Valor binario que indicará si \"precio fin\"6h después será mayor o menor que en el dato más\n",
    "reciente proporcionado a la entrada."
   ]
  },
  {
   "cell_type": "markdown",
   "id": "b000b1ab-8a2d-4d3a-b2b2-2866fb2b4279",
   "metadata": {
    "id": "b000b1ab-8a2d-4d3a-b2b2-2866fb2b4279"
   },
   "source": [
    "----"
   ]
  },
  {
   "cell_type": "markdown",
   "id": "e2a6fef7-f56e-4dfb-ae7b-7fb620fb5555",
   "metadata": {
    "id": "e2a6fef7-f56e-4dfb-ae7b-7fb620fb5555"
   },
   "source": [
    "## _Librerías_"
   ]
  },
  {
   "cell_type": "code",
   "execution_count": 3,
   "id": "944ae39f-57a9-4bad-9b58-c32652f99a2d",
   "metadata": {
    "id": "944ae39f-57a9-4bad-9b58-c32652f99a2d"
   },
   "outputs": [
    {
     "name": "stderr",
     "output_type": "stream",
     "text": [
      "/home/folengui/.local/lib/python3.10/site-packages/matplotlib/projections/__init__.py:63: UserWarning: Unable to import Axes3D. This may be due to multiple versions of Matplotlib being installed (e.g. as a system package and as a pip package). As a result, the 3D projection is not available.\n",
      "  warnings.warn(\"Unable to import Axes3D. This may be due to multiple versions of \"\n",
      "2024-12-20 23:25:04.347070: E external/local_xla/xla/stream_executor/cuda/cuda_fft.cc:477] Unable to register cuFFT factory: Attempting to register factory for plugin cuFFT when one has already been registered\n",
      "WARNING: All log messages before absl::InitializeLog() is called are written to STDERR\n",
      "E0000 00:00:1734733504.393873    7703 cuda_dnn.cc:8310] Unable to register cuDNN factory: Attempting to register factory for plugin cuDNN when one has already been registered\n",
      "E0000 00:00:1734733504.407266    7703 cuda_blas.cc:1418] Unable to register cuBLAS factory: Attempting to register factory for plugin cuBLAS when one has already been registered\n",
      "2024-12-20 23:25:04.519021: I tensorflow/core/platform/cpu_feature_guard.cc:210] This TensorFlow binary is optimized to use available CPU instructions in performance-critical operations.\n",
      "To enable the following instructions: AVX2 AVX512F AVX512_VNNI FMA, in other operations, rebuild TensorFlow with the appropriate compiler flags.\n"
     ]
    }
   ],
   "source": [
    "import pandas as pd # siguiendo la convención universal\n",
    "from matplotlib import pyplot as plt\n",
    "import numpy as np\n",
    "from scipy import stats\n",
    "import os\n",
    "import datetime\n",
    "from tensorflow.keras import layers, models,metrics, losses,optimizers\n",
    "from tensorflow import keras\n",
    "import seaborn as sns"
   ]
  },
  {
   "cell_type": "markdown",
   "id": "653ab370-9494-490b-b34d-cc9bf73758bd",
   "metadata": {
    "id": "653ab370-9494-490b-b34d-cc9bf73758bd"
   },
   "source": [
    "## 1. Carga y examina los datos"
   ]
  },
  {
   "cell_type": "markdown",
   "id": "3536fa3c-c437-433f-9c35-4fa13e428ad8",
   "metadata": {
    "id": "3536fa3c-c437-433f-9c35-4fa13e428ad8"
   },
   "source": [
    "### 1.1. Carga los datos con Pandas y haz un examen preliminar de los mismos. Descarta aquellos que sean erróneos."
   ]
  },
  {
   "cell_type": "markdown",
   "id": "925e5a5e-5059-4456-a2fb-4228bc73f015",
   "metadata": {},
   "source": [
    "Comenzaremos cargando los datos a memoria utilizando la librería **pandas** que nos permite crear un objeto `DataFrame` para almacenar organizadamente los datos."
   ]
  },
  {
   "cell_type": "code",
   "execution_count": 4,
   "id": "0c9fd1fe-7324-452c-b7ca-2234c7c941ed",
   "metadata": {
    "id": "0c9fd1fe-7324-452c-b7ca-2234c7c941ed"
   },
   "outputs": [],
   "source": [
    "if \"USD_EUR.json\" in os.listdir():\n",
    "    df = pd.read_json(\"USD_EUR.json\") # usando df para seguir la convención"
   ]
  },
  {
   "cell_type": "code",
   "execution_count": 5,
   "id": "3a853530-40e6-4624-8c1f-ff563919f835",
   "metadata": {
    "colab": {
     "base_uri": "https://localhost:8080/",
     "height": 442
    },
    "id": "3a853530-40e6-4624-8c1f-ff563919f835",
    "outputId": "13079e86-10b3-4f0e-80ba-46e0a105b929",
    "scrolled": true
   },
   "outputs": [
    {
     "data": {
      "text/html": [
       "<div>\n",
       "<style scoped>\n",
       "    .dataframe tbody tr th:only-of-type {\n",
       "        vertical-align: middle;\n",
       "    }\n",
       "\n",
       "    .dataframe tbody tr th {\n",
       "        vertical-align: top;\n",
       "    }\n",
       "\n",
       "    .dataframe thead th {\n",
       "        text-align: right;\n",
       "    }\n",
       "</style>\n",
       "<table border=\"1\" class=\"dataframe\">\n",
       "  <thead>\n",
       "    <tr style=\"text-align: right;\">\n",
       "      <th></th>\n",
       "      <th>timestamp inicial</th>\n",
       "      <th>precio inicio</th>\n",
       "      <th>precio mas alto</th>\n",
       "      <th>precio mas bajo</th>\n",
       "      <th>precio fin</th>\n",
       "      <th>volumen</th>\n",
       "      <th>timestamp final</th>\n",
       "      <th>volumen en cuotas</th>\n",
       "      <th>numero de compras</th>\n",
       "      <th>volumen de dolares</th>\n",
       "      <th>volumen de euros</th>\n",
       "    </tr>\n",
       "  </thead>\n",
       "  <tbody>\n",
       "    <tr>\n",
       "      <th>count</th>\n",
       "      <td>24970</td>\n",
       "      <td>24970.000000</td>\n",
       "      <td>24970.000000</td>\n",
       "      <td>24970.000000</td>\n",
       "      <td>24970.000000</td>\n",
       "      <td>2.497000e+04</td>\n",
       "      <td>24970</td>\n",
       "      <td>2.497000e+04</td>\n",
       "      <td>24970.000000</td>\n",
       "      <td>2.497000e+04</td>\n",
       "      <td>2.497000e+04</td>\n",
       "    </tr>\n",
       "    <tr>\n",
       "      <th>mean</th>\n",
       "      <td>2021-06-07 09:52:59.014818048</td>\n",
       "      <td>1.126497</td>\n",
       "      <td>1.127797</td>\n",
       "      <td>1.125329</td>\n",
       "      <td>1.126459</td>\n",
       "      <td>1.588138e+06</td>\n",
       "      <td>2021-06-07 10:52:58.645466880</td>\n",
       "      <td>1.831407e+06</td>\n",
       "      <td>3249.635603</td>\n",
       "      <td>7.412968e+05</td>\n",
       "      <td>8.552054e+05</td>\n",
       "    </tr>\n",
       "    <tr>\n",
       "      <th>min</th>\n",
       "      <td>2020-01-03 08:00:00</td>\n",
       "      <td>0.953600</td>\n",
       "      <td>0.955400</td>\n",
       "      <td>0.953500</td>\n",
       "      <td>0.953600</td>\n",
       "      <td>0.000000e+00</td>\n",
       "      <td>2020-01-03 08:59:59.999000</td>\n",
       "      <td>0.000000e+00</td>\n",
       "      <td>0.000000</td>\n",
       "      <td>0.000000e+00</td>\n",
       "      <td>0.000000e+00</td>\n",
       "    </tr>\n",
       "    <tr>\n",
       "      <th>25%</th>\n",
       "      <td>2020-09-19 22:15:00</td>\n",
       "      <td>1.080000</td>\n",
       "      <td>1.082000</td>\n",
       "      <td>1.078000</td>\n",
       "      <td>1.080000</td>\n",
       "      <td>7.440733e+04</td>\n",
       "      <td>2020-09-19 23:14:59.999000064</td>\n",
       "      <td>8.558465e+04</td>\n",
       "      <td>298.000000</td>\n",
       "      <td>3.189642e+04</td>\n",
       "      <td>3.638405e+04</td>\n",
       "    </tr>\n",
       "    <tr>\n",
       "      <th>50%</th>\n",
       "      <td>2021-06-07 13:30:00</td>\n",
       "      <td>1.133000</td>\n",
       "      <td>1.134000</td>\n",
       "      <td>1.132000</td>\n",
       "      <td>1.133000</td>\n",
       "      <td>7.911794e+05</td>\n",
       "      <td>2021-06-07 14:29:59.999000064</td>\n",
       "      <td>8.722955e+05</td>\n",
       "      <td>2046.000000</td>\n",
       "      <td>3.359175e+05</td>\n",
       "      <td>3.709915e+05</td>\n",
       "    </tr>\n",
       "    <tr>\n",
       "      <th>75%</th>\n",
       "      <td>2022-02-22 21:45:00</td>\n",
       "      <td>1.178800</td>\n",
       "      <td>1.179900</td>\n",
       "      <td>1.177700</td>\n",
       "      <td>1.178700</td>\n",
       "      <td>2.069755e+06</td>\n",
       "      <td>2022-02-22 22:44:59.999000064</td>\n",
       "      <td>2.302447e+06</td>\n",
       "      <td>4215.000000</td>\n",
       "      <td>9.509889e+05</td>\n",
       "      <td>1.063618e+06</td>\n",
       "    </tr>\n",
       "    <tr>\n",
       "      <th>max</th>\n",
       "      <td>2022-11-10 00:00:00</td>\n",
       "      <td>1.309800</td>\n",
       "      <td>4.950000</td>\n",
       "      <td>1.269500</td>\n",
       "      <td>1.309800</td>\n",
       "      <td>4.694843e+07</td>\n",
       "      <td>2022-11-10 00:59:59.999000</td>\n",
       "      <td>5.784383e+07</td>\n",
       "      <td>53917.000000</td>\n",
       "      <td>2.354437e+07</td>\n",
       "      <td>2.905002e+07</td>\n",
       "    </tr>\n",
       "    <tr>\n",
       "      <th>std</th>\n",
       "      <td>NaN</td>\n",
       "      <td>0.066949</td>\n",
       "      <td>0.071274</td>\n",
       "      <td>0.066925</td>\n",
       "      <td>0.066935</td>\n",
       "      <td>2.435379e+06</td>\n",
       "      <td>NaN</td>\n",
       "      <td>2.898230e+06</td>\n",
       "      <td>4291.602485</td>\n",
       "      <td>1.189478e+06</td>\n",
       "      <td>1.413589e+06</td>\n",
       "    </tr>\n",
       "  </tbody>\n",
       "</table>\n",
       "</div>"
      ],
      "text/plain": [
       "                   timestamp inicial  precio inicio  precio mas alto  \\\n",
       "count                          24970   24970.000000     24970.000000   \n",
       "mean   2021-06-07 09:52:59.014818048       1.126497         1.127797   \n",
       "min              2020-01-03 08:00:00       0.953600         0.955400   \n",
       "25%              2020-09-19 22:15:00       1.080000         1.082000   \n",
       "50%              2021-06-07 13:30:00       1.133000         1.134000   \n",
       "75%              2022-02-22 21:45:00       1.178800         1.179900   \n",
       "max              2022-11-10 00:00:00       1.309800         4.950000   \n",
       "std                              NaN       0.066949         0.071274   \n",
       "\n",
       "       precio mas bajo    precio fin       volumen  \\\n",
       "count     24970.000000  24970.000000  2.497000e+04   \n",
       "mean          1.125329      1.126459  1.588138e+06   \n",
       "min           0.953500      0.953600  0.000000e+00   \n",
       "25%           1.078000      1.080000  7.440733e+04   \n",
       "50%           1.132000      1.133000  7.911794e+05   \n",
       "75%           1.177700      1.178700  2.069755e+06   \n",
       "max           1.269500      1.309800  4.694843e+07   \n",
       "std           0.066925      0.066935  2.435379e+06   \n",
       "\n",
       "                     timestamp final  volumen en cuotas  numero de compras  \\\n",
       "count                          24970       2.497000e+04       24970.000000   \n",
       "mean   2021-06-07 10:52:58.645466880       1.831407e+06        3249.635603   \n",
       "min       2020-01-03 08:59:59.999000       0.000000e+00           0.000000   \n",
       "25%    2020-09-19 23:14:59.999000064       8.558465e+04         298.000000   \n",
       "50%    2021-06-07 14:29:59.999000064       8.722955e+05        2046.000000   \n",
       "75%    2022-02-22 22:44:59.999000064       2.302447e+06        4215.000000   \n",
       "max       2022-11-10 00:59:59.999000       5.784383e+07       53917.000000   \n",
       "std                              NaN       2.898230e+06        4291.602485   \n",
       "\n",
       "       volumen de dolares  volumen de euros  \n",
       "count        2.497000e+04      2.497000e+04  \n",
       "mean         7.412968e+05      8.552054e+05  \n",
       "min          0.000000e+00      0.000000e+00  \n",
       "25%          3.189642e+04      3.638405e+04  \n",
       "50%          3.359175e+05      3.709915e+05  \n",
       "75%          9.509889e+05      1.063618e+06  \n",
       "max          2.354437e+07      2.905002e+07  \n",
       "std          1.189478e+06      1.413589e+06  "
      ]
     },
     "execution_count": 5,
     "metadata": {},
     "output_type": "execute_result"
    }
   ],
   "source": [
    "df.describe() # les echamos un ojo"
   ]
  },
  {
   "cell_type": "markdown",
   "id": "1becacc1-1320-4916-9261-b8dc8b6f9b37",
   "metadata": {
    "id": "1becacc1-1320-4916-9261-b8dc8b6f9b37"
   },
   "source": [
    "Vemos en el resumen superior que hay un valor muy alto en `precio mas alto`, constrastamos esta creencia ploteando."
   ]
  },
  {
   "cell_type": "code",
   "execution_count": 6,
   "id": "9055774b-0ff4-44dc-9a73-59f5f14fb919",
   "metadata": {
    "colab": {
     "base_uri": "https://localhost:8080/",
     "height": 430
    },
    "id": "9055774b-0ff4-44dc-9a73-59f5f14fb919",
    "outputId": "73d0735e-a2cd-48b5-eb89-46a11ad87f91"
   },
   "outputs": [
    {
     "data": {
      "image/png": "[encoded data removed]",
      "text/plain": [
       "<Figure size 432x288 with 1 Axes>"
      ]
     },
     "metadata": {
      "needs_background": "light"
     },
     "output_type": "display_data"
    }
   ],
   "source": [
    "plt.plot(df[[\"precio mas alto\"]]);"
   ]
  },
  {
   "cell_type": "markdown",
   "id": "c5fe3e0e-2e1c-4471-8a82-609687d070b0",
   "metadata": {
    "id": "c5fe3e0e-2e1c-4471-8a82-609687d070b0"
   },
   "source": [
    "Filtramos (solo las columnas numéricas) los valores que estén alejados a más de 3 sigmas de la media. Y vemos el resultado en que el plot anterior ahora es más correcto. (De todas formas, el plot solo muestra de una columna y se filtra en todas menos dos.)"
   ]
  },
  {
   "cell_type": "code",
   "execution_count": 7,
   "id": "150a1d7f-eab1-4eed-a646-9bf28babacb9",
   "metadata": {
    "id": "150a1d7f-eab1-4eed-a646-9bf28babacb9"
   },
   "outputs": [],
   "source": [
    "columnasFiltrar = ['precio inicio', 'precio mas alto', 'precio mas bajo', 'precio fin', 'volumen', 'volumen en cuotas', 'volumen en cuotas', 'numero de compras', 'volumen de dolares', 'volumen de euros']\n",
    "\n",
    "df = df[(np.abs(stats.zscore(df[columnasFiltrar])) < 1.8).all(axis=1)]"
   ]
  },
  {
   "cell_type": "code",
   "execution_count": 8,
   "id": "4996b422-7812-4f6e-922a-bf413ceb4bd5",
   "metadata": {
    "colab": {
     "base_uri": "https://localhost:8080/",
     "height": 430
    },
    "id": "4996b422-7812-4f6e-922a-bf413ceb4bd5",
    "outputId": "30106665-05cb-4e4b-e7d2-f83084be6e97"
   },
   "outputs": [
    {
     "data": {
      "image/png": "[encoded data removed]",
      "text/plain": [
       "<Figure size 432x288 with 1 Axes>"
      ]
     },
     "metadata": {
      "needs_background": "light"
     },
     "output_type": "display_data"
    }
   ],
   "source": [
    "plt.plot(df[[\"precio mas alto\"]]);"
   ]
  },
  {
   "cell_type": "markdown",
   "id": "e75ab9a7",
   "metadata": {
    "id": "e75ab9a7"
   },
   "source": [
    "Vemos como cambian los datos con el tiempo."
   ]
  },
  {
   "cell_type": "code",
   "execution_count": 9,
   "id": "492a8e75",
   "metadata": {
    "colab": {
     "base_uri": "https://localhost:8080/",
     "height": 849
    },
    "id": "492a8e75",
    "outputId": "45774ba2-8c09-4a0a-e94d-6a2a60b8c537"
   },
   "outputs": [
    {
     "data": {
      "image/png": "[encoded data removed]",
      "text/plain": [
       "<Figure size 432x288 with 3 Axes>"
      ]
     },
     "metadata": {
      "needs_background": "light"
     },
     "output_type": "display_data"
    },
    {
     "data": {
      "image/png": "[encoded data removed]",
      "text/plain": [
       "<Figure size 432x288 with 3 Axes>"
      ]
     },
     "metadata": {
      "needs_background": "light"
     },
     "output_type": "display_data"
    }
   ],
   "source": [
    "plot_cols = ['precio inicio', 'precio fin', 'numero de compras']\n",
    "plot_features = df[plot_cols]\n",
    "plot_features.index = df['timestamp inicial']\n",
    "_ = plot_features.plot(subplots=True)\n",
    "\n",
    "plot_features = df[plot_cols][:]\n",
    "plot_features.index = df['timestamp inicial'][:]\n",
    "_ = plot_features.plot(subplots=True)"
   ]
  },
  {
   "cell_type": "markdown",
   "id": "L6hk06l7l-C9",
   "metadata": {
    "id": "L6hk06l7l-C9"
   },
   "source": [
    "Comprobaremos que los datos están recogidos de manera correcta, es decir, cada hora. Para ello iteraremos en un bucle que recorrerá la variable `timestamp inicial` para que compruebe si se están recogiendo los datos correctamente. \n",
    "\n",
    "El histograma que creamos nos muestra la distribución de la longitud de los intervalos sin datos, y se ve que la gran mayoría son de 2 horas, es decir, hay una hora en la que no se recogen datos."
   ]
  },
  {
   "cell_type": "code",
   "execution_count": 10,
   "id": "kY6msj4gbp8u",
   "metadata": {
    "colab": {
     "base_uri": "https://localhost:8080/"
    },
    "id": "kY6msj4gbp8u",
    "outputId": "1b74d9e6-e5f6-4117-926e-e6c6fd6e76ee",
    "scrolled": true
   },
   "outputs": [
    {
     "name": "stdout",
     "output_type": "stream",
     "text": [
      "[85, 880, 1129, 1458, 2697, 4231, 7952, 8463, 8515, 8542, 8751, 8753, 8757, 8758, 8812, 8815, 8830, 8833, 8834, 8888, 8899, 8908, 8913, 8988, 9006, 9118, 9121, 9137, 9138, 9141, 9146, 9147, 9280, 9303, 9306, 9308, 9309, 9330, 9355, 9356, 9367, 9386, 9392, 9395, 9414, 9418, 9427, 9428, 9431, 9440, 9456, 9464, 9466, 9467, 9473, 9474, 9475, 9482, 9488, 9494, 9495, 9498, 9500, 9507, 9514, 9526, 9533, 9537, 9538, 9545, 9555, 9564, 9572, 9576, 9577, 9582, 9590, 9591, 9592, 9601, 9607, 9616, 9617, 9626, 9627, 9628, 9633, 9634, 9636, 9646, 9654, 9662, 9668, 9672, 9682, 9697, 9700, 9701, 9715, 9716, 9717, 9719, 9731, 9734, 9746, 9757, 9809, 9811, 9819, 9828, 9838, 9845, 9851, 9852, 9864, 9866, 9867, 9875, 9878, 9884, 9894, 9895, 9904, 9915, 9925, 9926, 9927, 9950, 9960, 9967, 9968, 9978, 9980, 9987, 9998, 9999, 10018, 10021, 10047, 10059, 10063, 10064, 10077, 10086, 10095, 10101, 10105, 10106, 10107, 10108, 10116, 10129, 10134, 10140, 10147, 10154, 10163, 10170, 10171, 10183, 10192, 10201, 10207, 10214, 10215, 10217, 10219, 10225, 10228, 10229, 10230, 10234, 10235, 10238, 10240, 10241, 10242, 10274, 10287, 10295, 10310, 10311, 10313, 10324, 10326, 10328, 10329, 10338, 10349, 10362, 10364, 10375, 10408, 10410, 10411, 10412, 10415, 10416, 10417, 10422, 10423, 10426, 10433, 10437, 10442, 10443, 10445, 10450, 10456, 10464, 10465, 10467, 10474, 10476, 10477, 10478, 10483, 10487, 10488, 10491, 10495, 10496, 10500, 10503, 10509, 10516, 10518, 10523, 10525, 10532, 10542, 10543, 10544, 10545, 10548, 10558, 10561, 10576, 10577, 10592, 10613, 10627, 10631, 10648, 10661, 10665, 10670, 10673, 10738, 10744, 10750, 10758, 10759, 10761, 10765, 10773, 10776, 10792, 10793, 10794, 10800, 10871, 10887, 10888, 10926, 10929, 10930, 10932, 10949, 10953, 10969, 10971, 10973, 11012, 11029, 11036, 11045, 11047, 11057, 11058, 11076, 11080, 11100, 11117, 11153, 11164, 11187, 11203, 11225, 11249, 11365, 11385, 11469, 11573, 11578, 11646, 11702, 11804, 11822, 11917, 11985, 12025, 12027, 12054, 12055, 12185, 12190, 12211, 12212, 12223, 12251, 12308, 12331, 12377, 12395, 12490, 12491, 12824, 13340, 13512, 13535, 13537, 13555, 13672, 13865, 14004, 14005, 14006, 14008, 14014, 14016, 14019, 14021, 14092, 14113, 14162, 14176, 14177, 14325, 14326, 14456, 14457, 14459, 14481, 14688, 14715, 14875, 14879, 14902, 15398, 15454, 15809, 15923, 16043, 16045, 16915, 16960, 16973, 17313, 17621, 17957, 18035, 18489, 18649, 18651, 18658, 19320, 19442, 19462, 19471, 19586, 19590, 19673, 19752, 19848, 19861, 19933, 19935, 19938, 19948, 19953, 19971, 20045, 20075, 20076, 20077, 20082, 20083, 20175, 20192, 20221, 20299, 20368, 20383, 20384, 20408, 20502, 20574, 20642, 20691, 20809, 20855, 20861, 20900, 20908, 20919, 20921, 20922, 20923, 20928, 20968, 20982]\n",
      "\n",
      "[7200.0, 7200.0, 21600.0, 7200.0, 10800.0, 14400.0, 7200.0, 18000.0, 7200.0, 7200.0, 10800.0, 7200.0, 14400.0, 93600.0, 7200.0, 7200.0, 7200.0, 7200.0, 7200.0, 32400.0, 7200.0, 14400.0, 18000.0, 7200.0, 7200.0, 18000.0, 7200.0, 10800.0, 7200.0, 7200.0, 7200.0, 7200.0, 7200.0, 14400.0, 7200.0, 14400.0, 61200.0, 7200.0, 7200.0, 7200.0, 25200.0, 7200.0, 7200.0, 7200.0, 7200.0, 7200.0, 25200.0, 14400.0, 14400.0, 43200.0, 7200.0, 7200.0, 7200.0, 7200.0, 7200.0, 43200.0, 14400.0, 64800.0, 68400.0, 57600.0, 10800.0, 7200.0, 64800.0, 64800.0, 57600.0, 32400.0, 10800.0, 61200.0, 7200.0, 54000.0, 54000.0, 61200.0, 36000.0, 14400.0, 10800.0, 64800.0, 21600.0, 18000.0, 14400.0, 61200.0, 64800.0, 43200.0, 14400.0, 18000.0, 43200.0, 7200.0, 28800.0, 14400.0, 14400.0, 28800.0, 7200.0, 7200.0, 10800.0, 7200.0, 36000.0, 14400.0, 7200.0, 10800.0, 10800.0, 18000.0, 7200.0, 7200.0, 50400.0, 7200.0, 10800.0, 7200.0, 39600.0, 18000.0, 61200.0, 54000.0, 57600.0, 72000.0, 10800.0, 46800.0, 32400.0, 7200.0, 7200.0, 54000.0, 7200.0, 57600.0, 36000.0, 21600.0, 50400.0, 57600.0, 25200.0, 14400.0, 7200.0, 7200.0, 61200.0, 46800.0, 10800.0, 39600.0, 21600.0, 54000.0, 28800.0, 7200.0, 7200.0, 7200.0, 7200.0, 14400.0, 7200.0, 7200.0, 54000.0, 61200.0, 50400.0, 7200.0, 18000.0, 25200.0, 10800.0, 7200.0, 61200.0, 50400.0, 68400.0, 64800.0, 64800.0, 57600.0, 54000.0, 61200.0, 7200.0, 46800.0, 57600.0, 61200.0, 72000.0, 79200.0, 82800.0, 79200.0, 75600.0, 61200.0, 7200.0, 10800.0, 75600.0, 75600.0, 7200.0, 64800.0, 61200.0, 7200.0, 7200.0, 14400.0, 7200.0, 36000.0, 25200.0, 14400.0, 7200.0, 14400.0, 21600.0, 7200.0, 7200.0, 50400.0, 43200.0, 7200.0, 7200.0, 7200.0, 57600.0, 10800.0, 10800.0, 61200.0, 7200.0, 75600.0, 7200.0, 64800.0, 7200.0, 79200.0, 57600.0, 72000.0, 7200.0, 151200.0, 7200.0, 154800.0, 61200.0, 21600.0, 36000.0, 7200.0, 7200.0, 14400.0, 39600.0, 82800.0, 64800.0, 169200.0, 7200.0, 75600.0, 39600.0, 7200.0, 7200.0, 7200.0, 61200.0, 61200.0, 7200.0, 54000.0, 7200.0, 54000.0, 14400.0, 10800.0, 7200.0, 7200.0, 7200.0, 46800.0, 7200.0, 7200.0, 10800.0, 7200.0, 43200.0, 10800.0, 7200.0, 39600.0, 36000.0, 7200.0, 7200.0, 32400.0, 7200.0, 7200.0, 10800.0, 14400.0, 7200.0, 18000.0, 7200.0, 14400.0, 18000.0, 7200.0, 10800.0, 7200.0, 7200.0, 7200.0, 10800.0, 7200.0, 7200.0, 14400.0, 7200.0, 7200.0, 7200.0, 7200.0, 7200.0, 14400.0, 7200.0, 14400.0, 32400.0, 10800.0, 36000.0, 7200.0, 18000.0, 14400.0, 7200.0, 7200.0, 18000.0, 14400.0, 7200.0, 7200.0, 28800.0, 7200.0, 18000.0, 7200.0, 7200.0, 14400.0, 7200.0, 7200.0, 7200.0, 7200.0, 7200.0, 7200.0, 7200.0, 7200.0, 7200.0, 7200.0, 7200.0, 7200.0, 7200.0, 10800.0, 10800.0, 7200.0, 7200.0, 18000.0, 7200.0, 7200.0, 7200.0, 7200.0, 7200.0, 7200.0, 7200.0, 21600.0, 10800.0, 10800.0, 7200.0, 7200.0, 7200.0, 7200.0, 7200.0, 10800.0, 18000.0, 7200.0, 14400.0, 18000.0, 18000.0, 7200.0, 7200.0, 7200.0, 14400.0, 7200.0, 7200.0, 10800.0, 7200.0, 7200.0, 7200.0, 7200.0, 7200.0, 14400.0, 7200.0, 7200.0, 25200.0, 7200.0, 7200.0, 7200.0, 7200.0, 7200.0, 7200.0, 10800.0, 7200.0, 7200.0, 10800.0, 7200.0, 7200.0, 7200.0, 7200.0, 7200.0, 7200.0, 28800.0, 10800.0, 50400.0, 7200.0, 7200.0, 7200.0, 7200.0, 7200.0, 10800.0, 7200.0, 7200.0, 7200.0, 7200.0, 10800.0, 14400.0, 14400.0, 7200.0, 10800.0, 7200.0, 7200.0, 79200.0, 68400.0, 14400.0, 7200.0, 151200.0, 10800.0, 7200.0, 10800.0, 7200.0, 7200.0, 7200.0, 7200.0, 7200.0, 7200.0, 7200.0, 7200.0, 7200.0, 7200.0, 7200.0, 7200.0, 1796400.0, 43200.0, 18000.0, 10800.0, 10800.0, 14400.0, 57600.0, 3733200.0, 10800.0]\n",
      "\n",
      "False\n"
     ]
    },
    {
     "data": {
      "text/plain": [
       "(array([410.,   0.,   0.,   0.,   1.,   0.,   0.,   0.,   0.,   1.]),\n",
       " array([   7200.,  379800.,  752400., 1125000., 1497600., 1870200.,\n",
       "        2242800., 2615400., 2988000., 3360600., 3733200.]),\n",
       " <BarContainer object of 10 artists>)"
      ]
     },
     "execution_count": 10,
     "metadata": {},
     "output_type": "execute_result"
    },
    {
     "data": {
      "image/png": "[encoded data removed]",
      "text/plain": [
       "<Figure size 432x288 with 1 Axes>"
      ]
     },
     "metadata": {
      "needs_background": "light"
     },
     "output_type": "display_data"
    }
   ],
   "source": [
    "hora = pd.Timedelta(seconds=3600)\n",
    "fechas = df[:-1]['timestamp inicial']\n",
    "fechassegundos = pd.to_datetime(fechas, format='%d.%m.%Y %H:%M:%S')\n",
    "instancias = []\n",
    "diferencias = []\n",
    "cadahora = True\n",
    "\n",
    "for i in range(len(fechassegundos) - 1):  # Hasta el penúltimo índice\n",
    "    if (fechassegundos.iloc[i + 1] - fechassegundos.iloc[i]) != hora:\n",
    "        instancias.append(i)\n",
    "        cadahora = False\n",
    "        diferencias.append((fechassegundos.iloc[i + 1] - fechassegundos.iloc[i]).total_seconds())\n",
    "\n",
    "print(instancias, diferencias, cadahora, sep = '\\n\\n')\n",
    "\n",
    "plt.hist(diferencias)"
   ]
  },
  {
   "cell_type": "code",
   "execution_count": 11,
   "id": "7966fbfd-eb2e-4424-a5a9-6774031c5513",
   "metadata": {
    "id": "bQ10QiLwUCnP"
   },
   "outputs": [
    {
     "data": {
      "text/plain": [
       "'Sabemos que en un 0.01963307124136288% de las veces que se recogen datos, se rompe la linealidad de la recogida de datos.'"
      ]
     },
     "execution_count": 11,
     "metadata": {},
     "output_type": "execute_result"
    }
   ],
   "source": [
    "f'Sabemos que en un {len(instancias)/len(df)}% de las veces que se recogen datos, se rompe la linealidad de la recogida de datos.'"
   ]
  },
  {
   "cell_type": "markdown",
   "id": "VbasOIz0uUwr",
   "metadata": {
    "id": "VbasOIz0uUwr"
   },
   "source": [
    "Comprobamos que lo que acabamos de averiguar es cierto. Según la prueba, entre la instancia nº 85 y la 86 transcurren dos horas, es decir, hay una hora en la que o bien no se recogieron datos, o bien se perdieron."
   ]
  },
  {
   "cell_type": "code",
   "execution_count": 12,
   "id": "v3fdJrIbtxjW",
   "metadata": {
    "colab": {
     "base_uri": "https://localhost:8080/"
    },
    "id": "v3fdJrIbtxjW",
    "outputId": "8b8ab2a5-9f37-4000-c27d-04e7e0123078"
   },
   "outputs": [
    {
     "name": "stdout",
     "output_type": "stream",
     "text": [
      "85   2020-01-06 21:00:00\n",
      "87   2020-01-06 23:00:00\n",
      "Name: timestamp inicial, dtype: datetime64[ns]\n"
     ]
    }
   ],
   "source": [
    "print(df[85:87]['timestamp inicial'])"
   ]
  },
  {
   "cell_type": "markdown",
   "id": "4a699055-b731-4186-81ce-a8bf62451468",
   "metadata": {
    "id": "4a699055-b731-4186-81ce-a8bf62451468"
   },
   "source": [
    "### 1.2. Haz la partición entre conjunto de entrenamiento y conjunto de test."
   ]
  },
  {
   "cell_type": "markdown",
   "id": "32e50fc2-371d-47a6-836f-e43014403d6c",
   "metadata": {},
   "source": [
    "Realizamos la división entre entrenamiento y test dividiendo en la fecha 31/08/2022 23:59:59. Para la validación utilizaremos el argumento `validation_split` de la función `fit` de **keras**."
   ]
  },
  {
   "cell_type": "code",
   "execution_count": 13,
   "id": "44c11e4c-dcf8-4d4e-9991-d708afe44a38",
   "metadata": {
    "id": "44c11e4c-dcf8-4d4e-9991-d708afe44a38"
   },
   "outputs": [],
   "source": [
    "instanteSeparacion = pd.to_datetime(\"31/08/2022 23:59:59\", dayfirst=True)\n",
    "dfEntrenamiento = df[df['timestamp inicial'] <= instanteSeparacion]\n",
    "dfTest = df[df['timestamp inicial'] > instanteSeparacion]"
   ]
  },
  {
   "cell_type": "markdown",
   "id": "521f508d-3b6b-4a65-ac76-321a584b92ab",
   "metadata": {
    "id": "521f508d-3b6b-4a65-ac76-321a584b92ab"
   },
   "source": [
    "----"
   ]
  },
  {
   "cell_type": "markdown",
   "id": "3cba241f-f514-4e3a-920f-f0a2c859c700",
   "metadata": {
    "id": "3cba241f-f514-4e3a-920f-f0a2c859c700"
   },
   "source": [
    "## 2. Preprocesado"
   ]
  },
  {
   "cell_type": "markdown",
   "id": "18745ea9-42aa-4200-87d7-4bd7c8f1cb15",
   "metadata": {
    "id": "18745ea9-42aa-4200-87d7-4bd7c8f1cb15"
   },
   "source": [
    "### 2.1. Representa las variables en un formato que facilite el aprendizaje. Para ello estandariza aquellas que lo necesiten y transforma las fechas a un formato adecuado.\n",
    "\n",
    "Comenzaremos transformando las fechas a un formato que nuestro modelo pueda entender.Utilizaremos un método simple para convertirlo en una señal utilizable es usar el [seno] y el [coseno] para convertir la hora en señales claras de \"Hora del día\" y \"Hora del año\". Hay que operar de tal manera que:\n",
    "\n",
    "1. $\\cos(hora~0) = \\cos(hora~24)$ y $\\sin(hora~0) = \\sin(hora~24)$ en la hora del día.\n",
    "1. $\\cos(1~enero) \\approx \\cos(31~diciembre)$ y $\\sin(1~enero) \\approx \\sin(31~diciembre)$ en la hora anual.\n",
    "\n",
    "La variable a tranformar será:\n",
    "- `timestamp inicial` : representa el punto en el tiempo en el que se empiezan a recoger datos.\n",
    "\n",
    "Además, eliminaremos la variable `timestamp final` ya que consideramos que no aporta una información relevante a la hora de entrenar el modelo.\n"
   ]
  },
  {
   "cell_type": "code",
   "execution_count": 14,
   "id": "59220b00",
   "metadata": {
    "id": "59220b00"
   },
   "outputs": [],
   "source": [
    "def ajustar_fechas(dataset):\n",
    "    #Sacamos los valores de las fechas (inicial y final)\n",
    "    date_time_inicial = pd.to_datetime(dataset.pop('timestamp inicial'), format='%d.%m.%Y %H:%M:%S')\n",
    "    # Los pasamos a segundos\n",
    "    timestamp_s_inicial = date_time_inicial.map(pd.Timestamp.timestamp)\n",
    "    #Segundos en un dia y un año\n",
    "    day = 24 * 60 * 60\n",
    "    year = 365 * day\n",
    "\n",
    "    # TODO: Extrae, para cada fecha, el seno y el coseno, y añádelos al dataframe\n",
    "    dataset['Dia sin inic'] = np.sin(2 * np.pi * (timestamp_s_inicial % day) / day)\n",
    "    dataset['Dia cos inic'] = np.cos(2 * np.pi * (timestamp_s_inicial % day) / day)\n",
    "    dataset['Anho sin inic'] = np.sin(2 * np.pi * (timestamp_s_inicial % year) / year)\n",
    "    dataset['Anho cos inic'] = np.cos(2 * np.pi * (timestamp_s_inicial % year) / year)\n",
    "\n",
    "    dataset.pop('timestamp final')\n",
    "\n",
    "    return dataset"
   ]
  },
  {
   "cell_type": "code",
   "execution_count": 15,
   "id": "d90dab3e-0860-4fe6-8016-f18cb52d7726",
   "metadata": {
    "colab": {
     "base_uri": "https://localhost:8080/"
    },
    "id": "ac06f3b0",
    "outputId": "7da2ead5-85ff-45d7-b957-4a0277dbcd37"
   },
   "outputs": [
    {
     "name": "stderr",
     "output_type": "stream",
     "text": [
      "/tmp/ipykernel_7703/514935241.py:11: SettingWithCopyWarning: \n",
      "A value is trying to be set on a copy of a slice from a DataFrame.\n",
      "Try using .loc[row_indexer,col_indexer] = value instead\n",
      "\n",
      "See the caveats in the documentation: https://pandas.pydata.org/pandas-docs/stable/user_guide/indexing.html#returning-a-view-versus-a-copy\n",
      "  dataset['Dia sin inic'] = np.sin(2 * np.pi * (timestamp_s_inicial % day) / day)\n",
      "/tmp/ipykernel_7703/514935241.py:12: SettingWithCopyWarning: \n",
      "A value is trying to be set on a copy of a slice from a DataFrame.\n",
      "Try using .loc[row_indexer,col_indexer] = value instead\n",
      "\n",
      "See the caveats in the documentation: https://pandas.pydata.org/pandas-docs/stable/user_guide/indexing.html#returning-a-view-versus-a-copy\n",
      "  dataset['Dia cos inic'] = np.cos(2 * np.pi * (timestamp_s_inicial % day) / day)\n",
      "/tmp/ipykernel_7703/514935241.py:13: SettingWithCopyWarning: \n",
      "A value is trying to be set on a copy of a slice from a DataFrame.\n",
      "Try using .loc[row_indexer,col_indexer] = value instead\n",
      "\n",
      "See the caveats in the documentation: https://pandas.pydata.org/pandas-docs/stable/user_guide/indexing.html#returning-a-view-versus-a-copy\n",
      "  dataset['Anho sin inic'] = np.sin(2 * np.pi * (timestamp_s_inicial % year) / year)\n",
      "/tmp/ipykernel_7703/514935241.py:14: SettingWithCopyWarning: \n",
      "A value is trying to be set on a copy of a slice from a DataFrame.\n",
      "Try using .loc[row_indexer,col_indexer] = value instead\n",
      "\n",
      "See the caveats in the documentation: https://pandas.pydata.org/pandas-docs/stable/user_guide/indexing.html#returning-a-view-versus-a-copy\n",
      "  dataset['Anho cos inic'] = np.cos(2 * np.pi * (timestamp_s_inicial % year) / year)\n",
      "/tmp/ipykernel_7703/514935241.py:11: SettingWithCopyWarning: \n",
      "A value is trying to be set on a copy of a slice from a DataFrame.\n",
      "Try using .loc[row_indexer,col_indexer] = value instead\n",
      "\n",
      "See the caveats in the documentation: https://pandas.pydata.org/pandas-docs/stable/user_guide/indexing.html#returning-a-view-versus-a-copy\n",
      "  dataset['Dia sin inic'] = np.sin(2 * np.pi * (timestamp_s_inicial % day) / day)\n",
      "/tmp/ipykernel_7703/514935241.py:12: SettingWithCopyWarning: \n",
      "A value is trying to be set on a copy of a slice from a DataFrame.\n",
      "Try using .loc[row_indexer,col_indexer] = value instead\n",
      "\n",
      "See the caveats in the documentation: https://pandas.pydata.org/pandas-docs/stable/user_guide/indexing.html#returning-a-view-versus-a-copy\n",
      "  dataset['Dia cos inic'] = np.cos(2 * np.pi * (timestamp_s_inicial % day) / day)\n",
      "/tmp/ipykernel_7703/514935241.py:13: SettingWithCopyWarning: \n",
      "A value is trying to be set on a copy of a slice from a DataFrame.\n",
      "Try using .loc[row_indexer,col_indexer] = value instead\n",
      "\n",
      "See the caveats in the documentation: https://pandas.pydata.org/pandas-docs/stable/user_guide/indexing.html#returning-a-view-versus-a-copy\n",
      "  dataset['Anho sin inic'] = np.sin(2 * np.pi * (timestamp_s_inicial % year) / year)\n",
      "/tmp/ipykernel_7703/514935241.py:14: SettingWithCopyWarning: \n",
      "A value is trying to be set on a copy of a slice from a DataFrame.\n",
      "Try using .loc[row_indexer,col_indexer] = value instead\n",
      "\n",
      "See the caveats in the documentation: https://pandas.pydata.org/pandas-docs/stable/user_guide/indexing.html#returning-a-view-versus-a-copy\n",
      "  dataset['Anho cos inic'] = np.cos(2 * np.pi * (timestamp_s_inicial % year) / year)\n"
     ]
    }
   ],
   "source": [
    "dfEntrenamiento = ajustar_fechas(dfEntrenamiento)\n",
    "dfTest = ajustar_fechas(dfTest)"
   ]
  },
  {
   "cell_type": "markdown",
   "id": "c415db05-5176-4d03-8395-4d21caa15143",
   "metadata": {},
   "source": [
    "En cuanto al resto de variables, normalizaremos aquellas variables que tengan valores muy elevados, de manera que el modelo pueda trabajar más óptimamente con estos valores. Otras variables con valores más razonables como puede ser el `precio inicial` que tiene una media de 1.12, por lo tanto no normalizaremos sus valores."
   ]
  },
  {
   "cell_type": "code",
   "execution_count": 16,
   "id": "89334124",
   "metadata": {
    "colab": {
     "base_uri": "https://localhost:8080/"
    },
    "id": "89334124",
    "outputId": "0bd10992-d4c4-409c-b420-22b5caa42733"
   },
   "outputs": [],
   "source": [
    "columnasNormalizar = ['volumen', 'volumen en cuotas','numero de compras', 'volumen de dolares', 'volumen de euros']\n",
    "datasets = [dfEntrenamiento, dfTest]\n",
    "for df in datasets:\n",
    "    for col in columnasNormalizar:\n",
    "        df[col] = (df[col] - df[col].mean()) / df[col].std()\n"
   ]
  },
  {
   "cell_type": "markdown",
   "id": "d85c7988",
   "metadata": {
    "id": "d85c7988"
   },
   "source": [
    "Ver como se reparten los valores una vez normalizados."
   ]
  },
  {
   "cell_type": "code",
   "execution_count": 17,
   "id": "5808b1df",
   "metadata": {
    "colab": {
     "base_uri": "https://localhost:8080/",
     "height": 702
    },
    "id": "5808b1df",
    "outputId": "1683606b-96ec-4eb8-f899-80c39125213c"
   },
   "outputs": [
    {
     "name": "stderr",
     "output_type": "stream",
     "text": [
      "/tmp/ipykernel_7703/3962566233.py:4: UserWarning: set_ticklabels() should only be used with a fixed number of ticks, i.e. after set_ticks() or using a FixedLocator.\n",
      "  _ = ax.set_xticklabels(dfEntrenamiento.keys(), rotation=90)\n"
     ]
    },
    {
     "data": {
      "image/png": "[encoded data removed]",
      "text/plain": [
       "<Figure size 864x432 with 1 Axes>"
      ]
     },
     "metadata": {
      "needs_background": "light"
     },
     "output_type": "display_data"
    }
   ],
   "source": [
    "df_std = dfEntrenamiento.melt(var_name='Column', value_name='Normalized')\n",
    "plt.figure(figsize=(12, 6))\n",
    "ax = sns.violinplot(x='Column', y='Normalized', data=df_std)\n",
    "_ = ax.set_xticklabels(dfEntrenamiento.keys(), rotation=90)"
   ]
  },
  {
   "cell_type": "markdown",
   "id": "yyN8WCXFaXAZ",
   "metadata": {
    "id": "yyN8WCXFaXAZ"
   },
   "source": [
    "Añadiremos una variable que usaremos como target la cual indicará qué acción se tiene que hacer a 6 horas vista.\n",
    "- `Comprar` = 1 : esto indica que el precio del dólar en 6 horas será mayor que el precio actual.\n",
    "- `Vender` = 0 : esto indica que el precio del dólar en 6 horas será menor que el precio actual.\n",
    "\n",
    "Para poder obtener esta variable lo que hacemos es desplazar la columna de `precio inicial ` 6 horas hacia atrás con la función `shift(-6)`. \n",
    "De esta manera, tenemos  \"el futuro en el presente\", y podremos comparar el precio actual con el de 6 horas en el futuro y así saber si comprar o vender. Hacer esto implica que las últimas 6 filas del conjunto de entrenamiento tengan esta variable nula por lo que nos desharemos de estas 6 últimas filas.\n",
    "\n"
   ]
  },
  {
   "cell_type": "code",
   "execution_count": 18,
   "id": "iszrq2jYaWRc",
   "metadata": {
    "id": "iszrq2jYaWRc"
   },
   "outputs": [],
   "source": [
    "dfEntrenamiento['precio en 6h'] = dfEntrenamiento['precio inicio'].shift(-6)\n",
    "\n",
    "dfEntrenamiento['accion'] = dfEntrenamiento.apply(lambda row: 1 if row['precio en 6h'] > row['precio inicio'] else 0, axis=1)\n"
   ]
  },
  {
   "cell_type": "code",
   "execution_count": 19,
   "id": "jCPJ3X6Yo0wK",
   "metadata": {
    "id": "jCPJ3X6Yo0wK"
   },
   "outputs": [],
   "source": [
    "dfTest['precio en 6h'] = dfTest['precio inicio'].shift(-6)\n",
    "\n",
    "dfTest['accion'] = dfTest.apply(lambda row: 1 if row['precio en 6h'] > row['precio inicio'] else 0, axis=1)"
   ]
  },
  {
   "cell_type": "markdown",
   "id": "3d29d723",
   "metadata": {},
   "source": [
    "Dado que dasplazamos una columna en 6 posiciones y creamos otra en torno a esa, habrá 6 filas que no tengan valores en estas nuevas columnas. Lo que haremos será eliminar esta últimas 6 columnas."
   ]
  },
  {
   "cell_type": "code",
   "execution_count": 20,
   "id": "F9EmiPtSaWUi",
   "metadata": {
    "colab": {
     "base_uri": "https://localhost:8080/"
    },
    "id": "F9EmiPtSaWUi",
    "outputId": "dd3aebd1-b5e2-4566-9584-8c7d82a79dfe",
    "scrolled": true
   },
   "outputs": [
    {
     "name": "stdout",
     "output_type": "stream",
     "text": [
      "       precio inicio  precio mas alto  precio mas bajo  precio fin   volumen  \\\n",
      "22980         1.0081           1.0081           1.0077      1.0078 -0.401740   \n",
      "22981         1.0078           1.0078           1.0070      1.0073 -0.284861   \n",
      "22982         1.0072           1.0078           1.0068      1.0078 -0.122259   \n",
      "22983         1.0078           1.0084           1.0065      1.0066  1.573304   \n",
      "22984         1.0065           1.0081           1.0061      1.0076  1.290953   \n",
      "22985         1.0076           1.0077           1.0067      1.0075  1.822359   \n",
      "\n",
      "       volumen en cuotas  numero de compras  volumen de dolares  \\\n",
      "22980          -0.450086          -0.541099           -0.270185   \n",
      "22981          -0.348850          -0.402884           -0.293451   \n",
      "22982          -0.207663          -0.279701           -0.023272   \n",
      "22983           1.265595           1.029374            0.868431   \n",
      "22984           1.019909           1.078229            1.163327   \n",
      "22985           1.481417           1.034385            1.699154   \n",
      "\n",
      "       volumen de euros  Dia sin inic  Dia cos inic  Anho sin inic  \\\n",
      "22980         -0.331948      0.707107  7.071068e-01      -0.864227   \n",
      "22981         -0.352504      0.866025  5.000000e-01      -0.864587   \n",
      "22982         -0.117833      0.965926  2.588190e-01      -0.864948   \n",
      "22983          0.657037      1.000000 -1.608123e-16      -0.865307   \n",
      "22984          0.912795      0.965926 -2.588190e-01      -0.865667   \n",
      "22985          1.378205      0.866025 -5.000000e-01      -0.866025   \n",
      "\n",
      "       Anho cos inic  precio en 6h  accion  \n",
      "22980      -0.503103           NaN       0  \n",
      "22981      -0.502483           NaN       0  \n",
      "22982      -0.501862           NaN       0  \n",
      "22983      -0.501242           NaN       0  \n",
      "22984      -0.500621           NaN       0  \n",
      "22985      -0.500000           NaN       0  \n"
     ]
    }
   ],
   "source": [
    "print(dfEntrenamiento[-6:])"
   ]
  },
  {
   "cell_type": "code",
   "execution_count": 21,
   "id": "2p_T5rBEnvXo",
   "metadata": {
    "id": "2p_T5rBEnvXo"
   },
   "outputs": [],
   "source": [
    "dfEntrenamiento = dfEntrenamiento[0:-6]"
   ]
  },
  {
   "cell_type": "code",
   "execution_count": 22,
   "id": "jxiLCOUto8bw",
   "metadata": {
    "id": "jxiLCOUto8bw"
   },
   "outputs": [],
   "source": [
    "dfTest = dfTest[0:-6]"
   ]
  },
  {
   "cell_type": "code",
   "execution_count": 23,
   "id": "ypJ3JDI-oDL5",
   "metadata": {
    "colab": {
     "base_uri": "https://localhost:8080/",
     "height": 255
    },
    "id": "ypJ3JDI-oDL5",
    "outputId": "a3ebc286-929c-46f6-daa1-82ea1281b774"
   },
   "outputs": [
    {
     "data": {
      "text/html": [
       "<div>\n",
       "<style scoped>\n",
       "    .dataframe tbody tr th:only-of-type {\n",
       "        vertical-align: middle;\n",
       "    }\n",
       "\n",
       "    .dataframe tbody tr th {\n",
       "        vertical-align: top;\n",
       "    }\n",
       "\n",
       "    .dataframe thead th {\n",
       "        text-align: right;\n",
       "    }\n",
       "</style>\n",
       "<table border=\"1\" class=\"dataframe\">\n",
       "  <thead>\n",
       "    <tr style=\"text-align: right;\">\n",
       "      <th></th>\n",
       "      <th>precio inicio</th>\n",
       "      <th>precio mas alto</th>\n",
       "      <th>precio mas bajo</th>\n",
       "      <th>precio fin</th>\n",
       "      <th>volumen</th>\n",
       "      <th>volumen en cuotas</th>\n",
       "      <th>numero de compras</th>\n",
       "      <th>volumen de dolares</th>\n",
       "      <th>volumen de euros</th>\n",
       "      <th>Dia sin inic</th>\n",
       "      <th>Dia cos inic</th>\n",
       "      <th>Anho sin inic</th>\n",
       "      <th>Anho cos inic</th>\n",
       "      <th>precio en 6h</th>\n",
       "      <th>accion</th>\n",
       "    </tr>\n",
       "  </thead>\n",
       "  <tbody>\n",
       "    <tr>\n",
       "      <th>22974</th>\n",
       "      <td>1.0089</td>\n",
       "      <td>1.0097</td>\n",
       "      <td>1.0088</td>\n",
       "      <td>1.0090</td>\n",
       "      <td>-0.045742</td>\n",
       "      <td>-0.139906</td>\n",
       "      <td>-0.041688</td>\n",
       "      <td>-0.055410</td>\n",
       "      <td>-0.144574</td>\n",
       "      <td>-0.707107</td>\n",
       "      <td>0.707107</td>\n",
       "      <td>-0.862054</td>\n",
       "      <td>-0.506817</td>\n",
       "      <td>1.0081</td>\n",
       "      <td>0</td>\n",
       "    </tr>\n",
       "    <tr>\n",
       "      <th>22975</th>\n",
       "      <td>1.0090</td>\n",
       "      <td>1.0093</td>\n",
       "      <td>1.0086</td>\n",
       "      <td>1.0087</td>\n",
       "      <td>-0.354599</td>\n",
       "      <td>-0.408626</td>\n",
       "      <td>-0.273855</td>\n",
       "      <td>-0.260615</td>\n",
       "      <td>-0.323087</td>\n",
       "      <td>-0.500000</td>\n",
       "      <td>0.866025</td>\n",
       "      <td>-0.862417</td>\n",
       "      <td>-0.506199</td>\n",
       "      <td>1.0078</td>\n",
       "      <td>0</td>\n",
       "    </tr>\n",
       "    <tr>\n",
       "      <th>22976</th>\n",
       "      <td>1.0086</td>\n",
       "      <td>1.0092</td>\n",
       "      <td>1.0083</td>\n",
       "      <td>1.0085</td>\n",
       "      <td>0.119797</td>\n",
       "      <td>0.003740</td>\n",
       "      <td>0.189227</td>\n",
       "      <td>-0.188495</td>\n",
       "      <td>-0.260606</td>\n",
       "      <td>-0.258819</td>\n",
       "      <td>0.965926</td>\n",
       "      <td>-0.862780</td>\n",
       "      <td>-0.505580</td>\n",
       "      <td>1.0072</td>\n",
       "      <td>0</td>\n",
       "    </tr>\n",
       "    <tr>\n",
       "      <th>22977</th>\n",
       "      <td>1.0084</td>\n",
       "      <td>1.0085</td>\n",
       "      <td>1.0065</td>\n",
       "      <td>1.0069</td>\n",
       "      <td>0.164504</td>\n",
       "      <td>0.041510</td>\n",
       "      <td>-0.090961</td>\n",
       "      <td>0.054199</td>\n",
       "      <td>-0.050535</td>\n",
       "      <td>0.000000</td>\n",
       "      <td>1.000000</td>\n",
       "      <td>-0.863142</td>\n",
       "      <td>-0.504961</td>\n",
       "      <td>1.0078</td>\n",
       "      <td>0</td>\n",
       "    </tr>\n",
       "    <tr>\n",
       "      <th>22978</th>\n",
       "      <td>1.0070</td>\n",
       "      <td>1.0073</td>\n",
       "      <td>1.0065</td>\n",
       "      <td>1.0069</td>\n",
       "      <td>-0.149444</td>\n",
       "      <td>-0.231407</td>\n",
       "      <td>-0.258823</td>\n",
       "      <td>0.039770</td>\n",
       "      <td>-0.063334</td>\n",
       "      <td>0.258819</td>\n",
       "      <td>0.965926</td>\n",
       "      <td>-0.863504</td>\n",
       "      <td>-0.504342</td>\n",
       "      <td>1.0065</td>\n",
       "      <td>0</td>\n",
       "    </tr>\n",
       "    <tr>\n",
       "      <th>22979</th>\n",
       "      <td>1.0069</td>\n",
       "      <td>1.0081</td>\n",
       "      <td>1.0067</td>\n",
       "      <td>1.0081</td>\n",
       "      <td>-0.386041</td>\n",
       "      <td>-0.436695</td>\n",
       "      <td>-0.496001</td>\n",
       "      <td>-0.079740</td>\n",
       "      <td>-0.166835</td>\n",
       "      <td>0.500000</td>\n",
       "      <td>0.866025</td>\n",
       "      <td>-0.863866</td>\n",
       "      <td>-0.503722</td>\n",
       "      <td>1.0076</td>\n",
       "      <td>1</td>\n",
       "    </tr>\n",
       "  </tbody>\n",
       "</table>\n",
       "</div>"
      ],
      "text/plain": [
       "       precio inicio  precio mas alto  precio mas bajo  precio fin   volumen  \\\n",
       "22974         1.0089           1.0097           1.0088      1.0090 -0.045742   \n",
       "22975         1.0090           1.0093           1.0086      1.0087 -0.354599   \n",
       "22976         1.0086           1.0092           1.0083      1.0085  0.119797   \n",
       "22977         1.0084           1.0085           1.0065      1.0069  0.164504   \n",
       "22978         1.0070           1.0073           1.0065      1.0069 -0.149444   \n",
       "22979         1.0069           1.0081           1.0067      1.0081 -0.386041   \n",
       "\n",
       "       volumen en cuotas  numero de compras  volumen de dolares  \\\n",
       "22974          -0.139906          -0.041688           -0.055410   \n",
       "22975          -0.408626          -0.273855           -0.260615   \n",
       "22976           0.003740           0.189227           -0.188495   \n",
       "22977           0.041510          -0.090961            0.054199   \n",
       "22978          -0.231407          -0.258823            0.039770   \n",
       "22979          -0.436695          -0.496001           -0.079740   \n",
       "\n",
       "       volumen de euros  Dia sin inic  Dia cos inic  Anho sin inic  \\\n",
       "22974         -0.144574     -0.707107      0.707107      -0.862054   \n",
       "22975         -0.323087     -0.500000      0.866025      -0.862417   \n",
       "22976         -0.260606     -0.258819      0.965926      -0.862780   \n",
       "22977         -0.050535      0.000000      1.000000      -0.863142   \n",
       "22978         -0.063334      0.258819      0.965926      -0.863504   \n",
       "22979         -0.166835      0.500000      0.866025      -0.863866   \n",
       "\n",
       "       Anho cos inic  precio en 6h  accion  \n",
       "22974      -0.506817        1.0081       0  \n",
       "22975      -0.506199        1.0078       0  \n",
       "22976      -0.505580        1.0072       0  \n",
       "22977      -0.504961        1.0078       0  \n",
       "22978      -0.504342        1.0065       0  \n",
       "22979      -0.503722        1.0076       1  "
      ]
     },
     "execution_count": 23,
     "metadata": {},
     "output_type": "execute_result"
    }
   ],
   "source": [
    "dfEntrenamiento[-6:]"
   ]
  },
  {
   "cell_type": "markdown",
   "id": "92e662ff-a3a6-4320-9599-9cd10ff1bc02",
   "metadata": {},
   "source": [
    "En el siguiente gráfico, representamos con el valor 1 todos los puntos en el tiempo en los que el precio del dólar sube, y a 0 cuando baja. En base a esto, sacamos como conclusión que hay mucha irregularidad en las salidas."
   ]
  },
  {
   "cell_type": "code",
   "execution_count": 24,
   "id": "49e08598-9af9-4783-bc62-5389d2d049b7",
   "metadata": {},
   "outputs": [
    {
     "data": {
      "image/png": "[encoded data removed]",
      "text/plain": [
       "<Figure size 1800x360 with 1 Axes>"
      ]
     },
     "metadata": {
      "needs_background": "light"
     },
     "output_type": "display_data"
    }
   ],
   "source": [
    "plt.figure(figsize=(25,5))\n",
    "plt.plot(dfEntrenamiento['precio en 6h'])\n",
    "plt.plot(dfEntrenamiento['precio inicio'])\n",
    "plt.scatter(range(len(dfEntrenamiento['accion'])),dfEntrenamiento['accion'],s=.0005);"
   ]
  },
  {
   "cell_type": "markdown",
   "id": "0c48eb3f-2da7-45fe-bb8e-a89a63d9226f",
   "metadata": {
    "id": "0c48eb3f-2da7-45fe-bb8e-a89a63d9226f"
   },
   "source": [
    "### 2.2. Transforma los conjuntos de entrenamiento y test a NumPy."
   ]
  },
  {
   "cell_type": "code",
   "execution_count": 25,
   "id": "f8d307a7",
   "metadata": {
    "id": "f8d307a7"
   },
   "outputs": [],
   "source": [
    "dfEntrenamientoNP = dfEntrenamiento.to_numpy()\n",
    "dfTestNP = dfTest.to_numpy()"
   ]
  },
  {
   "cell_type": "markdown",
   "id": "59ced856-2743-45bf-aae3-47c83a910002",
   "metadata": {
    "id": "59ced856-2743-45bf-aae3-47c83a910002"
   },
   "source": [
    "### 2.3. Utiliza la función sliding_window del Lab11 para ventanear la serie temporal para obtener un lote de muchos pares (vector de entrada, etiqueta) para entrenamiento y otro lote para test:\n",
    "- Haz que el tamaño de ventana sea configurable para poder probar varias alternativas.\n",
    "- Revisa la continuidad temporal de la serie para que las ventanas representen siempre el mismo\n",
    "periodo de tiempo. Descarta las ventanas incorrectas."
   ]
  },
  {
   "cell_type": "markdown",
   "id": "9ff3ae75",
   "metadata": {
    "id": "9ff3ae75"
   },
   "source": [
    "Dado que realizaremos un problema de clasificación de dos salidas, adaptaremos la función `sliding_window` que se nos aportó en el **laboratorio 11** de manera que nos haga las ventanas para dos salidas.\n",
    "\n",
    "Hacemos una pequeña variación en el código para obtener ventanas con dos targets ya que crearemos modelos de dos salidas."
   ]
  },
  {
   "cell_type": "code",
   "execution_count": 26,
   "id": "8701cae5",
   "metadata": {
    "id": "8701cae5"
   },
   "outputs": [],
   "source": [
    "def sliding_window(data, labels1, labels2, input_width, label_width=1, offset=0):\n",
    "    x = []\n",
    "    y = []\n",
    "    z = []\n",
    "    # Corrección en el rango del bucle\n",
    "    for i in range(len(data) - input_width - label_width - offset + 1):\n",
    "        # Seleccionar la ventana de entrada y etiquetas\n",
    "        _x = data[i:i + input_width]\n",
    "        _y = labels1[i + input_width + offset:i + input_width + offset + label_width]\n",
    "        _z = labels2[i + input_width + offset:i + input_width + offset + label_width]\n",
    "        x.append(_x)\n",
    "        y.append(_y)\n",
    "        z.append(_z)\n",
    "    # Convertir a numpy arrays\n",
    "    x, y, z = np.array(x), np.array(y), np.array(z)\n",
    "    # Añadir nueva dimensión si es necesario\n",
    "    if len(x.shape) == 2:  # Si x es 2D, hazlo 3D\n",
    "        x = x[:, :, np.newaxis]\n",
    "    if len(y.shape) == 2:  # Si y es 2D, hazlo 3D\n",
    "        y = y[:, :, np.newaxis]\n",
    "    if len(z.shape) == 2:  # Si y es 2D, hazlo 3D\n",
    "        z = z[:, :, np.newaxis]\n",
    "    return x, y, z"
   ]
  },
  {
   "cell_type": "code",
   "execution_count": 27,
   "id": "d6736742",
   "metadata": {
    "id": "d6736742"
   },
   "outputs": [],
   "source": [
    "input_width = 512\n",
    "label_width = 512\n",
    "offset = 0\n",
    "\n",
    "x_train, y_train1 , y_train2 = sliding_window(\n",
    "    dfEntrenamientoNP[:,0:-2],  # Datos de entrada sin la etiqueta objetivo\n",
    "    dfEntrenamientoNP[:,-2:-1],   # Datos de entrada sin una de las etiquetas objetivo\n",
    "    dfEntrenamientoNP[:,-1:],\n",
    "    input_width=input_width,\n",
    "    label_width=label_width,\n",
    "    offset=offset\n",
    ")\n",
    "\n",
    "x_test, y_test1 , y_test2 = sliding_window(\n",
    "    dfEntrenamientoNP[:,0:-2],  # Datos de entrada sin una de las etiquetas objetiv\n",
    "    dfEntrenamientoNP[:,-2:-1],    \n",
    "    dfEntrenamientoNP[:,-1:],\n",
    "    input_width=input_width,\n",
    "    label_width=label_width,\n",
    "    offset=offset\n",
    ")"
   ]
  },
  {
   "cell_type": "markdown",
   "id": "c5e4c905-bfb3-4dfe-ab8d-d4dd713c943a",
   "metadata": {
    "id": "c5e4c905-bfb3-4dfe-ab8d-d4dd713c943a"
   },
   "source": [
    "----"
   ]
  },
  {
   "cell_type": "markdown",
   "id": "219e066a-1b1c-46c0-b906-ddb6cf38857f",
   "metadata": {
    "id": "219e066a-1b1c-46c0-b906-ddb6cf38857f"
   },
   "source": [
    "## 3. Elección del/los modelo/s. Prueba con ventanas de distinto tamaño, y ajusta a los datos de entrenamiento a modelos con arquitecturas de tipo"
   ]
  },
  {
   "cell_type": "code",
   "execution_count": 28,
   "id": "789c6dc5",
   "metadata": {
    "id": "789c6dc5"
   },
   "outputs": [],
   "source": [
    "numero_caracteristicas = dfEntrenamientoNP.shape[1]-2"
   ]
  },
  {
   "cell_type": "markdown",
   "id": "B0fcEzmScRZm",
   "metadata": {
    "id": "B0fcEzmScRZm"
   },
   "source": [
    "Utilizaremos un objeto de tipo `Callback` de la librería `Keras` que nos permitirá parar el modelo cuando una variable monitorizada no mejore en tantos ciclos como se escoja.\n",
    "\n",
    "La creamos una vez y la reutilizaremos durante las diferentes ejecuciones."
   ]
  },
  {
   "cell_type": "code",
   "execution_count": 29,
   "id": "xanLOjgIcQxr",
   "metadata": {
    "id": "xanLOjgIcQxr"
   },
   "outputs": [],
   "source": [
    "callback  = keras.callbacks.EarlyStopping(\n",
    "    monitor=\"val_clasificacion_binary_accuracy\",  #metrica a monitorizar\n",
    "    mode='max',\n",
    "    patience=15,     #nº de ciclos sin mejora antes de parar\n",
    "    restore_best_weights=True   #devolver el modelo que mejor metrica tuvo\n",
    ")\n"
   ]
  },
  {
   "cell_type": "markdown",
   "id": "1869ac6b-4a7d-4651-8d79-dd0fc693a214",
   "metadata": {
    "id": "1869ac6b-4a7d-4651-8d79-dd0fc693a214"
   },
   "source": [
    "### 3.1 Totalmente conectado."
   ]
  },
  {
   "cell_type": "markdown",
   "id": "P8rT7XLJea0b",
   "metadata": {
    "id": "P8rT7XLJea0b"
   },
   "source": [
    "Comenzaremos creando un modelo simple totalmente conectado para comprobar la eficacia de los modelos simples al entrenar problemas de series temporales."
   ]
  },
  {
   "cell_type": "code",
   "execution_count": 30,
   "id": "d9384ab1",
   "metadata": {
    "colab": {
     "base_uri": "https://localhost:8080/"
    },
    "id": "d9384ab1",
    "outputId": "3d6b124e-8a0b-456a-fbc1-ead033d10167"
   },
   "outputs": [
    {
     "name": "stderr",
     "output_type": "stream",
     "text": [
      "2024-12-20 23:25:12.216065: E external/local_xla/xla/stream_executor/cuda/cuda_driver.cc:152] failed call to cuInit: INTERNAL: CUDA error: Failed call to cuInit: CUDA_ERROR_NO_DEVICE: no CUDA-capable device is detected\n"
     ]
    },
    {
     "name": "stdout",
     "output_type": "stream",
     "text": [
      "Epoch 1/100\n"
     ]
    },
    {
     "name": "stderr",
     "output_type": "stream",
     "text": [
      "2024-12-20 23:25:13.541222: W external/local_xla/xla/tsl/framework/cpu_allocator_impl.cc:83] Allocation of 1041825792 exceeds 10% of free system memory.\n",
      "2024-12-20 23:25:14.142469: W external/local_xla/xla/tsl/framework/cpu_allocator_impl.cc:83] Allocation of 1041825792 exceeds 10% of free system memory.\n",
      "2024-12-20 23:25:14.455083: W external/local_xla/xla/tsl/framework/cpu_allocator_impl.cc:83] Allocation of 1041825792 exceeds 10% of free system memory.\n"
     ]
    },
    {
     "name": "stdout",
     "output_type": "stream",
     "text": [
      "\u001b[1m1/1\u001b[0m \u001b[32m━━━━━━━━━━━━━━━━━━━━\u001b[0m\u001b[37m\u001b[0m \u001b[1m3s\u001b[0m 3s/step - clasificacion_binary_accuracy: 0.5000 - clasificacion_loss: 0.3485 - loss: 1.5988 - regresion_loss: 1.2502 - regresion_mean_absolute_error: 1.0678 - val_clasificacion_binary_accuracy: 0.5000 - val_clasificacion_loss: 0.2892 - val_loss: 1.1792 - val_regresion_loss: 0.8900 - val_regresion_mean_absolute_error: 0.7340\n",
      "Epoch 2/100\n"
     ]
    },
    {
     "name": "stderr",
     "output_type": "stream",
     "text": [
      "2024-12-20 23:25:15.766666: W external/local_xla/xla/tsl/framework/cpu_allocator_impl.cc:83] Allocation of 1041825792 exceeds 10% of free system memory.\n",
      "2024-12-20 23:25:16.303383: W external/local_xla/xla/tsl/framework/cpu_allocator_impl.cc:83] Allocation of 1041825792 exceeds 10% of free system memory.\n"
     ]
    },
    {
     "name": "stdout",
     "output_type": "stream",
     "text": [
      "\u001b[1m1/1\u001b[0m \u001b[32m━━━━━━━━━━━━━━━━━━━━\u001b[0m\u001b[37m\u001b[0m \u001b[1m2s\u001b[0m 2s/step - clasificacion_binary_accuracy: 0.5000 - clasificacion_loss: 0.2814 - loss: 2.1198 - regresion_loss: 1.8385 - regresion_mean_absolute_error: 1.2114 - val_clasificacion_binary_accuracy: 0.5000 - val_clasificacion_loss: 0.3073 - val_loss: 0.5336 - val_regresion_loss: 0.2263 - val_regresion_mean_absolute_error: 0.3700\n",
      "Epoch 3/100\n",
      "\u001b[1m1/1\u001b[0m \u001b[32m━━━━━━━━━━━━━━━━━━━━\u001b[0m\u001b[37m\u001b[0m \u001b[1m2s\u001b[0m 2s/step - clasificacion_binary_accuracy: 0.5000 - clasificacion_loss: 0.2923 - loss: 0.9090 - regresion_loss: 0.6167 - regresion_mean_absolute_error: 0.7067 - val_clasificacion_binary_accuracy: 0.5000 - val_clasificacion_loss: 0.2825 - val_loss: 0.4166 - val_regresion_loss: 0.1341 - val_regresion_mean_absolute_error: 0.2896\n",
      "Epoch 4/100\n",
      "\u001b[1m1/1\u001b[0m \u001b[32m━━━━━━━━━━━━━━━━━━━━\u001b[0m\u001b[37m\u001b[0m \u001b[1m2s\u001b[0m 2s/step - clasificacion_binary_accuracy: 0.5000 - clasificacion_loss: 0.2728 - loss: 0.4147 - regresion_loss: 0.1419 - regresion_mean_absolute_error: 0.2896 - val_clasificacion_binary_accuracy: 0.5000 - val_clasificacion_loss: 0.2656 - val_loss: 0.6507 - val_regresion_loss: 0.3851 - val_regresion_mean_absolute_error: 0.5932\n",
      "Epoch 5/100\n",
      "\u001b[1m1/1\u001b[0m \u001b[32m━━━━━━━━━━━━━━━━━━━━\u001b[0m\u001b[37m\u001b[0m \u001b[1m2s\u001b[0m 2s/step - clasificacion_binary_accuracy: 0.5000 - clasificacion_loss: 0.2646 - loss: 0.6676 - regresion_loss: 0.4030 - regresion_mean_absolute_error: 0.5426 - val_clasificacion_binary_accuracy: 0.5000 - val_clasificacion_loss: 0.2571 - val_loss: 0.6470 - val_regresion_loss: 0.3899 - val_regresion_mean_absolute_error: 0.6042\n",
      "Epoch 6/100\n",
      "\u001b[1m1/1\u001b[0m \u001b[32m━━━━━━━━━━━━━━━━━━━━\u001b[0m\u001b[37m\u001b[0m \u001b[1m2s\u001b[0m 2s/step - clasificacion_binary_accuracy: 0.5000 - clasificacion_loss: 0.2626 - loss: 0.7442 - regresion_loss: 0.4817 - regresion_mean_absolute_error: 0.6587 - val_clasificacion_binary_accuracy: 0.5000 - val_clasificacion_loss: 0.2533 - val_loss: 0.5184 - val_regresion_loss: 0.2650 - val_regresion_mean_absolute_error: 0.4771\n",
      "Epoch 7/100\n",
      "\u001b[1m1/1\u001b[0m \u001b[32m━━━━━━━━━━━━━━━━━━━━\u001b[0m\u001b[37m\u001b[0m \u001b[1m2s\u001b[0m 2s/step - clasificacion_binary_accuracy: 0.5000 - clasificacion_loss: 0.2632 - loss: 0.6221 - regresion_loss: 0.3589 - regresion_mean_absolute_error: 0.5692 - val_clasificacion_binary_accuracy: 0.5000 - val_clasificacion_loss: 0.2525 - val_loss: 0.4313 - val_regresion_loss: 0.1788 - val_regresion_mean_absolute_error: 0.3671\n",
      "Epoch 8/100\n",
      "\u001b[1m1/1\u001b[0m \u001b[32m━━━━━━━━━━━━━━━━━━━━\u001b[0m\u001b[37m\u001b[0m \u001b[1m2s\u001b[0m 2s/step - clasificacion_binary_accuracy: 0.5000 - clasificacion_loss: 0.2639 - loss: 0.4911 - regresion_loss: 0.2272 - regresion_mean_absolute_error: 0.4357 - val_clasificacion_binary_accuracy: 0.5000 - val_clasificacion_loss: 0.2526 - val_loss: 0.3833 - val_regresion_loss: 0.1307 - val_regresion_mean_absolute_error: 0.2747\n",
      "Epoch 9/100\n",
      "\u001b[1m1/1\u001b[0m \u001b[32m━━━━━━━━━━━━━━━━━━━━\u001b[0m\u001b[37m\u001b[0m \u001b[1m2s\u001b[0m 2s/step - clasificacion_binary_accuracy: 0.5000 - clasificacion_loss: 0.2627 - loss: 0.3979 - regresion_loss: 0.1351 - regresion_mean_absolute_error: 0.2751 - val_clasificacion_binary_accuracy: 0.5000 - val_clasificacion_loss: 0.2535 - val_loss: 0.3359 - val_regresion_loss: 0.0823 - val_regresion_mean_absolute_error: 0.1643\n",
      "Epoch 10/100\n",
      "\u001b[1m1/1\u001b[0m \u001b[32m━━━━━━━━━━━━━━━━━━━━\u001b[0m\u001b[37m\u001b[0m \u001b[1m2s\u001b[0m 2s/step - clasificacion_binary_accuracy: 0.5000 - clasificacion_loss: 0.2609 - loss: 0.3412 - regresion_loss: 0.0803 - regresion_mean_absolute_error: 0.1516 - val_clasificacion_binary_accuracy: 0.5000 - val_clasificacion_loss: 0.2555 - val_loss: 0.3050 - val_regresion_loss: 0.0496 - val_regresion_mean_absolute_error: 0.1605\n",
      "Epoch 11/100\n",
      "\u001b[1m1/1\u001b[0m \u001b[32m━━━━━━━━━━━━━━━━━━━━\u001b[0m\u001b[37m\u001b[0m \u001b[1m2s\u001b[0m 2s/step - clasificacion_binary_accuracy: 0.5000 - clasificacion_loss: 0.2592 - loss: 0.3444 - regresion_loss: 0.0852 - regresion_mean_absolute_error: 0.2430 - val_clasificacion_binary_accuracy: 0.5000 - val_clasificacion_loss: 0.2569 - val_loss: 0.2997 - val_regresion_loss: 0.0427 - val_regresion_mean_absolute_error: 0.1573\n",
      "Epoch 12/100\n",
      "\u001b[1m1/1\u001b[0m \u001b[32m━━━━━━━━━━━━━━━━━━━━\u001b[0m\u001b[37m\u001b[0m \u001b[1m2s\u001b[0m 2s/step - clasificacion_binary_accuracy: 0.5000 - clasificacion_loss: 0.2583 - loss: 0.3771 - regresion_loss: 0.1187 - regresion_mean_absolute_error: 0.2977 - val_clasificacion_binary_accuracy: 0.5000 - val_clasificacion_loss: 0.2566 - val_loss: 0.3015 - val_regresion_loss: 0.0448 - val_regresion_mean_absolute_error: 0.1704\n",
      "Epoch 13/100\n",
      "\u001b[1m1/1\u001b[0m \u001b[32m━━━━━━━━━━━━━━━━━━━━\u001b[0m\u001b[37m\u001b[0m \u001b[1m2s\u001b[0m 2s/step - clasificacion_binary_accuracy: 0.5000 - clasificacion_loss: 0.2582 - loss: 0.3799 - regresion_loss: 0.1217 - regresion_mean_absolute_error: 0.3034 - val_clasificacion_binary_accuracy: 0.5000 - val_clasificacion_loss: 0.2555 - val_loss: 0.2972 - val_regresion_loss: 0.0417 - val_regresion_mean_absolute_error: 0.1734\n",
      "Epoch 14/100\n",
      "\u001b[1m1/1\u001b[0m \u001b[32m━━━━━━━━━━━━━━━━━━━━\u001b[0m\u001b[37m\u001b[0m \u001b[1m2s\u001b[0m 2s/step - clasificacion_binary_accuracy: 0.5000 - clasificacion_loss: 0.2574 - loss: 0.3433 - regresion_loss: 0.0859 - regresion_mean_absolute_error: 0.2570 - val_clasificacion_binary_accuracy: 0.5000 - val_clasificacion_loss: 0.2569 - val_loss: 0.2889 - val_regresion_loss: 0.0319 - val_regresion_mean_absolute_error: 0.1476\n",
      "Epoch 15/100\n",
      "\u001b[1m1/1\u001b[0m \u001b[32m━━━━━━━━━━━━━━━━━━━━\u001b[0m\u001b[37m\u001b[0m \u001b[1m2s\u001b[0m 2s/step - clasificacion_binary_accuracy: 0.5000 - clasificacion_loss: 0.2578 - loss: 0.2991 - regresion_loss: 0.0413 - regresion_mean_absolute_error: 0.1645 - val_clasificacion_binary_accuracy: 0.5000 - val_clasificacion_loss: 0.2600 - val_loss: 0.2812 - val_regresion_loss: 0.0211 - val_regresion_mean_absolute_error: 0.1175\n",
      "Epoch 16/100\n",
      "\u001b[1m1/1\u001b[0m \u001b[32m━━━━━━━━━━━━━━━━━━━━\u001b[0m\u001b[37m\u001b[0m \u001b[1m2s\u001b[0m 2s/step - clasificacion_binary_accuracy: 0.5000 - clasificacion_loss: 0.2593 - loss: 0.2738 - regresion_loss: 0.0145 - regresion_mean_absolute_error: 0.0884 - val_clasificacion_binary_accuracy: 0.5000 - val_clasificacion_loss: 0.2616 - val_loss: 0.2784 - val_regresion_loss: 0.0167 - val_regresion_mean_absolute_error: 0.1175\n"
     ]
    },
    {
     "data": {
      "text/plain": [
       "<keras.src.callbacks.history.History at 0x7c5663173fd0>"
      ]
     },
     "execution_count": 30,
     "metadata": {},
     "output_type": "execute_result"
    }
   ],
   "source": [
    "\n",
    "input_layer = keras.Input(shape=(input_width,numero_caracteristicas))\n",
    "shared_layer = layers.Dense(32, activation='relu')(input_layer)\n",
    "\n",
    "output1 = layers.Dense(2, activation='softmax', name='clasificacion')(shared_layer)  # Clasificación\n",
    "output2 = layers.Dense(1, activation='linear', name='regresion')(shared_layer)  # Regresión\n",
    "\n",
    "modeloDenso = keras.Model(inputs=input_layer, outputs=[output1, output2])\n",
    "\n",
    "modeloDenso.compile(loss=losses.MeanSquaredError(),\n",
    "                  optimizer=optimizers.AdamW(learning_rate=0.05),\n",
    "                  metrics=[metrics.BinaryAccuracy(),metrics.MeanAbsoluteError()])\n",
    "\n",
    "modeloDenso.fit(x_train,\n",
    "                {'clasificacion': y_train2, 'regresion': y_train1},\n",
    "                callbacks = callback,\n",
    "                epochs = 100, \n",
    "                validation_split = 0.2,\n",
    "                batch_size=20848)"
   ]
  },
  {
   "cell_type": "code",
   "execution_count": 31,
   "id": "e4a17c9f",
   "metadata": {
    "colab": {
     "base_uri": "https://localhost:8080/"
    },
    "id": "e4a17c9f",
    "outputId": "4b2affb1-9ba5-4bd0-f597-514f30894914",
    "scrolled": true
   },
   "outputs": [
    {
     "name": "stdout",
     "output_type": "stream",
     "text": [
      "\u001b[1m621/621\u001b[0m \u001b[32m━━━━━━━━━━━━━━━━━━━━\u001b[0m\u001b[37m\u001b[0m \u001b[1m1s\u001b[0m 2ms/step - clasificacion_binary_accuracy: 0.5000 - clasificacion_loss: 0.2994 - loss: 1.6512 - regresion_loss: 1.3518 - regresion_mean_absolute_error: 1.0515\n"
     ]
    }
   ],
   "source": [
    "loss, loss_output1, loss_output2, acc_output1, mae_output2 = modeloDenso.evaluate(\n",
    "    x_test,{'clasificacion': y_test2, 'regresion': y_test1},\n",
    ")"
   ]
  },
  {
   "cell_type": "markdown",
   "id": "d4d9c8a6-4171-4aa5-b848-4f44d6da44e3",
   "metadata": {
    "id": "d4d9c8a6-4171-4aa5-b848-4f44d6da44e3"
   },
   "source": [
    "### 3.2 LSTM y GRU."
   ]
  },
  {
   "cell_type": "markdown",
   "id": "0421de8b",
   "metadata": {
    "id": "0421de8b"
   },
   "source": [
    "Para los segundos modelos usaremos modelos simples con una única capa oculta. Crearemos uno para cada tipo de capa oculta: uno con LSTM y otro con GRU."
   ]
  },
  {
   "cell_type": "code",
   "execution_count": 32,
   "id": "lbbWlY89cBqd",
   "metadata": {
    "id": "lbbWlY89cBqd"
   },
   "outputs": [],
   "source": [
    "input_layer = keras.Input(shape=(input_width,numero_caracteristicas))\n",
    "shared_layer = layers.LSTM(32, return_sequences = True)(input_layer)\n",
    "\n",
    "output1 = layers.Dense(2, activation='softmax', name='clasificacion')(shared_layer)  # Clasificación\n",
    "output2 = layers.Dense(1, activation='linear', name='regresion')(shared_layer)  # Regresión\n",
    "\n",
    "modeloLSTM = keras.Model(inputs=input_layer, outputs=[output1, output2])\n",
    "\n",
    "modeloLSTM.compile(loss=losses.MeanSquaredError(),\n",
    "                  optimizer=optimizers.AdamW(learning_rate=0.05),\n",
    "                  metrics=[metrics.MeanAbsoluteError(),metrics.BinaryAccuracy()])"
   ]
  },
  {
   "cell_type": "code",
   "execution_count": 33,
   "id": "4BXTAlbxcBs2",
   "metadata": {
    "id": "4BXTAlbxcBs2"
   },
   "outputs": [],
   "source": [
    "input_layer = keras.Input(shape=(input_width,numero_caracteristicas))\n",
    "shared_layer = layers.GRU(32, return_sequences = True)(input_layer)\n",
    "\n",
    "output1 = layers.Dense(2, activation='softmax', name='clasificacion')(shared_layer)  # Clasificación\n",
    "output2 = layers.Dense(1, activation='linear', name='regresion')(shared_layer)  # Regresión\n",
    "\n",
    "modeloGRU = keras.Model(inputs=input_layer, outputs=[output1, output2])\n",
    "\n",
    "modeloGRU.compile(loss=losses.MeanSquaredError(),\n",
    "                  optimizer=optimizers.AdamW(learning_rate=0.05),\n",
    "                  metrics=[metrics.MeanAbsoluteError(),metrics.BinaryAccuracy()])"
   ]
  },
  {
   "cell_type": "code",
   "execution_count": null,
   "id": "ENEnCUlEcByw",
   "metadata": {
    "colab": {
     "base_uri": "https://localhost:8080/"
    },
    "id": "ENEnCUlEcByw",
    "outputId": "8483d31b-e7d3-49d6-f39c-09885f50c15e",
    "scrolled": true
   },
   "outputs": [
    {
     "name": "stdout",
     "output_type": "stream",
     "text": [
      "Epoch 1/15\n"
     ]
    }
   ],
   "source": [
    "histLSTM = modeloLSTM.fit(x_train,\n",
    "                {'clasificacion': y_train1, 'regresion': y_train2},\n",
    "                callbacks = callback,\n",
    "                epochs = 15, \n",
    "                validation_split = 0.2,\n",
    "                batch_size=16384)"
   ]
  },
  {
   "cell_type": "code",
   "execution_count": null,
   "id": "KdzjIOeVRg9z",
   "metadata": {
    "id": "KdzjIOeVRg9z",
    "scrolled": true
   },
   "outputs": [],
   "source": [
    "histGRU = modeloGRU.fit(x_train,\n",
    "                {'clasificacion': y_train1, 'regresion': y_train2},\n",
    "                callbacks = callback,\n",
    "                epochs = 15, \n",
    "                validation_split = 0.2,\n",
    "                batch_size=16384)"
   ]
  },
  {
   "cell_type": "code",
   "execution_count": null,
   "id": "_hWor3dhcB1l",
   "metadata": {
    "colab": {
     "base_uri": "https://localhost:8080/"
    },
    "id": "_hWor3dhcB1l",
    "outputId": "35704591-80d5-43a9-8233-ae1cb2c3e913"
   },
   "outputs": [],
   "source": [
    "modeloGRU.fit(x_train,{'clasificacion': y_train1, 'regresion': y_train2},callbacks = callback,epochs = 100, validation_split = 0.2)"
   ]
  },
  {
   "cell_type": "code",
   "execution_count": null,
   "id": "f8ad3e10",
   "metadata": {
    "colab": {
     "base_uri": "https://localhost:8080/"
    },
    "id": "f8ad3e10",
    "outputId": "d48ef4bf-2aee-43e1-bdd3-c193bc2c823d"
   },
   "outputs": [],
   "source": [
    "loss, loss_output1, loss_output2, acc_output1, mae_output2 = modeloLSTM.evaluate(\n",
    "    x_test,\n",
    "    {'clasificacion': y_test1, 'regresion': y_test2}\n",
    ")"
   ]
  },
  {
   "cell_type": "code",
   "execution_count": null,
   "id": "F4vEcwRpzdsy",
   "metadata": {
    "colab": {
     "base_uri": "https://localhost:8080/"
    },
    "id": "F4vEcwRpzdsy",
    "outputId": "c1d45a2c-491c-400b-981a-e6245c14ab2a"
   },
   "outputs": [],
   "source": [
    "loss, loss_output1, loss_output2, acc_output1, mae_output2 = modeloGRU.evaluate(\n",
    "    x_test,\n",
    "    {'clasificacion': y_test1, 'regresion': y_test2}\n",
    ")"
   ]
  },
  {
   "cell_type": "code",
   "execution_count": null,
   "id": "275d959b-14ef-4b94-b157-dfae9a3d5977",
   "metadata": {},
   "outputs": [],
   "source": [
    "plt.plot(histGRU.history['val_regresion_loss'],label='GRU val_regresion_loss')\n",
    "plt.plot(histGRU.history['val_clasificacion_loss'],label='GRU val_clasificacion_loss')\n",
    "plt.plot(histLSTM.history['val_regresion_loss'],label='LSTM val_regresion_loss')\n",
    "plt.plot(histLSTM.history['val_clasificacion_loss'],label='LSTM val_clasificacion_loss')\n",
    "plt.legend();"
   ]
  },
  {
   "cell_type": "code",
   "execution_count": null,
   "id": "e7903f40-ecdc-4d52-ab75-2d4537df9e94",
   "metadata": {},
   "outputs": [],
   "source": [
    "#plt.plot(histGRU.history['val_clasificacion_mean_absolute_error'],label='val gru clasificacion_mean_absolute_error')\n",
    "plt.plot(histGRU.history['val_regresion_binary_accuracy'],label='val gru regresion regresion_binary_accuracy')\n",
    "#plt.plot(histLSTM.history['val_clasificacion_mean_absolute_error'],label='val lstm clasificacion_mean_absolute_error')\n",
    "plt.plot(histLSTM.history['val_regresion_binary_accuracy'],label='val lstm regresion regresion_binary_accuracy')\n",
    "#plt.plot(histGRU.history['clasificacion_mean_absolute_error'],label='gru clasificacion_mean_absolute_error')\n",
    "plt.plot(histGRU.history['regresion_binary_accuracy'],label='gru regresion regresion_binary_accuracy')\n",
    "#plt.plot(histLSTM.history['clasificacion_mean_absolute_error'],label='lstm clasificacion_mean_absolute_error')\n",
    "plt.plot(histLSTM.history['regresion_binary_acauracy'],label='lstm regresion regresion_binary_accuracy')\n",
    "plt.legend();"
   ]
  },
  {
   "cell_type": "markdown",
   "id": "df90899d-b43c-4681-9469-9aa995399a91",
   "metadata": {
    "id": "df90899d-b43c-4681-9469-9aa995399a91"
   },
   "source": [
    "### 3.3. LSTM y GRU anidados. Se requieren al menos dos capas.\n",
    "\n",
    "Para esta última prueba, creamos dos modelos:\n",
    "1. 2 capas :  LSTM y  GRU.\n",
    "2. 3 capas : LSTM y 2 GRU."
   ]
  },
  {
   "cell_type": "code",
   "execution_count": null,
   "id": "SBA5p0w8SYil",
   "metadata": {
    "id": "SBA5p0w8SYil"
   },
   "outputs": [],
   "source": [
    "input_layer = keras.Input(shape=(input_width,numero_caracteristicas))\n",
    "x = layers.LSTM(256, return_sequences = True)(input_layer)\n",
    "shared_layer = layers.GRU(64, return_sequences = True)(x)\n",
    "shared_layer = layers.Dense(8, activation='relu', name=\"dense_layer\")(shared_layer)\n",
    "shared_layer = layers.Dropout(0.3, name=\"dropout_layer\")(shared_layer)\n",
    "\n",
    "\n",
    "output1 = layers.Dense(1, activation='softmax', name='clasificacion')(shared_layer)  # Clasificación\n",
    "output2 = layers.Dense(1, activation='linear', name='regresion')(shared_layer)  # Regresión\n",
    "\n",
    "modeloAnidado = keras.Model(inputs=input_layer, outputs=[output1, output2])\n",
    "\n",
    "modeloAnidado.compile(loss=losses.MeanSquaredError(),\n",
    "                  optimizer=optimizers.AdamW(learning_rate=0.05),\n",
    "                  metrics=[metrics.MeanAbsoluteError(),metrics.BinaryAccuracy()])\n",
    "\n",
    "\n"
   ]
  },
  {
   "cell_type": "code",
   "execution_count": null,
   "id": "47cac648-a6ea-4486-9f23-8eec3243f1e3",
   "metadata": {
    "scrolled": true
   },
   "outputs": [],
   "source": [
    "histAnidado = modeloAnidado = modeloGRU.fit(x_train,\n",
    "                {'clasificacion': y_train1, 'regresion': y_train2},\n",
    "                callbacks = callback,\n",
    "                epochs = 600, \n",
    "                validation_split = 0.1,\n",
    "                batch_size=4096)"
   ]
  },
  {
   "cell_type": "code",
   "execution_count": null,
   "id": "19e5704e-7d9d-4bdc-b3a4-cc3d5528ef67",
   "metadata": {},
   "outputs": [],
   "source": [
    "plt.plot(histAnidado.history['val_regresion_binary_accuracy'],label='val anidado regresion regresion_binary_accuracy')\n",
    "plt.plot(histAnidado.history['regresion_binary_accuracy'],label='anidado regresion regresion_binary_accuracy')\n",
    "\n",
    "plt.legend();"
   ]
  },
  {
   "cell_type": "code",
   "execution_count": null,
   "id": "ae0bbb18",
   "metadata": {
    "colab": {
     "base_uri": "https://localhost:8080/"
    },
    "id": "ae0bbb18",
    "outputId": "30b8664d-3cff-45c5-b358-c1d5e80a96ce"
   },
   "outputs": [],
   "source": [
    "test_loss = modeloAnidado.evaluate(x_test, y_test)"
   ]
  },
  {
   "cell_type": "code",
   "execution_count": null,
   "id": "Y_sbYSMk1CPw",
   "metadata": {
    "colab": {
     "base_uri": "https://localhost:8080/"
    },
    "id": "Y_sbYSMk1CPw",
    "outputId": "e02a548f-1525-4098-9258-144b07b2e009"
   },
   "outputs": [],
   "source": [
    "prediccion = modeloAnidado.predict(x_test)"
   ]
  },
  {
   "cell_type": "code",
   "execution_count": null,
   "id": "HmmSkP4n1bkE",
   "metadata": {
    "colab": {
     "base_uri": "https://localhost:8080/"
    },
    "id": "HmmSkP4n1bkE",
    "outputId": "d1681587-4f30-43df-f18e-5bb570c5b527"
   },
   "outputs": [],
   "source": [
    "y_train2[0][0]"
   ]
  },
  {
   "cell_type": "code",
   "execution_count": null,
   "id": "FJ84HMgA1buy",
   "metadata": {
    "id": "FJ84HMgA1buy"
   },
   "outputs": [],
   "source": [
    "input_layer = keras.Input(shape=(input_width,numero_caracteristicas), name=\"input_layer\")\n",
    "\n",
    "\n",
    "# Capa LSTM\n",
    "lstm_layer = layers.LSTM(64, activation='relu', return_sequences=True, name=\"lstm_layer_1\")\n",
    "\n",
    "# Capa GRU\n",
    "gru_layer = layers.GRU(64, activation='relu', return_sequences=True, name=\"gru_layer_1\")(input_layer)\n",
    "gru_layer = layers.GRU(32, activation='relu', name=\"gru_layer_2\")(gru_layer)\n",
    "\n",
    "# Capa densa intermedia para procesar la combinación\n",
    "dense_layer = layers.Dense(64, activation='relu', name=\"dense_layer\")(merged)\n",
    "dense_layer = layers.Dropout(0.3, name=\"dropout_layer\")(dense_layer)\n",
    "\n",
    "# Salida 1: Clasificación\n",
    "classification_output = layers.Dense(1, activation='sigmoid', name=\"clasificacion\")(dense_layer)\n",
    "\n",
    "# Salida 2: Regresión\n",
    "regression_output = layers.Dense(1, activation='linear', name=\"regresion\")(dense_layer)\n",
    "\n",
    "# Modelo con dos salidas\n",
    "otroModelo = models.Model(inputs=input_layer, outputs=[classification_output, regression_output], name=\"gru_lstm_dual_output_model\")\n",
    "\n",
    "\n",
    "otroModelo.compile(loss=losses.MeanSquaredError(),\n",
    "                  optimizer=optimizers.AdamW(learning_rate=0.01),\n",
    "                  metrics=[metrics.MeanAbsoluteError(),metrics.BinaryAccuracy()])"
   ]
  },
  {
   "cell_type": "code",
   "execution_count": null,
   "id": "5b9040b8-5242-4604-bb7b-d0fba7bba56b",
   "metadata": {
    "scrolled": true
   },
   "outputs": [],
   "source": [
    "otroModelohist = otroModelo.fit(x_train,\n",
    "                {'clasificacion': y_train1, 'regresion': y_train2},\n",
    "                callbacks = callback,\n",
    "                epochs = 600, \n",
    "                validation_split = 0.05,\n",
    "                batch_size=2048)"
   ]
  },
  {
   "cell_type": "code",
   "execution_count": null,
   "id": "06cddee0-0026-4a2d-8860-12b3cf0e775e",
   "metadata": {},
   "outputs": [],
   "source": [
    "plt.plot(otroModelohist.history['val_regresion_binary_accuracy'],label='val anidado regresion regresion_binary_accuracy')\n",
    "plt.plot(otroModelohist.history['regresion_binary_accuracy'],label='anidado regresion regresion_binary_accuracy')\n",
    "\n",
    "plt.legend();"
   ]
  },
  {
   "cell_type": "markdown",
   "id": "342b3506-bd52-4bee-b820-1a2bca4bc7bb",
   "metadata": {
    "id": "342b3506-bd52-4bee-b820-1a2bca4bc7bb"
   },
   "source": [
    "### 3.4. Transformer (No es necesario entrenarlo, sólo prepararlo para su uso)."
   ]
  },
  {
   "cell_type": "markdown",
   "id": "3834ce4b-430a-40c2-b4c4-5c865fb1c863",
   "metadata": {
    "id": "3834ce4b-430a-40c2-b4c4-5c865fb1c863"
   },
   "source": [
    "## 4. Evaluación del rendimiento del/los modelo/s frente a baselines."
   ]
  },
  {
   "cell_type": "markdown",
   "id": "3b4ee2b4-91c8-44d0-8a22-e1da94fc5438",
   "metadata": {
    "id": "3b4ee2b4-91c8-44d0-8a22-e1da94fc5438"
   },
   "source": [
    "### 4.1. Compara el rendimiento de tus modelos frente entre sí y con dos baselines sencillas (diseñados baselines similares para el problema binario):\n",
    " - Un modelo que prediga siempre el último valor de entrada recibido (6h antes del dato\n",
    "a predecir).\n",
    " - Un modelo que prediga la media de los valores de entrada recibidos."
   ]
  },
  {
   "cell_type": "code",
   "execution_count": null,
   "id": "1285ac6e-a442-405a-934e-b11d539b1b62",
   "metadata": {},
   "outputs": [],
   "source": [
    "x_train[0][0], y_train2[0][0], x_train.shape"
   ]
  },
  {
   "cell_type": "code",
   "execution_count": null,
   "id": "9a60a4ab-e019-45d9-bc27-fd0d85fcfcfe",
   "metadata": {},
   "outputs": [],
   "source": [
    "def baselineMedia(x, y):\n",
    "    if np.mean(x) < x[-1]:\n",
    "        return 1 == y\n",
    "    return 0 == y \n",
    "\n",
    "def baselineMediana(x, y):\n",
    "    if np.median(x) < x[-1]:\n",
    "        return 1 == y\n",
    "    return 0 == y \n",
    "\n",
    "def baselineUltimo(x, y):\n",
    "    if x[-2] < x[-1]:\n",
    "        return 1 == y\n",
    "    return 0 == y \n",
    "\n",
    "accuracyBaselineMedia = (sum([baselineMedia(x_train[i][j],y_train2[i][j]) for i in range(x_train.shape[0]) for j in range(x_train.shape[1])])/(x_train.shape[0]*x_train.shape[1]))\n",
    "accuracyBaselineMediana = float(sum([baselineMediana(x_train[i][j],y_train2[i][j]) for i in range(x_train.shape[0]) for j in range(x_train.shape[1])])/(x_train.shape[0]*x_train.shape[1]))\n",
    "accuracyBaselineUltimo = float(sum([baselineUltimo(x_train[i][j],y_train2[i][j]) for i in range(x_train.shape[0]) for j in range(x_train.shape[1])])/(x_train.shape[0]*x_train.shape[1]))\n",
    "\n",
    "print(f'Acuracy baseline media: {accuracyBaselineMedia}\\nAcuracy baseline mediana: {accuracyBaselineMediana}\\nAccuracy baseline último: {accuracyBaselineUltimo}.');"
   ]
  },
  {
   "cell_type": "markdown",
   "id": "76e2164c-7e45-4584-b207-4077adf45680",
   "metadata": {
    "id": "76e2164c-7e45-4584-b207-4077adf45680"
   },
   "source": [
    "### 4.2. Identifica sesgos en tu modelo. Para ello, analiza las distribuciones de entrenamiento y test y las predicciones/errores de entrenamiento/test. Si identificas algún problema, adapta tu pipeline para intentar solventarlo."
   ]
  },
  {
   "cell_type": "markdown",
   "id": "f2d9d512-d8ca-41ff-b8e6-e86b99418f2f",
   "metadata": {},
   "source": [
    "Tras un análisis de los resultados obtenidos en comparación a los deseados, no se han encontrado sesgos en el modelo."
   ]
  },
  {
   "cell_type": "markdown",
   "id": "fa90e60d-5d76-4eeb-87ff-b8126c6057d6",
   "metadata": {
    "id": "fa90e60d-5d76-4eeb-87ff-b8126c6057d6"
   },
   "source": [
    "### 4.3. Busca dar respuesta a las preguntas, ¿por cuántos céntimos de dólar falla cada modelo? ¿Cuánto puedo esperar ganar con mi modelo durante el periodo de test, haciendo las operaciones de 1$?"
   ]
  },
  {
   "cell_type": "code",
   "execution_count": null,
   "id": "afb54393-63bc-44eb-80d4-1d21dc66be26",
   "metadata": {
    "id": "afb54393-63bc-44eb-80d4-1d21dc66be26"
   },
   "outputs": [],
   "source": []
  },
  {
   "cell_type": "code",
   "execution_count": null,
   "id": "fd5be180",
   "metadata": {},
   "outputs": [],
   "source": []
  }
 ],
 "metadata": {
  "colab": {
   "provenance": []
  },
  "kernelspec": {
   "display_name": "Python 3 (ipykernel)",
   "language": "python",
   "name": "python3"
  },
  "language_info": {
   "codemirror_mode": {
    "name": "ipython",
    "version": 3
   },
   "file_extension": ".py",
   "mimetype": "text/x-python",
   "name": "python",
   "nbconvert_exporter": "python",
   "pygments_lexer": "ipython3",
   "version": "3.10.12"
  }
 },
 "nbformat": 4,
 "nbformat_minor": 5
}
