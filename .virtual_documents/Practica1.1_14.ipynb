











import tensorflow as tf
from tensorflow import keras
import numpy as np
import matplotlib as plt





from keras.datasets import cifar10

(x_train, y_train) , (x_test, y_test) = cifar10.load_data()








type(x_train[0][0][0][0])


y_train = keras.utils.to_categorical(y_train, num_classes = 10)
y_test = keras.utils.to_categorical(y_test, num_classes = 10)





x_train = x_train / 255.0
x_test = x_test / 255.0





x_train = keras.layers.Flatten()(x_train)
x_test = keras.layers.Flatten()(x_test)


x_train# vemos que apalana (hape=(3072,))








model = keras.Sequential(
    [
        keras.layers.Dense(3072, activation="relu"),
        keras.layers.Dense(2000, activation="relu"),
        keras.layers.Dense(1000, activation="relu"),
        keras.layers.Dense(500, activation="relu"),
        keras.layers.Dense(200, activation="relu"),
        keras.layers.Dense(80, activation="relu"),
        keras.layers.Dense(50, activation="relu"),
        keras.layers.Dense(10, activation = "sigmoid"),
    ]
)
model.compile(optimizer=keras.optimizers.RMSprop(learning_rate=1e-2),
              loss=keras.losses.MeanSquaredError(),
              metrics=[keras.metrics.Accuracy()])
history = model.fit(
    x_train,
    y_train,
    epochs=4,
    batch_size=100,
    validation_split = .1
)


y_gorro = model.predict(x_test)


acierto = sum([sum(y_gorro[i] == y_test[i])==10 for i in range(len(y_test))])*100/len(y_test)


f'accuracy de {acierto}% en test'





import matplotlib.pyplot as plt

def plot(train, validation, title):
    plt.clf()
    epochs = range(1, len(train) + 1)
    
    plt.plot(epochs, train, 'b-o', label='Training ' + title)
    plt.plot(epochs, validation, 'r--o', label='Validation '+ title) 

    plt.title('Training and validation ' + title)
    plt.xlabel('Epochs')
    plt.ylabel(title)
    plt.legend()
    plt.show()
    
plot(history.history['loss'], history.history['val_loss'], 'loss')
plot(history.history['accuracy'], history.history['val_accuracy'], 'accuracy')





pip install keras_tuner


import keras_tuner
hp = keras_tuner.HyperParameters()

model = keras.Sequential(
    [
        keras.layers.Dense(3072, activation="relu"),
        keras.layers.Dense(units=hp.Int("units", min_value=1000, max_value=2500, step=25), activation="relu"),
        keras.layers.Dense(units=hp.Int("units", min_value=700, max_value=1300, step=25), activation="relu"),
        keras.layers.Dense(units=hp.Int("units", min_value=200, max_value=1000, step=20), activation="relu"),
        keras.layers.Dense(units=hp.Int("units", min_value=60, max_value=200, step=15), activation="relu"),
        keras.layers.Dense(50, activation="relu"),
        keras.layers.Dense(units=hp.Int("units", min_value=1000, max_value=2500, step=25), activation="relu"),
        keras.layers.Dense(10, activation = "sigmoid"),
    ]
)
model.compile(optimizer=keras.optimizers.RMSprop(learning_rate=1e-2),
              loss=keras.losses.MeanSquaredError(),
              metrics=[keras.metrics.Accuracy()])
history = model.fit(
    x_train,
    y_train,
    epochs=4,
    batch_size=100,
    validation_split = .1
)





from keras import regularizers


import keras_tuner
hp = keras_tuner.HyperParameters()

model = keras.Sequential(
    [
        keras.layers.Dense(3072, activation="relu"),
        keras.layers.Dense(units=hp.Int("units", min_value=1000, max_value=2500, step=25), activation="relu", kernel_regularizer=regularizers.l2(hp.Float("lambda", min_value=0, max_value=0.1, step=1e-4))),
        keras.layers.Dense(units=hp.Int("units", min_value=700, max_value=1300, step=25), activation="relu", kernel_regularizer=regularizers.l2(hp.Float("lambda", min_value=0, max_value=0.1, step=1e-4))),
        keras.layers.Dense(units=hp.Int("units", min_value=200, max_value=1000, step=20), activation="relu", kernel_regularizer=regularizers.l2(hp.Float("lambda", min_value=0, max_value=0.1, step=1e-4))),
        keras.layers.Dense(units=hp.Int("units", min_value=60, max_value=200, step=15), activation="relu", kernel_regularizer=regularizers.l2(hp.Float("lambda", min_value=0, max_value=0.1, step=1e-4))),
        keras.layers.Dense(50, activation="relu"),
        keras.layers.Dense(units=hp.Int("units", min_value=1000, max_value=2500, step=25), activation="relu"),
        keras.layers.Dense(10, activation = "sigmoid"),
    ]
)
model.compile(optimizer=keras.optimizers.RMSprop(learning_rate=1e-2),
              loss=keras.losses.MeanSquaredError(),
              metrics=[keras.metrics.Accuracy()])
history = model.fit(
    x_train,
    y_train,
    epochs=4,
    batch_size=100,
    validation_split = .1
)


plot(history.history['loss'], history.history['val_loss'], 'loss')
plot(history.history['accuracy'], history.history['val_accuracy'], 'accuracy')


import keras_tuner
hp = keras_tuner.HyperParameters()

model = keras.Sequential(
    [
        keras.layers.Dense(3072, activation="relu"),
        keras.layers.Dense(units=hp.Int("units", min_value=1000, max_value=2500, step=25), activation="relu", kernel_regularizer=regularizers.l2(hp.Float("lambda", min_value=0, max_value=0.1, step=1e-4))),
        keras.layers.Dense(units=hp.Int("units", min_value=700, max_value=1300, step=25), activation="relu", kernel_regularizer=regularizers.l2(hp.Float("lambda", min_value=0, max_value=0.1, step=1e-4))),
        keras.layers.Dense(units=hp.Int("units", min_value=200, max_value=1000, step=20), activation="relu", kernel_regularizer=regularizers.l2(hp.Float("lambda", min_value=0, max_value=0.1, step=1e-4))),
        keras.layers.Dense(units=hp.Int("units", min_value=60, max_value=200, step=15), activation="relu", kernel_regularizer=regularizers.l2(hp.Float("lambda", min_value=0, max_value=0.1, step=1e-4))),
        keras.layers.Dense(50, activation="relu"),
        keras.layers.Dense(units=hp.Int("units", min_value=1000, max_value=2500, step=25), activation="relu"),
        keras.layers.Dense(10, activation = "sigmoid"),
    ]
)
model.compile(optimizer=keras.optimizers.RMSprop(learning_rate=1e-2),
              loss=keras.losses.MeanSquaredError(),
              metrics=[keras.metrics.Accuracy()])
history = model.fit(
    x_train,
    y_train,
    epochs=30,
    batch_size=25,
    validation_split = .1
)









