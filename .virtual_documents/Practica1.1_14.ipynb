











import tensorflow as tf
from tensorflow import keras
import numpy as np
import matplotlib as plt





from keras.datasets import cifar10

(x_train, y_train) , (x_test, y_test) = cifar10.load_data()








type(x_train[0][0][0][0])


y_train = keras.utils.to_categorical(y_train, num_classes = 10)
y_test = keras.utils.to_categorical(y_test, num_classes = 10)





x_train = x_train / 255.0
x_test = x_test / 255.0





x_train = keras.layers.Flatten()(x_train)


x_train[0] # vemos que apalana (hape=(3072,))









