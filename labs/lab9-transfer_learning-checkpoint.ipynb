{
 "cells": [
  {
   "cell_type": "markdown",
   "metadata": {
    "id": "57knM8jrYZ2t"
   },
   "source": [
    "# Práctica 9: Transfer learning\n",
    "\n",
    "\n",
    "## Pre-requisitos\n",
    "\n",
    "### Instalar paquetes\n",
    "\n",
    "Si la práctica requiere algún paquete de Python, habrá que incluir una celda en la que se instalen. Si usamos un paquete que se ha utilizado en prácticas anteriores, podríamos dar por supuesto que está instalado pero no cuesta nada satisfacer todas las dependencias en la propia práctica para reducir las dependencias entre ellas.\n",
    "\n",
    "### NOTA: En <font color='red'>Google Colab</font> hay que instalar los paquetes EN CADA EJECUCIÓN"
   ]
  },
  {
   "cell_type": "code",
   "execution_count": null,
   "metadata": {
    "id": "LkaimNJfYZ2w"
   },
   "outputs": [],
   "source": [
    "# Ejemplo de instalación de tensorflow 2.0\n",
    "#%tensorflow_version 2.x\n",
    "# !pip3 install tensorflow  # NECESARIO SOLO SI SE EJECUTA EN LOCAL\n",
    "import tensorflow as tf\n",
    "\n",
    "# Hacemos los imports que sean necesarios\n",
    "import numpy as np\n",
    "import matplotlib.pyplot as plt"
   ]
  },
  {
   "cell_type": "markdown",
   "metadata": {
    "id": "SOch-CnwQttl"
   },
   "source": [
    "# Transfer learning sobre Stanford Dogs\n",
    "\n",
    "Lo que queremos hacer es entrenar un clasificador para que catalogue las distintas clases de perros almacenadas en el dataset Stanford Dogs. Para ello, lo primero que tenemos que hacer es cargar el dataset."
   ]
  },
  {
   "cell_type": "code",
   "execution_count": null,
   "metadata": {
    "id": "1gXdWDBIEKel"
   },
   "outputs": [],
   "source": [
    "import tensorflow_datasets as tfds\n",
    "\n",
    "(ds_train, ds_test), ds_info = tfds.load(\n",
    "    'stanford_dogs', split=['train', 'test'], with_info=True, as_supervised=True\n",
    ")\n",
    "NUM_CLASSES = ds_info.features['label'].num_classes"
   ]
  },
  {
   "cell_type": "markdown",
   "metadata": {
    "id": "wkaCDOGapMyl"
   },
   "source": [
    "## Preprocesado de los datos\n",
    "\n",
    "Antes de nada, vamos a ver el tamaño que tienen las imágenes de entrada."
   ]
  },
  {
   "cell_type": "code",
   "execution_count": null,
   "metadata": {
    "id": "5xjcLa21EKen"
   },
   "outputs": [],
   "source": [
    "# ds_train es un iterable con una tupla (imagen, clase). Vamos a ver la resolución de la imagen\n",
    "for i, element in enumerate(ds_train.take(5)):\n",
    "    print(element[0].shape)"
   ]
  },
  {
   "cell_type": "markdown",
   "metadata": {
    "id": "JHwD7iLeWTm1"
   },
   "source": [
    "Como podemos observar, el tamaño de las imágenes es variable y no coincide con el tamaño que esperamos a la entrada de la red. \n",
    "\n",
    "Nuestro primer cometido será el modificar las imágenes para que tengan el tamaño fijo 224x224x3.\n",
    "\n",
    "**<font color='red'>PISTA:</font> puedes usar la función [resize](https://www.tensorflow.org/api_docs/python/tf/image/resize) y la función map, que te permite operar sobre cada elemento de un iterable**"
   ]
  },
  {
   "cell_type": "code",
   "execution_count": null,
   "metadata": {
    "id": "7aoHeJUGEKeo"
   },
   "outputs": [],
   "source": [
    "## TODO: completa el código en las partes donde hay un None \n",
    "# hecho\n",
    "tamanoDeseado = (224,224)\n",
    "ds_train = ds_train.map(lambda image, label: (tf.image.resize(image, tamanoDeseado) , label))\n",
    "ds_test = ds_test.map(lambda image, label: (tf.image.resize(image, tamanoDeseado) , label))"
   ]
  },
  {
   "cell_type": "markdown",
   "metadata": {
    "id": "fBWw_ncKh1EA"
   },
   "source": [
    "#### Visualización de los datos\n",
    "Una vez hecho el preprocesado, ya podemos visualizar las imágenes."
   ]
  },
  {
   "cell_type": "code",
   "execution_count": null,
   "metadata": {
    "id": "ZFyHhz4lhvme"
   },
   "outputs": [],
   "source": [
    "def format_label(label):\n",
    " \n",
    "    string_label = label_info.int2str(label)\n",
    "    return string_label.split(\"-\")[1]\n",
    "\n",
    "label_info = ds_info.features[\"label\"]\n",
    "\n",
    "for i, (image, label) in enumerate(ds_train.take(9)):\n",
    "    plt.subplot(3, 3, i + 1)\n",
    "    plt.imshow(image.numpy().astype(\"uint8\"))\n",
    "    plt.title(\"{}\".format(format_label(label)))\n",
    "    plt.axis(\"off\")"
   ]
  },
  {
   "cell_type": "markdown",
   "metadata": {
    "id": "6cpyBP_MZdj-"
   },
   "source": [
    "A mayores, cada red preentrenada tiene un preprocesado de los datos propio, que hay que realizar antes de pasárselo al modelo. En el caso de DenseNet121, la función de preprocesado se llama \n",
    "\n",
    "```\n",
    "tf.keras.applications.densenet.preprocess_input\n",
    "```\n"
   ]
  },
  {
   "cell_type": "code",
   "execution_count": null,
   "metadata": {
    "id": "NCuqvBRlXcSa"
   },
   "outputs": [],
   "source": [
    "## TODO: aplica la función de preprocesado a los conjuntos del dataset\n",
    "#hecho\n",
    "ds_train = ds_train.map(lambda image, label : (tf.keras.applications.densenet.preprocess_input(image), label))\n",
    "ds_test = ds_test.map(lambda image, label : (tf.keras.applications.densenet.preprocess_input(image), label))"
   ]
  },
  {
   "cell_type": "markdown",
   "metadata": {
    "id": "77mBj__rcrui"
   },
   "source": [
    "La etiqueta es numérica, y hay que convertirla a tipo one_hot con la función [tf.one_hot](https://www.tensorflow.org/api_docs/python/tf/one_hot)\n",
    "\n",
    "**<font color='red'>PISTA:</font> el número de clases se ha almacenado anteriormente en la variable NUM_CLASSES**"
   ]
  },
  {
   "cell_type": "code",
   "execution_count": null,
   "metadata": {
    "id": "wyPG2DeDadUN"
   },
   "outputs": [],
   "source": [
    "## TODO: convierte las etiquetas a tipo one hot.\n",
    "#hecho\n",
    "ds_train = ds_train.map(lambda image, label: (image, tf.one_hot(label, NUM_CLASSES)))\n",
    "ds_test = ds_test.map(lambda image, label: (image, tf.one_hot(label, NUM_CLASSES)))"
   ]
  },
  {
   "cell_type": "markdown",
   "metadata": {
    "id": "7hSCpabQMlnR"
   },
   "source": [
    "Finalmente, nos queda preparar los datos en batches para pasárselos al entrenamiento. Aquí distinguiremos entre entrenamiento y test, ya que los datos de entrenamiento es mejor hacer los batches de manera aleatoria en cada iteración."
   ]
  },
  {
   "cell_type": "code",
   "execution_count": null,
   "metadata": {
    "id": "wXNa7oG8M9o1"
   },
   "outputs": [],
   "source": [
    "batch_size = 128\n",
    "ds_train_batch = ds_train.cache().shuffle(batch_size*5).batch(batch_size)\n",
    "ds_test_batch = ds_test.batch(batch_size) # En test no es necesario aleatorizar"
   ]
  },
  {
   "cell_type": "markdown",
   "metadata": {
    "id": "7ttiMl9JlzBR"
   },
   "source": [
    "## Creando el modelo\n",
    "\n",
    "Una vez obtenido un correcto preprocesado de los datos, vamos a crear el modelo. Nuestro modelo constará de tres partes diferenciadas:\n",
    "\n",
    "1. Data augmentation\n",
    "1. DenseNet121 preentrenado\n",
    "1. Clasificador\n",
    "\n",
    "Vamos a ir paso a paso creando cada uno de los puntos."
   ]
  },
  {
   "cell_type": "markdown",
   "metadata": {
    "id": "2ry4lvNGKuqC"
   },
   "source": [
    "### Data augmentation\n",
    "\n",
    "El primer paso que vamos a realizar es aumentar los datos de entrenamiento mediante la aplicación de distintas operaciones, que se encuentran en el paquete [tensorflow.keras.layers.experimental.preprocessing](https://www.tensorflow.org/api_docs/python/tf/keras/layers/experimental/preprocessing). En concreto, vamos a realizar las siguientes operaciones:\n",
    "\n",
    "1. Rotaciones aleatorias de $2*\\pi*0.15$ grados\n",
    "1. Traslaciones aleatorias del $10\\%$ del tamaño de la imagen\n",
    "1. Giros aleatorios de la imagen\n",
    "1. Cambios aleatorios del contraste del $10\\%$"
   ]
  },
  {
   "cell_type": "code",
   "execution_count": null,
   "metadata": {
    "id": "8IdcMA7MiU1C"
   },
   "outputs": [],
   "source": [
    "#from tensorflow.keras.layers.experimental import preprocessing\n",
    "from tensorflow.keras.models import Sequential\n",
    "\n",
    "## TODO: crea el modelo de data augmentation, rellenando los huecos marcados con None\n",
    "#hecho\n",
    "img_augmentation = Sequential(\n",
    "    [\n",
    "        tf.keras.layers.RandomRotation(factor = .15), # rotaciones\n",
    "        tf.keras.layers.RandomTranslation(height_factor = .1, width_factor = .1), # traslaciones\n",
    "        tf.keras.layers.RandomFlip(), # giros\n",
    "        tf.keras.layers.RandomContrast(factor = .1),  # contraste\n",
    "    ],\n",
    "    name=\"img_augmentation\",\n",
    ")"
   ]
  },
  {
   "cell_type": "markdown",
   "metadata": {
    "id": "2QNMcdP4m3Vs"
   },
   "source": [
    "### Descargar un modelo preentrenado\n",
    "\n",
    "\n",
    "Lo primero que vamos a hacer es descargar un modelo preentrenado. Por suerte, en Tensorflow tenemos una serie de modelos ya preentrenados. Se encuentran en el paquete **tensorflow.keras.applications** ([Doc](https://keras.io/api/applications/)). En concreto, vamos a utilizar la red DenseNet121, cuyo esquema podemos ver en la siguiente imagen:\n",
    "\n",
    "<img src=\"./img/densenet121.png\" alt=\"DenseNet121\" width=\"600\"/>\n",
    "\n",
    "En esencia, es una variante del bloque residual, en donde la salida de una capa se suma a todas las salidas de las capas siguientes.\n",
    "\n",
    "Para cargar el modelo haremos lo siguiente:"
   ]
  },
  {
   "cell_type": "code",
   "execution_count": null,
   "metadata": {
    "id": "tFxztZQInlAB"
   },
   "outputs": [],
   "source": [
    "from tensorflow.keras.applications import DenseNet121\n",
    "\n",
    "# Cargamos el modelo. \n",
    "densenet = DenseNet121(\n",
    "    weights='imagenet', # El parámetro weights le dice que cargue los datos de la red ya entrenada sobre el dataset ImageNet\n",
    "    include_top=False, # El parámetro include_top le dice que cargue la última capa con el clasificador\n",
    "    input_shape=(224, 224, 3), # Este parámetro será necesario para hacer transfer learning, \n",
    "                      # pues necesitaremos especificar el tamaño de los datos de entrada\n",
    ")\n",
    "\n",
    "# Comprobamos el tamaño de entrada de la red\n",
    "print('Input shape :', densenet.input_shape)\n",
    "\n",
    "# Comprobamos el tamaño de salida de la red\n",
    "print('Output shape :', densenet.output_shape)\n"
   ]
  },
  {
   "cell_type": "markdown",
   "metadata": {
    "id": "5UwKF8f1EKel"
   },
   "source": [
    "\n",
    "En la [documentación](https://keras.io/api/applications/densenet/#densenet121-function) dodemos ver que esta red admite, como entrada, imágenes de tamaño 224x224x3. Aunque podemos utilizar cualquier tamaño de entrada (siempre que sea mayor de 32x32x3), vamos a seguir utilizando ese tamaño.\n",
    "\n",
    "### Crear el clasificador\n",
    "\n",
    "Para crear el clasificador, lo que vamos a hacer es crear una última capa que será un clasificador lineal (capa [Dense](https://www.tensorflow.org/api_docs/python/tf/keras/layers/Dense)). Sin embargo, podemos observar que la salida de la red DenseNet tiene 4 dimensiones, no 2 que es lo necesario para crear el clasificador. Aquí tenemos dos opciones para realizar la conversión:\n",
    "\n",
    "1. Usar [Flatten](https://www.tensorflow.org/api_docs/python/tf/keras/layers/Flatten), en la que la dimensión 2 será de tamaño la multiplicación de las dimensiones 2, 3 y 4.\n",
    "1. Usar GlobalPooling, colapsando las dimensiones 2 y 3, siendo por tanto la dimensión 2 de salida igual a la dimensión 4 de entrada.\n",
    "\n",
    "Aquí podemos ver una imagen ilustrando la diferencia:\n",
    "\n",
    "<img src=\"./img/flatten_vs_gap.png\" alt=\"Flatten vs Global Pooling\" width=\"800\"/>\n",
    "\n",
    "En nuestro caso, vamos a usar un GlobalPooling, en concreto [GlobalAveragePooling2D](https://www.tensorflow.org/api_docs/python/tf/keras/layers/GlobalAveragePooling2D). A mayores, añadiremos alguna regularización extra como [Dropout](https://www.tensorflow.org/api_docs/python/tf/keras/layers/Dropout) o [Batch Normalization](https://www.tensorflow.org/api_docs/python/tf/keras/layers/BatchNormalization)."
   ]
  },
  {
   "cell_type": "code",
   "execution_count": null,
   "metadata": {
    "id": "c2-trJ5PV1Fr"
   },
   "outputs": [],
   "source": [
    "\n",
    "## TODO: crea el clasificador, rellenando los huecos marcados por None\n",
    "#hecho\n",
    "classifier = Sequential(\n",
    "    [\n",
    "        tf.keras.layers.GlobalAveragePooling2D(), # GlobalAveragePooling2D\n",
    "        tf.keras.layers.BatchNormalization(), # BatchNormalization\n",
    "        tf.keras.layers.Dropout(rate = .2), # Dropout con probabilidad 0.2\n",
    "        tf.keras.layers.Dense(NUM_CLASSES, activation = 'softmax') # Dense con salida el número de clases del dataset\n",
    "                                             # Softmax activation\n",
    "    ]\n",
    ")"
   ]
  },
  {
   "cell_type": "markdown",
   "metadata": {
    "id": "Hj5i_K5obV8w"
   },
   "source": [
    "### Combinando todos los elementos\n",
    "\n",
    "Una vez creados todos los elementos, sólo nos falta combinarlos. Hay que recordar que la red preentrenada no se modifica, por lo que hay que indicarle que los pesos no son entrenables."
   ]
  },
  {
   "cell_type": "code",
   "execution_count": null,
   "metadata": {
    "id": "SA_x68DNbU-Z",
    "scrolled": true
   },
   "outputs": [],
   "source": [
    "## TODO: Crea el modelo final combinando los 3 modelos creados anteriormente\n",
    "\n",
    "input = tf.keras.Input(shape = (224, 224, 3))  # capa de input, teniendo en cuenta el tamaño de las imágenes \n",
    "\n",
    "input_augmented = img_augmentation(inputs=input)  # aplica el modelo de data augmentation a la capa de entrada\n",
    "\n",
    "densenet.trainable = False\n",
    "densenet_output = densenet(inputs=input_augmented)  # aplica el modelo densenet\n",
    "\n",
    "output = classifier(inputs=densenet_output)  # aplica el clasificador\n",
    "\n",
    "model = tf.keras.Model(inputs=input_augmented, outputs=output, name=\"DenseNet\")  # crea el modelo final, indicando la entrada y la salida\n",
    "optimizer = tf.keras.optimizers.Adam(learning_rate=0.01)  # define el optimizador. Usaremos un Adam\n",
    "model.compile(\n",
    "    optimizer=optimizer, loss=tf.keras.losses.CategoricalCrossentropy(), metrics=[tf.keras.metrics.Precision()]  # Compila el modelo, usando el optimizador creado, la función de pérdida para clasificación multiclase y la métrica de precisión\n",
    ")"
   ]
  },
  {
   "cell_type": "markdown",
   "metadata": {
    "id": "7qwFar8Eg3bQ"
   },
   "source": [
    "## Entrenando el modelo\n",
    "\n",
    "Por último, sólo nos queda entrenar el modelo durante 10 iteraciones (ten paciencia, puede llevar sobre 10 minutos). En test, deberíamos tener una precisión cercana al $80\\%$."
   ]
  },
  {
   "cell_type": "code",
   "execution_count": null,
   "metadata": {},
   "outputs": [],
   "source": [
    "def plot_hist(hist):\n",
    "    plt.plot(hist.history[\"precision_2\"])\n",
    "    # plt.plot(hist.history[\"val_accuracy\"])\n",
    "    plt.title(\"train precision\")\n",
    "    plt.ylabel(\"precision\")\n",
    "    plt.xlabel(\"epoch\")\n",
    "    # plt.legend([\"train\", \"validation\"], loc=\"upper left\")\n",
    "    plt.show()"
   ]
  },
  {
   "cell_type": "code",
   "execution_count": null,
   "metadata": {
    "id": "KuFMXGGwfFRT"
   },
   "outputs": [],
   "source": [
    "hist = model.fit(\n",
    "    ds_train_batch, epochs=3, verbose=1  # se podría poner validation_data=ds_test_batch, y así ver en cada iteración como va, pero en este caso consume mucho tiempo\n",
    ")"
   ]
  },
  {
   "cell_type": "code",
   "execution_count": null,
   "metadata": {},
   "outputs": [],
   "source": [
    "print('TEST ACCURACY : ', model.evaluate(ds_test_batch)[-1])\n",
    "\n",
    "plot_hist(hist)"
   ]
  },
  {
   "cell_type": "code",
   "execution_count": null,
   "metadata": {},
   "outputs": [],
   "source": [
    "hist.history"
   ]
  },
  {
   "cell_type": "markdown",
   "metadata": {
    "id": "a_9t7kOWw3UO"
   },
   "source": [
    "## Fine tunning\n",
    "\n",
    "Al inicio hemos entrenado el modelo sin tocar los pesos de la red DenseNet. Sin embargo, ahora que ya hemos entrenado las capas finales, podemos reentrenar el modelo al completo. Sin embargo, hay que tener en cuenta una serie de consideraciones.\n",
    "\n",
    "- La tasa de aprendizaje tiene que ser muy baja. Un valor alto podría eliminar la calidad del entrenamiento inicial, haciendo que el sistema se comporte de manera similar a entrenarlo desde 0.\n",
    "- Las capas de Batch Normalization se mantienen sin entrenar. Esto es debido a que dificultan el entrenamiento en redes ya entrenadas, y sólo estamos buscando un ajuste fino en el sistema."
   ]
  },
  {
   "cell_type": "code",
   "execution_count": null,
   "metadata": {
    "id": "CLyLgjQaoo55"
   },
   "outputs": [],
   "source": [
    "## TODO: completa aquellos puntos marcados con None\n",
    "batch_size = 32 # Tenemos que bajar el tamaño anterior para no saturar la memoria del sistema\n",
    "ds_train_batch = ds_train.cache().shuffle(batch_size*5).batch(batch_size)\n",
    "ds_test_batch = ds_test.batch(batch_size)\n",
    "\n",
    "def unfreeze_model(model):\n",
    "    # Descongelamos las últimas 20 capas while, dejando BatchNormalization sin entrenar\n",
    "    for layer in model.layers[-20:]:\n",
    "        if not isinstance(layer, tf.keras.layers.BatchNormalization): # Comprueba que la capa no sea de tipo BatchNormalization\n",
    "            layer.trainable = True                        # Marca la capa como entrenable\n",
    "\n",
    "    optimizer = tf.keras.optimizers.Adam(learning_rate=1e-5)                    # Usa Adam con una tasa de aprendizaje de 1e-5\n",
    "    \n",
    "    model.compile(\n",
    "    optimizer=optimizer, loss=tf.keras.losses.CategoricalCrossentropy(), metrics=[tf.keras.metrics.Precision()]  # define el compilador, la función de coste y la métrica\n",
    "    )\n",
    "\n",
    "unfreeze_model(model)                                    # Llama a la función que has creado sobre nuestro modelo\n",
    "\n",
    "#epochs = 8  \n",
    "hist = model.fit(\n",
    "    ds_train_batch, epochs=3, verbose=1  # Llama a la función de entrenamiento sobre el modelo\n",
    ")\n",
    "\n"
   ]
  },
  {
   "cell_type": "code",
   "execution_count": null,
   "metadata": {},
   "outputs": [],
   "source": [
    "plot_hist(hist)\n",
    "\n",
    "print('TEST ACCURACY : ', model.evaluate(ds_test_batch)[-1])"
   ]
  },
  {
   "cell_type": "markdown",
   "metadata": {
    "id": "wiXL8pks20Up"
   },
   "source": [
    "La precisión en entrenamiento ha subido, pero en test ha bajado. ¿Qué puede estar pasando?"
   ]
  },
  {
   "cell_type": "markdown",
   "metadata": {},
   "source": [
    "como dice fcholet \n",
    "> Once your model has converged on the new data, you can try to unfreeze all or part of the base model and retrain the whole model end-to-end with a very low learning rate.\n",
    "> \n",
    ">This is an optional last step that can potentially give you incremental improvements. It could also potentially lead to quick overfitting – keep that in mind."
   ]
  },
  {
   "cell_type": "markdown",
   "metadata": {
    "id": "ZIEsuejQv4mP"
   },
   "source": [
    "# ¡ENHORABUENA! Has completado la práctica de Transfer Learning.\n",
    "\n",
    "# ¿Deseas saber más?\n",
    "\n",
    "El transfer learning no se limita sólo a entrenar las últimas capas. Se pueden utilizar sólo unas pocas capas preentrenadas, y entrenar el resto. No hay límite sobre lo que se puede hacer. Tampoco se restringe a clasificación únicamente. Las *deep features* de un modelo de clasificación suelen ser útiles para modelos de regresión, segmentación, etc."
   ]
  },
  {
   "cell_type": "markdown",
   "metadata": {
    "id": "2QIu2fE3tIHA"
   },
   "source": [
    "# Trabajo extra\n",
    "\n",
    "Como trabajo extra, se propone realizar una idea parecida, pero con dificultad añadida.\n",
    "\n",
    "- El dataset a utilizar será [cifar10](https://www.tensorflow.org/datasets/catalog/cifar10).\n",
    "- Se utilizará una entrada de la red de 32x32x3.\n",
    "- La red preentrenada a utilizar será [MobileNetV3Small](https://www.tensorflow.org/api_docs/python/tf/keras/applications/MobileNetV3Small).\n",
    "- Puedes escoger el calsificador que quieras."
   ]
  },
  {
   "cell_type": "code",
   "execution_count": 1,
   "metadata": {},
   "outputs": [],
   "source": [
    "# imports\n",
    "# -------\n",
    "import tensorflow_datasets as tfds\n",
    "import tensorflow as tf\n",
    "from tensorflow.keras import Model\n",
    "from tensorflow.keras.applications import MobileNetV3Small\n",
    "from tensorflow.keras.models import Sequential\n",
    "import matplotlib.pyplot as plt"
   ]
  },
  {
   "cell_type": "code",
   "execution_count": 2,
   "metadata": {},
   "outputs": [],
   "source": [
    "### datos\n",
    "# -----\n",
    "(ds_train, ds_test), ds_info = tfds.load(\n",
    "    'cifar10', split=['train', 'test'], with_info=True, as_supervised=True\n",
    ")\n",
    "NUM_CLASSES = ds_info.features['label'].num_classes\n",
    "\n",
    "# preprocesado segun el modelo importado (no se puede decidir)\n",
    "ds_train = ds_train.map(lambda image, label : (tf.keras.applications.mobilenet_v3.preprocess_input(image), label))\n",
    "ds_test = ds_test.map(lambda image, label : (tf.keras.applications.mobilenet_v3.preprocess_input(image), label))\n",
    "\n",
    "# one hot encoding\n",
    "ds_train = ds_train.map(lambda image, label: (image, tf.one_hot(label, NUM_CLASSES)))\n",
    "ds_test = ds_test.map(lambda image, label: (image, tf.one_hot(label, NUM_CLASSES)))\n",
    "\n",
    "# batches\n",
    "batch_size = 50\n",
    "ds_train_batch = ds_train.cache().shuffle(batch_size*5).batch(batch_size)\n",
    "ds_test_batch = ds_test.batch(batch_size) # En test no es necesario aleatorizar"
   ]
  },
  {
   "cell_type": "code",
   "execution_count": 3,
   "metadata": {},
   "outputs": [
    {
     "name": "stderr",
     "output_type": "stream",
     "text": [
      "/Users/pepe/Library/CloudStorage/OneDrive-UniversidadedaCoruña/carrera/3/1/ap/Ent_AP/lib/python3.11/site-packages/keras/src/applications/mobilenet_v3.py:452: UserWarning: `input_shape` is undefined or non-square, or `rows` is not 224. Weights for input shape (224, 224) will be loaded as the default.\n",
      "  return MobileNetV3(\n"
     ]
    }
   ],
   "source": [
    "# partes del modelo\n",
    "# -----------------\n",
    "\n",
    "# entrada de la red, definimos el tamaño esperado\n",
    "tamanoEntrada = (32, 32, 3)\n",
    "# input\n",
    "input = tf.keras.Input(shape = tamanoEntrada)  # capa de input, tamaño especificado\n",
    "\n",
    "\n",
    "\n",
    "# primera accion del modelo es aumentar los datos, definimos eso \n",
    "img_augmentation = Sequential(\n",
    "    [\n",
    "        tf.keras.layers.RandomRotation(factor = .3), # rotaciones\n",
    "        tf.keras.layers.RandomTranslation(height_factor = .2, width_factor = .2), # traslaciones\n",
    "        tf.keras.layers.RandomFlip(), # giros\n",
    "        tf.keras.layers.RandomContrast(factor = .2),  # contraste\n",
    "    ],\n",
    "    name=\"img_augmentation\",\n",
    ")\n",
    "\n",
    "\n",
    "input = img_augmentation(input)\n",
    "\n",
    "# modelo preentrenado, mobileNet, definimos los pesos y el tamaño\n",
    "MobileNet = MobileNetV3Small(\n",
    "    #input_shape = tamanoEntrada,\n",
    "    input_tensor = input,\n",
    "    include_top=False,\n",
    "    weights=\"imagenet\"\n",
    "    #weights = \"/Users/pepe/.keras/models/weights_mobilenet_v3_small_224_1.0_float.h5\"\n",
    ")\n",
    "MobileNet.trainable = False\n",
    "\n",
    "# ultimas capas, clasificador a nuestros datos particulares (cifar10)\n",
    "classifier = Sequential(\n",
    "    [\n",
    "        tf.keras.layers.GlobalAveragePooling2D(), # GlobalAveragePooling2D\n",
    "        tf.keras.layers.BatchNormalization(), # BatchNormalization\n",
    "        tf.keras.layers.Dropout(rate = .05), # Dropout con probabilidad 0.2\n",
    "        tf.keras.layers.Dense(NUM_CLASSES*8, activation = 'relu'),\n",
    "        tf.keras.layers.Dropout(rate = .05),\n",
    "        tf.keras.layers.Dense(NUM_CLASSES*4, activation = 'relu'),\n",
    "        tf.keras.layers.Dropout(rate = .05),\n",
    "        tf.keras.layers.Dense(NUM_CLASSES*2, activation = 'relu'),\n",
    "        tf.keras.layers.Dropout(rate = .05),\n",
    "        tf.keras.layers.Dense(NUM_CLASSES, activation = 'softmax') # Dense con salida el número de clases del dataset\n",
    "                                             # Softmax activation\n",
    "    ]\n",
    ")"
   ]
  },
  {
   "cell_type": "code",
   "execution_count": 4,
   "metadata": {},
   "outputs": [],
   "source": [
    "# ensamblaje\n",
    "# ----------\n",
    "\n",
    "# input\n",
    "# (( hecho arriba ))\n",
    "# input = tf.keras.Input(shape = tamanoEntrada)  # capa de input, tamaño especificado\n",
    "# input = img_augmentation(input)\n",
    "\n",
    "# output\n",
    "output = MobileNet(inputs = input)\n",
    "output = classifier(inputs = output)\n",
    "\n",
    "# modelo\n",
    "modelo = Model(inputs = input, outputs = output, name = \"MobileNetV3Small\")\n",
    "modelo.compile(\n",
    "    optimizer = tf.keras.optimizers.Adam(learning_rate=1e-3),\n",
    "    loss=tf.keras.losses.CategoricalCrossentropy(), \n",
    "    metrics=[tf.keras.metrics.Precision()]\n",
    ")"
   ]
  },
  {
   "cell_type": "code",
   "execution_count": null,
   "metadata": {},
   "outputs": [],
   "source": []
  },
  {
   "cell_type": "code",
   "execution_count": 10,
   "metadata": {},
   "outputs": [],
   "source": [
    "# entrenamiento\n",
    "# -------------\n",
    "\n",
    "def plot_hist(hist):\n",
    "    plt.plot(hist.history[\"precision\"])\n",
    "    plt.plot(hist.history[\"val_precision\"])\n",
    "    plt.title(\"train precision\")\n",
    "    plt.ylabel(\"precision\")\n",
    "    plt.xlabel(\"epoch\")\n",
    "    # plt.legend([\"train\", \"validation\"], loc=\"upper left\")\n",
    "    plt.show()\n"
   ]
  },
  {
   "cell_type": "code",
   "execution_count": 6,
   "metadata": {
    "scrolled": true
   },
   "outputs": [
    {
     "name": "stdout",
     "output_type": "stream",
     "text": [
      "Epoch 1/500\n",
      "\u001b[1m1000/1000\u001b[0m \u001b[32m━━━━━━━━━━━━━━━━━━━━\u001b[0m\u001b[37m\u001b[0m \u001b[1m14s\u001b[0m 12ms/step - loss: 2.1988 - precision: 0.4359 - val_loss: 2.0048 - val_precision: 0.5346\n",
      "Epoch 2/500\n",
      "\u001b[1m1000/1000\u001b[0m \u001b[32m━━━━━━━━━━━━━━━━━━━━\u001b[0m\u001b[37m\u001b[0m \u001b[1m11s\u001b[0m 11ms/step - loss: 2.0228 - precision: 0.5250 - val_loss: 1.9751 - val_precision: 0.5710\n",
      "Epoch 3/500\n",
      "\u001b[1m1000/1000\u001b[0m \u001b[32m━━━━━━━━━━━━━━━━━━━━\u001b[0m\u001b[37m\u001b[0m \u001b[1m11s\u001b[0m 11ms/step - loss: 2.0008 - precision: 0.5463 - val_loss: 1.9757 - val_precision: 0.5522\n",
      "Epoch 4/500\n",
      "\u001b[1m1000/1000\u001b[0m \u001b[32m━━━━━━━━━━━━━━━━━━━━\u001b[0m\u001b[37m\u001b[0m \u001b[1m11s\u001b[0m 11ms/step - loss: 1.9786 - precision: 0.5669 - val_loss: 1.9559 - val_precision: 0.5765\n",
      "Epoch 5/500\n",
      "\u001b[1m1000/1000\u001b[0m \u001b[32m━━━━━━━━━━━━━━━━━━━━\u001b[0m\u001b[37m\u001b[0m \u001b[1m11s\u001b[0m 11ms/step - loss: 1.9636 - precision: 0.5520 - val_loss: 1.9418 - val_precision: 0.5531\n",
      "Epoch 6/500\n",
      "\u001b[1m1000/1000\u001b[0m \u001b[32m━━━━━━━━━━━━━━━━━━━━\u001b[0m\u001b[37m\u001b[0m \u001b[1m11s\u001b[0m 11ms/step - loss: 1.9619 - precision: 0.5497 - val_loss: 1.9483 - val_precision: 0.5701\n",
      "Epoch 7/500\n",
      "\u001b[1m1000/1000\u001b[0m \u001b[32m━━━━━━━━━━━━━━━━━━━━\u001b[0m\u001b[37m\u001b[0m \u001b[1m11s\u001b[0m 11ms/step - loss: 1.9487 - precision: 0.5725 - val_loss: 1.9196 - val_precision: 0.5463\n",
      "Epoch 8/500\n",
      "\u001b[1m1000/1000\u001b[0m \u001b[32m━━━━━━━━━━━━━━━━━━━━\u001b[0m\u001b[37m\u001b[0m \u001b[1m11s\u001b[0m 11ms/step - loss: 1.9371 - precision: 0.5526 - val_loss: 1.9196 - val_precision: 0.5724\n",
      "Epoch 9/500\n",
      "\u001b[1m1000/1000\u001b[0m \u001b[32m━━━━━━━━━━━━━━━━━━━━\u001b[0m\u001b[37m\u001b[0m \u001b[1m11s\u001b[0m 11ms/step - loss: 1.9354 - precision: 0.5562 - val_loss: 1.9134 - val_precision: 0.5993\n",
      "Epoch 10/500\n",
      "\u001b[1m1000/1000\u001b[0m \u001b[32m━━━━━━━━━━━━━━━━━━━━\u001b[0m\u001b[37m\u001b[0m \u001b[1m11s\u001b[0m 11ms/step - loss: 1.9307 - precision: 0.5765 - val_loss: 1.8999 - val_precision: 0.5825\n",
      "Epoch 11/500\n",
      "\u001b[1m1000/1000\u001b[0m \u001b[32m━━━━━━━━━━━━━━━━━━━━\u001b[0m\u001b[37m\u001b[0m \u001b[1m11s\u001b[0m 11ms/step - loss: 1.9250 - precision: 0.5762 - val_loss: 1.8950 - val_precision: 0.5590\n",
      "Epoch 12/500\n",
      "\u001b[1m1000/1000\u001b[0m \u001b[32m━━━━━━━━━━━━━━━━━━━━\u001b[0m\u001b[37m\u001b[0m \u001b[1m11s\u001b[0m 11ms/step - loss: 1.9254 - precision: 0.5563 - val_loss: 1.8840 - val_precision: 0.5820\n",
      "Epoch 13/500\n",
      "\u001b[1m1000/1000\u001b[0m \u001b[32m━━━━━━━━━━━━━━━━━━━━\u001b[0m\u001b[37m\u001b[0m \u001b[1m11s\u001b[0m 11ms/step - loss: 1.9135 - precision: 0.5687 - val_loss: 1.8934 - val_precision: 0.5853\n",
      "Epoch 14/500\n",
      "\u001b[1m1000/1000\u001b[0m \u001b[32m━━━━━━━━━━━━━━━━━━━━\u001b[0m\u001b[37m\u001b[0m \u001b[1m11s\u001b[0m 11ms/step - loss: 1.9085 - precision: 0.5751 - val_loss: 1.8953 - val_precision: 0.5725\n",
      "Epoch 15/500\n",
      "\u001b[1m1000/1000\u001b[0m \u001b[32m━━━━━━━━━━━━━━━━━━━━\u001b[0m\u001b[37m\u001b[0m \u001b[1m11s\u001b[0m 11ms/step - loss: 1.9129 - precision: 0.5861 - val_loss: 1.8933 - val_precision: 0.5777\n",
      "Epoch 16/500\n",
      "\u001b[1m1000/1000\u001b[0m \u001b[32m━━━━━━━━━━━━━━━━━━━━\u001b[0m\u001b[37m\u001b[0m \u001b[1m11s\u001b[0m 11ms/step - loss: 1.9081 - precision: 0.5824 - val_loss: 1.8967 - val_precision: 0.5693\n",
      "Epoch 17/500\n",
      "\u001b[1m1000/1000\u001b[0m \u001b[32m━━━━━━━━━━━━━━━━━━━━\u001b[0m\u001b[37m\u001b[0m \u001b[1m11s\u001b[0m 11ms/step - loss: 1.9098 - precision: 0.5602 - val_loss: 1.8755 - val_precision: 0.5847\n",
      "Epoch 18/500\n",
      "\u001b[1m1000/1000\u001b[0m \u001b[32m━━━━━━━━━━━━━━━━━━━━\u001b[0m\u001b[37m\u001b[0m \u001b[1m11s\u001b[0m 11ms/step - loss: 1.9044 - precision: 0.5779 - val_loss: 1.8670 - val_precision: 0.5823\n",
      "Epoch 19/500\n",
      "\u001b[1m1000/1000\u001b[0m \u001b[32m━━━━━━━━━━━━━━━━━━━━\u001b[0m\u001b[37m\u001b[0m \u001b[1m11s\u001b[0m 11ms/step - loss: 1.9076 - precision: 0.5772 - val_loss: 1.8814 - val_precision: 0.5699\n",
      "Epoch 20/500\n",
      "\u001b[1m1000/1000\u001b[0m \u001b[32m━━━━━━━━━━━━━━━━━━━━\u001b[0m\u001b[37m\u001b[0m \u001b[1m11s\u001b[0m 11ms/step - loss: 1.9023 - precision: 0.5879 - val_loss: 1.8749 - val_precision: 0.5732\n",
      "Epoch 21/500\n",
      "\u001b[1m1000/1000\u001b[0m \u001b[32m━━━━━━━━━━━━━━━━━━━━\u001b[0m\u001b[37m\u001b[0m \u001b[1m11s\u001b[0m 11ms/step - loss: 1.8997 - precision: 0.5864 - val_loss: 1.8786 - val_precision: 0.5934\n",
      "Epoch 22/500\n",
      "\u001b[1m1000/1000\u001b[0m \u001b[32m━━━━━━━━━━━━━━━━━━━━\u001b[0m\u001b[37m\u001b[0m \u001b[1m11s\u001b[0m 11ms/step - loss: 1.8982 - precision: 0.5766 - val_loss: 1.8702 - val_precision: 0.5750\n",
      "Epoch 23/500\n",
      "\u001b[1m1000/1000\u001b[0m \u001b[32m━━━━━━━━━━━━━━━━━━━━\u001b[0m\u001b[37m\u001b[0m \u001b[1m11s\u001b[0m 11ms/step - loss: 1.8956 - precision: 0.5758 - val_loss: 1.8666 - val_precision: 0.5583\n",
      "Epoch 24/500\n",
      "\u001b[1m1000/1000\u001b[0m \u001b[32m━━━━━━━━━━━━━━━━━━━━\u001b[0m\u001b[37m\u001b[0m \u001b[1m11s\u001b[0m 11ms/step - loss: 1.8958 - precision: 0.5931 - val_loss: 1.8688 - val_precision: 0.5786\n",
      "Epoch 25/500\n",
      "\u001b[1m1000/1000\u001b[0m \u001b[32m━━━━━━━━━━━━━━━━━━━━\u001b[0m\u001b[37m\u001b[0m \u001b[1m11s\u001b[0m 11ms/step - loss: 1.8899 - precision: 0.5732 - val_loss: 1.8581 - val_precision: 0.5968\n",
      "Epoch 26/500\n",
      "\u001b[1m1000/1000\u001b[0m \u001b[32m━━━━━━━━━━━━━━━━━━━━\u001b[0m\u001b[37m\u001b[0m \u001b[1m11s\u001b[0m 11ms/step - loss: 1.8907 - precision: 0.5872 - val_loss: 1.8599 - val_precision: 0.5857\n",
      "Epoch 27/500\n",
      "\u001b[1m1000/1000\u001b[0m \u001b[32m━━━━━━━━━━━━━━━━━━━━\u001b[0m\u001b[37m\u001b[0m \u001b[1m11s\u001b[0m 11ms/step - loss: 1.8964 - precision: 0.5980 - val_loss: 1.8684 - val_precision: 0.5606\n",
      "Epoch 28/500\n",
      "\u001b[1m1000/1000\u001b[0m \u001b[32m━━━━━━━━━━━━━━━━━━━━\u001b[0m\u001b[37m\u001b[0m \u001b[1m11s\u001b[0m 11ms/step - loss: 1.8919 - precision: 0.5691 - val_loss: 1.8461 - val_precision: 0.5927\n",
      "Epoch 29/500\n",
      "\u001b[1m1000/1000\u001b[0m \u001b[32m━━━━━━━━━━━━━━━━━━━━\u001b[0m\u001b[37m\u001b[0m \u001b[1m11s\u001b[0m 11ms/step - loss: 1.8839 - precision: 0.5793 - val_loss: 1.8647 - val_precision: 0.5773\n",
      "Epoch 30/500\n",
      "\u001b[1m1000/1000\u001b[0m \u001b[32m━━━━━━━━━━━━━━━━━━━━\u001b[0m\u001b[37m\u001b[0m \u001b[1m11s\u001b[0m 11ms/step - loss: 1.8933 - precision: 0.5805 - val_loss: 1.8588 - val_precision: 0.5967\n",
      "Epoch 31/500\n",
      "\u001b[1m1000/1000\u001b[0m \u001b[32m━━━━━━━━━━━━━━━━━━━━\u001b[0m\u001b[37m\u001b[0m \u001b[1m11s\u001b[0m 11ms/step - loss: 1.8896 - precision: 0.5819 - val_loss: 1.8566 - val_precision: 0.5911\n",
      "Epoch 32/500\n",
      "\u001b[1m1000/1000\u001b[0m \u001b[32m━━━━━━━━━━━━━━━━━━━━\u001b[0m\u001b[37m\u001b[0m \u001b[1m11s\u001b[0m 11ms/step - loss: 1.8879 - precision: 0.5963 - val_loss: 1.8557 - val_precision: 0.5826\n",
      "Epoch 33/500\n",
      "\u001b[1m1000/1000\u001b[0m \u001b[32m━━━━━━━━━━━━━━━━━━━━\u001b[0m\u001b[37m\u001b[0m \u001b[1m11s\u001b[0m 11ms/step - loss: 1.8930 - precision: 0.5933 - val_loss: 1.8551 - val_precision: 0.5778\n",
      "Epoch 34/500\n",
      "\u001b[1m1000/1000\u001b[0m \u001b[32m━━━━━━━━━━━━━━━━━━━━\u001b[0m\u001b[37m\u001b[0m \u001b[1m11s\u001b[0m 11ms/step - loss: 1.8888 - precision: 0.5861 - val_loss: 1.8498 - val_precision: 0.5695\n",
      "Epoch 35/500\n",
      "\u001b[1m1000/1000\u001b[0m \u001b[32m━━━━━━━━━━━━━━━━━━━━\u001b[0m\u001b[37m\u001b[0m \u001b[1m11s\u001b[0m 11ms/step - loss: 1.8879 - precision: 0.5793 - val_loss: 1.8574 - val_precision: 0.5643\n",
      "Epoch 36/500\n",
      "\u001b[1m1000/1000\u001b[0m \u001b[32m━━━━━━━━━━━━━━━━━━━━\u001b[0m\u001b[37m\u001b[0m \u001b[1m11s\u001b[0m 11ms/step - loss: 1.8891 - precision: 0.5984 - val_loss: 1.8572 - val_precision: 0.5809\n",
      "Epoch 37/500\n",
      "\u001b[1m1000/1000\u001b[0m \u001b[32m━━━━━━━━━━━━━━━━━━━━\u001b[0m\u001b[37m\u001b[0m \u001b[1m11s\u001b[0m 11ms/step - loss: 1.8814 - precision: 0.5743 - val_loss: 1.8711 - val_precision: 0.5765\n",
      "Epoch 38/500\n",
      "\u001b[1m1000/1000\u001b[0m \u001b[32m━━━━━━━━━━━━━━━━━━━━\u001b[0m\u001b[37m\u001b[0m \u001b[1m11s\u001b[0m 11ms/step - loss: 1.8880 - precision: 0.5828 - val_loss: 1.8552 - val_precision: 0.5658\n",
      "Epoch 39/500\n",
      "\u001b[1m1000/1000\u001b[0m \u001b[32m━━━━━━━━━━━━━━━━━━━━\u001b[0m\u001b[37m\u001b[0m \u001b[1m11s\u001b[0m 11ms/step - loss: 1.8777 - precision: 0.5900 - val_loss: 1.8676 - val_precision: 0.5854\n",
      "Epoch 40/500\n",
      "\u001b[1m1000/1000\u001b[0m \u001b[32m━━━━━━━━━━━━━━━━━━━━\u001b[0m\u001b[37m\u001b[0m \u001b[1m11s\u001b[0m 11ms/step - loss: 1.8861 - precision: 0.5940 - val_loss: 1.8380 - val_precision: 0.5868\n",
      "Epoch 41/500\n",
      "\u001b[1m1000/1000\u001b[0m \u001b[32m━━━━━━━━━━━━━━━━━━━━\u001b[0m\u001b[37m\u001b[0m \u001b[1m11s\u001b[0m 11ms/step - loss: 1.8812 - precision: 0.5804 - val_loss: 1.8476 - val_precision: 0.5806\n",
      "Epoch 42/500\n",
      "\u001b[1m1000/1000\u001b[0m \u001b[32m━━━━━━━━━━━━━━━━━━━━\u001b[0m\u001b[37m\u001b[0m \u001b[1m11s\u001b[0m 11ms/step - loss: 1.8822 - precision: 0.5912 - val_loss: 1.8516 - val_precision: 0.5880\n",
      "Epoch 43/500\n",
      "\u001b[1m1000/1000\u001b[0m \u001b[32m━━━━━━━━━━━━━━━━━━━━\u001b[0m\u001b[37m\u001b[0m \u001b[1m11s\u001b[0m 11ms/step - loss: 1.8829 - precision: 0.5976 - val_loss: 1.8513 - val_precision: 0.5763\n",
      "Epoch 44/500\n",
      "\u001b[1m1000/1000\u001b[0m \u001b[32m━━━━━━━━━━━━━━━━━━━━\u001b[0m\u001b[37m\u001b[0m \u001b[1m11s\u001b[0m 11ms/step - loss: 1.8885 - precision: 0.5771 - val_loss: 1.8515 - val_precision: 0.5732\n",
      "Epoch 45/500\n",
      "\u001b[1m1000/1000\u001b[0m \u001b[32m━━━━━━━━━━━━━━━━━━━━\u001b[0m\u001b[37m\u001b[0m \u001b[1m11s\u001b[0m 11ms/step - loss: 1.8800 - precision: 0.5980 - val_loss: 1.8480 - val_precision: 0.6030\n",
      "Epoch 46/500\n",
      "\u001b[1m1000/1000\u001b[0m \u001b[32m━━━━━━━━━━━━━━━━━━━━\u001b[0m\u001b[37m\u001b[0m \u001b[1m11s\u001b[0m 11ms/step - loss: 1.8813 - precision: 0.5806 - val_loss: 1.8377 - val_precision: 0.5999\n",
      "Epoch 47/500\n",
      "\u001b[1m1000/1000\u001b[0m \u001b[32m━━━━━━━━━━━━━━━━━━━━\u001b[0m\u001b[37m\u001b[0m \u001b[1m11s\u001b[0m 11ms/step - loss: 1.8812 - precision: 0.5889 - val_loss: 1.8446 - val_precision: 0.5935\n",
      "Epoch 48/500\n",
      "\u001b[1m1000/1000\u001b[0m \u001b[32m━━━━━━━━━━━━━━━━━━━━\u001b[0m\u001b[37m\u001b[0m \u001b[1m11s\u001b[0m 11ms/step - loss: 1.8815 - precision: 0.5911 - val_loss: 1.8360 - val_precision: 0.5936\n",
      "Epoch 49/500\n",
      "\u001b[1m1000/1000\u001b[0m \u001b[32m━━━━━━━━━━━━━━━━━━━━\u001b[0m\u001b[37m\u001b[0m \u001b[1m11s\u001b[0m 11ms/step - loss: 1.8737 - precision: 0.5999 - val_loss: 1.8357 - val_precision: 0.6123\n",
      "Epoch 50/500\n",
      "\u001b[1m1000/1000\u001b[0m \u001b[32m━━━━━━━━━━━━━━━━━━━━\u001b[0m\u001b[37m\u001b[0m \u001b[1m11s\u001b[0m 11ms/step - loss: 1.8672 - precision: 0.5956 - val_loss: 1.8192 - val_precision: 0.5903\n",
      "Epoch 51/500\n",
      "\u001b[1m1000/1000\u001b[0m \u001b[32m━━━━━━━━━━━━━━━━━━━━\u001b[0m\u001b[37m\u001b[0m \u001b[1m11s\u001b[0m 11ms/step - loss: 1.8827 - precision: 0.5668 - val_loss: 1.8473 - val_precision: 0.5794\n",
      "Epoch 52/500\n",
      "\u001b[1m1000/1000\u001b[0m \u001b[32m━━━━━━━━━━━━━━━━━━━━\u001b[0m\u001b[37m\u001b[0m \u001b[1m11s\u001b[0m 11ms/step - loss: 1.8783 - precision: 0.5970 - val_loss: 1.8441 - val_precision: 0.5850\n",
      "Epoch 53/500\n",
      "\u001b[1m1000/1000\u001b[0m \u001b[32m━━━━━━━━━━━━━━━━━━━━\u001b[0m\u001b[37m\u001b[0m \u001b[1m11s\u001b[0m 11ms/step - loss: 1.8797 - precision: 0.5848 - val_loss: 1.8423 - val_precision: 0.5892\n",
      "Epoch 54/500\n",
      "\u001b[1m1000/1000\u001b[0m \u001b[32m━━━━━━━━━━━━━━━━━━━━\u001b[0m\u001b[37m\u001b[0m \u001b[1m11s\u001b[0m 11ms/step - loss: 1.8722 - precision: 0.6036 - val_loss: 1.8370 - val_precision: 0.5912\n",
      "Epoch 55/500\n",
      "\u001b[1m1000/1000\u001b[0m \u001b[32m━━━━━━━━━━━━━━━━━━━━\u001b[0m\u001b[37m\u001b[0m \u001b[1m11s\u001b[0m 11ms/step - loss: 1.8759 - precision: 0.5891 - val_loss: 1.8412 - val_precision: 0.5811\n",
      "Epoch 56/500\n",
      "\u001b[1m1000/1000\u001b[0m \u001b[32m━━━━━━━━━━━━━━━━━━━━\u001b[0m\u001b[37m\u001b[0m \u001b[1m12s\u001b[0m 12ms/step - loss: 1.8743 - precision: 0.5910 - val_loss: 1.8363 - val_precision: 0.5863\n",
      "Epoch 57/500\n",
      "\u001b[1m1000/1000\u001b[0m \u001b[32m━━━━━━━━━━━━━━━━━━━━\u001b[0m\u001b[37m\u001b[0m \u001b[1m11s\u001b[0m 11ms/step - loss: 1.8705 - precision: 0.6068 - val_loss: 1.8365 - val_precision: 0.5838\n",
      "Epoch 58/500\n",
      "\u001b[1m1000/1000\u001b[0m \u001b[32m━━━━━━━━━━━━━━━━━━━━\u001b[0m\u001b[37m\u001b[0m \u001b[1m11s\u001b[0m 11ms/step - loss: 1.8756 - precision: 0.5985 - val_loss: 1.8364 - val_precision: 0.5984\n",
      "Epoch 59/500\n",
      "\u001b[1m1000/1000\u001b[0m \u001b[32m━━━━━━━━━━━━━━━━━━━━\u001b[0m\u001b[37m\u001b[0m \u001b[1m11s\u001b[0m 11ms/step - loss: 1.8732 - precision: 0.5937 - val_loss: 1.8332 - val_precision: 0.5798\n",
      "Epoch 60/500\n",
      "\u001b[1m1000/1000\u001b[0m \u001b[32m━━━━━━━━━━━━━━━━━━━━\u001b[0m\u001b[37m\u001b[0m \u001b[1m11s\u001b[0m 11ms/step - loss: 1.8701 - precision: 0.5913 - val_loss: 1.8408 - val_precision: 0.5823\n",
      "Epoch 61/500\n",
      "\u001b[1m1000/1000\u001b[0m \u001b[32m━━━━━━━━━━━━━━━━━━━━\u001b[0m\u001b[37m\u001b[0m \u001b[1m10s\u001b[0m 10ms/step - loss: 1.8699 - precision: 0.6026 - val_loss: 1.8523 - val_precision: 0.5694\n",
      "Epoch 62/500\n",
      "\u001b[1m1000/1000\u001b[0m \u001b[32m━━━━━━━━━━━━━━━━━━━━\u001b[0m\u001b[37m\u001b[0m \u001b[1m10s\u001b[0m 10ms/step - loss: 1.8828 - precision: 0.5875 - val_loss: 1.8478 - val_precision: 0.5762\n",
      "Epoch 63/500\n",
      "\u001b[1m1000/1000\u001b[0m \u001b[32m━━━━━━━━━━━━━━━━━━━━\u001b[0m\u001b[37m\u001b[0m \u001b[1m11s\u001b[0m 11ms/step - loss: 1.8799 - precision: 0.5932 - val_loss: 1.8599 - val_precision: 0.5799\n",
      "Epoch 64/500\n",
      "\u001b[1m1000/1000\u001b[0m \u001b[32m━━━━━━━━━━━━━━━━━━━━\u001b[0m\u001b[37m\u001b[0m \u001b[1m11s\u001b[0m 11ms/step - loss: 1.8775 - precision: 0.5940 - val_loss: 1.8443 - val_precision: 0.5765\n",
      "Epoch 65/500\n",
      "\u001b[1m1000/1000\u001b[0m \u001b[32m━━━━━━━━━━━━━━━━━━━━\u001b[0m\u001b[37m\u001b[0m \u001b[1m10s\u001b[0m 10ms/step - loss: 1.8779 - precision: 0.5795 - val_loss: 1.8406 - val_precision: 0.6234\n",
      "Epoch 66/500\n",
      "\u001b[1m1000/1000\u001b[0m \u001b[32m━━━━━━━━━━━━━━━━━━━━\u001b[0m\u001b[37m\u001b[0m \u001b[1m10s\u001b[0m 10ms/step - loss: 1.8760 - precision: 0.5968 - val_loss: 1.8420 - val_precision: 0.5722\n",
      "Epoch 67/500\n",
      "\u001b[1m1000/1000\u001b[0m \u001b[32m━━━━━━━━━━━━━━━━━━━━\u001b[0m\u001b[37m\u001b[0m \u001b[1m10s\u001b[0m 10ms/step - loss: 1.8716 - precision: 0.6043 - val_loss: 1.8362 - val_precision: 0.6031\n",
      "Epoch 68/500\n",
      "\u001b[1m1000/1000\u001b[0m \u001b[32m━━━━━━━━━━━━━━━━━━━━\u001b[0m\u001b[37m\u001b[0m \u001b[1m11s\u001b[0m 11ms/step - loss: 1.8668 - precision: 0.6030 - val_loss: 1.8453 - val_precision: 0.6166\n",
      "Epoch 69/500\n",
      "\u001b[1m1000/1000\u001b[0m \u001b[32m━━━━━━━━━━━━━━━━━━━━\u001b[0m\u001b[37m\u001b[0m \u001b[1m10s\u001b[0m 10ms/step - loss: 1.8813 - precision: 0.5996 - val_loss: 1.8509 - val_precision: 0.6118\n",
      "Epoch 70/500\n",
      "\u001b[1m1000/1000\u001b[0m \u001b[32m━━━━━━━━━━━━━━━━━━━━\u001b[0m\u001b[37m\u001b[0m \u001b[1m10s\u001b[0m 10ms/step - loss: 1.8692 - precision: 0.5831 - val_loss: 1.8456 - val_precision: 0.5810\n",
      "Epoch 71/500\n",
      "\u001b[1m1000/1000\u001b[0m \u001b[32m━━━━━━━━━━━━━━━━━━━━\u001b[0m\u001b[37m\u001b[0m \u001b[1m11s\u001b[0m 11ms/step - loss: 1.8757 - precision: 0.5924 - val_loss: 1.8292 - val_precision: 0.5815\n",
      "Epoch 72/500\n",
      "\u001b[1m1000/1000\u001b[0m \u001b[32m━━━━━━━━━━━━━━━━━━━━\u001b[0m\u001b[37m\u001b[0m \u001b[1m10s\u001b[0m 10ms/step - loss: 1.8711 - precision: 0.5941 - val_loss: 1.8310 - val_precision: 0.5980\n",
      "Epoch 73/500\n",
      "\u001b[1m1000/1000\u001b[0m \u001b[32m━━━━━━━━━━━━━━━━━━━━\u001b[0m\u001b[37m\u001b[0m \u001b[1m11s\u001b[0m 11ms/step - loss: 1.8670 - precision: 0.5899 - val_loss: 1.8236 - val_precision: 0.6214\n",
      "Epoch 74/500\n",
      "\u001b[1m1000/1000\u001b[0m \u001b[32m━━━━━━━━━━━━━━━━━━━━\u001b[0m\u001b[37m\u001b[0m \u001b[1m10s\u001b[0m 10ms/step - loss: 1.8665 - precision: 0.5915 - val_loss: 1.8276 - val_precision: 0.5958\n",
      "Epoch 75/500\n",
      "\u001b[1m1000/1000\u001b[0m \u001b[32m━━━━━━━━━━━━━━━━━━━━\u001b[0m\u001b[37m\u001b[0m \u001b[1m11s\u001b[0m 11ms/step - loss: 1.8712 - precision: 0.6044 - val_loss: 1.8376 - val_precision: 0.5942\n",
      "Epoch 76/500\n",
      "\u001b[1m1000/1000\u001b[0m \u001b[32m━━━━━━━━━━━━━━━━━━━━\u001b[0m\u001b[37m\u001b[0m \u001b[1m11s\u001b[0m 11ms/step - loss: 1.8742 - precision: 0.5826 - val_loss: 1.8375 - val_precision: 0.5986\n",
      "Epoch 77/500\n",
      "\u001b[1m1000/1000\u001b[0m \u001b[32m━━━━━━━━━━━━━━━━━━━━\u001b[0m\u001b[37m\u001b[0m \u001b[1m11s\u001b[0m 11ms/step - loss: 1.8745 - precision: 0.5881 - val_loss: 1.8315 - val_precision: 0.5908\n",
      "Epoch 78/500\n",
      "\u001b[1m1000/1000\u001b[0m \u001b[32m━━━━━━━━━━━━━━━━━━━━\u001b[0m\u001b[37m\u001b[0m \u001b[1m12s\u001b[0m 12ms/step - loss: 1.8723 - precision: 0.5980 - val_loss: 1.8367 - val_precision: 0.5830\n",
      "Epoch 79/500\n",
      "\u001b[1m1000/1000\u001b[0m \u001b[32m━━━━━━━━━━━━━━━━━━━━\u001b[0m\u001b[37m\u001b[0m \u001b[1m11s\u001b[0m 11ms/step - loss: 1.8698 - precision: 0.5965 - val_loss: 1.8403 - val_precision: 0.5932\n",
      "Epoch 80/500\n",
      "\u001b[1m1000/1000\u001b[0m \u001b[32m━━━━━━━━━━━━━━━━━━━━\u001b[0m\u001b[37m\u001b[0m \u001b[1m11s\u001b[0m 11ms/step - loss: 1.8723 - precision: 0.5944 - val_loss: 1.8370 - val_precision: 0.5925\n",
      "Epoch 81/500\n",
      "\u001b[1m1000/1000\u001b[0m \u001b[32m━━━━━━━━━━━━━━━━━━━━\u001b[0m\u001b[37m\u001b[0m \u001b[1m11s\u001b[0m 11ms/step - loss: 1.8710 - precision: 0.5983 - val_loss: 1.8193 - val_precision: 0.5950\n",
      "Epoch 82/500\n",
      "\u001b[1m1000/1000\u001b[0m \u001b[32m━━━━━━━━━━━━━━━━━━━━\u001b[0m\u001b[37m\u001b[0m \u001b[1m11s\u001b[0m 11ms/step - loss: 1.8787 - precision: 0.5809 - val_loss: 1.8403 - val_precision: 0.5954\n",
      "Epoch 83/500\n",
      "\u001b[1m1000/1000\u001b[0m \u001b[32m━━━━━━━━━━━━━━━━━━━━\u001b[0m\u001b[37m\u001b[0m \u001b[1m11s\u001b[0m 11ms/step - loss: 1.8665 - precision: 0.5961 - val_loss: 1.8438 - val_precision: 0.6071\n",
      "Epoch 84/500\n",
      "\u001b[1m1000/1000\u001b[0m \u001b[32m━━━━━━━━━━━━━━━━━━━━\u001b[0m\u001b[37m\u001b[0m \u001b[1m11s\u001b[0m 11ms/step - loss: 1.8724 - precision: 0.5889 - val_loss: 1.8478 - val_precision: 0.5691\n",
      "Epoch 85/500\n",
      "\u001b[1m1000/1000\u001b[0m \u001b[32m━━━━━━━━━━━━━━━━━━━━\u001b[0m\u001b[37m\u001b[0m \u001b[1m11s\u001b[0m 11ms/step - loss: 1.8733 - precision: 0.5853 - val_loss: 1.8286 - val_precision: 0.6182\n",
      "Epoch 86/500\n",
      "\u001b[1m1000/1000\u001b[0m \u001b[32m━━━━━━━━━━━━━━━━━━━━\u001b[0m\u001b[37m\u001b[0m \u001b[1m10s\u001b[0m 10ms/step - loss: 1.8750 - precision: 0.5952 - val_loss: 1.8327 - val_precision: 0.6076\n",
      "Epoch 87/500\n",
      "\u001b[1m1000/1000\u001b[0m \u001b[32m━━━━━━━━━━━━━━━━━━━━\u001b[0m\u001b[37m\u001b[0m \u001b[1m10s\u001b[0m 10ms/step - loss: 1.8714 - precision: 0.5794 - val_loss: 1.8363 - val_precision: 0.5967\n",
      "Epoch 88/500\n",
      "\u001b[1m1000/1000\u001b[0m \u001b[32m━━━━━━━━━━━━━━━━━━━━\u001b[0m\u001b[37m\u001b[0m \u001b[1m11s\u001b[0m 11ms/step - loss: 1.8640 - precision: 0.5888 - val_loss: 1.8206 - val_precision: 0.5963\n",
      "Epoch 89/500\n",
      "\u001b[1m1000/1000\u001b[0m \u001b[32m━━━━━━━━━━━━━━━━━━━━\u001b[0m\u001b[37m\u001b[0m \u001b[1m12s\u001b[0m 12ms/step - loss: 1.8696 - precision: 0.5925 - val_loss: 1.8275 - val_precision: 0.5851\n",
      "Epoch 90/500\n",
      "\u001b[1m1000/1000\u001b[0m \u001b[32m━━━━━━━━━━━━━━━━━━━━\u001b[0m\u001b[37m\u001b[0m \u001b[1m12s\u001b[0m 12ms/step - loss: 1.8632 - precision: 0.6103 - val_loss: 1.8283 - val_precision: 0.6021\n",
      "Epoch 91/500\n",
      "\u001b[1m1000/1000\u001b[0m \u001b[32m━━━━━━━━━━━━━━━━━━━━\u001b[0m\u001b[37m\u001b[0m \u001b[1m11s\u001b[0m 11ms/step - loss: 1.8639 - precision: 0.6047 - val_loss: 1.8126 - val_precision: 0.5905\n",
      "Epoch 92/500\n",
      "\u001b[1m1000/1000\u001b[0m \u001b[32m━━━━━━━━━━━━━━━━━━━━\u001b[0m\u001b[37m\u001b[0m \u001b[1m13s\u001b[0m 13ms/step - loss: 1.8659 - precision: 0.5850 - val_loss: 1.8324 - val_precision: 0.5915\n",
      "Epoch 93/500\n",
      "\u001b[1m1000/1000\u001b[0m \u001b[32m━━━━━━━━━━━━━━━━━━━━\u001b[0m\u001b[37m\u001b[0m \u001b[1m12s\u001b[0m 12ms/step - loss: 1.8672 - precision: 0.6129 - val_loss: 1.8213 - val_precision: 0.5986\n",
      "Epoch 94/500\n",
      "\u001b[1m1000/1000\u001b[0m \u001b[32m━━━━━━━━━━━━━━━━━━━━\u001b[0m\u001b[37m\u001b[0m \u001b[1m11s\u001b[0m 11ms/step - loss: 1.8613 - precision: 0.6008 - val_loss: 1.8232 - val_precision: 0.5943\n",
      "Epoch 95/500\n",
      "\u001b[1m1000/1000\u001b[0m \u001b[32m━━━━━━━━━━━━━━━━━━━━\u001b[0m\u001b[37m\u001b[0m \u001b[1m11s\u001b[0m 11ms/step - loss: 1.8721 - precision: 0.5883 - val_loss: 1.8329 - val_precision: 0.5964\n",
      "Epoch 96/500\n",
      "\u001b[1m1000/1000\u001b[0m \u001b[32m━━━━━━━━━━━━━━━━━━━━\u001b[0m\u001b[37m\u001b[0m \u001b[1m11s\u001b[0m 11ms/step - loss: 1.8654 - precision: 0.5992 - val_loss: 1.8452 - val_precision: 0.5732\n",
      "Epoch 97/500\n",
      "\u001b[1m1000/1000\u001b[0m \u001b[32m━━━━━━━━━━━━━━━━━━━━\u001b[0m\u001b[37m\u001b[0m \u001b[1m11s\u001b[0m 11ms/step - loss: 1.8685 - precision: 0.5922 - val_loss: 1.8314 - val_precision: 0.6023\n",
      "Epoch 98/500\n",
      "\u001b[1m1000/1000\u001b[0m \u001b[32m━━━━━━━━━━━━━━━━━━━━\u001b[0m\u001b[37m\u001b[0m \u001b[1m11s\u001b[0m 11ms/step - loss: 1.8669 - precision: 0.5750 - val_loss: 1.8286 - val_precision: 0.5853\n",
      "Epoch 99/500\n",
      "\u001b[1m1000/1000\u001b[0m \u001b[32m━━━━━━━━━━━━━━━━━━━━\u001b[0m\u001b[37m\u001b[0m \u001b[1m11s\u001b[0m 11ms/step - loss: 1.8680 - precision: 0.5870 - val_loss: 1.8333 - val_precision: 0.5732\n",
      "Epoch 100/500\n",
      "\u001b[1m1000/1000\u001b[0m \u001b[32m━━━━━━━━━━━━━━━━━━━━\u001b[0m\u001b[37m\u001b[0m \u001b[1m12s\u001b[0m 12ms/step - loss: 1.8641 - precision: 0.5954 - val_loss: 1.8247 - val_precision: 0.6093\n",
      "Epoch 101/500\n",
      "\u001b[1m1000/1000\u001b[0m \u001b[32m━━━━━━━━━━━━━━━━━━━━\u001b[0m\u001b[37m\u001b[0m \u001b[1m10s\u001b[0m 10ms/step - loss: 1.8729 - precision: 0.5865 - val_loss: 1.8337 - val_precision: 0.5980\n",
      "Epoch 102/500\n",
      "\u001b[1m1000/1000\u001b[0m \u001b[32m━━━━━━━━━━━━━━━━━━━━\u001b[0m\u001b[37m\u001b[0m \u001b[1m10s\u001b[0m 10ms/step - loss: 1.8600 - precision: 0.5951 - val_loss: 1.8251 - val_precision: 0.5930\n",
      "Epoch 103/500\n",
      "\u001b[1m1000/1000\u001b[0m \u001b[32m━━━━━━━━━━━━━━━━━━━━\u001b[0m\u001b[37m\u001b[0m \u001b[1m10s\u001b[0m 10ms/step - loss: 1.8705 - precision: 0.5905 - val_loss: 1.8302 - val_precision: 0.6076\n",
      "Epoch 104/500\n",
      "\u001b[1m1000/1000\u001b[0m \u001b[32m━━━━━━━━━━━━━━━━━━━━\u001b[0m\u001b[37m\u001b[0m \u001b[1m10s\u001b[0m 10ms/step - loss: 1.8611 - precision: 0.5961 - val_loss: 1.8304 - val_precision: 0.5831\n",
      "Epoch 105/500\n",
      "\u001b[1m1000/1000\u001b[0m \u001b[32m━━━━━━━━━━━━━━━━━━━━\u001b[0m\u001b[37m\u001b[0m \u001b[1m10s\u001b[0m 10ms/step - loss: 1.8672 - precision: 0.5860 - val_loss: 1.8302 - val_precision: 0.6023\n",
      "Epoch 106/500\n",
      "\u001b[1m1000/1000\u001b[0m \u001b[32m━━━━━━━━━━━━━━━━━━━━\u001b[0m\u001b[37m\u001b[0m \u001b[1m10s\u001b[0m 10ms/step - loss: 1.8690 - precision: 0.6075 - val_loss: 1.8309 - val_precision: 0.5955\n",
      "Epoch 107/500\n",
      "\u001b[1m1000/1000\u001b[0m \u001b[32m━━━━━━━━━━━━━━━━━━━━\u001b[0m\u001b[37m\u001b[0m \u001b[1m10s\u001b[0m 10ms/step - loss: 1.8619 - precision: 0.5953 - val_loss: 1.8280 - val_precision: 0.5849\n",
      "Epoch 108/500\n",
      "\u001b[1m1000/1000\u001b[0m \u001b[32m━━━━━━━━━━━━━━━━━━━━\u001b[0m\u001b[37m\u001b[0m \u001b[1m10s\u001b[0m 10ms/step - loss: 1.8617 - precision: 0.5908 - val_loss: 1.8340 - val_precision: 0.6033\n",
      "Epoch 109/500\n",
      "\u001b[1m1000/1000\u001b[0m \u001b[32m━━━━━━━━━━━━━━━━━━━━\u001b[0m\u001b[37m\u001b[0m \u001b[1m10s\u001b[0m 10ms/step - loss: 1.8778 - precision: 0.5939 - val_loss: 1.8334 - val_precision: 0.5826\n",
      "Epoch 110/500\n",
      "\u001b[1m1000/1000\u001b[0m \u001b[32m━━━━━━━━━━━━━━━━━━━━\u001b[0m\u001b[37m\u001b[0m \u001b[1m10s\u001b[0m 10ms/step - loss: 1.8642 - precision: 0.5958 - val_loss: 1.8329 - val_precision: 0.5986\n",
      "Epoch 111/500\n",
      "\u001b[1m1000/1000\u001b[0m \u001b[32m━━━━━━━━━━━━━━━━━━━━\u001b[0m\u001b[37m\u001b[0m \u001b[1m10s\u001b[0m 10ms/step - loss: 1.8688 - precision: 0.5804 - val_loss: 1.8255 - val_precision: 0.6076\n",
      "Epoch 112/500\n",
      "\u001b[1m1000/1000\u001b[0m \u001b[32m━━━━━━━━━━━━━━━━━━━━\u001b[0m\u001b[37m\u001b[0m \u001b[1m11s\u001b[0m 11ms/step - loss: 1.8640 - precision: 0.5873 - val_loss: 1.8188 - val_precision: 0.5999\n",
      "Epoch 113/500\n",
      "\u001b[1m1000/1000\u001b[0m \u001b[32m━━━━━━━━━━━━━━━━━━━━\u001b[0m\u001b[37m\u001b[0m \u001b[1m11s\u001b[0m 11ms/step - loss: 1.8616 - precision: 0.5964 - val_loss: 1.8391 - val_precision: 0.5769\n"
     ]
    }
   ],
   "source": [
    "hist = modelo.fit(\n",
    "    ds_train_batch, epochs=500, verbose=1,\n",
    "    validation_data=ds_test_batch,\n",
    "    callbacks=[tf.keras.callbacks.EarlyStopping(monitor='loss', patience=20)]\n",
    ")"
   ]
  },
  {
   "cell_type": "code",
   "execution_count": 16,
   "metadata": {},
   "outputs": [
    {
     "data": {
      "image/png": "[encoded data removed]",
      "text/plain": [
       "<Figure size 640x480 with 1 Axes>"
      ]
     },
     "metadata": {},
     "output_type": "display_data"
    },
    {
     "name": "stdout",
     "output_type": "stream",
     "text": [
      "\u001b[1m313/313\u001b[0m \u001b[32m━━━━━━━━━━━━━━━━━━━━\u001b[0m\u001b[37m\u001b[0m \u001b[1m2s\u001b[0m 6ms/step - loss: 1.5918 - precision_2: 0.6087\n",
      "TEST ACCURACY :  0.5937262773513794\n"
     ]
    }
   ],
   "source": [
    "plot_hist(hist)\n",
    "\n",
    "print('TEST ACCURACY : ', modelo.evaluate(ds_test_batch)[-1])"
   ]
  },
  {
   "cell_type": "code",
   "execution_count": 24,
   "metadata": {},
   "outputs": [],
   "source": [
    "# fine tunin\n",
    "# ----------\n",
    "\n",
    "def unfreeze_model(model):\n",
    "    # Descongelamos las últimas 20 capas while, dejando BatchNormalization sin entrenar\n",
    "    for layer in model.layers[-20:]:\n",
    "        if not isinstance(layer, tf.keras.layers.BatchNormalization): # Comprueba que la capa no sea de tipo BatchNormalization\n",
    "            layer.trainable = True  \n",
    "    optimizer = tf.keras.optimizers.Adam(learning_rate=1e-4)                    # Usa Adam con una tasa de aprendizaje de 1e-5\n",
    "    \n",
    "    modelo.compile(\n",
    "    optimizer=optimizer, loss=tf.keras.losses.CategoricalCrossentropy(), metrics=[tf.keras.metrics.Precision()]  # define el compilador, la función de coste y la métrica\n",
    "    )"
   ]
  },
  {
   "cell_type": "code",
   "execution_count": null,
   "metadata": {
    "scrolled": true
   },
   "outputs": [
    {
     "name": "stdout",
     "output_type": "stream",
     "text": [
      "Epoch 1/100\n",
      "\u001b[1m1515/1563\u001b[0m \u001b[32m━━━━━━━━━━━━━━━━━━━\u001b[0m\u001b[37m━\u001b[0m \u001b[1m1s\u001b[0m 28ms/step - loss: 1.2011 - precision_6: 0.7314"
     ]
    }
   ],
   "source": [
    "\n",
    "batch_size = 32 # Tenemos que bajar el tamaño anterior para no saturar la memoria del sistema\n",
    "ds_train_batch = ds_train.cache().shuffle(batch_size*5).batch(batch_size)\n",
    "ds_test_batch = ds_test.batch(batch_size)\n",
    "\n",
    "unfreeze_model(modelo)                                    # Llama a la función que has creado sobre nuestro modelo\n",
    "\n",
    "#epochs = 8  \n",
    "hist = modelo.fit(\n",
    "    ds_train_batch, epochs=100, verbose=1,  # Llama a la función de entrenamiento sobre el modelo\n",
    "    validation_data=ds_test_batch,\n",
    "    callbacks=[tf.keras.callbacks.EarlyStopping(monitor='loss', patience=20)]\n",
    ")\n",
    "\n"
   ]
  },
  {
   "cell_type": "code",
   "execution_count": null,
   "metadata": {},
   "outputs": [],
   "source": []
  }
 ],
 "metadata": {
  "accelerator": "GPU",
  "colab": {
   "collapsed_sections": [],
   "name": "8_transfer_learning.ipynb",
   "provenance": []
  },
  "kernelspec": {
   "display_name": "Ent_AP",
   "language": "python",
   "name": "ent_ap"
  },
  "language_info": {
   "codemirror_mode": {
    "name": "ipython",
    "version": 3
   },
   "file_extension": ".py",
   "mimetype": "text/x-python",
   "name": "python",
   "nbconvert_exporter": "python",
   "pygments_lexer": "ipython3",
   "version": "3.11.0"
  }
 },
 "nbformat": 4,
 "nbformat_minor": 4
}
